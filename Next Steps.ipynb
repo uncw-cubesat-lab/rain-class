{
 "cells": [
  {
   "cell_type": "markdown",
   "metadata": {},
   "source": [
    "Here we want to change the values of rainfall to a more realistic measure (within 1mm), play with both the threshold for the rainfall events as well as testing multiple thresholds. Also we want to change several existing variables: month, for instance, should be one-hot encoded instead of label encoded. Time should likely also get some kind of change-- hour could maybe be categorized (morning, day, night or something) and one-hotted as well. <-- pandas get_dummies \n",
    "\n",
    "We can also test for differences in means for different thresholds\n",
    "\n",
    "\n",
    "Other ideas?"
   ]
  },
  {
   "cell_type": "markdown",
   "metadata": {},
   "source": [
    "# Imports and fixes"
   ]
  },
  {
   "cell_type": "code",
   "execution_count": 2,
   "metadata": {
    "ExecuteTime": {
     "end_time": "2019-05-04T01:53:33.187524Z",
     "start_time": "2019-05-04T01:53:29.648086Z"
    }
   },
   "outputs": [],
   "source": [
    "import numpy as np\n",
    "import pandas as pd\n",
    "import matplotlib.pyplot as plt\n",
    "%matplotlib inline\n",
    "import seaborn as sns\n",
    "import pandas_profiling as pdp"
   ]
  },
  {
   "cell_type": "code",
   "execution_count": 7,
   "metadata": {
    "ExecuteTime": {
     "end_time": "2019-05-04T02:01:29.399804Z",
     "start_time": "2019-05-04T02:01:29.285255Z"
    }
   },
   "outputs": [
    {
     "data": {
      "text/html": [
       "<div>\n",
       "<style scoped>\n",
       "    .dataframe tbody tr th:only-of-type {\n",
       "        vertical-align: middle;\n",
       "    }\n",
       "\n",
       "    .dataframe tbody tr th {\n",
       "        vertical-align: top;\n",
       "    }\n",
       "\n",
       "    .dataframe thead th {\n",
       "        text-align: right;\n",
       "    }\n",
       "</style>\n",
       "<table border=\"1\" class=\"dataframe\">\n",
       "  <thead>\n",
       "    <tr style=\"text-align: right;\">\n",
       "      <th></th>\n",
       "      <th>new_time</th>\n",
       "      <th>time</th>\n",
       "      <th>sss</th>\n",
       "      <th>sst</th>\n",
       "      <th>wind_spd</th>\n",
       "      <th>wind_dir</th>\n",
       "      <th>precip</th>\n",
       "      <th>cum_precip3</th>\n",
       "      <th>cum_precip6</th>\n",
       "      <th>year</th>\n",
       "      <th>...</th>\n",
       "      <th>scaled_dir</th>\n",
       "      <th>scaled_spd</th>\n",
       "      <th>scaled_sst</th>\n",
       "      <th>pct_change</th>\n",
       "      <th>pct_c_scaled</th>\n",
       "      <th>set</th>\n",
       "      <th>sst_pct_change</th>\n",
       "      <th>dir_pct_change</th>\n",
       "      <th>spd_pct_change</th>\n",
       "      <th>sss_change</th>\n",
       "    </tr>\n",
       "  </thead>\n",
       "  <tbody>\n",
       "    <tr>\n",
       "      <th>0</th>\n",
       "      <td>2012-09-14 20:30:00.000028800</td>\n",
       "      <td>735126.854167</td>\n",
       "      <td>37.768217</td>\n",
       "      <td>27.886503</td>\n",
       "      <td>3.171527</td>\n",
       "      <td>-70.402566</td>\n",
       "      <td>0.0</td>\n",
       "      <td>0.0</td>\n",
       "      <td>0.0</td>\n",
       "      <td>2012</td>\n",
       "      <td>...</td>\n",
       "      <td>-0.223661</td>\n",
       "      <td>-1.120622</td>\n",
       "      <td>2.145583</td>\n",
       "      <td>0.000000</td>\n",
       "      <td>0.000000</td>\n",
       "      <td>Spurs1</td>\n",
       "      <td>0.000000</td>\n",
       "      <td>0.000000</td>\n",
       "      <td>0.000000</td>\n",
       "      <td>0.000000</td>\n",
       "    </tr>\n",
       "    <tr>\n",
       "      <th>1</th>\n",
       "      <td>2012-09-14 21:29:59.999971200</td>\n",
       "      <td>735126.895833</td>\n",
       "      <td>37.767291</td>\n",
       "      <td>27.794171</td>\n",
       "      <td>3.511590</td>\n",
       "      <td>-78.652231</td>\n",
       "      <td>0.0</td>\n",
       "      <td>0.0</td>\n",
       "      <td>0.0</td>\n",
       "      <td>2012</td>\n",
       "      <td>...</td>\n",
       "      <td>-0.285520</td>\n",
       "      <td>-0.968037</td>\n",
       "      <td>2.081695</td>\n",
       "      <td>-0.000025</td>\n",
       "      <td>-0.031722</td>\n",
       "      <td>Spurs1</td>\n",
       "      <td>-1.374910</td>\n",
       "      <td>0.135314</td>\n",
       "      <td>0.293850</td>\n",
       "      <td>-0.000926</td>\n",
       "    </tr>\n",
       "    <tr>\n",
       "      <th>2</th>\n",
       "      <td>2012-09-14 22:30:00.000000000</td>\n",
       "      <td>735126.937500</td>\n",
       "      <td>37.767912</td>\n",
       "      <td>27.717789</td>\n",
       "      <td>4.870495</td>\n",
       "      <td>-86.660419</td>\n",
       "      <td>0.0</td>\n",
       "      <td>0.0</td>\n",
       "      <td>0.0</td>\n",
       "      <td>2012</td>\n",
       "      <td>...</td>\n",
       "      <td>-0.345568</td>\n",
       "      <td>-0.358302</td>\n",
       "      <td>2.028844</td>\n",
       "      <td>0.000016</td>\n",
       "      <td>0.022122</td>\n",
       "      <td>Spurs1</td>\n",
       "      <td>-1.141199</td>\n",
       "      <td>0.126846</td>\n",
       "      <td>1.265220</td>\n",
       "      <td>0.000621</td>\n",
       "    </tr>\n",
       "    <tr>\n",
       "      <th>3</th>\n",
       "      <td>2012-09-14 23:30:00.000028800</td>\n",
       "      <td>735126.979167</td>\n",
       "      <td>37.768554</td>\n",
       "      <td>27.650786</td>\n",
       "      <td>4.511677</td>\n",
       "      <td>-89.874044</td>\n",
       "      <td>0.0</td>\n",
       "      <td>0.0</td>\n",
       "      <td>0.0</td>\n",
       "      <td>2012</td>\n",
       "      <td>...</td>\n",
       "      <td>-0.369664</td>\n",
       "      <td>-0.519302</td>\n",
       "      <td>1.982482</td>\n",
       "      <td>0.000017</td>\n",
       "      <td>0.022846</td>\n",
       "      <td>Spurs1</td>\n",
       "      <td>-1.003867</td>\n",
       "      <td>0.091158</td>\n",
       "      <td>-0.334265</td>\n",
       "      <td>0.000642</td>\n",
       "    </tr>\n",
       "    <tr>\n",
       "      <th>4</th>\n",
       "      <td>2012-09-15 00:29:59.999971200</td>\n",
       "      <td>735127.020833</td>\n",
       "      <td>37.770119</td>\n",
       "      <td>27.593085</td>\n",
       "      <td>4.318494</td>\n",
       "      <td>-94.403915</td>\n",
       "      <td>0.0</td>\n",
       "      <td>0.0</td>\n",
       "      <td>0.0</td>\n",
       "      <td>2012</td>\n",
       "      <td>...</td>\n",
       "      <td>-0.403631</td>\n",
       "      <td>-0.605983</td>\n",
       "      <td>1.942557</td>\n",
       "      <td>0.000041</td>\n",
       "      <td>0.054988</td>\n",
       "      <td>Spurs1</td>\n",
       "      <td>-0.866609</td>\n",
       "      <td>0.098501</td>\n",
       "      <td>-0.227134</td>\n",
       "      <td>0.001566</td>\n",
       "    </tr>\n",
       "  </tbody>\n",
       "</table>\n",
       "<p>5 rows × 24 columns</p>\n",
       "</div>"
      ],
      "text/plain": [
       "                        new_time           time        sss        sst  \\\n",
       "0  2012-09-14 20:30:00.000028800  735126.854167  37.768217  27.886503   \n",
       "1  2012-09-14 21:29:59.999971200  735126.895833  37.767291  27.794171   \n",
       "2  2012-09-14 22:30:00.000000000  735126.937500  37.767912  27.717789   \n",
       "3  2012-09-14 23:30:00.000028800  735126.979167  37.768554  27.650786   \n",
       "4  2012-09-15 00:29:59.999971200  735127.020833  37.770119  27.593085   \n",
       "\n",
       "   wind_spd   wind_dir  precip  cum_precip3  cum_precip6  year    ...      \\\n",
       "0  3.171527 -70.402566     0.0          0.0          0.0  2012    ...       \n",
       "1  3.511590 -78.652231     0.0          0.0          0.0  2012    ...       \n",
       "2  4.870495 -86.660419     0.0          0.0          0.0  2012    ...       \n",
       "3  4.511677 -89.874044     0.0          0.0          0.0  2012    ...       \n",
       "4  4.318494 -94.403915     0.0          0.0          0.0  2012    ...       \n",
       "\n",
       "   scaled_dir  scaled_spd  scaled_sst  pct_change  pct_c_scaled     set  \\\n",
       "0   -0.223661   -1.120622    2.145583    0.000000      0.000000  Spurs1   \n",
       "1   -0.285520   -0.968037    2.081695   -0.000025     -0.031722  Spurs1   \n",
       "2   -0.345568   -0.358302    2.028844    0.000016      0.022122  Spurs1   \n",
       "3   -0.369664   -0.519302    1.982482    0.000017      0.022846  Spurs1   \n",
       "4   -0.403631   -0.605983    1.942557    0.000041      0.054988  Spurs1   \n",
       "\n",
       "   sst_pct_change  dir_pct_change  spd_pct_change sss_change  \n",
       "0        0.000000        0.000000        0.000000   0.000000  \n",
       "1       -1.374910        0.135314        0.293850  -0.000926  \n",
       "2       -1.141199        0.126846        1.265220   0.000621  \n",
       "3       -1.003867        0.091158       -0.334265   0.000642  \n",
       "4       -0.866609        0.098501       -0.227134   0.001566  \n",
       "\n",
       "[5 rows x 24 columns]"
      ]
     },
     "execution_count": 7,
     "metadata": {},
     "output_type": "execute_result"
    }
   ],
   "source": [
    "data = pd.read_csv('data.csv')\n",
    "data['sss_change'] = data['sss'].diff().fillna(0)\n",
    "data.head()"
   ]
  },
  {
   "cell_type": "code",
   "execution_count": 8,
   "metadata": {
    "ExecuteTime": {
     "end_time": "2019-05-04T02:01:31.186572Z",
     "start_time": "2019-05-04T02:01:31.167936Z"
    }
   },
   "outputs": [
    {
     "name": "stdout",
     "output_type": "stream",
     "text": [
      "<class 'pandas.core.frame.DataFrame'>\n",
      "RangeIndex: 9133 entries, 0 to 9132\n",
      "Data columns (total 24 columns):\n",
      "new_time          9133 non-null object\n",
      "time              9133 non-null float64\n",
      "sss               9133 non-null float64\n",
      "sst               9133 non-null float64\n",
      "wind_spd          9133 non-null float64\n",
      "wind_dir          9133 non-null float64\n",
      "precip            9133 non-null float64\n",
      "cum_precip3       9133 non-null float64\n",
      "cum_precip6       9133 non-null float64\n",
      "year              9133 non-null int64\n",
      "month             9133 non-null int64\n",
      "day               9133 non-null int64\n",
      "hour              9133 non-null int64\n",
      "scaled_sss        9133 non-null float64\n",
      "scaled_dir        9133 non-null float64\n",
      "scaled_spd        9133 non-null float64\n",
      "scaled_sst        9133 non-null float64\n",
      "pct_change        9133 non-null float64\n",
      "pct_c_scaled      9133 non-null float64\n",
      "set               9133 non-null object\n",
      "sst_pct_change    9133 non-null float64\n",
      "dir_pct_change    9133 non-null float64\n",
      "spd_pct_change    9133 non-null float64\n",
      "sss_change        9133 non-null float64\n",
      "dtypes: float64(18), int64(4), object(2)\n",
      "memory usage: 1.7+ MB\n"
     ]
    }
   ],
   "source": [
    "data.info()"
   ]
  },
  {
   "cell_type": "code",
   "execution_count": 9,
   "metadata": {
    "ExecuteTime": {
     "end_time": "2019-05-04T02:01:31.655461Z",
     "start_time": "2019-05-04T02:01:31.633391Z"
    }
   },
   "outputs": [
    {
     "data": {
      "text/html": [
       "<div>\n",
       "<style scoped>\n",
       "    .dataframe tbody tr th:only-of-type {\n",
       "        vertical-align: middle;\n",
       "    }\n",
       "\n",
       "    .dataframe tbody tr th {\n",
       "        vertical-align: top;\n",
       "    }\n",
       "\n",
       "    .dataframe thead th {\n",
       "        text-align: right;\n",
       "    }\n",
       "</style>\n",
       "<table border=\"1\" class=\"dataframe\">\n",
       "  <thead>\n",
       "    <tr style=\"text-align: right;\">\n",
       "      <th></th>\n",
       "      <th>new_time</th>\n",
       "      <th>time</th>\n",
       "      <th>sss</th>\n",
       "      <th>sst</th>\n",
       "      <th>wind_spd</th>\n",
       "      <th>wind_dir</th>\n",
       "      <th>precip</th>\n",
       "      <th>cum_precip3</th>\n",
       "      <th>cum_precip6</th>\n",
       "      <th>year</th>\n",
       "      <th>month</th>\n",
       "      <th>day</th>\n",
       "      <th>hour</th>\n",
       "      <th>sss_change</th>\n",
       "    </tr>\n",
       "  </thead>\n",
       "  <tbody>\n",
       "    <tr>\n",
       "      <th>0</th>\n",
       "      <td>2012-09-14 20:30:00.000028800</td>\n",
       "      <td>735126.854167</td>\n",
       "      <td>37.768217</td>\n",
       "      <td>27.886503</td>\n",
       "      <td>3.171527</td>\n",
       "      <td>-70.402566</td>\n",
       "      <td>0.0</td>\n",
       "      <td>0.0</td>\n",
       "      <td>0.0</td>\n",
       "      <td>2012</td>\n",
       "      <td>9</td>\n",
       "      <td>14</td>\n",
       "      <td>20</td>\n",
       "      <td>0.000000</td>\n",
       "    </tr>\n",
       "    <tr>\n",
       "      <th>1</th>\n",
       "      <td>2012-09-14 21:29:59.999971200</td>\n",
       "      <td>735126.895833</td>\n",
       "      <td>37.767291</td>\n",
       "      <td>27.794171</td>\n",
       "      <td>3.511590</td>\n",
       "      <td>-78.652231</td>\n",
       "      <td>0.0</td>\n",
       "      <td>0.0</td>\n",
       "      <td>0.0</td>\n",
       "      <td>2012</td>\n",
       "      <td>9</td>\n",
       "      <td>14</td>\n",
       "      <td>21</td>\n",
       "      <td>-0.000926</td>\n",
       "    </tr>\n",
       "    <tr>\n",
       "      <th>2</th>\n",
       "      <td>2012-09-14 22:30:00.000000000</td>\n",
       "      <td>735126.937500</td>\n",
       "      <td>37.767912</td>\n",
       "      <td>27.717789</td>\n",
       "      <td>4.870495</td>\n",
       "      <td>-86.660419</td>\n",
       "      <td>0.0</td>\n",
       "      <td>0.0</td>\n",
       "      <td>0.0</td>\n",
       "      <td>2012</td>\n",
       "      <td>9</td>\n",
       "      <td>14</td>\n",
       "      <td>22</td>\n",
       "      <td>0.000621</td>\n",
       "    </tr>\n",
       "    <tr>\n",
       "      <th>3</th>\n",
       "      <td>2012-09-14 23:30:00.000028800</td>\n",
       "      <td>735126.979167</td>\n",
       "      <td>37.768554</td>\n",
       "      <td>27.650786</td>\n",
       "      <td>4.511677</td>\n",
       "      <td>-89.874044</td>\n",
       "      <td>0.0</td>\n",
       "      <td>0.0</td>\n",
       "      <td>0.0</td>\n",
       "      <td>2012</td>\n",
       "      <td>9</td>\n",
       "      <td>14</td>\n",
       "      <td>23</td>\n",
       "      <td>0.000642</td>\n",
       "    </tr>\n",
       "    <tr>\n",
       "      <th>4</th>\n",
       "      <td>2012-09-15 00:29:59.999971200</td>\n",
       "      <td>735127.020833</td>\n",
       "      <td>37.770119</td>\n",
       "      <td>27.593085</td>\n",
       "      <td>4.318494</td>\n",
       "      <td>-94.403915</td>\n",
       "      <td>0.0</td>\n",
       "      <td>0.0</td>\n",
       "      <td>0.0</td>\n",
       "      <td>2012</td>\n",
       "      <td>9</td>\n",
       "      <td>15</td>\n",
       "      <td>0</td>\n",
       "      <td>0.001566</td>\n",
       "    </tr>\n",
       "  </tbody>\n",
       "</table>\n",
       "</div>"
      ],
      "text/plain": [
       "                        new_time           time        sss        sst  \\\n",
       "0  2012-09-14 20:30:00.000028800  735126.854167  37.768217  27.886503   \n",
       "1  2012-09-14 21:29:59.999971200  735126.895833  37.767291  27.794171   \n",
       "2  2012-09-14 22:30:00.000000000  735126.937500  37.767912  27.717789   \n",
       "3  2012-09-14 23:30:00.000028800  735126.979167  37.768554  27.650786   \n",
       "4  2012-09-15 00:29:59.999971200  735127.020833  37.770119  27.593085   \n",
       "\n",
       "   wind_spd   wind_dir  precip  cum_precip3  cum_precip6  year  month  day  \\\n",
       "0  3.171527 -70.402566     0.0          0.0          0.0  2012      9   14   \n",
       "1  3.511590 -78.652231     0.0          0.0          0.0  2012      9   14   \n",
       "2  4.870495 -86.660419     0.0          0.0          0.0  2012      9   14   \n",
       "3  4.511677 -89.874044     0.0          0.0          0.0  2012      9   14   \n",
       "4  4.318494 -94.403915     0.0          0.0          0.0  2012      9   15   \n",
       "\n",
       "   hour  sss_change  \n",
       "0    20    0.000000  \n",
       "1    21   -0.000926  \n",
       "2    22    0.000621  \n",
       "3    23    0.000642  \n",
       "4     0    0.001566  "
      ]
     },
     "execution_count": 9,
     "metadata": {},
     "output_type": "execute_result"
    }
   ],
   "source": [
    "data.drop(['scaled_sss','scaled_dir','scaled_spd','scaled_sst','set','spd_pct_change',\n",
    "          'dir_pct_change','sst_pct_change','pct_change','pct_c_scaled'],axis=1,inplace=True)\n",
    "data.head()"
   ]
  },
  {
   "cell_type": "code",
   "execution_count": 15,
   "metadata": {
    "ExecuteTime": {
     "end_time": "2019-05-04T02:04:44.948295Z",
     "start_time": "2019-05-04T02:04:44.924656Z"
    }
   },
   "outputs": [
    {
     "name": "stdout",
     "output_type": "stream",
     "text": [
      "8707\n"
     ]
    },
    {
     "data": {
      "text/html": [
       "<div>\n",
       "<style scoped>\n",
       "    .dataframe tbody tr th:only-of-type {\n",
       "        vertical-align: middle;\n",
       "    }\n",
       "\n",
       "    .dataframe tbody tr th {\n",
       "        vertical-align: top;\n",
       "    }\n",
       "\n",
       "    .dataframe thead th {\n",
       "        text-align: right;\n",
       "    }\n",
       "</style>\n",
       "<table border=\"1\" class=\"dataframe\">\n",
       "  <thead>\n",
       "    <tr style=\"text-align: right;\">\n",
       "      <th></th>\n",
       "      <th>new_time</th>\n",
       "      <th>time</th>\n",
       "      <th>sss</th>\n",
       "      <th>sst</th>\n",
       "      <th>wind_spd</th>\n",
       "      <th>wind_dir</th>\n",
       "      <th>precip</th>\n",
       "      <th>cum_precip3</th>\n",
       "      <th>cum_precip6</th>\n",
       "      <th>year</th>\n",
       "      <th>month</th>\n",
       "      <th>day</th>\n",
       "      <th>hour</th>\n",
       "      <th>sss_change</th>\n",
       "      <th>wind_change</th>\n",
       "    </tr>\n",
       "  </thead>\n",
       "  <tbody>\n",
       "    <tr>\n",
       "      <th>0</th>\n",
       "      <td>2012-09-14 20:30:00.000028800</td>\n",
       "      <td>735126.854167</td>\n",
       "      <td>37.768217</td>\n",
       "      <td>27.886503</td>\n",
       "      <td>3.171527</td>\n",
       "      <td>-70.402566</td>\n",
       "      <td>0.0</td>\n",
       "      <td>0.0</td>\n",
       "      <td>0.0</td>\n",
       "      <td>2012</td>\n",
       "      <td>9</td>\n",
       "      <td>14</td>\n",
       "      <td>20</td>\n",
       "      <td>0.000000</td>\n",
       "      <td>0.000000</td>\n",
       "    </tr>\n",
       "    <tr>\n",
       "      <th>1</th>\n",
       "      <td>2012-09-14 21:29:59.999971200</td>\n",
       "      <td>735126.895833</td>\n",
       "      <td>37.767291</td>\n",
       "      <td>27.794171</td>\n",
       "      <td>3.511590</td>\n",
       "      <td>-78.652231</td>\n",
       "      <td>0.0</td>\n",
       "      <td>0.0</td>\n",
       "      <td>0.0</td>\n",
       "      <td>2012</td>\n",
       "      <td>9</td>\n",
       "      <td>14</td>\n",
       "      <td>21</td>\n",
       "      <td>-0.000926</td>\n",
       "      <td>0.340064</td>\n",
       "    </tr>\n",
       "    <tr>\n",
       "      <th>2</th>\n",
       "      <td>2012-09-14 22:30:00.000000000</td>\n",
       "      <td>735126.937500</td>\n",
       "      <td>37.767912</td>\n",
       "      <td>27.717789</td>\n",
       "      <td>4.870495</td>\n",
       "      <td>-86.660419</td>\n",
       "      <td>0.0</td>\n",
       "      <td>0.0</td>\n",
       "      <td>0.0</td>\n",
       "      <td>2012</td>\n",
       "      <td>9</td>\n",
       "      <td>14</td>\n",
       "      <td>22</td>\n",
       "      <td>0.000621</td>\n",
       "      <td>1.358904</td>\n",
       "    </tr>\n",
       "    <tr>\n",
       "      <th>3</th>\n",
       "      <td>2012-09-14 23:30:00.000028800</td>\n",
       "      <td>735126.979167</td>\n",
       "      <td>37.768554</td>\n",
       "      <td>27.650786</td>\n",
       "      <td>4.511677</td>\n",
       "      <td>-89.874044</td>\n",
       "      <td>0.0</td>\n",
       "      <td>0.0</td>\n",
       "      <td>0.0</td>\n",
       "      <td>2012</td>\n",
       "      <td>9</td>\n",
       "      <td>14</td>\n",
       "      <td>23</td>\n",
       "      <td>0.000642</td>\n",
       "      <td>-0.358818</td>\n",
       "    </tr>\n",
       "    <tr>\n",
       "      <th>4</th>\n",
       "      <td>2012-09-15 00:29:59.999971200</td>\n",
       "      <td>735127.020833</td>\n",
       "      <td>37.770119</td>\n",
       "      <td>27.593085</td>\n",
       "      <td>4.318494</td>\n",
       "      <td>-94.403915</td>\n",
       "      <td>0.0</td>\n",
       "      <td>0.0</td>\n",
       "      <td>0.0</td>\n",
       "      <td>2012</td>\n",
       "      <td>9</td>\n",
       "      <td>15</td>\n",
       "      <td>0</td>\n",
       "      <td>0.001566</td>\n",
       "      <td>-0.193182</td>\n",
       "    </tr>\n",
       "  </tbody>\n",
       "</table>\n",
       "</div>"
      ],
      "text/plain": [
       "                        new_time           time        sss        sst  \\\n",
       "0  2012-09-14 20:30:00.000028800  735126.854167  37.768217  27.886503   \n",
       "1  2012-09-14 21:29:59.999971200  735126.895833  37.767291  27.794171   \n",
       "2  2012-09-14 22:30:00.000000000  735126.937500  37.767912  27.717789   \n",
       "3  2012-09-14 23:30:00.000028800  735126.979167  37.768554  27.650786   \n",
       "4  2012-09-15 00:29:59.999971200  735127.020833  37.770119  27.593085   \n",
       "\n",
       "   wind_spd   wind_dir  precip  cum_precip3  cum_precip6  year  month  day  \\\n",
       "0  3.171527 -70.402566     0.0          0.0          0.0  2012      9   14   \n",
       "1  3.511590 -78.652231     0.0          0.0          0.0  2012      9   14   \n",
       "2  4.870495 -86.660419     0.0          0.0          0.0  2012      9   14   \n",
       "3  4.511677 -89.874044     0.0          0.0          0.0  2012      9   14   \n",
       "4  4.318494 -94.403915     0.0          0.0          0.0  2012      9   15   \n",
       "\n",
       "   hour  sss_change  wind_change  \n",
       "0    20    0.000000     0.000000  \n",
       "1    21   -0.000926     0.340064  \n",
       "2    22    0.000621     1.358904  \n",
       "3    23    0.000642    -0.358818  \n",
       "4     0    0.001566    -0.193182  "
      ]
     },
     "execution_count": 15,
     "metadata": {},
     "output_type": "execute_result"
    }
   ],
   "source": [
    "data['wind_change'] = data['wind_spd'].diff().fillna(0)\n",
    "print(data[data['precip'] < 0.01].shape[0])\n",
    "data.head()"
   ]
  },
  {
   "cell_type": "markdown",
   "metadata": {},
   "source": [
    "## Fixing Rainfall Measures"
   ]
  },
  {
   "cell_type": "code",
   "execution_count": 23,
   "metadata": {
    "ExecuteTime": {
     "end_time": "2019-05-04T02:07:37.891331Z",
     "start_time": "2019-05-04T02:07:37.879299Z"
    }
   },
   "outputs": [
    {
     "data": {
      "text/plain": [
       "2358    9.990377e-03\n",
       "2392    9.970689e-03\n",
       "1912    9.928140e-03\n",
       "3264    9.118167e-03\n",
       "6078    7.407094e-03\n",
       "253     7.363223e-03\n",
       "1356    6.877891e-03\n",
       "1402    5.798089e-03\n",
       "2779    5.418100e-03\n",
       "3642    2.680809e-03\n",
       "3091    2.405721e-03\n",
       "8689    2.228933e-03\n",
       "746     1.898429e-03\n",
       "2415    1.929843e-04\n",
       "1418    1.312367e-12\n",
       "275     5.196260e-13\n",
       "1211    2.017362e-13\n",
       "3141    0.000000e+00\n",
       "3139    0.000000e+00\n",
       "3140    0.000000e+00\n",
       "3143    0.000000e+00\n",
       "3137    0.000000e+00\n",
       "3136    0.000000e+00\n",
       "3135    0.000000e+00\n",
       "3134    0.000000e+00\n",
       "3133    0.000000e+00\n",
       "3142    0.000000e+00\n",
       "9132    0.000000e+00\n",
       "3144    0.000000e+00\n",
       "3145    0.000000e+00\n",
       "            ...     \n",
       "6138    0.000000e+00\n",
       "6139    0.000000e+00\n",
       "6140    0.000000e+00\n",
       "6141    0.000000e+00\n",
       "6142    0.000000e+00\n",
       "6143    0.000000e+00\n",
       "6144    0.000000e+00\n",
       "6145    0.000000e+00\n",
       "6146    0.000000e+00\n",
       "6147    0.000000e+00\n",
       "6148    0.000000e+00\n",
       "6149    0.000000e+00\n",
       "6150    0.000000e+00\n",
       "6153    0.000000e+00\n",
       "6168    0.000000e+00\n",
       "6154    0.000000e+00\n",
       "6155    0.000000e+00\n",
       "6156    0.000000e+00\n",
       "6157    0.000000e+00\n",
       "6158    0.000000e+00\n",
       "6159    0.000000e+00\n",
       "6160    0.000000e+00\n",
       "6161    0.000000e+00\n",
       "6162    0.000000e+00\n",
       "6163    0.000000e+00\n",
       "6164    0.000000e+00\n",
       "6165    0.000000e+00\n",
       "6166    0.000000e+00\n",
       "6167    0.000000e+00\n",
       "0       0.000000e+00\n",
       "Name: precip, Length: 8707, dtype: float64"
      ]
     },
     "execution_count": 23,
     "metadata": {},
     "output_type": "execute_result"
    }
   ],
   "source": [
    "data[(data['precip'] <= 0.01)]['precip'].sort_values(ascending=False)"
   ]
  },
  {
   "cell_type": "code",
   "execution_count": 123,
   "metadata": {
    "ExecuteTime": {
     "end_time": "2019-05-04T13:18:28.240366Z",
     "start_time": "2019-05-04T13:18:28.221676Z"
    }
   },
   "outputs": [
    {
     "data": {
      "text/plain": [
       "2947    35.4\n",
       "268     31.5\n",
       "2935    23.4\n",
       "274     21.8\n",
       "2496    18.5\n",
       "1013    18.2\n",
       "277     17.5\n",
       "8727    14.1\n",
       "4303    13.9\n",
       "1421    13.3\n",
       "1422    12.8\n",
       "300     12.4\n",
       "3334    12.0\n",
       "2948    11.6\n",
       "3377    11.6\n",
       "1657    11.4\n",
       "8726     9.7\n",
       "5619     8.8\n",
       "3339     8.6\n",
       "1975     8.6\n",
       "8952     7.6\n",
       "2959     7.5\n",
       "3898     6.9\n",
       "1012     6.6\n",
       "1974     6.6\n",
       "3335     6.2\n",
       "8725     6.1\n",
       "270      6.0\n",
       "1571     6.0\n",
       "3383     5.9\n",
       "        ... \n",
       "6034     0.0\n",
       "6033     0.0\n",
       "6032     0.0\n",
       "6031     0.0\n",
       "6029     0.0\n",
       "6055     0.0\n",
       "6028     0.0\n",
       "6027     0.0\n",
       "6026     0.0\n",
       "6025     0.0\n",
       "6024     0.0\n",
       "6023     0.0\n",
       "6037     0.0\n",
       "6038     0.0\n",
       "6039     0.0\n",
       "6040     0.0\n",
       "6041     0.0\n",
       "6042     0.0\n",
       "6043     0.0\n",
       "6044     0.0\n",
       "6045     0.0\n",
       "6046     0.0\n",
       "6047     0.0\n",
       "6048     0.0\n",
       "6049     0.0\n",
       "6050     0.0\n",
       "6052     0.0\n",
       "6053     0.0\n",
       "6054     0.0\n",
       "0        0.0\n",
       "Name: precip, Length: 9133, dtype: float64"
      ]
     },
     "execution_count": 123,
     "metadata": {},
     "output_type": "execute_result"
    }
   ],
   "source": [
    "data.loc[((data.precip > 0) &  (data.precip < 0.1 )), 'precip'] = 0.1\n",
    "data.precip = np.round(data.precip,1)\n",
    "data.precip.sort_values(ascending=False)"
   ]
  },
  {
   "cell_type": "code",
   "execution_count": 124,
   "metadata": {
    "ExecuteTime": {
     "end_time": "2019-05-04T13:18:36.982215Z",
     "start_time": "2019-05-04T13:18:36.965222Z"
    }
   },
   "outputs": [
    {
     "data": {
      "text/plain": [
       "9132    0.0\n",
       "3152    0.0\n",
       "3135    0.0\n",
       "3136    0.0\n",
       "3137    0.0\n",
       "3139    0.0\n",
       "3140    0.0\n",
       "3141    0.0\n",
       "3142    0.0\n",
       "3143    0.0\n",
       "3144    0.0\n",
       "3145    0.0\n",
       "3146    0.0\n",
       "3149    0.0\n",
       "3150    0.0\n",
       "3151    0.0\n",
       "3153    0.0\n",
       "3133    0.0\n",
       "3154    0.0\n",
       "3155    0.0\n",
       "3156    0.0\n",
       "3157    0.0\n",
       "3158    0.0\n",
       "3159    0.0\n",
       "3160    0.0\n",
       "3161    0.0\n",
       "3162    0.0\n",
       "3163    0.0\n",
       "3164    0.0\n",
       "3165    0.0\n",
       "       ... \n",
       "6143    0.0\n",
       "6144    0.0\n",
       "6145    0.0\n",
       "6146    0.0\n",
       "6147    0.0\n",
       "6148    0.0\n",
       "6149    0.0\n",
       "6150    0.0\n",
       "6151    0.0\n",
       "6153    0.0\n",
       "6154    0.0\n",
       "6155    0.0\n",
       "6156    0.0\n",
       "6157    0.0\n",
       "6158    0.0\n",
       "6159    0.0\n",
       "6160    0.0\n",
       "6161    0.0\n",
       "6162    0.0\n",
       "6163    0.0\n",
       "6164    0.0\n",
       "6165    0.0\n",
       "6166    0.0\n",
       "6167    0.0\n",
       "6168    0.0\n",
       "6169    0.0\n",
       "6170    0.0\n",
       "6171    0.0\n",
       "6172    0.0\n",
       "0       0.0\n",
       "Name: precip, Length: 8690, dtype: float64"
      ]
     },
     "execution_count": 124,
     "metadata": {},
     "output_type": "execute_result"
    }
   ],
   "source": [
    "data[(data['precip'] < 0.1)]['precip'].sort_values(ascending=False)"
   ]
  },
  {
   "cell_type": "markdown",
   "metadata": {},
   "source": [
    "# One hot encoding"
   ]
  },
  {
   "cell_type": "code",
   "execution_count": 125,
   "metadata": {
    "ExecuteTime": {
     "end_time": "2019-05-04T13:18:41.621290Z",
     "start_time": "2019-05-04T13:18:41.522983Z"
    }
   },
   "outputs": [
    {
     "name": "stdout",
     "output_type": "stream",
     "text": [
      "['Evening' 'Night' 'Morning' 'Day']\n"
     ]
    },
    {
     "data": {
      "text/plain": [
       "array(['Fall', 'Winter', 'Spring', 'Summer'], dtype=object)"
      ]
     },
     "execution_count": 125,
     "metadata": {},
     "output_type": "execute_result"
    }
   ],
   "source": [
    "new_data = data.copy()\n",
    "new_data['season'] = new_data['month'].copy()\n",
    "new_data.loc[((new_data.season <=2 ) |  (new_data.season > 11)), 'season'] = 'Winter'\n",
    "new_data.loc[(new_data.season ==3), 'season'] = 'Spring'\n",
    "new_data.loc[(new_data.season ==4), 'season'] = 'Spring'\n",
    "new_data.loc[(new_data.season ==5), 'season'] = 'Spring'\n",
    "new_data.loc[(new_data.season ==6), 'season'] = 'Summer'\n",
    "new_data.loc[(new_data.season ==7), 'season'] = 'Summer'\n",
    "new_data.loc[(new_data.season ==8), 'season'] = 'Summer'\n",
    "new_data.loc[(new_data.season ==9), 'season'] = 'Fall'\n",
    "new_data.loc[(new_data.season ==10), 'season'] = 'Fall'\n",
    "new_data.loc[(new_data.season ==11), 'season'] = 'Fall'\n",
    "\n",
    "\n",
    "new_data.loc[((new_data.hour >= 6) & (new_data.hour <12)), 'hour'] = 'Morning'\n",
    "#new_data.loc[((new_data.hour >=11) & (new_data.hour<=16)), 'hour'] = 'Night'\n",
    "#new_data.loc[(new_data.hour ), 'season'] = 'Fall'\n",
    "\n",
    "#new_data.loc[((new_data.season >= 6 ) &  (new_data.season <= 8)), 'season'] = 'Summer'\n",
    "#new_data.loc[((new_data.season > 8 ) &  (new_data.season <= 11)), 'season'] = 'Fall'\n",
    "\n",
    "# months = {'1': 'January', '2':'February', '3':'March','4':'April','5': 'May', '6':'June', '7':'July','8':'August',\n",
    "#          '9': 'September', '10':'October', '11':'November','12':'December',}\n",
    "# new_data['month'] = new_data['month'].replace(months)\n",
    "new_data['hour'].replace(12,'Day', inplace=True)\n",
    "new_data['hour'].replace(13,'Day', inplace=True)\n",
    "new_data['hour'].replace(14,'Day', inplace=True)\n",
    "new_data['hour'].replace(15,'Day', inplace=True)\n",
    "new_data['hour'].replace(16,'Day', inplace=True)\n",
    "new_data['hour'].replace(17,'Day', inplace=True)\n",
    "new_data['hour'].replace(18,'Evening', inplace=True)\n",
    "new_data['hour'].replace(19,'Evening', inplace=True)\n",
    "new_data['hour'].replace(20,'Evening', inplace=True)\n",
    "new_data['hour'].replace(21,'Evening', inplace=True)\n",
    "new_data['hour'].replace(22,'Evening', inplace=True)\n",
    "new_data['hour'].replace(23,'Evening', inplace=True)\n",
    "new_data['hour'].replace(0,'Night', inplace=True)\n",
    "new_data['hour'].replace(1,'Night', inplace=True)\n",
    "new_data['hour'].replace(2,'Night', inplace=True)\n",
    "new_data['hour'].replace(3,'Night', inplace=True)\n",
    "new_data['hour'].replace(4,'Night', inplace=True)\n",
    "new_data['hour'].replace(5,'Night', inplace=True)\n",
    "\n",
    "print(new_data.hour.unique())\n",
    "new_data['season'].unique()"
   ]
  },
  {
   "cell_type": "code",
   "execution_count": 126,
   "metadata": {
    "ExecuteTime": {
     "end_time": "2019-05-04T13:18:43.515334Z",
     "start_time": "2019-05-04T13:18:43.499380Z"
    }
   },
   "outputs": [
    {
     "data": {
      "text/plain": [
       "'Night'"
      ]
     },
     "execution_count": 126,
     "metadata": {},
     "output_type": "execute_result"
    }
   ],
   "source": [
    "new_data.hour.max()"
   ]
  },
  {
   "cell_type": "code",
   "execution_count": 127,
   "metadata": {
    "ExecuteTime": {
     "end_time": "2019-05-04T13:18:44.232793Z",
     "start_time": "2019-05-04T13:18:44.161060Z"
    }
   },
   "outputs": [
    {
     "data": {
      "text/html": [
       "<div>\n",
       "<style scoped>\n",
       "    .dataframe tbody tr th:only-of-type {\n",
       "        vertical-align: middle;\n",
       "    }\n",
       "\n",
       "    .dataframe tbody tr th {\n",
       "        vertical-align: top;\n",
       "    }\n",
       "\n",
       "    .dataframe thead th {\n",
       "        text-align: right;\n",
       "    }\n",
       "</style>\n",
       "<table border=\"1\" class=\"dataframe\">\n",
       "  <thead>\n",
       "    <tr style=\"text-align: right;\">\n",
       "      <th></th>\n",
       "      <th>new_time</th>\n",
       "      <th>time</th>\n",
       "      <th>sss</th>\n",
       "      <th>sst</th>\n",
       "      <th>wind_spd</th>\n",
       "      <th>wind_dir</th>\n",
       "      <th>precip</th>\n",
       "      <th>cum_precip3</th>\n",
       "      <th>cum_precip6</th>\n",
       "      <th>year</th>\n",
       "      <th>month</th>\n",
       "      <th>day</th>\n",
       "      <th>hour</th>\n",
       "      <th>sss_change</th>\n",
       "      <th>wind_change</th>\n",
       "      <th>season</th>\n",
       "    </tr>\n",
       "  </thead>\n",
       "  <tbody>\n",
       "    <tr>\n",
       "      <th>0</th>\n",
       "      <td>2012-09-14 20:30:00.000028800</td>\n",
       "      <td>735126.854167</td>\n",
       "      <td>37.768217</td>\n",
       "      <td>27.886503</td>\n",
       "      <td>3.171527</td>\n",
       "      <td>-70.402566</td>\n",
       "      <td>0.0</td>\n",
       "      <td>0.0</td>\n",
       "      <td>0.0</td>\n",
       "      <td>2012</td>\n",
       "      <td>9</td>\n",
       "      <td>14</td>\n",
       "      <td>Evening</td>\n",
       "      <td>0.000000</td>\n",
       "      <td>0.000000</td>\n",
       "      <td>Fall</td>\n",
       "    </tr>\n",
       "    <tr>\n",
       "      <th>1</th>\n",
       "      <td>2012-09-14 21:29:59.999971200</td>\n",
       "      <td>735126.895833</td>\n",
       "      <td>37.767291</td>\n",
       "      <td>27.794171</td>\n",
       "      <td>3.511590</td>\n",
       "      <td>-78.652231</td>\n",
       "      <td>0.0</td>\n",
       "      <td>0.0</td>\n",
       "      <td>0.0</td>\n",
       "      <td>2012</td>\n",
       "      <td>9</td>\n",
       "      <td>14</td>\n",
       "      <td>Evening</td>\n",
       "      <td>-0.000926</td>\n",
       "      <td>0.340064</td>\n",
       "      <td>Fall</td>\n",
       "    </tr>\n",
       "    <tr>\n",
       "      <th>2</th>\n",
       "      <td>2012-09-14 22:30:00.000000000</td>\n",
       "      <td>735126.937500</td>\n",
       "      <td>37.767912</td>\n",
       "      <td>27.717789</td>\n",
       "      <td>4.870495</td>\n",
       "      <td>-86.660419</td>\n",
       "      <td>0.0</td>\n",
       "      <td>0.0</td>\n",
       "      <td>0.0</td>\n",
       "      <td>2012</td>\n",
       "      <td>9</td>\n",
       "      <td>14</td>\n",
       "      <td>Evening</td>\n",
       "      <td>0.000621</td>\n",
       "      <td>1.358904</td>\n",
       "      <td>Fall</td>\n",
       "    </tr>\n",
       "    <tr>\n",
       "      <th>3</th>\n",
       "      <td>2012-09-14 23:30:00.000028800</td>\n",
       "      <td>735126.979167</td>\n",
       "      <td>37.768554</td>\n",
       "      <td>27.650786</td>\n",
       "      <td>4.511677</td>\n",
       "      <td>-89.874044</td>\n",
       "      <td>0.0</td>\n",
       "      <td>0.0</td>\n",
       "      <td>0.0</td>\n",
       "      <td>2012</td>\n",
       "      <td>9</td>\n",
       "      <td>14</td>\n",
       "      <td>Evening</td>\n",
       "      <td>0.000642</td>\n",
       "      <td>-0.358818</td>\n",
       "      <td>Fall</td>\n",
       "    </tr>\n",
       "    <tr>\n",
       "      <th>4</th>\n",
       "      <td>2012-09-15 00:29:59.999971200</td>\n",
       "      <td>735127.020833</td>\n",
       "      <td>37.770119</td>\n",
       "      <td>27.593085</td>\n",
       "      <td>4.318494</td>\n",
       "      <td>-94.403915</td>\n",
       "      <td>0.0</td>\n",
       "      <td>0.0</td>\n",
       "      <td>0.0</td>\n",
       "      <td>2012</td>\n",
       "      <td>9</td>\n",
       "      <td>15</td>\n",
       "      <td>Night</td>\n",
       "      <td>0.001566</td>\n",
       "      <td>-0.193182</td>\n",
       "      <td>Fall</td>\n",
       "    </tr>\n",
       "  </tbody>\n",
       "</table>\n",
       "</div>"
      ],
      "text/plain": [
       "                        new_time           time        sss        sst  \\\n",
       "0  2012-09-14 20:30:00.000028800  735126.854167  37.768217  27.886503   \n",
       "1  2012-09-14 21:29:59.999971200  735126.895833  37.767291  27.794171   \n",
       "2  2012-09-14 22:30:00.000000000  735126.937500  37.767912  27.717789   \n",
       "3  2012-09-14 23:30:00.000028800  735126.979167  37.768554  27.650786   \n",
       "4  2012-09-15 00:29:59.999971200  735127.020833  37.770119  27.593085   \n",
       "\n",
       "   wind_spd   wind_dir  precip  cum_precip3  cum_precip6  year  month  day  \\\n",
       "0  3.171527 -70.402566     0.0          0.0          0.0  2012      9   14   \n",
       "1  3.511590 -78.652231     0.0          0.0          0.0  2012      9   14   \n",
       "2  4.870495 -86.660419     0.0          0.0          0.0  2012      9   14   \n",
       "3  4.511677 -89.874044     0.0          0.0          0.0  2012      9   14   \n",
       "4  4.318494 -94.403915     0.0          0.0          0.0  2012      9   15   \n",
       "\n",
       "      hour  sss_change  wind_change season  \n",
       "0  Evening    0.000000     0.000000   Fall  \n",
       "1  Evening   -0.000926     0.340064   Fall  \n",
       "2  Evening    0.000621     1.358904   Fall  \n",
       "3  Evening    0.000642    -0.358818   Fall  \n",
       "4    Night    0.001566    -0.193182   Fall  "
      ]
     },
     "execution_count": 127,
     "metadata": {},
     "output_type": "execute_result"
    }
   ],
   "source": [
    "new_data.head()"
   ]
  },
  {
   "cell_type": "code",
   "execution_count": 128,
   "metadata": {
    "ExecuteTime": {
     "end_time": "2019-05-04T13:18:47.348277Z",
     "start_time": "2019-05-04T13:18:45.967611Z"
    }
   },
   "outputs": [
    {
     "data": {
      "text/plain": [
       "<matplotlib.axes._subplots.AxesSubplot at 0x1a895065128>"
      ]
     },
     "execution_count": 128,
     "metadata": {},
     "output_type": "execute_result"
    },
    {
     "data": {
      "image/png": "[encoded data removed]",
      "text/plain": [
       "<Figure size 432x288 with 1 Axes>"
      ]
     },
     "metadata": {},
     "output_type": "display_data"
    }
   ],
   "source": [
    "sns.set()\n",
    "sns.scatterplot(x='wind_change', y='precip',data=new_data, hue='season')"
   ]
  },
  {
   "cell_type": "code",
   "execution_count": 129,
   "metadata": {
    "ExecuteTime": {
     "end_time": "2019-05-04T13:18:49.288020Z",
     "start_time": "2019-05-04T13:18:47.955354Z"
    }
   },
   "outputs": [
    {
     "data": {
      "text/plain": [
       "<matplotlib.axes._subplots.AxesSubplot at 0x1a8958af940>"
      ]
     },
     "execution_count": 129,
     "metadata": {},
     "output_type": "execute_result"
    },
    {
     "data": {
      "image/png": "[encoded data removed]",
      "text/plain": [
       "<Figure size 432x288 with 1 Axes>"
      ]
     },
     "metadata": {},
     "output_type": "display_data"
    }
   ],
   "source": [
    "sns.scatterplot(x='wind_change', y='precip',data=new_data, hue='hour')"
   ]
  },
  {
   "cell_type": "code",
   "execution_count": 130,
   "metadata": {
    "ExecuteTime": {
     "end_time": "2019-05-04T13:18:52.463461Z",
     "start_time": "2019-05-04T13:18:52.424751Z"
    }
   },
   "outputs": [
    {
     "data": {
      "text/html": [
       "<div>\n",
       "<style scoped>\n",
       "    .dataframe tbody tr th:only-of-type {\n",
       "        vertical-align: middle;\n",
       "    }\n",
       "\n",
       "    .dataframe tbody tr th {\n",
       "        vertical-align: top;\n",
       "    }\n",
       "\n",
       "    .dataframe thead th {\n",
       "        text-align: right;\n",
       "    }\n",
       "</style>\n",
       "<table border=\"1\" class=\"dataframe\">\n",
       "  <thead>\n",
       "    <tr style=\"text-align: right;\">\n",
       "      <th></th>\n",
       "      <th>new_time</th>\n",
       "      <th>time</th>\n",
       "      <th>sss</th>\n",
       "      <th>sst</th>\n",
       "      <th>wind_spd</th>\n",
       "      <th>wind_dir</th>\n",
       "      <th>precip</th>\n",
       "      <th>cum_precip3</th>\n",
       "      <th>cum_precip6</th>\n",
       "      <th>year</th>\n",
       "      <th>...</th>\n",
       "      <th>sss_change</th>\n",
       "      <th>wind_change</th>\n",
       "      <th>season_Fall</th>\n",
       "      <th>season_Spring</th>\n",
       "      <th>season_Summer</th>\n",
       "      <th>season_Winter</th>\n",
       "      <th>hour_Day</th>\n",
       "      <th>hour_Evening</th>\n",
       "      <th>hour_Morning</th>\n",
       "      <th>hour_Night</th>\n",
       "    </tr>\n",
       "  </thead>\n",
       "  <tbody>\n",
       "    <tr>\n",
       "      <th>0</th>\n",
       "      <td>2012-09-14 20:30:00.000028800</td>\n",
       "      <td>735126.854167</td>\n",
       "      <td>37.768217</td>\n",
       "      <td>27.886503</td>\n",
       "      <td>3.171527</td>\n",
       "      <td>-70.402566</td>\n",
       "      <td>0.0</td>\n",
       "      <td>0.0</td>\n",
       "      <td>0.0</td>\n",
       "      <td>2012</td>\n",
       "      <td>...</td>\n",
       "      <td>0.000000</td>\n",
       "      <td>0.000000</td>\n",
       "      <td>1</td>\n",
       "      <td>0</td>\n",
       "      <td>0</td>\n",
       "      <td>0</td>\n",
       "      <td>0</td>\n",
       "      <td>1</td>\n",
       "      <td>0</td>\n",
       "      <td>0</td>\n",
       "    </tr>\n",
       "    <tr>\n",
       "      <th>1</th>\n",
       "      <td>2012-09-14 21:29:59.999971200</td>\n",
       "      <td>735126.895833</td>\n",
       "      <td>37.767291</td>\n",
       "      <td>27.794171</td>\n",
       "      <td>3.511590</td>\n",
       "      <td>-78.652231</td>\n",
       "      <td>0.0</td>\n",
       "      <td>0.0</td>\n",
       "      <td>0.0</td>\n",
       "      <td>2012</td>\n",
       "      <td>...</td>\n",
       "      <td>-0.000926</td>\n",
       "      <td>0.340064</td>\n",
       "      <td>1</td>\n",
       "      <td>0</td>\n",
       "      <td>0</td>\n",
       "      <td>0</td>\n",
       "      <td>0</td>\n",
       "      <td>1</td>\n",
       "      <td>0</td>\n",
       "      <td>0</td>\n",
       "    </tr>\n",
       "    <tr>\n",
       "      <th>2</th>\n",
       "      <td>2012-09-14 22:30:00.000000000</td>\n",
       "      <td>735126.937500</td>\n",
       "      <td>37.767912</td>\n",
       "      <td>27.717789</td>\n",
       "      <td>4.870495</td>\n",
       "      <td>-86.660419</td>\n",
       "      <td>0.0</td>\n",
       "      <td>0.0</td>\n",
       "      <td>0.0</td>\n",
       "      <td>2012</td>\n",
       "      <td>...</td>\n",
       "      <td>0.000621</td>\n",
       "      <td>1.358904</td>\n",
       "      <td>1</td>\n",
       "      <td>0</td>\n",
       "      <td>0</td>\n",
       "      <td>0</td>\n",
       "      <td>0</td>\n",
       "      <td>1</td>\n",
       "      <td>0</td>\n",
       "      <td>0</td>\n",
       "    </tr>\n",
       "    <tr>\n",
       "      <th>3</th>\n",
       "      <td>2012-09-14 23:30:00.000028800</td>\n",
       "      <td>735126.979167</td>\n",
       "      <td>37.768554</td>\n",
       "      <td>27.650786</td>\n",
       "      <td>4.511677</td>\n",
       "      <td>-89.874044</td>\n",
       "      <td>0.0</td>\n",
       "      <td>0.0</td>\n",
       "      <td>0.0</td>\n",
       "      <td>2012</td>\n",
       "      <td>...</td>\n",
       "      <td>0.000642</td>\n",
       "      <td>-0.358818</td>\n",
       "      <td>1</td>\n",
       "      <td>0</td>\n",
       "      <td>0</td>\n",
       "      <td>0</td>\n",
       "      <td>0</td>\n",
       "      <td>1</td>\n",
       "      <td>0</td>\n",
       "      <td>0</td>\n",
       "    </tr>\n",
       "    <tr>\n",
       "      <th>4</th>\n",
       "      <td>2012-09-15 00:29:59.999971200</td>\n",
       "      <td>735127.020833</td>\n",
       "      <td>37.770119</td>\n",
       "      <td>27.593085</td>\n",
       "      <td>4.318494</td>\n",
       "      <td>-94.403915</td>\n",
       "      <td>0.0</td>\n",
       "      <td>0.0</td>\n",
       "      <td>0.0</td>\n",
       "      <td>2012</td>\n",
       "      <td>...</td>\n",
       "      <td>0.001566</td>\n",
       "      <td>-0.193182</td>\n",
       "      <td>1</td>\n",
       "      <td>0</td>\n",
       "      <td>0</td>\n",
       "      <td>0</td>\n",
       "      <td>0</td>\n",
       "      <td>0</td>\n",
       "      <td>0</td>\n",
       "      <td>1</td>\n",
       "    </tr>\n",
       "  </tbody>\n",
       "</table>\n",
       "<p>5 rows × 22 columns</p>\n",
       "</div>"
      ],
      "text/plain": [
       "                        new_time           time        sss        sst  \\\n",
       "0  2012-09-14 20:30:00.000028800  735126.854167  37.768217  27.886503   \n",
       "1  2012-09-14 21:29:59.999971200  735126.895833  37.767291  27.794171   \n",
       "2  2012-09-14 22:30:00.000000000  735126.937500  37.767912  27.717789   \n",
       "3  2012-09-14 23:30:00.000028800  735126.979167  37.768554  27.650786   \n",
       "4  2012-09-15 00:29:59.999971200  735127.020833  37.770119  27.593085   \n",
       "\n",
       "   wind_spd   wind_dir  precip  cum_precip3  cum_precip6  year     ...      \\\n",
       "0  3.171527 -70.402566     0.0          0.0          0.0  2012     ...       \n",
       "1  3.511590 -78.652231     0.0          0.0          0.0  2012     ...       \n",
       "2  4.870495 -86.660419     0.0          0.0          0.0  2012     ...       \n",
       "3  4.511677 -89.874044     0.0          0.0          0.0  2012     ...       \n",
       "4  4.318494 -94.403915     0.0          0.0          0.0  2012     ...       \n",
       "\n",
       "   sss_change  wind_change  season_Fall  season_Spring  season_Summer  \\\n",
       "0    0.000000     0.000000            1              0              0   \n",
       "1   -0.000926     0.340064            1              0              0   \n",
       "2    0.000621     1.358904            1              0              0   \n",
       "3    0.000642    -0.358818            1              0              0   \n",
       "4    0.001566    -0.193182            1              0              0   \n",
       "\n",
       "   season_Winter  hour_Day  hour_Evening  hour_Morning  hour_Night  \n",
       "0              0         0             1             0           0  \n",
       "1              0         0             1             0           0  \n",
       "2              0         0             1             0           0  \n",
       "3              0         0             1             0           0  \n",
       "4              0         0             0             0           1  \n",
       "\n",
       "[5 rows x 22 columns]"
      ]
     },
     "execution_count": 130,
     "metadata": {},
     "output_type": "execute_result"
    }
   ],
   "source": [
    "columns = ['season','hour']\n",
    "new_enc = pd.get_dummies(new_data, columns=columns, drop_first=False)\n",
    "new_enc.head()"
   ]
  },
  {
   "cell_type": "markdown",
   "metadata": {},
   "source": [
    "# Thresholds"
   ]
  },
  {
   "cell_type": "code",
   "execution_count": 131,
   "metadata": {
    "ExecuteTime": {
     "end_time": "2019-05-04T13:18:53.916842Z",
     "start_time": "2019-05-04T13:18:53.905863Z"
    }
   },
   "outputs": [
    {
     "name": "stdout",
     "output_type": "stream",
     "text": [
      "0.4\n"
     ]
    },
    {
     "data": {
      "text/plain": [
       "1.6176072234762977"
      ]
     },
     "execution_count": 131,
     "metadata": {},
     "output_type": "execute_result"
    }
   ],
   "source": [
    "rain = new_enc[new_enc['precip'] >0]['precip']\n",
    "print(rain.median())\n",
    "rain.mean()"
   ]
  },
  {
   "cell_type": "markdown",
   "metadata": {},
   "source": [
    "So from the start, pretty weird that for rain values > 0, only 8% of values are in the summer but 43.34% are in the winter? "
   ]
  },
  {
   "cell_type": "code",
   "execution_count": 132,
   "metadata": {
    "ExecuteTime": {
     "end_time": "2019-05-04T13:18:57.915145Z",
     "start_time": "2019-05-04T13:18:57.903840Z"
    }
   },
   "outputs": [
    {
     "name": "stdout",
     "output_type": "stream",
     "text": [
      "443\n",
      "27\n",
      "52\n"
     ]
    },
    {
     "data": {
      "text/plain": [
       "8725     6.1\n",
       "3335     6.2\n",
       "1974     6.6\n",
       "1012     6.6\n",
       "3898     6.9\n",
       "2959     7.5\n",
       "8952     7.6\n",
       "3339     8.6\n",
       "1975     8.6\n",
       "5619     8.8\n",
       "8726     9.7\n",
       "1657    11.4\n",
       "3377    11.6\n",
       "2948    11.6\n",
       "3334    12.0\n",
       "300     12.4\n",
       "1422    12.8\n",
       "1421    13.3\n",
       "4303    13.9\n",
       "8727    14.1\n",
       "277     17.5\n",
       "1013    18.2\n",
       "2496    18.5\n",
       "274     21.8\n",
       "2935    23.4\n",
       "268     31.5\n",
       "2947    35.4\n",
       "Name: precip, dtype: float64"
      ]
     },
     "execution_count": 132,
     "metadata": {},
     "output_type": "execute_result"
    }
   ],
   "source": [
    "ordered_rain = rain.sort_values(ascending=True)\n",
    "new_sum = np.array(ordered_rain).cumsum()\n",
    "scaled_sum = new_sum/new_sum.max()\n",
    "first = len(scaled_sum[scaled_sum >= 0.5])\n",
    "second = len(scaled_sum[scaled_sum >= 0.33])\n",
    "#new_sum[-11:]\n",
    "print(len(ordered_rain))\n",
    "print(first)\n",
    "print(second)\n",
    "ordered_rain[-first:]\n"
   ]
  },
  {
   "cell_type": "code",
   "execution_count": 173,
   "metadata": {
    "ExecuteTime": {
     "end_time": "2019-05-09T11:55:36.015596Z",
     "start_time": "2019-05-09T11:55:35.844577Z"
    }
   },
   "outputs": [
    {
     "name": "stdout",
     "output_type": "stream",
     "text": [
      "        sss_change        sss        sst  wind_spd\n",
      "mean      0.000653  37.453298  24.787120  5.669648\n",
      "median    0.000167  37.443424  24.409049  5.821573\n",
      "        sss_change        sss        sst  wind_spd\n",
      "mean     -0.118638  37.290929  24.532075  5.562377\n",
      "median   -0.047402  37.356062  23.937423  5.816297\n"
     ]
    }
   ],
   "source": [
    "low_thres = new_enc[new_enc['precip'] < 3.766850]\n",
    "thres = new_enc[new_enc['precip'] >= 3.766850]\n",
    "threshold = [3 if i >= 6.130606 else 2 if i >=3.766850 else 1 if i>0 else 0 for i in new_enc['precip']]\n",
    "new_enc['thres'] = threshold\n",
    "print(low_thres[['sss_change','sss','sst','wind_spd']].agg(['mean','median']))\n",
    "print(thres[['sss_change','sss','sst','wind_spd']].agg(['mean','median']))"
   ]
  },
  {
   "cell_type": "code",
   "execution_count": 174,
   "metadata": {
    "ExecuteTime": {
     "end_time": "2019-05-09T11:55:44.318731Z",
     "start_time": "2019-05-09T11:55:44.309566Z"
    }
   },
   "outputs": [
    {
     "data": {
      "text/plain": [
       "array([0, 1, 2, 3], dtype=int64)"
      ]
     },
     "execution_count": 174,
     "metadata": {},
     "output_type": "execute_result"
    }
   ],
   "source": [
    "new_enc['thres'].unique()"
   ]
  },
  {
   "cell_type": "code",
   "execution_count": 175,
   "metadata": {
    "ExecuteTime": {
     "end_time": "2019-05-09T11:56:03.216668Z",
     "start_time": "2019-05-09T11:56:03.168648Z"
    }
   },
   "outputs": [
    {
     "name": "stdout",
     "output_type": "stream",
     "text": [
      "Multiple Comparison of Means - Tukey HSD,FWER=0.05\n",
      "=============================================\n",
      "group1 group2 meandiff  lower   upper  reject\n",
      "---------------------------------------------\n",
      "  0      1     0.0066  -0.0081  0.0212 False \n",
      "  0      2    -0.0862  -0.1418 -0.0306  True \n",
      "  0      3     -0.238  -0.2936 -0.1824  True \n",
      "  1      2    -0.0927  -0.1501 -0.0354  True \n",
      "  1      3    -0.2446  -0.3019 -0.1872  True \n",
      "  2      3    -0.1518  -0.2304 -0.0733  True \n",
      "---------------------------------------------\n",
      "For Salinity [0 1 2 3] \n",
      "\n",
      "\n",
      "Multiple Comparison of Means - Tukey HSD,FWER=0.05\n",
      "=============================================\n",
      "group1 group2 meandiff  lower   upper  reject\n",
      "---------------------------------------------\n",
      "  0      1     -0.003  -0.0064  0.0004 False \n",
      "  0      2    -0.0179  -0.0308 -0.0049  True \n",
      "  0      3     -0.221  -0.2339  -0.208  True \n",
      "  1      2    -0.0149  -0.0283 -0.0015  True \n",
      "  1      3     -0.218  -0.2314 -0.2046  True \n",
      "  2      3    -0.2031  -0.2214 -0.1848  True \n",
      "---------------------------------------------\n",
      "For Salinity Change [0 1 2 3] \n",
      "\n",
      "\n",
      "Multiple Comparison of Means - Tukey HSD,FWER=0.05\n",
      "=============================================\n",
      "group1 group2 meandiff  lower   upper  reject\n",
      "---------------------------------------------\n",
      "  0      1     1.1175   0.8229  1.412   True \n",
      "  0      2    -0.3017  -1.4208  0.8175 False \n",
      "  0      3     0.1834  -0.9358  1.3025 False \n",
      "  1      2    -1.4192  -2.5732 -0.2651  True \n",
      "  1      3    -0.9341  -2.0881  0.2199 False \n",
      "  2      3     0.4851  -1.0953  2.0654 False \n",
      "---------------------------------------------\n",
      "For Wind Speed [0 1 2 3] \n",
      "\n",
      "\n",
      "Multiple Comparison of Means - Tukey HSD,FWER=0.05\n",
      "=============================================\n",
      "group1 group2 meandiff  lower   upper  reject\n",
      "---------------------------------------------\n",
      "  0      1     0.0125  -0.0742  0.0991 False \n",
      "  0      2    -0.0588  -0.3878  0.2703 False \n",
      "  0      3    -0.4668  -0.7959 -0.1377  True \n",
      "  1      2    -0.0712  -0.4106  0.2681 False \n",
      "  1      3    -0.4793  -0.8186 -0.1399  True \n",
      "  2      3     -0.408  -0.8727  0.0566 False \n",
      "---------------------------------------------\n",
      "For Wind Change [0 1 2 3] \n",
      "\n",
      "\n",
      "Multiple Comparison of Means - Tukey HSD,FWER=0.05\n",
      "============================================\n",
      "group1 group2 meandiff  lower  upper  reject\n",
      "--------------------------------------------\n",
      "  0      1     -0.136   -0.328 0.0559 False \n",
      "  0      2    -0.5086  -1.2379 0.2206 False \n",
      "  0      3    -0.0132  -0.7424 0.7161 False \n",
      "  1      2    -0.3726  -1.1246 0.3794 False \n",
      "  1      3     0.1228  -0.6292 0.8748 False \n",
      "  2      3     0.4954  -0.5344 1.5252 False \n",
      "--------------------------------------------\n",
      "For Temperature [0 1 2 3] \n",
      "\n",
      "\n",
      "Multiple Comparison of Means - Tukey HSD,FWER=0.05\n",
      "===============================================\n",
      "group1 group2 meandiff  lower    upper   reject\n",
      "-----------------------------------------------\n",
      "  0      1    40.2581  22.5794  57.9367   True \n",
      "  0      2    54.3581  -12.8069 121.5232 False \n",
      "  0      3    52.6025  -14.5625 119.7676 False \n",
      "  1      2    14.1001  -55.1586 83.3587  False \n",
      "  1      3    12.3445  -56.9142 81.6031  False \n",
      "  2      3    -1.7556  -96.5995 93.0883  False \n",
      "-----------------------------------------------\n",
      "For Wind Direction [0 1 2 3] \n",
      "\n",
      "\n"
     ]
    }
   ],
   "source": [
    "## So group 0 is below the threshold, group 1 is at or above\n",
    "from statsmodels.stats.multicomp import pairwise_tukeyhsd\n",
    "from statsmodels.stats.multicomp import MultiComparison\n",
    "#Would need to merge things \n",
    "mc = MultiComparison(new_enc['sss'], new_enc['thres'])\n",
    "result = mc.tukeyhsd()\n",
    "\n",
    "mc1 = MultiComparison(new_enc['sss_change'], new_enc['thres'])\n",
    "result1 = mc1.tukeyhsd()\n",
    "\n",
    "mc2 = MultiComparison(new_enc['wind_spd'], new_enc['thres'])\n",
    "result2 = mc2.tukeyhsd()\n",
    "\n",
    "mc3 = MultiComparison(new_enc['wind_change'], new_enc['thres'])\n",
    "result3 = mc3.tukeyhsd()\n",
    "\n",
    "mc4 = MultiComparison(new_enc['sst'], new_enc['thres'])\n",
    "result4 = mc4.tukeyhsd()\n",
    "\n",
    "mc5 = MultiComparison(new_enc['wind_dir'], new_enc['thres'])\n",
    "result5 = mc5.tukeyhsd()\n",
    " \n",
    "print(result)\n",
    "print('For Salinity', mc.groupsunique,'\\n\\n')\n",
    "\n",
    "print(result1)\n",
    "print('For Salinity Change', mc1.groupsunique,'\\n\\n')\n",
    "\n",
    "print(result2)\n",
    "print('For Wind Speed', mc2.groupsunique,'\\n\\n')\n",
    "\n",
    "print(result3)\n",
    "print('For Wind Change',mc3.groupsunique,'\\n\\n')\n",
    "\n",
    "print(result4)\n",
    "print('For Temperature',mc4.groupsunique,'\\n\\n')\n",
    "\n",
    "print(result5)\n",
    "print('For Wind Direction',mc5.groupsunique,'\\n\\n')"
   ]
  },
  {
   "cell_type": "markdown",
   "metadata": {},
   "source": [
    "So using multiple groups (group 0 as everything below a 33% rainfall value threshold, group 1 as the 33%-50%, and group 2 as the 50% and above values) we can see that there are significant differences in mean values for several fields and several thresholds"
   ]
  },
  {
   "cell_type": "code",
   "execution_count": 176,
   "metadata": {
    "ExecuteTime": {
     "end_time": "2019-05-09T11:56:39.236952Z",
     "start_time": "2019-05-09T11:56:39.222318Z"
    }
   },
   "outputs": [
    {
     "data": {
      "text/plain": [
       "sss            37.443204\n",
       "sst            24.415689\n",
       "wind_change    -0.015733\n",
       "sss_change      0.000201\n",
       "dtype: float64"
      ]
     },
     "execution_count": 176,
     "metadata": {},
     "output_type": "execute_result"
    }
   ],
   "source": [
    "new_enc[new_enc['thres'] == 0][['sss','sst','wind_change','sss_change']].median()"
   ]
  },
  {
   "cell_type": "code",
   "execution_count": 177,
   "metadata": {
    "ExecuteTime": {
     "end_time": "2019-05-09T11:56:40.060227Z",
     "start_time": "2019-05-09T11:56:40.047666Z"
    }
   },
   "outputs": [
    {
     "data": {
      "text/plain": [
       "sss            37.445424\n",
       "sst            24.192813\n",
       "wind_change    -0.006983\n",
       "sss_change     -0.001132\n",
       "dtype: float64"
      ]
     },
     "execution_count": 177,
     "metadata": {},
     "output_type": "execute_result"
    }
   ],
   "source": [
    "new_enc[new_enc['thres'] == 1][['sss','sst','wind_change','sss_change']].median()"
   ]
  },
  {
   "cell_type": "code",
   "execution_count": 178,
   "metadata": {
    "ExecuteTime": {
     "end_time": "2019-05-09T11:56:41.454300Z",
     "start_time": "2019-05-09T11:56:41.441249Z"
    }
   },
   "outputs": [
    {
     "data": {
      "text/plain": [
       "sss            37.359551\n",
       "sst            23.477116\n",
       "wind_change     0.225310\n",
       "sss_change     -0.022254\n",
       "dtype: float64"
      ]
     },
     "execution_count": 178,
     "metadata": {},
     "output_type": "execute_result"
    }
   ],
   "source": [
    "new_enc[new_enc['thres'] == 2][['sss','sst','wind_change','sss_change']].median()"
   ]
  },
  {
   "cell_type": "code",
   "execution_count": 179,
   "metadata": {
    "ExecuteTime": {
     "end_time": "2019-05-09T11:56:51.177588Z",
     "start_time": "2019-05-09T11:56:51.166084Z"
    }
   },
   "outputs": [
    {
     "data": {
      "text/plain": [
       "sss            37.327668\n",
       "sst            24.384788\n",
       "wind_change    -0.339796\n",
       "sss_change     -0.104618\n",
       "dtype: float64"
      ]
     },
     "execution_count": 179,
     "metadata": {},
     "output_type": "execute_result"
    }
   ],
   "source": [
    "new_enc[new_enc['thres'] == 3][['sss','sst','wind_change','sss_change']].median()"
   ]
  },
  {
   "cell_type": "markdown",
   "metadata": {},
   "source": [
    "# Models"
   ]
  },
  {
   "cell_type": "code",
   "execution_count": 180,
   "metadata": {
    "ExecuteTime": {
     "end_time": "2019-05-09T11:57:21.609163Z",
     "start_time": "2019-05-09T11:57:21.601337Z"
    }
   },
   "outputs": [
    {
     "data": {
      "text/plain": [
       "Index(['new_time', 'time', 'sss', 'sst', 'wind_spd', 'wind_dir', 'precip',\n",
       "       'cum_precip3', 'cum_precip6', 'year', 'month', 'day', 'sss_change',\n",
       "       'wind_change', 'season_Fall', 'season_Spring', 'season_Summer',\n",
       "       'season_Winter', 'hour_Day', 'hour_Evening', 'hour_Morning',\n",
       "       'hour_Night', 'thres'],\n",
       "      dtype='object')"
      ]
     },
     "execution_count": 180,
     "metadata": {},
     "output_type": "execute_result"
    }
   ],
   "source": [
    "new_enc.columns"
   ]
  },
  {
   "cell_type": "code",
   "execution_count": 181,
   "metadata": {
    "ExecuteTime": {
     "end_time": "2019-05-09T11:57:22.510287Z",
     "start_time": "2019-05-09T11:57:22.454868Z"
    }
   },
   "outputs": [],
   "source": [
    "from sklearn.model_selection import train_test_split, GridSearchCV\n",
    "from sklearn.metrics import confusion_matrix, classification_report\n",
    "from sklearn.pipeline import Pipeline\n",
    "from sklearn.linear_model import LogisticRegression\n",
    "from sklearn.ensemble import RandomForestClassifier\n",
    "from sklearn.preprocessing import StandardScaler, RobustScaler\n",
    "X = new_enc.drop(['cum_precip3','cum_precip6','thres','time','new_time',\n",
    "                 'wind_dir','precip'],axis=1)\n",
    "y=new_enc['thres']\n",
    "\n",
    "X_train, X_test, y_train, y_test = train_test_split(X, y, test_size=0.35, random_state=42)"
   ]
  },
  {
   "cell_type": "code",
   "execution_count": 183,
   "metadata": {
    "ExecuteTime": {
     "end_time": "2019-05-09T12:06:21.796764Z",
     "start_time": "2019-05-09T11:57:47.790393Z"
    }
   },
   "outputs": [
    {
     "name": "stdout",
     "output_type": "stream",
     "text": [
      "score = 0.9540\n",
      "{'log__C': 10, 'log__max_iter': 100, 'log__multi_class': 'multinomial', 'log__solver': 'newton-cg'}\n",
      "[[3047    0    0    0]\n",
      " [ 134    0    0    1]\n",
      " [   8    0    0    0]\n",
      " [   4    0    0    3]]\n"
     ]
    }
   ],
   "source": [
    "import warnings \n",
    "warnings.filterwarnings('ignore')\n",
    "log = LogisticRegression()\n",
    "rb = RobustScaler()\n",
    "steps = [('scaler',rb), ('log', log)]\n",
    "pipe = Pipeline(steps)\n",
    "parameters = {'log__C': [1, 10, 50, 100], 'log__multi_class': ['multinomial','auto'],\n",
    "               'log__solver': ['lbfgs','sag','saga','newton-cg'], 'log__max_iter': [100, 200,500],}\n",
    "\n",
    "grid = GridSearchCV(pipe, param_grid=parameters, cv=5)\n",
    "\n",
    "grid.fit(X_train, y_train)\n",
    "print(\"score = %3.4f\" %(grid.score(X_test,y_test)))\n",
    "print(grid.best_params_)\n",
    "\n",
    "from sklearn.metrics import confusion_matrix\n",
    "pred = grid.best_estimator_.predict(X_test)\n",
    "print(confusion_matrix(y_test, pred))"
   ]
  },
  {
   "cell_type": "code",
   "execution_count": 184,
   "metadata": {
    "ExecuteTime": {
     "end_time": "2019-05-09T12:34:21.220278Z",
     "start_time": "2019-05-09T12:06:35.197591Z"
    }
   },
   "outputs": [
    {
     "name": "stdout",
     "output_type": "stream",
     "text": [
      "score = 0.95\n",
      "{'forest__criterion': 'gini', 'forest__max_depth': None, 'forest__min_samples_split': 2, 'forest__n_estimators': 1000}\n",
      "[[3039    8    0    0]\n",
      " [ 128    6    0    1]\n",
      " [   6    2    0    0]\n",
      " [   2    2    0    3]]\n"
     ]
    }
   ],
   "source": [
    "steps1 = [('scaler', RobustScaler()), ('forest',  RandomForestClassifier(random_state=42))] \n",
    "\n",
    "pipeline1 = Pipeline(steps1)\n",
    "\n",
    "parameters1 = {'forest__n_estimators':[200,500,1000], 'forest__min_samples_split':[2,3,4],\n",
    "               'forest__criterion':['gini','entropy'],'forest__max_depth':[2,3,4,None]} \n",
    "    \n",
    "grid1 = GridSearchCV(pipeline1, param_grid=parameters1, cv=5)\n",
    "\n",
    "grid1.fit(X_train, y_train)\n",
    "print(\"score = %3.2f\" %(grid1.score(X_test,y_test)))\n",
    "print(grid1.best_params_)\n",
    "pred1 = grid1.best_estimator_.predict(X_test)\n",
    "print(confusion_matrix(y_test, pred1))"
   ]
  },
  {
   "cell_type": "code",
   "execution_count": 185,
   "metadata": {
    "ExecuteTime": {
     "end_time": "2019-05-09T12:36:21.014453Z",
     "start_time": "2019-05-09T12:36:21.001903Z"
    }
   },
   "outputs": [
    {
     "data": {
      "text/plain": [
       "0    8690\n",
       "1     391\n",
       "3      26\n",
       "2      26\n",
       "Name: thres, dtype: int64"
      ]
     },
     "execution_count": 185,
     "metadata": {},
     "output_type": "execute_result"
    }
   ],
   "source": [
    "new_enc['thres'].value_counts()"
   ]
  },
  {
   "cell_type": "code",
   "execution_count": 172,
   "metadata": {
    "ExecuteTime": {
     "end_time": "2019-05-06T13:47:36.818312Z",
     "start_time": "2019-05-05T16:28:58.868830Z"
    }
   },
   "outputs": [
    {
     "name": "stdout",
     "output_type": "stream",
     "text": [
      "[12:28:58] Tree method is selected to be 'hist', which uses a single updater grow_fast_histmaker.\n",
      "[12:29:01] Tree method is selected to be 'hist', which uses a single updater grow_fast_histmaker.\n",
      "[12:29:03] Tree method is selected to be 'hist', which uses a single updater grow_fast_histmaker.\n",
      "[12:29:05] Tree method is selected to be 'hist', which uses a single updater grow_fast_histmaker.\n",
      "[12:29:08] Tree method is selected to be 'hist', which uses a single updater grow_fast_histmaker.\n",
      "[12:29:10] Tree method is selected to be 'hist', which uses a single updater grow_fast_histmaker.\n",
      "[12:29:16] Tree method is selected to be 'hist', which uses a single updater grow_fast_histmaker.\n",
      "[12:29:21] Tree method is selected to be 'hist', which uses a single updater grow_fast_histmaker.\n",
      "[12:29:27] Tree method is selected to be 'hist', which uses a single updater grow_fast_histmaker.\n",
      "[12:29:31] Tree method is selected to be 'hist', which uses a single updater grow_fast_histmaker.\n",
      "[12:29:37] Tree method is selected to be 'hist', which uses a single updater grow_fast_histmaker.\n",
      "[12:29:48] Tree method is selected to be 'hist', which uses a single updater grow_fast_histmaker.\n",
      "[12:29:58] Tree method is selected to be 'hist', which uses a single updater grow_fast_histmaker.\n",
      "[12:30:08] Tree method is selected to be 'hist', which uses a single updater grow_fast_histmaker.\n",
      "[12:30:18] Tree method is selected to be 'hist', which uses a single updater grow_fast_histmaker.\n",
      "[12:30:27] Tree method is selected to be 'hist', which uses a single updater grow_fast_histmaker.\n",
      "[12:30:29] Tree method is selected to be 'hist', which uses a single updater grow_fast_histmaker.\n",
      "[12:30:31] Tree method is selected to be 'hist', which uses a single updater grow_fast_histmaker.\n",
      "[12:30:33] Tree method is selected to be 'hist', which uses a single updater grow_fast_histmaker.\n",
      "[12:30:34] Tree method is selected to be 'hist', which uses a single updater grow_fast_histmaker.\n",
      "[12:30:36] Tree method is selected to be 'hist', which uses a single updater grow_fast_histmaker.\n",
      "[12:30:41] Tree method is selected to be 'hist', which uses a single updater grow_fast_histmaker.\n",
      "[12:30:45] Tree method is selected to be 'hist', which uses a single updater grow_fast_histmaker.\n",
      "[12:30:50] Tree method is selected to be 'hist', which uses a single updater grow_fast_histmaker.\n",
      "[12:30:55] Tree method is selected to be 'hist', which uses a single updater grow_fast_histmaker.\n",
      "[12:31:01] Tree method is selected to be 'hist', which uses a single updater grow_fast_histmaker.\n",
      "[12:31:11] Tree method is selected to be 'hist', which uses a single updater grow_fast_histmaker.\n",
      "[12:31:21] Tree method is selected to be 'hist', which uses a single updater grow_fast_histmaker.\n",
      "[12:31:31] Tree method is selected to be 'hist', which uses a single updater grow_fast_histmaker.\n",
      "[12:31:42] Tree method is selected to be 'hist', which uses a single updater grow_fast_histmaker.\n",
      "[12:31:52] Tree method is selected to be 'hist', which uses a single updater grow_fast_histmaker.\n",
      "[12:31:54] Tree method is selected to be 'hist', which uses a single updater grow_fast_histmaker.\n",
      "[12:31:56] Tree method is selected to be 'hist', which uses a single updater grow_fast_histmaker.\n",
      "[12:31:58] Tree method is selected to be 'hist', which uses a single updater grow_fast_histmaker.\n",
      "[12:32:00] Tree method is selected to be 'hist', which uses a single updater grow_fast_histmaker.\n",
      "[12:32:02] Tree method is selected to be 'hist', which uses a single updater grow_fast_histmaker.\n",
      "[12:32:07] Tree method is selected to be 'hist', which uses a single updater grow_fast_histmaker.\n",
      "[12:32:13] Tree method is selected to be 'hist', which uses a single updater grow_fast_histmaker.\n",
      "[12:32:18] Tree method is selected to be 'hist', which uses a single updater grow_fast_histmaker.\n",
      "[12:32:23] Tree method is selected to be 'hist', which uses a single updater grow_fast_histmaker.\n",
      "[12:32:27] Tree method is selected to be 'hist', which uses a single updater grow_fast_histmaker.\n",
      "[12:32:35] Tree method is selected to be 'hist', which uses a single updater grow_fast_histmaker.\n",
      "[12:32:44] Tree method is selected to be 'hist', which uses a single updater grow_fast_histmaker.\n",
      "[12:32:54] Tree method is selected to be 'hist', which uses a single updater grow_fast_histmaker.\n",
      "[12:33:04] Tree method is selected to be 'hist', which uses a single updater grow_fast_histmaker.\n",
      "[12:33:14] Tree method is selected to be 'hist', which uses a single updater grow_fast_histmaker.\n",
      "[12:33:16] Tree method is selected to be 'hist', which uses a single updater grow_fast_histmaker.\n",
      "[12:33:18] Tree method is selected to be 'hist', which uses a single updater grow_fast_histmaker.\n",
      "[12:33:20] Tree method is selected to be 'hist', which uses a single updater grow_fast_histmaker.\n",
      "[12:33:22] Tree method is selected to be 'hist', which uses a single updater grow_fast_histmaker.\n",
      "[12:33:24] Tree method is selected to be 'hist', which uses a single updater grow_fast_histmaker.\n",
      "[12:33:29] Tree method is selected to be 'hist', which uses a single updater grow_fast_histmaker.\n",
      "[12:33:35] Tree method is selected to be 'hist', which uses a single updater grow_fast_histmaker.\n",
      "[12:33:40] Tree method is selected to be 'hist', which uses a single updater grow_fast_histmaker.\n",
      "[12:33:44] Tree method is selected to be 'hist', which uses a single updater grow_fast_histmaker.\n",
      "[12:33:49] Tree method is selected to be 'hist', which uses a single updater grow_fast_histmaker.\n",
      "[12:33:59] Tree method is selected to be 'hist', which uses a single updater grow_fast_histmaker.\n",
      "[12:34:10] Tree method is selected to be 'hist', which uses a single updater grow_fast_histmaker.\n",
      "[12:34:20] Tree method is selected to be 'hist', which uses a single updater grow_fast_histmaker.\n",
      "[12:34:30] Tree method is selected to be 'hist', which uses a single updater grow_fast_histmaker.\n",
      "[12:34:39] Tree method is selected to be 'hist', which uses a single updater grow_fast_histmaker.\n",
      "[12:34:42] Tree method is selected to be 'hist', which uses a single updater grow_fast_histmaker.\n",
      "[12:34:44] Tree method is selected to be 'hist', which uses a single updater grow_fast_histmaker.\n",
      "[12:34:46] Tree method is selected to be 'hist', which uses a single updater grow_fast_histmaker.\n",
      "[12:34:48] Tree method is selected to be 'hist', which uses a single updater grow_fast_histmaker.\n",
      "[12:34:50] Tree method is selected to be 'hist', which uses a single updater grow_fast_histmaker.\n",
      "[12:34:55] Tree method is selected to be 'hist', which uses a single updater grow_fast_histmaker.\n",
      "[12:35:00] Tree method is selected to be 'hist', which uses a single updater grow_fast_histmaker.\n",
      "[12:35:05] Tree method is selected to be 'hist', which uses a single updater grow_fast_histmaker.\n",
      "[12:35:09] Tree method is selected to be 'hist', which uses a single updater grow_fast_histmaker.\n",
      "[12:35:14] Tree method is selected to be 'hist', which uses a single updater grow_fast_histmaker.\n",
      "[12:35:23] Tree method is selected to be 'hist', which uses a single updater grow_fast_histmaker.\n",
      "[12:35:33] Tree method is selected to be 'hist', which uses a single updater grow_fast_histmaker.\n",
      "[12:35:43] Tree method is selected to be 'hist', which uses a single updater grow_fast_histmaker.\n",
      "[12:35:54] Tree method is selected to be 'hist', which uses a single updater grow_fast_histmaker.\n",
      "[12:36:05] Tree method is selected to be 'hist', which uses a single updater grow_fast_histmaker.\n",
      "[12:36:07] Tree method is selected to be 'hist', which uses a single updater grow_fast_histmaker.\n",
      "[12:36:09] Tree method is selected to be 'hist', which uses a single updater grow_fast_histmaker.\n",
      "[12:36:12] Tree method is selected to be 'hist', which uses a single updater grow_fast_histmaker.\n",
      "[12:36:14] Tree method is selected to be 'hist', which uses a single updater grow_fast_histmaker.\n",
      "[12:36:16] Tree method is selected to be 'hist', which uses a single updater grow_fast_histmaker.\n",
      "[12:36:21] Tree method is selected to be 'hist', which uses a single updater grow_fast_histmaker.\n",
      "[12:36:27] Tree method is selected to be 'hist', which uses a single updater grow_fast_histmaker.\n",
      "[12:36:33] Tree method is selected to be 'hist', which uses a single updater grow_fast_histmaker.\n"
     ]
    },
    {
     "name": "stdout",
     "output_type": "stream",
     "text": [
      "[12:36:38] Tree method is selected to be 'hist', which uses a single updater grow_fast_histmaker.\n",
      "[12:36:44] Tree method is selected to be 'hist', which uses a single updater grow_fast_histmaker.\n",
      "[12:36:54] Tree method is selected to be 'hist', which uses a single updater grow_fast_histmaker.\n",
      "[12:37:05] Tree method is selected to be 'hist', which uses a single updater grow_fast_histmaker.\n",
      "[12:37:15] Tree method is selected to be 'hist', which uses a single updater grow_fast_histmaker.\n",
      "[12:37:24] Tree method is selected to be 'hist', which uses a single updater grow_fast_histmaker.\n",
      "[12:37:35] Tree method is selected to be 'hist', which uses a single updater grow_fast_histmaker.\n",
      "[12:37:37] Tree method is selected to be 'hist', which uses a single updater grow_fast_histmaker.\n",
      "[12:37:39] Tree method is selected to be 'hist', which uses a single updater grow_fast_histmaker.\n",
      "[12:37:42] Tree method is selected to be 'hist', which uses a single updater grow_fast_histmaker.\n",
      "[12:37:44] Tree method is selected to be 'hist', which uses a single updater grow_fast_histmaker.\n",
      "[12:37:46] Tree method is selected to be 'hist', which uses a single updater grow_fast_histmaker.\n",
      "[12:37:52] Tree method is selected to be 'hist', which uses a single updater grow_fast_histmaker.\n",
      "[12:37:57] Tree method is selected to be 'hist', which uses a single updater grow_fast_histmaker.\n",
      "[12:38:02] Tree method is selected to be 'hist', which uses a single updater grow_fast_histmaker.\n",
      "[12:38:07] Tree method is selected to be 'hist', which uses a single updater grow_fast_histmaker.\n",
      "[12:38:12] Tree method is selected to be 'hist', which uses a single updater grow_fast_histmaker.\n",
      "[12:38:22] Tree method is selected to be 'hist', which uses a single updater grow_fast_histmaker.\n",
      "[12:38:31] Tree method is selected to be 'hist', which uses a single updater grow_fast_histmaker.\n",
      "[12:38:41] Tree method is selected to be 'hist', which uses a single updater grow_fast_histmaker.\n",
      "[12:38:51] Tree method is selected to be 'hist', which uses a single updater grow_fast_histmaker.\n",
      "[12:39:01] Tree method is selected to be 'hist', which uses a single updater grow_fast_histmaker.\n",
      "[12:39:03] Tree method is selected to be 'hist', which uses a single updater grow_fast_histmaker.\n",
      "[12:39:05] Tree method is selected to be 'hist', which uses a single updater grow_fast_histmaker.\n",
      "[12:39:07] Tree method is selected to be 'hist', which uses a single updater grow_fast_histmaker.\n",
      "[12:39:09] Tree method is selected to be 'hist', which uses a single updater grow_fast_histmaker.\n",
      "[12:39:11] Tree method is selected to be 'hist', which uses a single updater grow_fast_histmaker.\n",
      "[12:39:16] Tree method is selected to be 'hist', which uses a single updater grow_fast_histmaker.\n",
      "[12:39:21] Tree method is selected to be 'hist', which uses a single updater grow_fast_histmaker.\n",
      "[12:39:25] Tree method is selected to be 'hist', which uses a single updater grow_fast_histmaker.\n",
      "[12:39:30] Tree method is selected to be 'hist', which uses a single updater grow_fast_histmaker.\n",
      "[12:39:35] Tree method is selected to be 'hist', which uses a single updater grow_fast_histmaker.\n",
      "[12:39:45] Tree method is selected to be 'hist', which uses a single updater grow_fast_histmaker.\n",
      "[12:39:54] Tree method is selected to be 'hist', which uses a single updater grow_fast_histmaker.\n",
      "[12:40:02] Tree method is selected to be 'hist', which uses a single updater grow_fast_histmaker.\n",
      "[12:40:11] Tree method is selected to be 'hist', which uses a single updater grow_fast_histmaker.\n",
      "[12:40:21] Tree method is selected to be 'hist', which uses a single updater grow_fast_histmaker.\n",
      "[12:40:23] Tree method is selected to be 'hist', which uses a single updater grow_fast_histmaker.\n",
      "[12:40:26] Tree method is selected to be 'hist', which uses a single updater grow_fast_histmaker.\n",
      "[12:40:28] Tree method is selected to be 'hist', which uses a single updater grow_fast_histmaker.\n",
      "[12:40:30] Tree method is selected to be 'hist', which uses a single updater grow_fast_histmaker.\n",
      "[12:40:32] Tree method is selected to be 'hist', which uses a single updater grow_fast_histmaker.\n",
      "[12:40:38] Tree method is selected to be 'hist', which uses a single updater grow_fast_histmaker.\n",
      "[12:40:43] Tree method is selected to be 'hist', which uses a single updater grow_fast_histmaker.\n",
      "[12:40:49] Tree method is selected to be 'hist', which uses a single updater grow_fast_histmaker.\n",
      "[12:40:54] Tree method is selected to be 'hist', which uses a single updater grow_fast_histmaker.\n",
      "[12:40:59] Tree method is selected to be 'hist', which uses a single updater grow_fast_histmaker.\n",
      "[12:41:09] Tree method is selected to be 'hist', which uses a single updater grow_fast_histmaker.\n",
      "[12:41:17] Tree method is selected to be 'hist', which uses a single updater grow_fast_histmaker.\n",
      "[12:41:27] Tree method is selected to be 'hist', which uses a single updater grow_fast_histmaker.\n",
      "[12:41:38] Tree method is selected to be 'hist', which uses a single updater grow_fast_histmaker.\n",
      "[12:41:48] Tree method is selected to be 'hist', which uses a single updater grow_fast_histmaker.\n",
      "[12:41:50] Tree method is selected to be 'hist', which uses a single updater grow_fast_histmaker.\n",
      "[12:41:53] Tree method is selected to be 'hist', which uses a single updater grow_fast_histmaker.\n",
      "[12:41:55] Tree method is selected to be 'hist', which uses a single updater grow_fast_histmaker.\n",
      "[12:41:58] Tree method is selected to be 'hist', which uses a single updater grow_fast_histmaker.\n",
      "[12:42:00] Tree method is selected to be 'hist', which uses a single updater grow_fast_histmaker.\n",
      "[12:42:06] Tree method is selected to be 'hist', which uses a single updater grow_fast_histmaker.\n",
      "[12:42:11] Tree method is selected to be 'hist', which uses a single updater grow_fast_histmaker.\n",
      "[12:42:16] Tree method is selected to be 'hist', which uses a single updater grow_fast_histmaker.\n",
      "[12:42:22] Tree method is selected to be 'hist', which uses a single updater grow_fast_histmaker.\n",
      "[12:42:27] Tree method is selected to be 'hist', which uses a single updater grow_fast_histmaker.\n",
      "[12:42:38] Tree method is selected to be 'hist', which uses a single updater grow_fast_histmaker.\n",
      "[12:42:48] Tree method is selected to be 'hist', which uses a single updater grow_fast_histmaker.\n",
      "[12:42:59] Tree method is selected to be 'hist', which uses a single updater grow_fast_histmaker.\n",
      "[12:43:09] Tree method is selected to be 'hist', which uses a single updater grow_fast_histmaker.\n",
      "[12:43:20] Tree method is selected to be 'hist', which uses a single updater grow_fast_histmaker.\n",
      "[12:43:22] Tree method is selected to be 'hist', which uses a single updater grow_fast_histmaker.\n",
      "[12:43:25] Tree method is selected to be 'hist', which uses a single updater grow_fast_histmaker.\n",
      "[12:43:27] Tree method is selected to be 'hist', which uses a single updater grow_fast_histmaker.\n",
      "[12:43:30] Tree method is selected to be 'hist', which uses a single updater grow_fast_histmaker.\n",
      "[12:43:32] Tree method is selected to be 'hist', which uses a single updater grow_fast_histmaker.\n",
      "[12:43:38] Tree method is selected to be 'hist', which uses a single updater grow_fast_histmaker.\n",
      "[12:43:43] Tree method is selected to be 'hist', which uses a single updater grow_fast_histmaker.\n",
      "[12:43:49] Tree method is selected to be 'hist', which uses a single updater grow_fast_histmaker.\n",
      "[12:43:54] Tree method is selected to be 'hist', which uses a single updater grow_fast_histmaker.\n",
      "[12:44:00] Tree method is selected to be 'hist', which uses a single updater grow_fast_histmaker.\n",
      "[12:44:11] Tree method is selected to be 'hist', which uses a single updater grow_fast_histmaker.\n",
      "[12:44:21] Tree method is selected to be 'hist', which uses a single updater grow_fast_histmaker.\n",
      "[12:44:31] Tree method is selected to be 'hist', which uses a single updater grow_fast_histmaker.\n",
      "[12:44:41] Tree method is selected to be 'hist', which uses a single updater grow_fast_histmaker.\n",
      "[12:44:52] Tree method is selected to be 'hist', which uses a single updater grow_fast_histmaker.\n",
      "[12:44:55] Tree method is selected to be 'hist', which uses a single updater grow_fast_histmaker.\n",
      "[12:44:57] Tree method is selected to be 'hist', which uses a single updater grow_fast_histmaker.\n"
     ]
    },
    {
     "name": "stdout",
     "output_type": "stream",
     "text": [
      "[12:45:00] Tree method is selected to be 'hist', which uses a single updater grow_fast_histmaker.\n",
      "[12:45:02] Tree method is selected to be 'hist', which uses a single updater grow_fast_histmaker.\n",
      "[12:45:05] Tree method is selected to be 'hist', which uses a single updater grow_fast_histmaker.\n",
      "[12:45:10] Tree method is selected to be 'hist', which uses a single updater grow_fast_histmaker.\n",
      "[12:45:16] Tree method is selected to be 'hist', which uses a single updater grow_fast_histmaker.\n",
      "[12:45:22] Tree method is selected to be 'hist', which uses a single updater grow_fast_histmaker.\n",
      "[12:45:28] Tree method is selected to be 'hist', which uses a single updater grow_fast_histmaker.\n",
      "[12:45:34] Tree method is selected to be 'hist', which uses a single updater grow_fast_histmaker.\n",
      "[12:45:44] Tree method is selected to be 'hist', which uses a single updater grow_fast_histmaker.\n",
      "[12:45:54] Tree method is selected to be 'hist', which uses a single updater grow_fast_histmaker.\n",
      "[12:46:04] Tree method is selected to be 'hist', which uses a single updater grow_fast_histmaker.\n",
      "[12:46:15] Tree method is selected to be 'hist', which uses a single updater grow_fast_histmaker.\n",
      "[12:46:25] Tree method is selected to be 'hist', which uses a single updater grow_fast_histmaker.\n",
      "[12:46:36] Tree method is selected to be 'hist', which uses a single updater grow_fast_histmaker.\n",
      "[12:46:47] Tree method is selected to be 'hist', which uses a single updater grow_fast_histmaker.\n",
      "[12:46:56] Tree method is selected to be 'hist', which uses a single updater grow_fast_histmaker.\n",
      "[12:47:07] Tree method is selected to be 'hist', which uses a single updater grow_fast_histmaker.\n",
      "[12:47:18] Tree method is selected to be 'hist', which uses a single updater grow_fast_histmaker.\n",
      "[12:48:36] Tree method is selected to be 'hist', which uses a single updater grow_fast_histmaker.\n",
      "[12:49:55] Tree method is selected to be 'hist', which uses a single updater grow_fast_histmaker.\n",
      "[12:51:17] Tree method is selected to be 'hist', which uses a single updater grow_fast_histmaker.\n",
      "[12:52:42] Tree method is selected to be 'hist', which uses a single updater grow_fast_histmaker.\n",
      "[12:54:07] Tree method is selected to be 'hist', which uses a single updater grow_fast_histmaker.\n",
      "[12:59:13] Tree method is selected to be 'hist', which uses a single updater grow_fast_histmaker.\n",
      "[13:03:38] Tree method is selected to be 'hist', which uses a single updater grow_fast_histmaker.\n",
      "[13:08:12] Tree method is selected to be 'hist', which uses a single updater grow_fast_histmaker.\n",
      "[13:12:54] Tree method is selected to be 'hist', which uses a single updater grow_fast_histmaker.\n",
      "[13:17:49] Tree method is selected to be 'hist', which uses a single updater grow_fast_histmaker.\n",
      "[13:18:00] Tree method is selected to be 'hist', which uses a single updater grow_fast_histmaker.\n",
      "[13:18:09] Tree method is selected to be 'hist', which uses a single updater grow_fast_histmaker.\n",
      "[13:18:20] Tree method is selected to be 'hist', which uses a single updater grow_fast_histmaker.\n",
      "[13:18:31] Tree method is selected to be 'hist', which uses a single updater grow_fast_histmaker.\n",
      "[13:18:42] Tree method is selected to be 'hist', which uses a single updater grow_fast_histmaker.\n",
      "[13:19:59] Tree method is selected to be 'hist', which uses a single updater grow_fast_histmaker.\n",
      "[13:21:09] Tree method is selected to be 'hist', which uses a single updater grow_fast_histmaker.\n",
      "[13:22:16] Tree method is selected to be 'hist', which uses a single updater grow_fast_histmaker.\n",
      "[16:19:55] Tree method is selected to be 'hist', which uses a single updater grow_fast_histmaker.\n",
      "[16:20:48] Tree method is selected to be 'hist', which uses a single updater grow_fast_histmaker.\n",
      "[16:23:56] Tree method is selected to be 'hist', which uses a single updater grow_fast_histmaker.\n",
      "[16:26:33] Tree method is selected to be 'hist', which uses a single updater grow_fast_histmaker.\n",
      "[16:29:21] Tree method is selected to be 'hist', which uses a single updater grow_fast_histmaker.\n",
      "[16:52:09] Tree method is selected to be 'hist', which uses a single updater grow_fast_histmaker.\n",
      "[16:57:20] Tree method is selected to be 'hist', which uses a single updater grow_fast_histmaker.\n",
      "[16:57:29] Tree method is selected to be 'hist', which uses a single updater grow_fast_histmaker.\n",
      "[16:57:38] Tree method is selected to be 'hist', which uses a single updater grow_fast_histmaker.\n",
      "[16:57:49] Tree method is selected to be 'hist', which uses a single updater grow_fast_histmaker.\n",
      "[16:57:58] Tree method is selected to be 'hist', which uses a single updater grow_fast_histmaker.\n",
      "[16:58:08] Tree method is selected to be 'hist', which uses a single updater grow_fast_histmaker.\n",
      "[16:59:34] Tree method is selected to be 'hist', which uses a single updater grow_fast_histmaker.\n",
      "[17:00:49] Tree method is selected to be 'hist', which uses a single updater grow_fast_histmaker.\n",
      "[17:02:11] Tree method is selected to be 'hist', which uses a single updater grow_fast_histmaker.\n",
      "[17:03:37] Tree method is selected to be 'hist', which uses a single updater grow_fast_histmaker.\n",
      "[17:05:06] Tree method is selected to be 'hist', which uses a single updater grow_fast_histmaker.\n",
      "[17:10:36] Tree method is selected to be 'hist', which uses a single updater grow_fast_histmaker.\n",
      "[17:15:35] Tree method is selected to be 'hist', which uses a single updater grow_fast_histmaker.\n",
      "[17:20:45] Tree method is selected to be 'hist', which uses a single updater grow_fast_histmaker.\n",
      "[17:26:14] Tree method is selected to be 'hist', which uses a single updater grow_fast_histmaker.\n",
      "[17:31:55] Tree method is selected to be 'hist', which uses a single updater grow_fast_histmaker.\n",
      "[17:32:06] Tree method is selected to be 'hist', which uses a single updater grow_fast_histmaker.\n",
      "[17:32:17] Tree method is selected to be 'hist', which uses a single updater grow_fast_histmaker.\n",
      "[17:32:28] Tree method is selected to be 'hist', which uses a single updater grow_fast_histmaker.\n",
      "[17:32:39] Tree method is selected to be 'hist', which uses a single updater grow_fast_histmaker.\n",
      "[17:32:51] Tree method is selected to be 'hist', which uses a single updater grow_fast_histmaker.\n",
      "[17:34:14] Tree method is selected to be 'hist', which uses a single updater grow_fast_histmaker.\n",
      "[17:35:28] Tree method is selected to be 'hist', which uses a single updater grow_fast_histmaker.\n",
      "[17:36:48] Tree method is selected to be 'hist', which uses a single updater grow_fast_histmaker.\n",
      "[17:38:13] Tree method is selected to be 'hist', which uses a single updater grow_fast_histmaker.\n",
      "[17:39:40] Tree method is selected to be 'hist', which uses a single updater grow_fast_histmaker.\n",
      "[17:44:38] Tree method is selected to be 'hist', which uses a single updater grow_fast_histmaker.\n",
      "[21:54:12] Tree method is selected to be 'hist', which uses a single updater grow_fast_histmaker.\n",
      "[21:57:37] Tree method is selected to be 'hist', which uses a single updater grow_fast_histmaker.\n",
      "[22:01:42] Tree method is selected to be 'hist', which uses a single updater grow_fast_histmaker.\n",
      "[22:04:35] Tree method is selected to be 'hist', which uses a single updater grow_fast_histmaker.\n",
      "[22:04:41] Tree method is selected to be 'hist', which uses a single updater grow_fast_histmaker.\n",
      "[22:04:47] Tree method is selected to be 'hist', which uses a single updater grow_fast_histmaker.\n",
      "[22:04:53] Tree method is selected to be 'hist', which uses a single updater grow_fast_histmaker.\n",
      "[22:04:59] Tree method is selected to be 'hist', which uses a single updater grow_fast_histmaker.\n",
      "[22:05:05] Tree method is selected to be 'hist', which uses a single updater grow_fast_histmaker.\n",
      "[22:05:51] Tree method is selected to be 'hist', which uses a single updater grow_fast_histmaker.\n",
      "[22:06:32] Tree method is selected to be 'hist', which uses a single updater grow_fast_histmaker.\n",
      "[22:07:15] Tree method is selected to be 'hist', which uses a single updater grow_fast_histmaker.\n",
      "[22:08:01] Tree method is selected to be 'hist', which uses a single updater grow_fast_histmaker.\n",
      "[22:08:47] Tree method is selected to be 'hist', which uses a single updater grow_fast_histmaker.\n",
      "[22:11:27] Tree method is selected to be 'hist', which uses a single updater grow_fast_histmaker.\n"
     ]
    },
    {
     "name": "stdout",
     "output_type": "stream",
     "text": [
      "[22:13:59] Tree method is selected to be 'hist', which uses a single updater grow_fast_histmaker.\n",
      "[22:16:30] Tree method is selected to be 'hist', which uses a single updater grow_fast_histmaker.\n",
      "[22:19:19] Tree method is selected to be 'hist', which uses a single updater grow_fast_histmaker.\n",
      "[22:22:16] Tree method is selected to be 'hist', which uses a single updater grow_fast_histmaker.\n",
      "[22:22:22] Tree method is selected to be 'hist', which uses a single updater grow_fast_histmaker.\n",
      "[22:22:27] Tree method is selected to be 'hist', which uses a single updater grow_fast_histmaker.\n",
      "[22:22:33] Tree method is selected to be 'hist', which uses a single updater grow_fast_histmaker.\n",
      "[22:22:39] Tree method is selected to be 'hist', which uses a single updater grow_fast_histmaker.\n",
      "[22:22:45] Tree method is selected to be 'hist', which uses a single updater grow_fast_histmaker.\n",
      "[22:23:31] Tree method is selected to be 'hist', which uses a single updater grow_fast_histmaker.\n",
      "[22:24:13] Tree method is selected to be 'hist', which uses a single updater grow_fast_histmaker.\n",
      "[22:24:56] Tree method is selected to be 'hist', which uses a single updater grow_fast_histmaker.\n",
      "[22:25:43] Tree method is selected to be 'hist', which uses a single updater grow_fast_histmaker.\n",
      "[22:26:31] Tree method is selected to be 'hist', which uses a single updater grow_fast_histmaker.\n",
      "[22:29:13] Tree method is selected to be 'hist', which uses a single updater grow_fast_histmaker.\n",
      "[22:31:48] Tree method is selected to be 'hist', which uses a single updater grow_fast_histmaker.\n",
      "[22:34:31] Tree method is selected to be 'hist', which uses a single updater grow_fast_histmaker.\n",
      "[22:37:20] Tree method is selected to be 'hist', which uses a single updater grow_fast_histmaker.\n",
      "[22:39:54] Tree method is selected to be 'hist', which uses a single updater grow_fast_histmaker.\n",
      "[22:39:59] Tree method is selected to be 'hist', which uses a single updater grow_fast_histmaker.\n",
      "[22:40:04] Tree method is selected to be 'hist', which uses a single updater grow_fast_histmaker.\n",
      "[22:40:10] Tree method is selected to be 'hist', which uses a single updater grow_fast_histmaker.\n",
      "[22:40:16] Tree method is selected to be 'hist', which uses a single updater grow_fast_histmaker.\n",
      "[22:40:21] Tree method is selected to be 'hist', which uses a single updater grow_fast_histmaker.\n",
      "[22:41:05] Tree method is selected to be 'hist', which uses a single updater grow_fast_histmaker.\n",
      "[22:41:46] Tree method is selected to be 'hist', which uses a single updater grow_fast_histmaker.\n",
      "[22:42:30] Tree method is selected to be 'hist', which uses a single updater grow_fast_histmaker.\n",
      "[22:43:16] Tree method is selected to be 'hist', which uses a single updater grow_fast_histmaker.\n",
      "[22:44:04] Tree method is selected to be 'hist', which uses a single updater grow_fast_histmaker.\n",
      "[22:46:56] Tree method is selected to be 'hist', which uses a single updater grow_fast_histmaker.\n",
      "[22:49:28] Tree method is selected to be 'hist', which uses a single updater grow_fast_histmaker.\n",
      "[22:52:09] Tree method is selected to be 'hist', which uses a single updater grow_fast_histmaker.\n",
      "[08:16:00] Tree method is selected to be 'hist', which uses a single updater grow_fast_histmaker.\n",
      "[08:19:05] Tree method is selected to be 'hist', which uses a single updater grow_fast_histmaker.\n",
      "[08:19:10] Tree method is selected to be 'hist', which uses a single updater grow_fast_histmaker.\n",
      "[08:19:16] Tree method is selected to be 'hist', which uses a single updater grow_fast_histmaker.\n",
      "[08:19:21] Tree method is selected to be 'hist', which uses a single updater grow_fast_histmaker.\n",
      "[08:19:27] Tree method is selected to be 'hist', which uses a single updater grow_fast_histmaker.\n",
      "[08:19:33] Tree method is selected to be 'hist', which uses a single updater grow_fast_histmaker.\n",
      "[08:20:19] Tree method is selected to be 'hist', which uses a single updater grow_fast_histmaker.\n",
      "[08:21:05] Tree method is selected to be 'hist', which uses a single updater grow_fast_histmaker.\n",
      "[08:21:53] Tree method is selected to be 'hist', which uses a single updater grow_fast_histmaker.\n",
      "[08:22:45] Tree method is selected to be 'hist', which uses a single updater grow_fast_histmaker.\n",
      "[08:23:38] Tree method is selected to be 'hist', which uses a single updater grow_fast_histmaker.\n",
      "[08:26:23] Tree method is selected to be 'hist', which uses a single updater grow_fast_histmaker.\n",
      "[08:28:56] Tree method is selected to be 'hist', which uses a single updater grow_fast_histmaker.\n",
      "[08:31:40] Tree method is selected to be 'hist', which uses a single updater grow_fast_histmaker.\n",
      "[08:34:28] Tree method is selected to be 'hist', which uses a single updater grow_fast_histmaker.\n",
      "[08:37:16] Tree method is selected to be 'hist', which uses a single updater grow_fast_histmaker.\n",
      "[08:37:21] Tree method is selected to be 'hist', which uses a single updater grow_fast_histmaker.\n",
      "[08:37:27] Tree method is selected to be 'hist', which uses a single updater grow_fast_histmaker.\n",
      "[08:37:33] Tree method is selected to be 'hist', which uses a single updater grow_fast_histmaker.\n",
      "[08:37:39] Tree method is selected to be 'hist', which uses a single updater grow_fast_histmaker.\n",
      "[08:37:45] Tree method is selected to be 'hist', which uses a single updater grow_fast_histmaker.\n",
      "[08:38:30] Tree method is selected to be 'hist', which uses a single updater grow_fast_histmaker.\n",
      "[08:39:12] Tree method is selected to be 'hist', which uses a single updater grow_fast_histmaker.\n",
      "[08:39:54] Tree method is selected to be 'hist', which uses a single updater grow_fast_histmaker.\n",
      "[08:40:37] Tree method is selected to be 'hist', which uses a single updater grow_fast_histmaker.\n",
      "[08:41:22] Tree method is selected to be 'hist', which uses a single updater grow_fast_histmaker.\n",
      "[08:44:09] Tree method is selected to be 'hist', which uses a single updater grow_fast_histmaker.\n",
      "[08:46:36] Tree method is selected to be 'hist', which uses a single updater grow_fast_histmaker.\n",
      "[08:49:15] Tree method is selected to be 'hist', which uses a single updater grow_fast_histmaker.\n",
      "[08:52:07] Tree method is selected to be 'hist', which uses a single updater grow_fast_histmaker.\n",
      "[08:55:09] Tree method is selected to be 'hist', which uses a single updater grow_fast_histmaker.\n",
      "[08:55:15] Tree method is selected to be 'hist', which uses a single updater grow_fast_histmaker.\n",
      "[08:55:21] Tree method is selected to be 'hist', which uses a single updater grow_fast_histmaker.\n",
      "[08:55:27] Tree method is selected to be 'hist', which uses a single updater grow_fast_histmaker.\n",
      "[08:55:33] Tree method is selected to be 'hist', which uses a single updater grow_fast_histmaker.\n",
      "[08:55:39] Tree method is selected to be 'hist', which uses a single updater grow_fast_histmaker.\n",
      "[08:56:21] Tree method is selected to be 'hist', which uses a single updater grow_fast_histmaker.\n",
      "[08:57:01] Tree method is selected to be 'hist', which uses a single updater grow_fast_histmaker.\n",
      "[08:57:43] Tree method is selected to be 'hist', which uses a single updater grow_fast_histmaker.\n",
      "[08:58:27] Tree method is selected to be 'hist', which uses a single updater grow_fast_histmaker.\n",
      "[08:59:13] Tree method is selected to be 'hist', which uses a single updater grow_fast_histmaker.\n",
      "[09:02:00] Tree method is selected to be 'hist', which uses a single updater grow_fast_histmaker.\n",
      "[09:04:42] Tree method is selected to be 'hist', which uses a single updater grow_fast_histmaker.\n",
      "[09:07:26] Tree method is selected to be 'hist', which uses a single updater grow_fast_histmaker.\n",
      "[09:10:19] Tree method is selected to be 'hist', which uses a single updater grow_fast_histmaker.\n",
      "[09:13:02] Tree method is selected to be 'hist', which uses a single updater grow_fast_histmaker.\n",
      "[09:13:08] Tree method is selected to be 'hist', which uses a single updater grow_fast_histmaker.\n",
      "[09:13:14] Tree method is selected to be 'hist', which uses a single updater grow_fast_histmaker.\n",
      "[09:13:20] Tree method is selected to be 'hist', which uses a single updater grow_fast_histmaker.\n",
      "[09:13:27] Tree method is selected to be 'hist', which uses a single updater grow_fast_histmaker.\n",
      "[09:13:33] Tree method is selected to be 'hist', which uses a single updater grow_fast_histmaker.\n"
     ]
    },
    {
     "name": "stdout",
     "output_type": "stream",
     "text": [
      "[09:14:14] Tree method is selected to be 'hist', which uses a single updater grow_fast_histmaker.\n",
      "[09:14:54] Tree method is selected to be 'hist', which uses a single updater grow_fast_histmaker.\n",
      "[09:15:35] Tree method is selected to be 'hist', which uses a single updater grow_fast_histmaker.\n",
      "[09:16:17] Tree method is selected to be 'hist', which uses a single updater grow_fast_histmaker.\n",
      "[09:16:59] Tree method is selected to be 'hist', which uses a single updater grow_fast_histmaker.\n",
      "[09:19:32] Tree method is selected to be 'hist', which uses a single updater grow_fast_histmaker.\n",
      "[09:22:02] Tree method is selected to be 'hist', which uses a single updater grow_fast_histmaker.\n",
      "[09:24:34] Tree method is selected to be 'hist', which uses a single updater grow_fast_histmaker.\n",
      "[09:27:14] Tree method is selected to be 'hist', which uses a single updater grow_fast_histmaker.\n",
      "[09:29:59] Tree method is selected to be 'hist', which uses a single updater grow_fast_histmaker.\n",
      "[09:30:06] Tree method is selected to be 'hist', which uses a single updater grow_fast_histmaker.\n",
      "[09:30:11] Tree method is selected to be 'hist', which uses a single updater grow_fast_histmaker.\n",
      "[09:30:17] Tree method is selected to be 'hist', which uses a single updater grow_fast_histmaker.\n",
      "[09:30:23] Tree method is selected to be 'hist', which uses a single updater grow_fast_histmaker.\n",
      "[09:30:30] Tree method is selected to be 'hist', which uses a single updater grow_fast_histmaker.\n",
      "[09:31:13] Tree method is selected to be 'hist', which uses a single updater grow_fast_histmaker.\n",
      "[09:31:54] Tree method is selected to be 'hist', which uses a single updater grow_fast_histmaker.\n",
      "[09:32:37] Tree method is selected to be 'hist', which uses a single updater grow_fast_histmaker.\n",
      "[09:33:21] Tree method is selected to be 'hist', which uses a single updater grow_fast_histmaker.\n",
      "[09:34:07] Tree method is selected to be 'hist', which uses a single updater grow_fast_histmaker.\n",
      "[09:36:40] Tree method is selected to be 'hist', which uses a single updater grow_fast_histmaker.\n",
      "[09:39:08] Tree method is selected to be 'hist', which uses a single updater grow_fast_histmaker.\n",
      "[09:41:50] Tree method is selected to be 'hist', which uses a single updater grow_fast_histmaker.\n",
      "[09:44:41] Tree method is selected to be 'hist', which uses a single updater grow_fast_histmaker.\n",
      "[09:47:35] Tree method is selected to be 'hist', which uses a single updater grow_fast_histmaker.\n",
      "score = 0.99\n",
      "{'forest__booster': 'gbtree', 'forest__grow_policy': 'lossguide', 'forest__max_bin': 256, 'forest__min_samples_split': 2, 'forest__n_estimators': 200}\n",
      "[[3179    1    2]\n",
      " [   7    0    1]\n",
      " [   4    1    2]]\n"
     ]
    }
   ],
   "source": [
    "from xgboost import XGBClassifier\n",
    "xgb = XGBClassifier()\n",
    "\n",
    "steps1 = [('scaler', RobustScaler()), ('forest',  XGBClassifier(random_state=42, tree_method='hist',))] \n",
    "\n",
    "pipeline1 = Pipeline(steps1)\n",
    "\n",
    "parameters1 = {'forest__n_estimators':[200,500,1000], 'forest__min_samples_split':[2,3,4],\n",
    "               'forest__booster':['gbtree','dart'],'forest__grow_policy':['lossguide','depthwise'],\n",
    "              'forest__max_bin':[128,256]} \n",
    "    \n",
    "grid1 = GridSearchCV(pipeline1, param_grid=parameters1, cv=5)\n",
    "\n",
    "grid1.fit(X_train, y_train)\n",
    "print(\"score = %3.4f\" %(grid1.score(X_test,y_test)))\n",
    "print(grid1.best_params_)\n",
    "pred1 = grid1.best_estimator_.predict(X_test)\n",
    "print(confusion_matrix(y_test, pred1))"
   ]
  },
  {
   "cell_type": "code",
   "execution_count": 186,
   "metadata": {
    "ExecuteTime": {
     "end_time": "2019-05-09T12:36:47.243653Z",
     "start_time": "2019-05-09T12:36:29.938950Z"
    },
    "scrolled": true
   },
   "outputs": [
    {
     "name": "stdout",
     "output_type": "stream",
     "text": [
      "[08:36:29] Tree method is selected to be 'hist', which uses a single updater grow_fast_histmaker.\n",
      "score = 0.94870\n",
      "[[3016   29    1    1]\n",
      " [ 117   15    2    1]\n",
      " [   4    3    0    1]\n",
      " [   1    2    2    2]]\n",
      "              precision    recall  f1-score   support\n",
      "\n",
      "           0       0.96      0.99      0.98      3047\n",
      "           1       0.31      0.11      0.16       135\n",
      "           2       0.00      0.00      0.00         8\n",
      "           3       0.40      0.29      0.33         7\n",
      "\n",
      "   micro avg       0.95      0.95      0.95      3197\n",
      "   macro avg       0.42      0.35      0.37      3197\n",
      "weighted avg       0.93      0.95      0.94      3197\n",
      "\n"
     ]
    }
   ],
   "source": [
    "from xgboost import XGBClassifier\n",
    "xgb = XGBClassifier(tree_method='hist',booster='gbtree',n_estimators=1000, grow_policy='lossguide')\n",
    "\n",
    "# steps1 = [('scaler', RobustScaler()), ('forest',  XGBClassifier(random_state=42, tree_method='hist',))] \n",
    "\n",
    "# pipeline1 = Pipeline(steps1)\n",
    "\n",
    "# parameters1 = {'forest__n_estimators':[200,500,1000], 'forest__min_samples_split':[2,3,4],\n",
    "#                'forest__criterion':['gini','entropy'],'forest__max_depth':[2,3,4]} \n",
    "    \n",
    "#grid1 = GridSearchCV(pipeline1, param_grid=parameters1, cv=5)\n",
    "\n",
    "xgb.fit(X_train, y_train)\n",
    "print(\"score = %3.5f\" %(xgb.score(X_test,y_test)))\n",
    "pred1 = xgb.predict(X_test)\n",
    "print(confusion_matrix(y_test, pred1))\n",
    "print(classification_report(y_test, pred1))"
   ]
  },
  {
   "cell_type": "code",
   "execution_count": 187,
   "metadata": {
    "ExecuteTime": {
     "end_time": "2019-05-09T12:37:15.713846Z",
     "start_time": "2019-05-09T12:37:14.977684Z"
    }
   },
   "outputs": [
    {
     "data": {
      "text/plain": [
       "<matplotlib.axes._subplots.AxesSubplot at 0x1a898f7b0f0>"
      ]
     },
     "execution_count": 187,
     "metadata": {},
     "output_type": "execute_result"
    },
    {
     "data": {
      "image/png": "[encoded data removed]",
      "text/plain": [
       "<Figure size 432x288 with 1 Axes>"
      ]
     },
     "metadata": {},
     "output_type": "display_data"
    }
   ],
   "source": [
    "import xgboost\n",
    "xgboost.plot_importance(xgb, importance_type='gain', height=0.4)"
   ]
  },
  {
   "cell_type": "code",
   "execution_count": 188,
   "metadata": {
    "ExecuteTime": {
     "end_time": "2019-05-09T12:39:57.438207Z",
     "start_time": "2019-05-09T12:39:56.290024Z"
    }
   },
   "outputs": [
    {
     "data": {
      "text/plain": [
       "3"
      ]
     },
     "execution_count": 188,
     "metadata": {},
     "output_type": "execute_result"
    }
   ],
   "source": [
    "from sklearn.decomposition import PCA\n",
    "pca = PCA(.97)\n",
    "pca.fit(X)\n",
    "csum=np.cumsum(pca.explained_variance_ratio_)\n",
    "d=np.argmax(csum>=.97)+1\n",
    "d"
   ]
  },
  {
   "cell_type": "code",
   "execution_count": 189,
   "metadata": {
    "ExecuteTime": {
     "end_time": "2019-05-09T12:44:36.633709Z",
     "start_time": "2019-05-09T12:40:57.047164Z"
    }
   },
   "outputs": [
    {
     "name": "stdout",
     "output_type": "stream",
     "text": [
      "[08:40:57] Tree method is selected to be 'hist', which uses a single updater grow_fast_histmaker.\n",
      "[08:41:21] Tree method is selected to be 'hist', which uses a single updater grow_fast_histmaker.\n",
      "[08:41:47] Tree method is selected to be 'hist', which uses a single updater grow_fast_histmaker.\n",
      "[08:42:11] Tree method is selected to be 'hist', which uses a single updater grow_fast_histmaker.\n",
      "[08:42:35] Tree method is selected to be 'hist', which uses a single updater grow_fast_histmaker.\n",
      "[08:42:58] Tree method is selected to be 'hist', which uses a single updater grow_fast_histmaker.\n",
      "[08:43:20] Tree method is selected to be 'hist', which uses a single updater grow_fast_histmaker.\n",
      "[08:43:41] Tree method is selected to be 'hist', which uses a single updater grow_fast_histmaker.\n",
      "[08:44:00] Tree method is selected to be 'hist', which uses a single updater grow_fast_histmaker.\n",
      "[08:44:19] Tree method is selected to be 'hist', which uses a single updater grow_fast_histmaker.\n",
      "[ True  True  True False  True  True  True  True False False False False\n",
      " False False False False]\n",
      "[ 1  1  1  7  1  1  1  1 10  9  8  5  6  4  2  3]\n",
      "Empty DataFrame\n",
      "Columns: [sss, sst, wind_spd, year, month, day, sss_change, wind_change, season_Fall, season_Spring, season_Summer, season_Winter, hour_Day, hour_Evening, hour_Morning, hour_Night]\n",
      "Index: []\n"
     ]
    }
   ],
   "source": [
    "from sklearn.feature_selection import RFE\n",
    "\n",
    "model = RandomForestClassifier()\n",
    "\n",
    "rfe = RFE(xgb, 7)\n",
    "rfe = rfe.fit(X, y)\n",
    "\n",
    "print(rfe.support_)\n",
    "print(rfe.ranking_)\n",
    "print(X.head(0))"
   ]
  },
  {
   "cell_type": "code",
   "execution_count": 190,
   "metadata": {
    "ExecuteTime": {
     "end_time": "2019-05-09T12:50:17.152752Z",
     "start_time": "2019-05-09T12:50:17.136172Z"
    }
   },
   "outputs": [
    {
     "data": {
      "text/html": [
       "<div>\n",
       "<style scoped>\n",
       "    .dataframe tbody tr th:only-of-type {\n",
       "        vertical-align: middle;\n",
       "    }\n",
       "\n",
       "    .dataframe tbody tr th {\n",
       "        vertical-align: top;\n",
       "    }\n",
       "\n",
       "    .dataframe thead th {\n",
       "        text-align: right;\n",
       "    }\n",
       "</style>\n",
       "<table border=\"1\" class=\"dataframe\">\n",
       "  <thead>\n",
       "    <tr style=\"text-align: right;\">\n",
       "      <th></th>\n",
       "      <th>sss</th>\n",
       "      <th>sst</th>\n",
       "      <th>wind_spd</th>\n",
       "      <th>month</th>\n",
       "      <th>day</th>\n",
       "      <th>sss_change</th>\n",
       "      <th>wind_change</th>\n",
       "    </tr>\n",
       "  </thead>\n",
       "  <tbody>\n",
       "    <tr>\n",
       "      <th>0</th>\n",
       "      <td>37.768217</td>\n",
       "      <td>27.886503</td>\n",
       "      <td>3.171527</td>\n",
       "      <td>9</td>\n",
       "      <td>14</td>\n",
       "      <td>0.000000</td>\n",
       "      <td>0.000000</td>\n",
       "    </tr>\n",
       "    <tr>\n",
       "      <th>1</th>\n",
       "      <td>37.767291</td>\n",
       "      <td>27.794171</td>\n",
       "      <td>3.511590</td>\n",
       "      <td>9</td>\n",
       "      <td>14</td>\n",
       "      <td>-0.000926</td>\n",
       "      <td>0.340064</td>\n",
       "    </tr>\n",
       "    <tr>\n",
       "      <th>2</th>\n",
       "      <td>37.767912</td>\n",
       "      <td>27.717789</td>\n",
       "      <td>4.870495</td>\n",
       "      <td>9</td>\n",
       "      <td>14</td>\n",
       "      <td>0.000621</td>\n",
       "      <td>1.358904</td>\n",
       "    </tr>\n",
       "    <tr>\n",
       "      <th>3</th>\n",
       "      <td>37.768554</td>\n",
       "      <td>27.650786</td>\n",
       "      <td>4.511677</td>\n",
       "      <td>9</td>\n",
       "      <td>14</td>\n",
       "      <td>0.000642</td>\n",
       "      <td>-0.358818</td>\n",
       "    </tr>\n",
       "    <tr>\n",
       "      <th>4</th>\n",
       "      <td>37.770119</td>\n",
       "      <td>27.593085</td>\n",
       "      <td>4.318494</td>\n",
       "      <td>9</td>\n",
       "      <td>15</td>\n",
       "      <td>0.001566</td>\n",
       "      <td>-0.193182</td>\n",
       "    </tr>\n",
       "  </tbody>\n",
       "</table>\n",
       "</div>"
      ],
      "text/plain": [
       "         sss        sst  wind_spd  month  day  sss_change  wind_change\n",
       "0  37.768217  27.886503  3.171527      9   14    0.000000     0.000000\n",
       "1  37.767291  27.794171  3.511590      9   14   -0.000926     0.340064\n",
       "2  37.767912  27.717789  4.870495      9   14    0.000621     1.358904\n",
       "3  37.768554  27.650786  4.511677      9   14    0.000642    -0.358818\n",
       "4  37.770119  27.593085  4.318494      9   15    0.001566    -0.193182"
      ]
     },
     "execution_count": 190,
     "metadata": {},
     "output_type": "execute_result"
    }
   ],
   "source": [
    "X1 = X.drop(['year','season_Fall','season_Spring','season_Summer','season_Winter',\n",
    "           'hour_Day','hour_Evening','hour_Morning','hour_Night'],axis=1)\n",
    "X1.head()"
   ]
  },
  {
   "cell_type": "code",
   "execution_count": 193,
   "metadata": {
    "ExecuteTime": {
     "end_time": "2019-05-09T12:53:08.564457Z",
     "start_time": "2019-05-09T12:52:00.636481Z"
    }
   },
   "outputs": [
    {
     "data": {
      "text/html": [
       "\n",
       "    <style>\n",
       "    table.eli5-weights tr:hover {\n",
       "        filter: brightness(85%);\n",
       "    }\n",
       "</style>\n",
       "\n",
       "\n",
       "\n",
       "    \n",
       "\n",
       "    \n",
       "\n",
       "    \n",
       "\n",
       "    \n",
       "\n",
       "    \n",
       "\n",
       "    \n",
       "\n",
       "\n",
       "    \n",
       "\n",
       "    \n",
       "\n",
       "    \n",
       "\n",
       "    \n",
       "\n",
       "    \n",
       "\n",
       "    \n",
       "\n",
       "\n",
       "    \n",
       "\n",
       "    \n",
       "\n",
       "    \n",
       "\n",
       "    \n",
       "\n",
       "    \n",
       "        <table class=\"eli5-weights eli5-feature-importances\" style=\"border-collapse: collapse; border: none; margin-top: 0em; table-layout: auto;\">\n",
       "    <thead>\n",
       "    <tr style=\"border: none;\">\n",
       "        <th style=\"padding: 0 1em 0 0.5em; text-align: right; border: none;\">Weight</th>\n",
       "        <th style=\"padding: 0 0.5em 0 0.5em; text-align: left; border: none;\">Feature</th>\n",
       "    </tr>\n",
       "    </thead>\n",
       "    <tbody>\n",
       "    \n",
       "        <tr style=\"background-color: hsl(120, 100.00%, 80.00%); border: none;\">\n",
       "            <td style=\"padding: 0 1em 0 0.5em; text-align: right; border: none;\">\n",
       "                0.0016\n",
       "                \n",
       "                    &plusmn; 0.0013\n",
       "                \n",
       "            </td>\n",
       "            <td style=\"padding: 0 0.5em 0 0.5em; text-align: left; border: none;\">\n",
       "                sss_change\n",
       "            </td>\n",
       "        </tr>\n",
       "    \n",
       "        <tr style=\"background-color: hsl(0, 100.00%, 100.00%); border: none;\">\n",
       "            <td style=\"padding: 0 1em 0 0.5em; text-align: right; border: none;\">\n",
       "                -0.0000\n",
       "                \n",
       "                    &plusmn; 0.0006\n",
       "                \n",
       "            </td>\n",
       "            <td style=\"padding: 0 0.5em 0 0.5em; text-align: left; border: none;\">\n",
       "                hour_Night\n",
       "            </td>\n",
       "        </tr>\n",
       "    \n",
       "        <tr style=\"background-color: hsl(0, 100.00%, 100.00%); border: none;\">\n",
       "            <td style=\"padding: 0 1em 0 0.5em; text-align: right; border: none;\">\n",
       "                -0.0000\n",
       "                \n",
       "                    &plusmn; 0.0008\n",
       "                \n",
       "            </td>\n",
       "            <td style=\"padding: 0 0.5em 0 0.5em; text-align: left; border: none;\">\n",
       "                season_Winter\n",
       "            </td>\n",
       "        </tr>\n",
       "    \n",
       "        <tr style=\"background-color: hsl(0, 100.00%, 97.90%); border: none;\">\n",
       "            <td style=\"padding: 0 1em 0 0.5em; text-align: right; border: none;\">\n",
       "                -0.0001\n",
       "                \n",
       "                    &plusmn; 0.0008\n",
       "                \n",
       "            </td>\n",
       "            <td style=\"padding: 0 0.5em 0 0.5em; text-align: left; border: none;\">\n",
       "                month\n",
       "            </td>\n",
       "        </tr>\n",
       "    \n",
       "        <tr style=\"background-color: hsl(0, 100.00%, 95.47%); border: none;\">\n",
       "            <td style=\"padding: 0 1em 0 0.5em; text-align: right; border: none;\">\n",
       "                -0.0002\n",
       "                \n",
       "                    &plusmn; 0.0006\n",
       "                \n",
       "            </td>\n",
       "            <td style=\"padding: 0 0.5em 0 0.5em; text-align: left; border: none;\">\n",
       "                hour_Morning\n",
       "            </td>\n",
       "        </tr>\n",
       "    \n",
       "        <tr style=\"background-color: hsl(0, 100.00%, 94.45%); border: none;\">\n",
       "            <td style=\"padding: 0 1em 0 0.5em; text-align: right; border: none;\">\n",
       "                -0.0003\n",
       "                \n",
       "                    &plusmn; 0.0005\n",
       "                \n",
       "            </td>\n",
       "            <td style=\"padding: 0 0.5em 0 0.5em; text-align: left; border: none;\">\n",
       "                season_Fall\n",
       "            </td>\n",
       "        </tr>\n",
       "    \n",
       "        <tr style=\"background-color: hsl(0, 100.00%, 93.52%); border: none;\">\n",
       "            <td style=\"padding: 0 1em 0 0.5em; text-align: right; border: none;\">\n",
       "                -0.0003\n",
       "                \n",
       "                    &plusmn; 0.0000\n",
       "                \n",
       "            </td>\n",
       "            <td style=\"padding: 0 0.5em 0 0.5em; text-align: left; border: none;\">\n",
       "                hour_Evening\n",
       "            </td>\n",
       "        </tr>\n",
       "    \n",
       "        <tr style=\"background-color: hsl(0, 100.00%, 93.52%); border: none;\">\n",
       "            <td style=\"padding: 0 1em 0 0.5em; text-align: right; border: none;\">\n",
       "                -0.0003\n",
       "                \n",
       "                    &plusmn; 0.0008\n",
       "                \n",
       "            </td>\n",
       "            <td style=\"padding: 0 0.5em 0 0.5em; text-align: left; border: none;\">\n",
       "                season_Summer\n",
       "            </td>\n",
       "        </tr>\n",
       "    \n",
       "        <tr style=\"background-color: hsl(0, 100.00%, 93.52%); border: none;\">\n",
       "            <td style=\"padding: 0 1em 0 0.5em; text-align: right; border: none;\">\n",
       "                -0.0003\n",
       "                \n",
       "                    &plusmn; 0.0006\n",
       "                \n",
       "            </td>\n",
       "            <td style=\"padding: 0 0.5em 0 0.5em; text-align: left; border: none;\">\n",
       "                season_Spring\n",
       "            </td>\n",
       "        </tr>\n",
       "    \n",
       "        <tr style=\"background-color: hsl(0, 100.00%, 91.80%); border: none;\">\n",
       "            <td style=\"padding: 0 1em 0 0.5em; text-align: right; border: none;\">\n",
       "                -0.0004\n",
       "                \n",
       "                    &plusmn; 0.0006\n",
       "                \n",
       "            </td>\n",
       "            <td style=\"padding: 0 0.5em 0 0.5em; text-align: left; border: none;\">\n",
       "                sss\n",
       "            </td>\n",
       "        </tr>\n",
       "    \n",
       "        <tr style=\"background-color: hsl(0, 100.00%, 90.99%); border: none;\">\n",
       "            <td style=\"padding: 0 1em 0 0.5em; text-align: right; border: none;\">\n",
       "                -0.0005\n",
       "                \n",
       "                    &plusmn; 0.0012\n",
       "                \n",
       "            </td>\n",
       "            <td style=\"padding: 0 0.5em 0 0.5em; text-align: left; border: none;\">\n",
       "                sst\n",
       "            </td>\n",
       "        </tr>\n",
       "    \n",
       "        <tr style=\"background-color: hsl(0, 100.00%, 90.22%); border: none;\">\n",
       "            <td style=\"padding: 0 1em 0 0.5em; text-align: right; border: none;\">\n",
       "                -0.0006\n",
       "                \n",
       "                    &plusmn; 0.0003\n",
       "                \n",
       "            </td>\n",
       "            <td style=\"padding: 0 0.5em 0 0.5em; text-align: left; border: none;\">\n",
       "                hour_Day\n",
       "            </td>\n",
       "        </tr>\n",
       "    \n",
       "        <tr style=\"background-color: hsl(0, 100.00%, 88.74%); border: none;\">\n",
       "            <td style=\"padding: 0 1em 0 0.5em; text-align: right; border: none;\">\n",
       "                -0.0007\n",
       "                \n",
       "                    &plusmn; 0.0009\n",
       "                \n",
       "            </td>\n",
       "            <td style=\"padding: 0 0.5em 0 0.5em; text-align: left; border: none;\">\n",
       "                year\n",
       "            </td>\n",
       "        </tr>\n",
       "    \n",
       "        <tr style=\"background-color: hsl(0, 100.00%, 81.13%); border: none;\">\n",
       "            <td style=\"padding: 0 1em 0 0.5em; text-align: right; border: none;\">\n",
       "                -0.0014\n",
       "                \n",
       "                    &plusmn; 0.0012\n",
       "                \n",
       "            </td>\n",
       "            <td style=\"padding: 0 0.5em 0 0.5em; text-align: left; border: none;\">\n",
       "                day\n",
       "            </td>\n",
       "        </tr>\n",
       "    \n",
       "        <tr style=\"background-color: hsl(0, 100.00%, 80.56%); border: none;\">\n",
       "            <td style=\"padding: 0 1em 0 0.5em; text-align: right; border: none;\">\n",
       "                -0.0015\n",
       "                \n",
       "                    &plusmn; 0.0012\n",
       "                \n",
       "            </td>\n",
       "            <td style=\"padding: 0 0.5em 0 0.5em; text-align: left; border: none;\">\n",
       "                wind_spd\n",
       "            </td>\n",
       "        </tr>\n",
       "    \n",
       "        <tr style=\"background-color: hsl(0, 100.00%, 80.56%); border: none;\">\n",
       "            <td style=\"padding: 0 1em 0 0.5em; text-align: right; border: none;\">\n",
       "                -0.0015\n",
       "                \n",
       "                    &plusmn; 0.0007\n",
       "                \n",
       "            </td>\n",
       "            <td style=\"padding: 0 0.5em 0 0.5em; text-align: left; border: none;\">\n",
       "                wind_change\n",
       "            </td>\n",
       "        </tr>\n",
       "    \n",
       "    \n",
       "    </tbody>\n",
       "</table>\n",
       "    \n",
       "\n",
       "    \n",
       "\n",
       "\n",
       "    \n",
       "\n",
       "    \n",
       "\n",
       "    \n",
       "\n",
       "    \n",
       "\n",
       "    \n",
       "\n",
       "    \n",
       "\n",
       "\n",
       "\n"
      ],
      "text/plain": [
       "<IPython.core.display.HTML object>"
      ]
     },
     "execution_count": 193,
     "metadata": {},
     "output_type": "execute_result"
    }
   ],
   "source": [
    "import eli5\n",
    "from eli5.sklearn import PermutationImportance\n",
    "from sklearn.ensemble import RandomForestClassifier\n",
    "rf = RandomForestClassifier(n_estimators=500).fit(X_train, y_train)\n",
    "\n",
    "perm = PermutationImportance(rf, random_state=42).fit(X_test, y_test)\n",
    "eli5.show_weights(perm, feature_names = X_test.columns.tolist())"
   ]
  },
  {
   "cell_type": "code",
   "execution_count": 199,
   "metadata": {
    "ExecuteTime": {
     "end_time": "2019-05-09T12:56:54.715580Z",
     "start_time": "2019-05-09T12:56:46.220276Z"
    }
   },
   "outputs": [
    {
     "name": "stdout",
     "output_type": "stream",
     "text": [
      "[08:56:46] Tree method is selected to be 'hist', which uses a single updater grow_fast_histmaker.\n",
      "score = 0.95511\n",
      "[[2613    0    0    1]\n",
      " [ 114    0    0    0]\n",
      " [   5    0    0    0]\n",
      " [   3    0    0    4]]\n",
      "              precision    recall  f1-score   support\n",
      "\n",
      "           0       0.96      1.00      0.98      2614\n",
      "           1       0.00      0.00      0.00       114\n",
      "           2       0.00      0.00      0.00         5\n",
      "           3       0.80      0.57      0.67         7\n",
      "\n",
      "   micro avg       0.96      0.96      0.96      2740\n",
      "   macro avg       0.44      0.39      0.41      2740\n",
      "weighted avg       0.91      0.96      0.93      2740\n",
      "\n"
     ]
    }
   ],
   "source": [
    "X_weird = X[['sss_change','hour_Night']]\n",
    "X_train1, X_test1, y_train1, y_test1 = train_test_split(X_weird, y, test_size=0.3, random_state=42)\n",
    "xgb.fit(X_train1, y_train1)\n",
    "print(\"score = %3.5f\" %(xgb.score(X_test1,y_test1)))\n",
    "pred1 = xgb.predict(X_test1)\n",
    "print(confusion_matrix(y_test1, pred1))\n",
    "print(classification_report(y_test1, pred1))"
   ]
  },
  {
   "cell_type": "code",
   "execution_count": 217,
   "metadata": {
    "ExecuteTime": {
     "end_time": "2019-05-09T13:09:10.576480Z",
     "start_time": "2019-05-09T13:09:08.951489Z"
    }
   },
   "outputs": [
    {
     "name": "stdout",
     "output_type": "stream",
     "text": [
      "Starting training...\n",
      "[1]\tvalid_0's multi_logloss: 0.197523\tvalid_0's multi_error: 0.046919\n",
      "Training until validation scores don't improve for 50 rounds.\n",
      "[2]\tvalid_0's multi_logloss: 0.193485\tvalid_0's multi_error: 0.046919\n",
      "[3]\tvalid_0's multi_logloss: 0.190829\tvalid_0's multi_error: 0.046919\n",
      "[4]\tvalid_0's multi_logloss: 0.188499\tvalid_0's multi_error: 0.046919\n",
      "[5]\tvalid_0's multi_logloss: 0.186818\tvalid_0's multi_error: 0.046919\n",
      "[6]\tvalid_0's multi_logloss: 0.185132\tvalid_0's multi_error: 0.046919\n",
      "[7]\tvalid_0's multi_logloss: 0.183515\tvalid_0's multi_error: 0.046919\n",
      "[8]\tvalid_0's multi_logloss: 0.182085\tvalid_0's multi_error: 0.046919\n",
      "[9]\tvalid_0's multi_logloss: 0.18094\tvalid_0's multi_error: 0.046919\n",
      "[10]\tvalid_0's multi_logloss: 0.179806\tvalid_0's multi_error: 0.0466062\n",
      "[11]\tvalid_0's multi_logloss: 0.178564\tvalid_0's multi_error: 0.0466062\n",
      "[12]\tvalid_0's multi_logloss: 0.177849\tvalid_0's multi_error: 0.0466062\n",
      "[13]\tvalid_0's multi_logloss: 0.176583\tvalid_0's multi_error: 0.0466062\n",
      "[14]\tvalid_0's multi_logloss: 0.17594\tvalid_0's multi_error: 0.0466062\n",
      "[15]\tvalid_0's multi_logloss: 0.17524\tvalid_0's multi_error: 0.0466062\n",
      "[16]\tvalid_0's multi_logloss: 0.174965\tvalid_0's multi_error: 0.0466062\n",
      "[17]\tvalid_0's multi_logloss: 0.173784\tvalid_0's multi_error: 0.0466062\n",
      "[18]\tvalid_0's multi_logloss: 0.173274\tvalid_0's multi_error: 0.0466062\n",
      "[19]\tvalid_0's multi_logloss: 0.172894\tvalid_0's multi_error: 0.0466062\n",
      "[20]\tvalid_0's multi_logloss: 0.172471\tvalid_0's multi_error: 0.0462934\n",
      "[21]\tvalid_0's multi_logloss: 0.171765\tvalid_0's multi_error: 0.0462934\n",
      "[22]\tvalid_0's multi_logloss: 0.171202\tvalid_0's multi_error: 0.0466062\n",
      "[23]\tvalid_0's multi_logloss: 0.170679\tvalid_0's multi_error: 0.046919\n",
      "[24]\tvalid_0's multi_logloss: 0.169933\tvalid_0's multi_error: 0.046919\n",
      "[25]\tvalid_0's multi_logloss: 0.169417\tvalid_0's multi_error: 0.046919\n",
      "[26]\tvalid_0's multi_logloss: 0.168875\tvalid_0's multi_error: 0.046919\n",
      "[27]\tvalid_0's multi_logloss: 0.168469\tvalid_0's multi_error: 0.046919\n",
      "[28]\tvalid_0's multi_logloss: 0.168258\tvalid_0's multi_error: 0.046919\n",
      "[29]\tvalid_0's multi_logloss: 0.168068\tvalid_0's multi_error: 0.0472318\n",
      "[30]\tvalid_0's multi_logloss: 0.168117\tvalid_0's multi_error: 0.0472318\n",
      "[31]\tvalid_0's multi_logloss: 0.167873\tvalid_0's multi_error: 0.0472318\n",
      "[32]\tvalid_0's multi_logloss: 0.167507\tvalid_0's multi_error: 0.0472318\n",
      "[33]\tvalid_0's multi_logloss: 0.167154\tvalid_0's multi_error: 0.0472318\n",
      "[34]\tvalid_0's multi_logloss: 0.166772\tvalid_0's multi_error: 0.0472318\n",
      "[35]\tvalid_0's multi_logloss: 0.16632\tvalid_0's multi_error: 0.0472318\n",
      "[36]\tvalid_0's multi_logloss: 0.165958\tvalid_0's multi_error: 0.0472318\n",
      "[37]\tvalid_0's multi_logloss: 0.165845\tvalid_0's multi_error: 0.046919\n",
      "[38]\tvalid_0's multi_logloss: 0.16571\tvalid_0's multi_error: 0.046919\n",
      "[39]\tvalid_0's multi_logloss: 0.165418\tvalid_0's multi_error: 0.046919\n",
      "[40]\tvalid_0's multi_logloss: 0.16523\tvalid_0's multi_error: 0.046919\n",
      "[41]\tvalid_0's multi_logloss: 0.165125\tvalid_0's multi_error: 0.0466062\n",
      "[42]\tvalid_0's multi_logloss: 0.165043\tvalid_0's multi_error: 0.0466062\n",
      "[43]\tvalid_0's multi_logloss: 0.165012\tvalid_0's multi_error: 0.0466062\n",
      "[44]\tvalid_0's multi_logloss: 0.165032\tvalid_0's multi_error: 0.046919\n",
      "[45]\tvalid_0's multi_logloss: 0.165059\tvalid_0's multi_error: 0.0466062\n",
      "[46]\tvalid_0's multi_logloss: 0.164875\tvalid_0's multi_error: 0.0466062\n",
      "[47]\tvalid_0's multi_logloss: 0.164761\tvalid_0's multi_error: 0.0466062\n",
      "[48]\tvalid_0's multi_logloss: 0.164713\tvalid_0's multi_error: 0.0466062\n",
      "[49]\tvalid_0's multi_logloss: 0.164676\tvalid_0's multi_error: 0.0462934\n",
      "[50]\tvalid_0's multi_logloss: 0.164708\tvalid_0's multi_error: 0.0462934\n",
      "[51]\tvalid_0's multi_logloss: 0.164532\tvalid_0's multi_error: 0.0462934\n",
      "[52]\tvalid_0's multi_logloss: 0.164573\tvalid_0's multi_error: 0.0462934\n",
      "[53]\tvalid_0's multi_logloss: 0.164608\tvalid_0's multi_error: 0.0462934\n",
      "[54]\tvalid_0's multi_logloss: 0.164275\tvalid_0's multi_error: 0.0462934\n",
      "[55]\tvalid_0's multi_logloss: 0.164121\tvalid_0's multi_error: 0.0459806\n",
      "[56]\tvalid_0's multi_logloss: 0.164048\tvalid_0's multi_error: 0.0459806\n",
      "[57]\tvalid_0's multi_logloss: 0.164077\tvalid_0's multi_error: 0.0459806\n",
      "[58]\tvalid_0's multi_logloss: 0.164073\tvalid_0's multi_error: 0.0459806\n",
      "[59]\tvalid_0's multi_logloss: 0.164062\tvalid_0's multi_error: 0.0459806\n",
      "[60]\tvalid_0's multi_logloss: 0.163947\tvalid_0's multi_error: 0.0456678\n",
      "[61]\tvalid_0's multi_logloss: 0.164145\tvalid_0's multi_error: 0.0459806\n",
      "[62]\tvalid_0's multi_logloss: 0.164075\tvalid_0's multi_error: 0.0462934\n",
      "[63]\tvalid_0's multi_logloss: 0.163907\tvalid_0's multi_error: 0.0459806\n",
      "[64]\tvalid_0's multi_logloss: 0.164004\tvalid_0's multi_error: 0.0462934\n",
      "[65]\tvalid_0's multi_logloss: 0.163992\tvalid_0's multi_error: 0.0466062\n",
      "[66]\tvalid_0's multi_logloss: 0.164024\tvalid_0's multi_error: 0.046919\n",
      "[67]\tvalid_0's multi_logloss: 0.164057\tvalid_0's multi_error: 0.046919\n",
      "[68]\tvalid_0's multi_logloss: 0.164211\tvalid_0's multi_error: 0.0466062\n",
      "[69]\tvalid_0's multi_logloss: 0.164305\tvalid_0's multi_error: 0.0462934\n",
      "[70]\tvalid_0's multi_logloss: 0.164393\tvalid_0's multi_error: 0.0462934\n",
      "[71]\tvalid_0's multi_logloss: 0.164424\tvalid_0's multi_error: 0.0462934\n",
      "[72]\tvalid_0's multi_logloss: 0.164444\tvalid_0's multi_error: 0.0466062\n",
      "[73]\tvalid_0's multi_logloss: 0.164272\tvalid_0's multi_error: 0.046919\n",
      "[74]\tvalid_0's multi_logloss: 0.164257\tvalid_0's multi_error: 0.046919\n",
      "[75]\tvalid_0's multi_logloss: 0.164154\tvalid_0's multi_error: 0.0472318\n",
      "[76]\tvalid_0's multi_logloss: 0.164317\tvalid_0's multi_error: 0.0472318\n",
      "[77]\tvalid_0's multi_logloss: 0.164513\tvalid_0's multi_error: 0.0475446\n",
      "[78]\tvalid_0's multi_logloss: 0.164467\tvalid_0's multi_error: 0.0478574\n",
      "[79]\tvalid_0's multi_logloss: 0.164482\tvalid_0's multi_error: 0.0475446\n",
      "[80]\tvalid_0's multi_logloss: 0.164669\tvalid_0's multi_error: 0.0475446\n",
      "[81]\tvalid_0's multi_logloss: 0.16461\tvalid_0's multi_error: 0.0475446\n",
      "[82]\tvalid_0's multi_logloss: 0.164686\tvalid_0's multi_error: 0.0478574\n",
      "[83]\tvalid_0's multi_logloss: 0.164624\tvalid_0's multi_error: 0.0478574\n",
      "[84]\tvalid_0's multi_logloss: 0.164653\tvalid_0's multi_error: 0.0481702\n",
      "[85]\tvalid_0's multi_logloss: 0.164648\tvalid_0's multi_error: 0.0481702\n",
      "[86]\tvalid_0's multi_logloss: 0.164641\tvalid_0's multi_error: 0.0478574\n",
      "[87]\tvalid_0's multi_logloss: 0.164608\tvalid_0's multi_error: 0.0478574\n",
      "[88]\tvalid_0's multi_logloss: 0.164654\tvalid_0's multi_error: 0.0478574\n",
      "[89]\tvalid_0's multi_logloss: 0.164856\tvalid_0's multi_error: 0.0478574\n",
      "[90]\tvalid_0's multi_logloss: 0.164854\tvalid_0's multi_error: 0.0478574\n",
      "[91]\tvalid_0's multi_logloss: 0.165225\tvalid_0's multi_error: 0.048483\n",
      "[92]\tvalid_0's multi_logloss: 0.165307\tvalid_0's multi_error: 0.0487957\n",
      "[93]\tvalid_0's multi_logloss: 0.165543\tvalid_0's multi_error: 0.0487957\n",
      "[94]\tvalid_0's multi_logloss: 0.165755\tvalid_0's multi_error: 0.048483\n",
      "[95]\tvalid_0's multi_logloss: 0.165841\tvalid_0's multi_error: 0.048483\n",
      "[96]\tvalid_0's multi_logloss: 0.165907\tvalid_0's multi_error: 0.048483\n",
      "[97]\tvalid_0's multi_logloss: 0.165988\tvalid_0's multi_error: 0.0491085\n",
      "[98]\tvalid_0's multi_logloss: 0.165852\tvalid_0's multi_error: 0.0487957\n",
      "[99]\tvalid_0's multi_logloss: 0.165879\tvalid_0's multi_error: 0.0491085\n",
      "[100]\tvalid_0's multi_logloss: 0.165816\tvalid_0's multi_error: 0.0491085\n",
      "[101]\tvalid_0's multi_logloss: 0.165903\tvalid_0's multi_error: 0.0487957\n",
      "[102]\tvalid_0's multi_logloss: 0.165882\tvalid_0's multi_error: 0.0491085\n",
      "[103]\tvalid_0's multi_logloss: 0.166039\tvalid_0's multi_error: 0.0494213\n",
      "[104]\tvalid_0's multi_logloss: 0.166146\tvalid_0's multi_error: 0.0494213\n",
      "[105]\tvalid_0's multi_logloss: 0.166262\tvalid_0's multi_error: 0.0494213\n",
      "[106]\tvalid_0's multi_logloss: 0.166263\tvalid_0's multi_error: 0.0497341\n",
      "[107]\tvalid_0's multi_logloss: 0.166366\tvalid_0's multi_error: 0.0494213\n",
      "[108]\tvalid_0's multi_logloss: 0.16648\tvalid_0's multi_error: 0.0494213\n",
      "[109]\tvalid_0's multi_logloss: 0.166552\tvalid_0's multi_error: 0.0487957\n",
      "[110]\tvalid_0's multi_logloss: 0.166638\tvalid_0's multi_error: 0.0487957\n",
      "Early stopping, best iteration is:\n",
      "[60]\tvalid_0's multi_logloss: 0.163947\tvalid_0's multi_error: 0.0456678\n",
      "Starting predicting...\n"
     ]
    }
   ],
   "source": [
    "import lightgbm as lgb\n",
    "import pandas as pd\n",
    "from sklearn.metrics import mean_squared_error\n",
    "\n",
    "# create dataset for lightgbm\n",
    "lgb_train = lgb.Dataset(X_train, y_train)\n",
    "lgb_eval = lgb.Dataset(X_test, y_test, reference=lgb_train)\n",
    "\n",
    "# specify your configurations as a dict\n",
    "params = {\n",
    "    'boosting_type': 'gbdt',\n",
    "    \"num_class\" : 4,\n",
    "    'objective': 'multiclass',\n",
    "    'metric': {'multi_error', 'multi_logloss'},\n",
    "    'num_leaves': 31,\n",
    "    'learning_rate': 0.05,\n",
    "    'feature_fraction': 0.9,\n",
    "    'bagging_fraction': 0.8,\n",
    "    'bagging_freq': 5,\n",
    "    'verbose': 0,\n",
    "}\n",
    "\n",
    "print('Starting training...')\n",
    "# train\n",
    "gbm = lgb.train(params,\n",
    "                lgb_train,\n",
    "                num_boost_round=1000,\n",
    "                valid_sets=lgb_eval,\n",
    "                early_stopping_rounds=50)\n",
    "\n",
    "\n",
    "print('Starting predicting...')\n",
    "# predict\n",
    "y_pred = gbm.predict(X_test, num_iteration=gbm.best_iteration)\n",
    "# eval\n",
    "#print(confusion_matrix(y_test, y_pred))\n",
    "#print(classification_report(y_test,y_pred))"
   ]
  },
  {
   "cell_type": "code",
   "execution_count": 218,
   "metadata": {
    "ExecuteTime": {
     "end_time": "2019-05-09T13:09:13.461635Z",
     "start_time": "2019-05-09T13:09:13.451273Z"
    }
   },
   "outputs": [
    {
     "name": "stdout",
     "output_type": "stream",
     "text": [
      "[[3043    3    0    1]\n",
      " [ 127    5    2    1]\n",
      " [   5    1    1    1]\n",
      " [   3    1    1    2]]\n"
     ]
    }
   ],
   "source": [
    "print(confusion_matrix(y_test, y_pred.argmax(axis=1)))"
   ]
  },
  {
   "cell_type": "code",
   "execution_count": null,
   "metadata": {},
   "outputs": [],
   "source": []
  }
 ],
 "metadata": {
  "kernelspec": {
   "display_name": "Python 3",
   "language": "python",
   "name": "python3"
  },
  "language_info": {
   "codemirror_mode": {
    "name": "ipython",
    "version": 3
   },
   "file_extension": ".py",
   "mimetype": "text/x-python",
   "name": "python",
   "nbconvert_exporter": "python",
   "pygments_lexer": "ipython3",
   "version": "3.6.8"
  },
  "toc": {
   "base_numbering": 1,
   "nav_menu": {},
   "number_sections": true,
   "sideBar": true,
   "skip_h1_title": false,
   "title_cell": "Table of Contents",
   "title_sidebar": "Contents",
   "toc_cell": false,
   "toc_position": {},
   "toc_section_display": true,
   "toc_window_display": true
  },
  "varInspector": {
   "cols": {
    "lenName": 16,
    "lenType": 16,
    "lenVar": 40
   },
   "kernels_config": {
    "python": {
     "delete_cmd_postfix": "",
     "delete_cmd_prefix": "del ",
     "library": "var_list.py",
     "varRefreshCmd": "print(var_dic_list())"
    },
    "r": {
     "delete_cmd_postfix": ") ",
     "delete_cmd_prefix": "rm(",
     "library": "var_list.r",
     "varRefreshCmd": "cat(var_dic_list()) "
    }
   },
   "types_to_exclude": [
    "module",
    "function",
    "builtin_function_or_method",
    "instance",
    "_Feature"
   ],
   "window_display": false
  }
 },
 "nbformat": 4,
 "nbformat_minor": 2
}
