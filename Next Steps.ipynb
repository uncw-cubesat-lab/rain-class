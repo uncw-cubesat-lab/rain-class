{
 "cells": [
  {
   "cell_type": "markdown",
   "metadata": {},
   "source": [
    "Here we want to change the values of rainfall to a more realistic measure (within 1mm), play with both the threshold for the rainfall events as well as testing multiple thresholds. Also we want to change several existing variables: month, for instance, should be one-hot encoded instead of label encoded. Time should likely also get some kind of change-- hour could maybe be categorized (morning, day, night or something) and one-hotted as well. <-- pandas get_dummies \n",
    "\n",
    "We can also test for differences in means for different thresholds\n",
    "\n",
    "\n",
    "Other ideas?"
   ]
  },
  {
   "cell_type": "markdown",
   "metadata": {},
   "source": [
    "# Imports and fixes"
   ]
  },
  {
   "cell_type": "code",
   "execution_count": 1,
   "metadata": {
    "ExecuteTime": {
     "end_time": "2019-11-25T15:05:33.309928Z",
     "start_time": "2019-11-25T15:05:04.995933Z"
    }
   },
   "outputs": [],
   "source": [
    "import numpy as np\n",
    "import pandas as pd\n",
    "import matplotlib.pyplot as plt\n",
    "%matplotlib inline\n",
    "import seaborn as sns\n",
    "#import pandas_profiling as pdp"
   ]
  },
  {
   "cell_type": "code",
   "execution_count": 2,
   "metadata": {
    "ExecuteTime": {
     "end_time": "2019-11-25T15:05:35.203164Z",
     "start_time": "2019-11-25T15:05:34.811747Z"
    }
   },
   "outputs": [
    {
     "data": {
      "text/html": [
       "<div>\n",
       "<style scoped>\n",
       "    .dataframe tbody tr th:only-of-type {\n",
       "        vertical-align: middle;\n",
       "    }\n",
       "\n",
       "    .dataframe tbody tr th {\n",
       "        vertical-align: top;\n",
       "    }\n",
       "\n",
       "    .dataframe thead th {\n",
       "        text-align: right;\n",
       "    }\n",
       "</style>\n",
       "<table border=\"1\" class=\"dataframe\">\n",
       "  <thead>\n",
       "    <tr style=\"text-align: right;\">\n",
       "      <th></th>\n",
       "      <th>new_time</th>\n",
       "      <th>time</th>\n",
       "      <th>sss</th>\n",
       "      <th>sst</th>\n",
       "      <th>wind_spd</th>\n",
       "      <th>wind_dir</th>\n",
       "      <th>precip</th>\n",
       "      <th>cum_precip3</th>\n",
       "      <th>cum_precip6</th>\n",
       "      <th>year</th>\n",
       "      <th>...</th>\n",
       "      <th>scaled_dir</th>\n",
       "      <th>scaled_spd</th>\n",
       "      <th>scaled_sst</th>\n",
       "      <th>pct_change</th>\n",
       "      <th>pct_c_scaled</th>\n",
       "      <th>set</th>\n",
       "      <th>sst_pct_change</th>\n",
       "      <th>dir_pct_change</th>\n",
       "      <th>spd_pct_change</th>\n",
       "      <th>sss_change</th>\n",
       "    </tr>\n",
       "  </thead>\n",
       "  <tbody>\n",
       "    <tr>\n",
       "      <th>0</th>\n",
       "      <td>2012-09-14 20:30:00.000028800</td>\n",
       "      <td>735126.854167</td>\n",
       "      <td>37.768217</td>\n",
       "      <td>27.886503</td>\n",
       "      <td>3.171527</td>\n",
       "      <td>-70.402566</td>\n",
       "      <td>0.0</td>\n",
       "      <td>0.0</td>\n",
       "      <td>0.0</td>\n",
       "      <td>2012</td>\n",
       "      <td>...</td>\n",
       "      <td>-0.223661</td>\n",
       "      <td>-1.120622</td>\n",
       "      <td>2.145583</td>\n",
       "      <td>0.000000</td>\n",
       "      <td>0.000000</td>\n",
       "      <td>Spurs1</td>\n",
       "      <td>0.000000</td>\n",
       "      <td>0.000000</td>\n",
       "      <td>0.000000</td>\n",
       "      <td>0.000000</td>\n",
       "    </tr>\n",
       "    <tr>\n",
       "      <th>1</th>\n",
       "      <td>2012-09-14 21:29:59.999971200</td>\n",
       "      <td>735126.895833</td>\n",
       "      <td>37.767291</td>\n",
       "      <td>27.794171</td>\n",
       "      <td>3.511590</td>\n",
       "      <td>-78.652231</td>\n",
       "      <td>0.0</td>\n",
       "      <td>0.0</td>\n",
       "      <td>0.0</td>\n",
       "      <td>2012</td>\n",
       "      <td>...</td>\n",
       "      <td>-0.285520</td>\n",
       "      <td>-0.968037</td>\n",
       "      <td>2.081695</td>\n",
       "      <td>-0.000025</td>\n",
       "      <td>-0.031722</td>\n",
       "      <td>Spurs1</td>\n",
       "      <td>-1.374910</td>\n",
       "      <td>0.135314</td>\n",
       "      <td>0.293850</td>\n",
       "      <td>-0.000926</td>\n",
       "    </tr>\n",
       "    <tr>\n",
       "      <th>2</th>\n",
       "      <td>2012-09-14 22:30:00.000000000</td>\n",
       "      <td>735126.937500</td>\n",
       "      <td>37.767912</td>\n",
       "      <td>27.717789</td>\n",
       "      <td>4.870495</td>\n",
       "      <td>-86.660419</td>\n",
       "      <td>0.0</td>\n",
       "      <td>0.0</td>\n",
       "      <td>0.0</td>\n",
       "      <td>2012</td>\n",
       "      <td>...</td>\n",
       "      <td>-0.345568</td>\n",
       "      <td>-0.358302</td>\n",
       "      <td>2.028844</td>\n",
       "      <td>0.000016</td>\n",
       "      <td>0.022122</td>\n",
       "      <td>Spurs1</td>\n",
       "      <td>-1.141199</td>\n",
       "      <td>0.126846</td>\n",
       "      <td>1.265220</td>\n",
       "      <td>0.000621</td>\n",
       "    </tr>\n",
       "    <tr>\n",
       "      <th>3</th>\n",
       "      <td>2012-09-14 23:30:00.000028800</td>\n",
       "      <td>735126.979167</td>\n",
       "      <td>37.768554</td>\n",
       "      <td>27.650786</td>\n",
       "      <td>4.511677</td>\n",
       "      <td>-89.874044</td>\n",
       "      <td>0.0</td>\n",
       "      <td>0.0</td>\n",
       "      <td>0.0</td>\n",
       "      <td>2012</td>\n",
       "      <td>...</td>\n",
       "      <td>-0.369664</td>\n",
       "      <td>-0.519302</td>\n",
       "      <td>1.982482</td>\n",
       "      <td>0.000017</td>\n",
       "      <td>0.022846</td>\n",
       "      <td>Spurs1</td>\n",
       "      <td>-1.003867</td>\n",
       "      <td>0.091158</td>\n",
       "      <td>-0.334265</td>\n",
       "      <td>0.000642</td>\n",
       "    </tr>\n",
       "    <tr>\n",
       "      <th>4</th>\n",
       "      <td>2012-09-15 00:29:59.999971200</td>\n",
       "      <td>735127.020833</td>\n",
       "      <td>37.770119</td>\n",
       "      <td>27.593085</td>\n",
       "      <td>4.318494</td>\n",
       "      <td>-94.403915</td>\n",
       "      <td>0.0</td>\n",
       "      <td>0.0</td>\n",
       "      <td>0.0</td>\n",
       "      <td>2012</td>\n",
       "      <td>...</td>\n",
       "      <td>-0.403631</td>\n",
       "      <td>-0.605983</td>\n",
       "      <td>1.942557</td>\n",
       "      <td>0.000041</td>\n",
       "      <td>0.054988</td>\n",
       "      <td>Spurs1</td>\n",
       "      <td>-0.866609</td>\n",
       "      <td>0.098501</td>\n",
       "      <td>-0.227134</td>\n",
       "      <td>0.001566</td>\n",
       "    </tr>\n",
       "  </tbody>\n",
       "</table>\n",
       "<p>5 rows × 24 columns</p>\n",
       "</div>"
      ],
      "text/plain": [
       "                        new_time           time        sss        sst  \\\n",
       "0  2012-09-14 20:30:00.000028800  735126.854167  37.768217  27.886503   \n",
       "1  2012-09-14 21:29:59.999971200  735126.895833  37.767291  27.794171   \n",
       "2  2012-09-14 22:30:00.000000000  735126.937500  37.767912  27.717789   \n",
       "3  2012-09-14 23:30:00.000028800  735126.979167  37.768554  27.650786   \n",
       "4  2012-09-15 00:29:59.999971200  735127.020833  37.770119  27.593085   \n",
       "\n",
       "   wind_spd   wind_dir  precip  cum_precip3  cum_precip6  year  ...  \\\n",
       "0  3.171527 -70.402566     0.0          0.0          0.0  2012  ...   \n",
       "1  3.511590 -78.652231     0.0          0.0          0.0  2012  ...   \n",
       "2  4.870495 -86.660419     0.0          0.0          0.0  2012  ...   \n",
       "3  4.511677 -89.874044     0.0          0.0          0.0  2012  ...   \n",
       "4  4.318494 -94.403915     0.0          0.0          0.0  2012  ...   \n",
       "\n",
       "   scaled_dir  scaled_spd  scaled_sst  pct_change  pct_c_scaled     set  \\\n",
       "0   -0.223661   -1.120622    2.145583    0.000000      0.000000  Spurs1   \n",
       "1   -0.285520   -0.968037    2.081695   -0.000025     -0.031722  Spurs1   \n",
       "2   -0.345568   -0.358302    2.028844    0.000016      0.022122  Spurs1   \n",
       "3   -0.369664   -0.519302    1.982482    0.000017      0.022846  Spurs1   \n",
       "4   -0.403631   -0.605983    1.942557    0.000041      0.054988  Spurs1   \n",
       "\n",
       "   sst_pct_change  dir_pct_change  spd_pct_change sss_change  \n",
       "0        0.000000        0.000000        0.000000   0.000000  \n",
       "1       -1.374910        0.135314        0.293850  -0.000926  \n",
       "2       -1.141199        0.126846        1.265220   0.000621  \n",
       "3       -1.003867        0.091158       -0.334265   0.000642  \n",
       "4       -0.866609        0.098501       -0.227134   0.001566  \n",
       "\n",
       "[5 rows x 24 columns]"
      ]
     },
     "execution_count": 2,
     "metadata": {},
     "output_type": "execute_result"
    }
   ],
   "source": [
    "data = pd.read_csv('data.csv')\n",
    "data['sss_change'] = data['sss'].diff().fillna(0)\n",
    "data.head()"
   ]
  },
  {
   "cell_type": "code",
   "execution_count": 3,
   "metadata": {
    "ExecuteTime": {
     "end_time": "2019-11-25T15:05:36.252292Z",
     "start_time": "2019-11-25T15:05:36.238936Z"
    }
   },
   "outputs": [
    {
     "name": "stdout",
     "output_type": "stream",
     "text": [
      "<class 'pandas.core.frame.DataFrame'>\n",
      "RangeIndex: 9133 entries, 0 to 9132\n",
      "Data columns (total 24 columns):\n",
      "new_time          9133 non-null object\n",
      "time              9133 non-null float64\n",
      "sss               9133 non-null float64\n",
      "sst               9133 non-null float64\n",
      "wind_spd          9133 non-null float64\n",
      "wind_dir          9133 non-null float64\n",
      "precip            9133 non-null float64\n",
      "cum_precip3       9133 non-null float64\n",
      "cum_precip6       9133 non-null float64\n",
      "year              9133 non-null int64\n",
      "month             9133 non-null int64\n",
      "day               9133 non-null int64\n",
      "hour              9133 non-null int64\n",
      "scaled_sss        9133 non-null float64\n",
      "scaled_dir        9133 non-null float64\n",
      "scaled_spd        9133 non-null float64\n",
      "scaled_sst        9133 non-null float64\n",
      "pct_change        9133 non-null float64\n",
      "pct_c_scaled      9133 non-null float64\n",
      "set               9133 non-null object\n",
      "sst_pct_change    9133 non-null float64\n",
      "dir_pct_change    9133 non-null float64\n",
      "spd_pct_change    9133 non-null float64\n",
      "sss_change        9133 non-null float64\n",
      "dtypes: float64(18), int64(4), object(2)\n",
      "memory usage: 1.7+ MB\n"
     ]
    }
   ],
   "source": [
    "data.info()"
   ]
  },
  {
   "cell_type": "code",
   "execution_count": 4,
   "metadata": {
    "ExecuteTime": {
     "end_time": "2019-11-25T15:05:37.017633Z",
     "start_time": "2019-11-25T15:05:36.995058Z"
    }
   },
   "outputs": [
    {
     "data": {
      "text/html": [
       "<div>\n",
       "<style scoped>\n",
       "    .dataframe tbody tr th:only-of-type {\n",
       "        vertical-align: middle;\n",
       "    }\n",
       "\n",
       "    .dataframe tbody tr th {\n",
       "        vertical-align: top;\n",
       "    }\n",
       "\n",
       "    .dataframe thead th {\n",
       "        text-align: right;\n",
       "    }\n",
       "</style>\n",
       "<table border=\"1\" class=\"dataframe\">\n",
       "  <thead>\n",
       "    <tr style=\"text-align: right;\">\n",
       "      <th></th>\n",
       "      <th>new_time</th>\n",
       "      <th>time</th>\n",
       "      <th>sss</th>\n",
       "      <th>sst</th>\n",
       "      <th>wind_spd</th>\n",
       "      <th>wind_dir</th>\n",
       "      <th>precip</th>\n",
       "      <th>cum_precip3</th>\n",
       "      <th>cum_precip6</th>\n",
       "      <th>year</th>\n",
       "      <th>month</th>\n",
       "      <th>day</th>\n",
       "      <th>hour</th>\n",
       "      <th>sss_change</th>\n",
       "    </tr>\n",
       "  </thead>\n",
       "  <tbody>\n",
       "    <tr>\n",
       "      <th>0</th>\n",
       "      <td>2012-09-14 20:30:00.000028800</td>\n",
       "      <td>735126.854167</td>\n",
       "      <td>37.768217</td>\n",
       "      <td>27.886503</td>\n",
       "      <td>3.171527</td>\n",
       "      <td>-70.402566</td>\n",
       "      <td>0.0</td>\n",
       "      <td>0.0</td>\n",
       "      <td>0.0</td>\n",
       "      <td>2012</td>\n",
       "      <td>9</td>\n",
       "      <td>14</td>\n",
       "      <td>20</td>\n",
       "      <td>0.000000</td>\n",
       "    </tr>\n",
       "    <tr>\n",
       "      <th>1</th>\n",
       "      <td>2012-09-14 21:29:59.999971200</td>\n",
       "      <td>735126.895833</td>\n",
       "      <td>37.767291</td>\n",
       "      <td>27.794171</td>\n",
       "      <td>3.511590</td>\n",
       "      <td>-78.652231</td>\n",
       "      <td>0.0</td>\n",
       "      <td>0.0</td>\n",
       "      <td>0.0</td>\n",
       "      <td>2012</td>\n",
       "      <td>9</td>\n",
       "      <td>14</td>\n",
       "      <td>21</td>\n",
       "      <td>-0.000926</td>\n",
       "    </tr>\n",
       "    <tr>\n",
       "      <th>2</th>\n",
       "      <td>2012-09-14 22:30:00.000000000</td>\n",
       "      <td>735126.937500</td>\n",
       "      <td>37.767912</td>\n",
       "      <td>27.717789</td>\n",
       "      <td>4.870495</td>\n",
       "      <td>-86.660419</td>\n",
       "      <td>0.0</td>\n",
       "      <td>0.0</td>\n",
       "      <td>0.0</td>\n",
       "      <td>2012</td>\n",
       "      <td>9</td>\n",
       "      <td>14</td>\n",
       "      <td>22</td>\n",
       "      <td>0.000621</td>\n",
       "    </tr>\n",
       "    <tr>\n",
       "      <th>3</th>\n",
       "      <td>2012-09-14 23:30:00.000028800</td>\n",
       "      <td>735126.979167</td>\n",
       "      <td>37.768554</td>\n",
       "      <td>27.650786</td>\n",
       "      <td>4.511677</td>\n",
       "      <td>-89.874044</td>\n",
       "      <td>0.0</td>\n",
       "      <td>0.0</td>\n",
       "      <td>0.0</td>\n",
       "      <td>2012</td>\n",
       "      <td>9</td>\n",
       "      <td>14</td>\n",
       "      <td>23</td>\n",
       "      <td>0.000642</td>\n",
       "    </tr>\n",
       "    <tr>\n",
       "      <th>4</th>\n",
       "      <td>2012-09-15 00:29:59.999971200</td>\n",
       "      <td>735127.020833</td>\n",
       "      <td>37.770119</td>\n",
       "      <td>27.593085</td>\n",
       "      <td>4.318494</td>\n",
       "      <td>-94.403915</td>\n",
       "      <td>0.0</td>\n",
       "      <td>0.0</td>\n",
       "      <td>0.0</td>\n",
       "      <td>2012</td>\n",
       "      <td>9</td>\n",
       "      <td>15</td>\n",
       "      <td>0</td>\n",
       "      <td>0.001566</td>\n",
       "    </tr>\n",
       "  </tbody>\n",
       "</table>\n",
       "</div>"
      ],
      "text/plain": [
       "                        new_time           time        sss        sst  \\\n",
       "0  2012-09-14 20:30:00.000028800  735126.854167  37.768217  27.886503   \n",
       "1  2012-09-14 21:29:59.999971200  735126.895833  37.767291  27.794171   \n",
       "2  2012-09-14 22:30:00.000000000  735126.937500  37.767912  27.717789   \n",
       "3  2012-09-14 23:30:00.000028800  735126.979167  37.768554  27.650786   \n",
       "4  2012-09-15 00:29:59.999971200  735127.020833  37.770119  27.593085   \n",
       "\n",
       "   wind_spd   wind_dir  precip  cum_precip3  cum_precip6  year  month  day  \\\n",
       "0  3.171527 -70.402566     0.0          0.0          0.0  2012      9   14   \n",
       "1  3.511590 -78.652231     0.0          0.0          0.0  2012      9   14   \n",
       "2  4.870495 -86.660419     0.0          0.0          0.0  2012      9   14   \n",
       "3  4.511677 -89.874044     0.0          0.0          0.0  2012      9   14   \n",
       "4  4.318494 -94.403915     0.0          0.0          0.0  2012      9   15   \n",
       "\n",
       "   hour  sss_change  \n",
       "0    20    0.000000  \n",
       "1    21   -0.000926  \n",
       "2    22    0.000621  \n",
       "3    23    0.000642  \n",
       "4     0    0.001566  "
      ]
     },
     "execution_count": 4,
     "metadata": {},
     "output_type": "execute_result"
    }
   ],
   "source": [
    "data.drop(['scaled_sss','scaled_dir','scaled_spd','scaled_sst','set','spd_pct_change',\n",
    "          'dir_pct_change','sst_pct_change','pct_change','pct_c_scaled'],axis=1,inplace=True)\n",
    "data.head()"
   ]
  },
  {
   "cell_type": "code",
   "execution_count": 5,
   "metadata": {
    "ExecuteTime": {
     "end_time": "2019-11-25T15:05:39.317245Z",
     "start_time": "2019-11-25T15:05:39.297116Z"
    }
   },
   "outputs": [
    {
     "name": "stdout",
     "output_type": "stream",
     "text": [
      "8707\n"
     ]
    },
    {
     "data": {
      "text/html": [
       "<div>\n",
       "<style scoped>\n",
       "    .dataframe tbody tr th:only-of-type {\n",
       "        vertical-align: middle;\n",
       "    }\n",
       "\n",
       "    .dataframe tbody tr th {\n",
       "        vertical-align: top;\n",
       "    }\n",
       "\n",
       "    .dataframe thead th {\n",
       "        text-align: right;\n",
       "    }\n",
       "</style>\n",
       "<table border=\"1\" class=\"dataframe\">\n",
       "  <thead>\n",
       "    <tr style=\"text-align: right;\">\n",
       "      <th></th>\n",
       "      <th>new_time</th>\n",
       "      <th>time</th>\n",
       "      <th>sss</th>\n",
       "      <th>sst</th>\n",
       "      <th>wind_spd</th>\n",
       "      <th>wind_dir</th>\n",
       "      <th>precip</th>\n",
       "      <th>cum_precip3</th>\n",
       "      <th>cum_precip6</th>\n",
       "      <th>year</th>\n",
       "      <th>month</th>\n",
       "      <th>day</th>\n",
       "      <th>hour</th>\n",
       "      <th>sss_change</th>\n",
       "      <th>wind_change</th>\n",
       "    </tr>\n",
       "  </thead>\n",
       "  <tbody>\n",
       "    <tr>\n",
       "      <th>0</th>\n",
       "      <td>2012-09-14 20:30:00.000028800</td>\n",
       "      <td>735126.854167</td>\n",
       "      <td>37.768217</td>\n",
       "      <td>27.886503</td>\n",
       "      <td>3.171527</td>\n",
       "      <td>-70.402566</td>\n",
       "      <td>0.0</td>\n",
       "      <td>0.0</td>\n",
       "      <td>0.0</td>\n",
       "      <td>2012</td>\n",
       "      <td>9</td>\n",
       "      <td>14</td>\n",
       "      <td>20</td>\n",
       "      <td>0.000000</td>\n",
       "      <td>0.000000</td>\n",
       "    </tr>\n",
       "    <tr>\n",
       "      <th>1</th>\n",
       "      <td>2012-09-14 21:29:59.999971200</td>\n",
       "      <td>735126.895833</td>\n",
       "      <td>37.767291</td>\n",
       "      <td>27.794171</td>\n",
       "      <td>3.511590</td>\n",
       "      <td>-78.652231</td>\n",
       "      <td>0.0</td>\n",
       "      <td>0.0</td>\n",
       "      <td>0.0</td>\n",
       "      <td>2012</td>\n",
       "      <td>9</td>\n",
       "      <td>14</td>\n",
       "      <td>21</td>\n",
       "      <td>-0.000926</td>\n",
       "      <td>0.340064</td>\n",
       "    </tr>\n",
       "    <tr>\n",
       "      <th>2</th>\n",
       "      <td>2012-09-14 22:30:00.000000000</td>\n",
       "      <td>735126.937500</td>\n",
       "      <td>37.767912</td>\n",
       "      <td>27.717789</td>\n",
       "      <td>4.870495</td>\n",
       "      <td>-86.660419</td>\n",
       "      <td>0.0</td>\n",
       "      <td>0.0</td>\n",
       "      <td>0.0</td>\n",
       "      <td>2012</td>\n",
       "      <td>9</td>\n",
       "      <td>14</td>\n",
       "      <td>22</td>\n",
       "      <td>0.000621</td>\n",
       "      <td>1.358904</td>\n",
       "    </tr>\n",
       "    <tr>\n",
       "      <th>3</th>\n",
       "      <td>2012-09-14 23:30:00.000028800</td>\n",
       "      <td>735126.979167</td>\n",
       "      <td>37.768554</td>\n",
       "      <td>27.650786</td>\n",
       "      <td>4.511677</td>\n",
       "      <td>-89.874044</td>\n",
       "      <td>0.0</td>\n",
       "      <td>0.0</td>\n",
       "      <td>0.0</td>\n",
       "      <td>2012</td>\n",
       "      <td>9</td>\n",
       "      <td>14</td>\n",
       "      <td>23</td>\n",
       "      <td>0.000642</td>\n",
       "      <td>-0.358818</td>\n",
       "    </tr>\n",
       "    <tr>\n",
       "      <th>4</th>\n",
       "      <td>2012-09-15 00:29:59.999971200</td>\n",
       "      <td>735127.020833</td>\n",
       "      <td>37.770119</td>\n",
       "      <td>27.593085</td>\n",
       "      <td>4.318494</td>\n",
       "      <td>-94.403915</td>\n",
       "      <td>0.0</td>\n",
       "      <td>0.0</td>\n",
       "      <td>0.0</td>\n",
       "      <td>2012</td>\n",
       "      <td>9</td>\n",
       "      <td>15</td>\n",
       "      <td>0</td>\n",
       "      <td>0.001566</td>\n",
       "      <td>-0.193182</td>\n",
       "    </tr>\n",
       "  </tbody>\n",
       "</table>\n",
       "</div>"
      ],
      "text/plain": [
       "                        new_time           time        sss        sst  \\\n",
       "0  2012-09-14 20:30:00.000028800  735126.854167  37.768217  27.886503   \n",
       "1  2012-09-14 21:29:59.999971200  735126.895833  37.767291  27.794171   \n",
       "2  2012-09-14 22:30:00.000000000  735126.937500  37.767912  27.717789   \n",
       "3  2012-09-14 23:30:00.000028800  735126.979167  37.768554  27.650786   \n",
       "4  2012-09-15 00:29:59.999971200  735127.020833  37.770119  27.593085   \n",
       "\n",
       "   wind_spd   wind_dir  precip  cum_precip3  cum_precip6  year  month  day  \\\n",
       "0  3.171527 -70.402566     0.0          0.0          0.0  2012      9   14   \n",
       "1  3.511590 -78.652231     0.0          0.0          0.0  2012      9   14   \n",
       "2  4.870495 -86.660419     0.0          0.0          0.0  2012      9   14   \n",
       "3  4.511677 -89.874044     0.0          0.0          0.0  2012      9   14   \n",
       "4  4.318494 -94.403915     0.0          0.0          0.0  2012      9   15   \n",
       "\n",
       "   hour  sss_change  wind_change  \n",
       "0    20    0.000000     0.000000  \n",
       "1    21   -0.000926     0.340064  \n",
       "2    22    0.000621     1.358904  \n",
       "3    23    0.000642    -0.358818  \n",
       "4     0    0.001566    -0.193182  "
      ]
     },
     "execution_count": 5,
     "metadata": {},
     "output_type": "execute_result"
    }
   ],
   "source": [
    "data['wind_change'] = data['wind_spd'].diff().fillna(0)\n",
    "print(data[data['precip'] < 0.01].shape[0])\n",
    "data.head()"
   ]
  },
  {
   "cell_type": "markdown",
   "metadata": {},
   "source": [
    "## Fixing Rainfall Measures"
   ]
  },
  {
   "cell_type": "code",
   "execution_count": 6,
   "metadata": {
    "ExecuteTime": {
     "end_time": "2019-11-25T15:05:45.113708Z",
     "start_time": "2019-11-25T15:05:45.102259Z"
    }
   },
   "outputs": [
    {
     "data": {
      "text/plain": [
       "0.0"
      ]
     },
     "execution_count": 6,
     "metadata": {},
     "output_type": "execute_result"
    }
   ],
   "source": [
    "data.loc[(data['precip'] <= 0.01), 'precip'] = 0.0\n",
    "data.loc[(data['precip'] <= 0.01)]['precip'].sum()"
   ]
  },
  {
   "cell_type": "code",
   "execution_count": 7,
   "metadata": {
    "ExecuteTime": {
     "end_time": "2019-11-25T15:05:48.495571Z",
     "start_time": "2019-11-25T15:05:48.487660Z"
    }
   },
   "outputs": [
    {
     "data": {
      "text/plain": [
       "new_time       2012-11-12 23:30:00.000028800\n",
       "time                                  735186\n",
       "sss                                  37.6063\n",
       "sst                                  25.3023\n",
       "wind_spd                             9.91813\n",
       "wind_dir                             175.172\n",
       "precip                                     0\n",
       "cum_precip3                         0.136801\n",
       "cum_precip6                          4.89697\n",
       "year                                    2012\n",
       "month                                     11\n",
       "day                                       12\n",
       "hour                                      23\n",
       "sss_change                      -0.000288769\n",
       "wind_change                       -0.0626496\n",
       "Name: 1419, dtype: object"
      ]
     },
     "execution_count": 7,
     "metadata": {},
     "output_type": "execute_result"
    }
   ],
   "source": [
    "data.iloc[1419]"
   ]
  },
  {
   "cell_type": "code",
   "execution_count": 8,
   "metadata": {
    "ExecuteTime": {
     "end_time": "2019-11-25T15:05:49.762301Z",
     "start_time": "2019-11-25T15:05:49.424502Z"
    }
   },
   "outputs": [
    {
     "data": {
      "text/plain": [
       "2947    35.4\n",
       "268     31.5\n",
       "2935    23.4\n",
       "274     21.8\n",
       "2496    18.5\n",
       "1013    18.2\n",
       "277     17.5\n",
       "8727    14.1\n",
       "4303    13.9\n",
       "1421    13.3\n",
       "1422    12.8\n",
       "300     12.4\n",
       "3334    12.0\n",
       "2948    11.6\n",
       "3377    11.6\n",
       "1657    11.4\n",
       "8726     9.7\n",
       "5619     8.8\n",
       "3339     8.6\n",
       "1975     8.6\n",
       "8952     7.6\n",
       "2959     7.5\n",
       "3898     6.9\n",
       "1974     6.6\n",
       "1012     6.6\n",
       "3335     6.2\n",
       "8725     6.1\n",
       "1571     6.0\n",
       "270      6.0\n",
       "3383     5.9\n",
       "        ... \n",
       "6043     0.0\n",
       "6042     0.0\n",
       "6041     0.0\n",
       "6040     0.0\n",
       "6038     0.0\n",
       "6064     0.0\n",
       "6037     0.0\n",
       "6036     0.0\n",
       "6035     0.0\n",
       "6034     0.0\n",
       "6033     0.0\n",
       "6032     0.0\n",
       "6046     0.0\n",
       "6047     0.0\n",
       "6048     0.0\n",
       "6049     0.0\n",
       "6050     0.0\n",
       "6052     0.0\n",
       "6053     0.0\n",
       "6054     0.0\n",
       "6055     0.0\n",
       "6056     0.0\n",
       "6057     0.0\n",
       "6058     0.0\n",
       "6059     0.0\n",
       "6060     0.0\n",
       "6061     0.0\n",
       "6062     0.0\n",
       "6063     0.0\n",
       "0        0.0\n",
       "Name: precip, Length: 9133, dtype: float64"
      ]
     },
     "execution_count": 8,
     "metadata": {},
     "output_type": "execute_result"
    }
   ],
   "source": [
    "#data.loc[((data.precip > 0) &  (data.precip < 0.1 )), 'precip'] = 0.1\n",
    "data.precip = np.around(data.precip,1)\n",
    "data.precip.sort_values(ascending=False)"
   ]
  },
  {
   "cell_type": "code",
   "execution_count": 9,
   "metadata": {
    "ExecuteTime": {
     "end_time": "2019-11-25T15:05:52.991615Z",
     "start_time": "2019-11-25T15:05:52.979233Z"
    },
    "collapsed": true
   },
   "outputs": [
    {
     "data": {
      "text/plain": [
       "9132    0.0\n",
       "3130    0.0\n",
       "3136    0.0\n",
       "3135    0.0\n",
       "3134    0.0\n",
       "3133    0.0\n",
       "3132    0.0\n",
       "3131    0.0\n",
       "3129    0.0\n",
       "3085    0.0\n",
       "3128    0.0\n",
       "3127    0.0\n",
       "3126    0.0\n",
       "3125    0.0\n",
       "3124    0.0\n",
       "3123    0.0\n",
       "3137    0.0\n",
       "3139    0.0\n",
       "3140    0.0\n",
       "3141    0.0\n",
       "3142    0.0\n",
       "3143    0.0\n",
       "3144    0.0\n",
       "3145    0.0\n",
       "3146    0.0\n",
       "3149    0.0\n",
       "3150    0.0\n",
       "3151    0.0\n",
       "3152    0.0\n",
       "3153    0.0\n",
       "       ... \n",
       "6137    0.0\n",
       "6138    0.0\n",
       "6139    0.0\n",
       "6140    0.0\n",
       "6141    0.0\n",
       "6142    0.0\n",
       "6143    0.0\n",
       "6144    0.0\n",
       "6145    0.0\n",
       "6146    0.0\n",
       "6147    0.0\n",
       "6148    0.0\n",
       "6149    0.0\n",
       "6151    0.0\n",
       "6166    0.0\n",
       "6152    0.0\n",
       "6153    0.0\n",
       "6154    0.0\n",
       "6155    0.0\n",
       "6156    0.0\n",
       "6157    0.0\n",
       "6158    0.0\n",
       "6159    0.0\n",
       "6160    0.0\n",
       "6161    0.0\n",
       "6162    0.0\n",
       "6163    0.0\n",
       "6164    0.0\n",
       "6165    0.0\n",
       "0       0.0\n",
       "Name: precip, Length: 8745, dtype: float64"
      ]
     },
     "execution_count": 9,
     "metadata": {},
     "output_type": "execute_result"
    }
   ],
   "source": [
    "data[(data['precip'] < 0.1)]['precip'].sort_values(ascending=False)"
   ]
  },
  {
   "cell_type": "markdown",
   "metadata": {},
   "source": [
    "# One hot encoding"
   ]
  },
  {
   "cell_type": "code",
   "execution_count": 57,
   "metadata": {
    "ExecuteTime": {
     "end_time": "2019-11-25T15:55:48.718737Z",
     "start_time": "2019-11-25T15:55:48.676594Z"
    }
   },
   "outputs": [
    {
     "name": "stdout",
     "output_type": "stream",
     "text": [
      "[20 21 22 23  0  1  2  3  4  5  6  7  8  9 10 11 12 13 14 15 16 17 18 19]\n"
     ]
    },
    {
     "data": {
      "text/plain": [
       "array(['Fall', 'Winter', 'Spring', 'Summer'], dtype=object)"
      ]
     },
     "execution_count": 57,
     "metadata": {},
     "output_type": "execute_result"
    }
   ],
   "source": [
    "new_data = data.copy()\n",
    "new_data['season'] = new_data['month'].copy()\n",
    "new_data.loc[((new_data.season <=2 ) |  (new_data.season > 11)), 'season'] = 'Winter'\n",
    "new_data.loc[(new_data.season ==3), 'season'] = 'Spring'\n",
    "new_data.loc[(new_data.season ==4), 'season'] = 'Spring'\n",
    "new_data.loc[(new_data.season ==5), 'season'] = 'Spring'\n",
    "new_data.loc[(new_data.season ==6), 'season'] = 'Summer'\n",
    "new_data.loc[(new_data.season ==7), 'season'] = 'Summer'\n",
    "new_data.loc[(new_data.season ==8), 'season'] = 'Summer'\n",
    "new_data.loc[(new_data.season ==9), 'season'] = 'Fall'\n",
    "new_data.loc[(new_data.season ==10), 'season'] = 'Fall'\n",
    "new_data.loc[(new_data.season ==11), 'season'] = 'Fall'\n",
    "\n",
    "\n",
    "# new_data.loc[((new_data.hour >= 6) & (new_data.hour <18)), 'hour'] = 'Day'\n",
    "# new_data.loc[new_data.hour != 'Day', 'hour'] = 'Night'\n",
    "\n",
    "#new_data.loc[((new_data.hour >=11) & (new_data.hour<=16)), 'hour'] = 'Night'\n",
    "#new_data.loc[(new_data.hour ), 'season'] = 'Fall'\n",
    "\n",
    "#new_data.loc[((new_data.season >= 6 ) &  (new_data.season <= 8)), 'season'] = 'Summer'\n",
    "#new_data.loc[((new_data.season > 8 ) &  (new_data.season <= 11)), 'season'] = 'Fall'\n",
    "\n",
    "# months = {'1': 'January', '2':'February', '3':'March','4':'April','5': 'May', '6':'June', '7':'July','8':'August',\n",
    "#          '9': 'September', '10':'October', '11':'November','12':'December',}\n",
    "# new_data['month'] = new_data['month'].replace(months)\n",
    "# new_data['hour'].replace(12,'Day', inplace=True)\n",
    "# new_data['hour'].replace(13,'Day', inplace=True)\n",
    "# new_data['hour'].replace(14,'Day', inplace=True)\n",
    "# new_data['hour'].replace(15,'Day', inplace=True)\n",
    "# new_data['hour'].replace(16,'Day', inplace=True)\n",
    "# new_data['hour'].replace(17,'Day', inplace=True)\n",
    "# new_data['hour'].replace(18,'Evening', inplace=True)\n",
    "# new_data['hour'].replace(19,'Evening', inplace=True)\n",
    "# new_data['hour'].replace(20,'Evening', inplace=True)\n",
    "# new_data['hour'].replace(21,'Evening', inplace=True)\n",
    "# new_data['hour'].replace(22,'Evening', inplace=True)\n",
    "# new_data['hour'].replace(23,'Evening', inplace=True)\n",
    "# new_data['hour'].replace(0,'Night', inplace=True)\n",
    "# new_data['hour'].replace(1,'Night', inplace=True)\n",
    "# new_data['hour'].replace(2,'Night', inplace=True)\n",
    "# new_data['hour'].replace(3,'Night', inplace=True)\n",
    "# new_data['hour'].replace(4,'Night', inplace=True)\n",
    "# new_data['hour'].replace(5,'Night', inplace=True)\n",
    "\n",
    "print(new_data.hour.unique())\n",
    "new_data['season'].unique()"
   ]
  },
  {
   "cell_type": "code",
   "execution_count": 58,
   "metadata": {
    "ExecuteTime": {
     "end_time": "2019-11-25T15:55:50.200174Z",
     "start_time": "2019-11-25T15:55:50.191150Z"
    }
   },
   "outputs": [],
   "source": [
    "new_data['mnth_sin'] = np.sin((new_data.month-1)*(2.*np.pi/12))\n",
    "new_data['mnth_cos'] = np.cos((new_data.month-1)*(2.*np.pi/12))\n",
    "new_data['hr_sin'] = np.sin(new_data.hour*(2.*np.pi/24))\n",
    "new_data['hr_cos'] = np.cos(new_data.hour*(2.*np.pi/24))"
   ]
  },
  {
   "cell_type": "code",
   "execution_count": 61,
   "metadata": {
    "ExecuteTime": {
     "end_time": "2019-11-25T15:56:05.739550Z",
     "start_time": "2019-11-25T15:56:05.734503Z"
    }
   },
   "outputs": [
    {
     "data": {
      "text/plain": [
       "1.0"
      ]
     },
     "execution_count": 61,
     "metadata": {},
     "output_type": "execute_result"
    }
   ],
   "source": [
    "new_data.hr_sin.max()"
   ]
  },
  {
   "cell_type": "code",
   "execution_count": 62,
   "metadata": {
    "ExecuteTime": {
     "end_time": "2019-11-25T15:56:12.272429Z",
     "start_time": "2019-11-25T15:56:12.255359Z"
    }
   },
   "outputs": [
    {
     "data": {
      "text/html": [
       "<div>\n",
       "<style scoped>\n",
       "    .dataframe tbody tr th:only-of-type {\n",
       "        vertical-align: middle;\n",
       "    }\n",
       "\n",
       "    .dataframe tbody tr th {\n",
       "        vertical-align: top;\n",
       "    }\n",
       "\n",
       "    .dataframe thead th {\n",
       "        text-align: right;\n",
       "    }\n",
       "</style>\n",
       "<table border=\"1\" class=\"dataframe\">\n",
       "  <thead>\n",
       "    <tr style=\"text-align: right;\">\n",
       "      <th></th>\n",
       "      <th>new_time</th>\n",
       "      <th>time</th>\n",
       "      <th>sss</th>\n",
       "      <th>sst</th>\n",
       "      <th>wind_spd</th>\n",
       "      <th>wind_dir</th>\n",
       "      <th>precip</th>\n",
       "      <th>cum_precip3</th>\n",
       "      <th>cum_precip6</th>\n",
       "      <th>year</th>\n",
       "      <th>month</th>\n",
       "      <th>day</th>\n",
       "      <th>hour</th>\n",
       "      <th>sss_change</th>\n",
       "      <th>wind_change</th>\n",
       "      <th>season</th>\n",
       "      <th>mnth_sin</th>\n",
       "      <th>mnth_cos</th>\n",
       "      <th>hr_sin</th>\n",
       "      <th>hr_cos</th>\n",
       "    </tr>\n",
       "  </thead>\n",
       "  <tbody>\n",
       "    <tr>\n",
       "      <th>0</th>\n",
       "      <td>2012-09-14 20:30:00.000028800</td>\n",
       "      <td>735126.854167</td>\n",
       "      <td>37.768217</td>\n",
       "      <td>27.886503</td>\n",
       "      <td>3.171527</td>\n",
       "      <td>-70.402566</td>\n",
       "      <td>0.0</td>\n",
       "      <td>0.0</td>\n",
       "      <td>0.0</td>\n",
       "      <td>2012</td>\n",
       "      <td>9</td>\n",
       "      <td>14</td>\n",
       "      <td>20</td>\n",
       "      <td>0.000000</td>\n",
       "      <td>0.000000</td>\n",
       "      <td>Fall</td>\n",
       "      <td>-0.866025</td>\n",
       "      <td>-0.5</td>\n",
       "      <td>-0.866025</td>\n",
       "      <td>0.500000</td>\n",
       "    </tr>\n",
       "    <tr>\n",
       "      <th>1</th>\n",
       "      <td>2012-09-14 21:29:59.999971200</td>\n",
       "      <td>735126.895833</td>\n",
       "      <td>37.767291</td>\n",
       "      <td>27.794171</td>\n",
       "      <td>3.511590</td>\n",
       "      <td>-78.652231</td>\n",
       "      <td>0.0</td>\n",
       "      <td>0.0</td>\n",
       "      <td>0.0</td>\n",
       "      <td>2012</td>\n",
       "      <td>9</td>\n",
       "      <td>14</td>\n",
       "      <td>21</td>\n",
       "      <td>-0.000926</td>\n",
       "      <td>0.340064</td>\n",
       "      <td>Fall</td>\n",
       "      <td>-0.866025</td>\n",
       "      <td>-0.5</td>\n",
       "      <td>-0.707107</td>\n",
       "      <td>0.707107</td>\n",
       "    </tr>\n",
       "    <tr>\n",
       "      <th>2</th>\n",
       "      <td>2012-09-14 22:30:00.000000000</td>\n",
       "      <td>735126.937500</td>\n",
       "      <td>37.767912</td>\n",
       "      <td>27.717789</td>\n",
       "      <td>4.870495</td>\n",
       "      <td>-86.660419</td>\n",
       "      <td>0.0</td>\n",
       "      <td>0.0</td>\n",
       "      <td>0.0</td>\n",
       "      <td>2012</td>\n",
       "      <td>9</td>\n",
       "      <td>14</td>\n",
       "      <td>22</td>\n",
       "      <td>0.000621</td>\n",
       "      <td>1.358904</td>\n",
       "      <td>Fall</td>\n",
       "      <td>-0.866025</td>\n",
       "      <td>-0.5</td>\n",
       "      <td>-0.500000</td>\n",
       "      <td>0.866025</td>\n",
       "    </tr>\n",
       "    <tr>\n",
       "      <th>3</th>\n",
       "      <td>2012-09-14 23:30:00.000028800</td>\n",
       "      <td>735126.979167</td>\n",
       "      <td>37.768554</td>\n",
       "      <td>27.650786</td>\n",
       "      <td>4.511677</td>\n",
       "      <td>-89.874044</td>\n",
       "      <td>0.0</td>\n",
       "      <td>0.0</td>\n",
       "      <td>0.0</td>\n",
       "      <td>2012</td>\n",
       "      <td>9</td>\n",
       "      <td>14</td>\n",
       "      <td>23</td>\n",
       "      <td>0.000642</td>\n",
       "      <td>-0.358818</td>\n",
       "      <td>Fall</td>\n",
       "      <td>-0.866025</td>\n",
       "      <td>-0.5</td>\n",
       "      <td>-0.258819</td>\n",
       "      <td>0.965926</td>\n",
       "    </tr>\n",
       "    <tr>\n",
       "      <th>4</th>\n",
       "      <td>2012-09-15 00:29:59.999971200</td>\n",
       "      <td>735127.020833</td>\n",
       "      <td>37.770119</td>\n",
       "      <td>27.593085</td>\n",
       "      <td>4.318494</td>\n",
       "      <td>-94.403915</td>\n",
       "      <td>0.0</td>\n",
       "      <td>0.0</td>\n",
       "      <td>0.0</td>\n",
       "      <td>2012</td>\n",
       "      <td>9</td>\n",
       "      <td>15</td>\n",
       "      <td>0</td>\n",
       "      <td>0.001566</td>\n",
       "      <td>-0.193182</td>\n",
       "      <td>Fall</td>\n",
       "      <td>-0.866025</td>\n",
       "      <td>-0.5</td>\n",
       "      <td>0.000000</td>\n",
       "      <td>1.000000</td>\n",
       "    </tr>\n",
       "  </tbody>\n",
       "</table>\n",
       "</div>"
      ],
      "text/plain": [
       "                        new_time           time        sss        sst  \\\n",
       "0  2012-09-14 20:30:00.000028800  735126.854167  37.768217  27.886503   \n",
       "1  2012-09-14 21:29:59.999971200  735126.895833  37.767291  27.794171   \n",
       "2  2012-09-14 22:30:00.000000000  735126.937500  37.767912  27.717789   \n",
       "3  2012-09-14 23:30:00.000028800  735126.979167  37.768554  27.650786   \n",
       "4  2012-09-15 00:29:59.999971200  735127.020833  37.770119  27.593085   \n",
       "\n",
       "   wind_spd   wind_dir  precip  cum_precip3  cum_precip6  year  month  day  \\\n",
       "0  3.171527 -70.402566     0.0          0.0          0.0  2012      9   14   \n",
       "1  3.511590 -78.652231     0.0          0.0          0.0  2012      9   14   \n",
       "2  4.870495 -86.660419     0.0          0.0          0.0  2012      9   14   \n",
       "3  4.511677 -89.874044     0.0          0.0          0.0  2012      9   14   \n",
       "4  4.318494 -94.403915     0.0          0.0          0.0  2012      9   15   \n",
       "\n",
       "   hour  sss_change  wind_change season  mnth_sin  mnth_cos    hr_sin  \\\n",
       "0    20    0.000000     0.000000   Fall -0.866025      -0.5 -0.866025   \n",
       "1    21   -0.000926     0.340064   Fall -0.866025      -0.5 -0.707107   \n",
       "2    22    0.000621     1.358904   Fall -0.866025      -0.5 -0.500000   \n",
       "3    23    0.000642    -0.358818   Fall -0.866025      -0.5 -0.258819   \n",
       "4     0    0.001566    -0.193182   Fall -0.866025      -0.5  0.000000   \n",
       "\n",
       "     hr_cos  \n",
       "0  0.500000  \n",
       "1  0.707107  \n",
       "2  0.866025  \n",
       "3  0.965926  \n",
       "4  1.000000  "
      ]
     },
     "execution_count": 62,
     "metadata": {},
     "output_type": "execute_result"
    }
   ],
   "source": [
    "new_data.head()"
   ]
  },
  {
   "cell_type": "markdown",
   "metadata": {},
   "source": [
    "## Trying to take differential..."
   ]
  },
  {
   "cell_type": "code",
   "execution_count": 63,
   "metadata": {
    "ExecuteTime": {
     "end_time": "2019-11-25T15:56:13.190564Z",
     "start_time": "2019-11-25T15:56:13.187590Z"
    }
   },
   "outputs": [],
   "source": [
    "slope = pd.Series(np.gradient(new_data.sss), new_data.new_time, name='slope')"
   ]
  },
  {
   "cell_type": "code",
   "execution_count": 64,
   "metadata": {
    "ExecuteTime": {
     "end_time": "2019-11-25T15:56:16.405733Z",
     "start_time": "2019-11-25T15:56:16.401722Z"
    }
   },
   "outputs": [],
   "source": [
    "slope = pd.DataFrame(slope).reset_index()"
   ]
  },
  {
   "cell_type": "code",
   "execution_count": 65,
   "metadata": {
    "ExecuteTime": {
     "end_time": "2019-11-25T15:56:16.880513Z",
     "start_time": "2019-11-25T15:56:16.876533Z"
    }
   },
   "outputs": [],
   "source": [
    "new_data['differential'] = slope['slope']"
   ]
  },
  {
   "cell_type": "code",
   "execution_count": 66,
   "metadata": {
    "ExecuteTime": {
     "end_time": "2019-11-25T15:56:17.332353Z",
     "start_time": "2019-11-25T15:56:17.323329Z"
    }
   },
   "outputs": [
    {
     "name": "stdout",
     "output_type": "stream",
     "text": [
      "(9133, 2)\n"
     ]
    },
    {
     "data": {
      "text/html": [
       "<div>\n",
       "<style scoped>\n",
       "    .dataframe tbody tr th:only-of-type {\n",
       "        vertical-align: middle;\n",
       "    }\n",
       "\n",
       "    .dataframe tbody tr th {\n",
       "        vertical-align: top;\n",
       "    }\n",
       "\n",
       "    .dataframe thead th {\n",
       "        text-align: right;\n",
       "    }\n",
       "</style>\n",
       "<table border=\"1\" class=\"dataframe\">\n",
       "  <thead>\n",
       "    <tr style=\"text-align: right;\">\n",
       "      <th></th>\n",
       "      <th>new_time</th>\n",
       "      <th>slope</th>\n",
       "    </tr>\n",
       "  </thead>\n",
       "  <tbody>\n",
       "    <tr>\n",
       "      <th>0</th>\n",
       "      <td>2012-09-14 20:30:00.000028800</td>\n",
       "      <td>-0.000926</td>\n",
       "    </tr>\n",
       "    <tr>\n",
       "      <th>1</th>\n",
       "      <td>2012-09-14 21:29:59.999971200</td>\n",
       "      <td>-0.000153</td>\n",
       "    </tr>\n",
       "    <tr>\n",
       "      <th>2</th>\n",
       "      <td>2012-09-14 22:30:00.000000000</td>\n",
       "      <td>0.000631</td>\n",
       "    </tr>\n",
       "  </tbody>\n",
       "</table>\n",
       "</div>"
      ],
      "text/plain": [
       "                        new_time     slope\n",
       "0  2012-09-14 20:30:00.000028800 -0.000926\n",
       "1  2012-09-14 21:29:59.999971200 -0.000153\n",
       "2  2012-09-14 22:30:00.000000000  0.000631"
      ]
     },
     "execution_count": 66,
     "metadata": {},
     "output_type": "execute_result"
    }
   ],
   "source": [
    "print(slope.shape)\n",
    "slope.head(3)"
   ]
  },
  {
   "cell_type": "code",
   "execution_count": 18,
   "metadata": {
    "ExecuteTime": {
     "end_time": "2019-11-25T15:07:59.898093Z",
     "start_time": "2019-11-25T15:07:59.873508Z"
    }
   },
   "outputs": [
    {
     "data": {
      "text/html": [
       "<div>\n",
       "<style scoped>\n",
       "    .dataframe tbody tr th:only-of-type {\n",
       "        vertical-align: middle;\n",
       "    }\n",
       "\n",
       "    .dataframe tbody tr th {\n",
       "        vertical-align: top;\n",
       "    }\n",
       "\n",
       "    .dataframe thead th {\n",
       "        text-align: right;\n",
       "    }\n",
       "</style>\n",
       "<table border=\"1\" class=\"dataframe\">\n",
       "  <thead>\n",
       "    <tr style=\"text-align: right;\">\n",
       "      <th></th>\n",
       "      <th>new_time</th>\n",
       "      <th>time</th>\n",
       "      <th>sss</th>\n",
       "      <th>sst</th>\n",
       "      <th>wind_spd</th>\n",
       "      <th>wind_dir</th>\n",
       "      <th>precip</th>\n",
       "      <th>cum_precip3</th>\n",
       "      <th>cum_precip6</th>\n",
       "      <th>year</th>\n",
       "      <th>month</th>\n",
       "      <th>day</th>\n",
       "      <th>hour</th>\n",
       "      <th>sss_change</th>\n",
       "      <th>wind_change</th>\n",
       "      <th>season</th>\n",
       "      <th>mnth_sin</th>\n",
       "      <th>mnth_cos</th>\n",
       "      <th>differential</th>\n",
       "    </tr>\n",
       "  </thead>\n",
       "  <tbody>\n",
       "    <tr>\n",
       "      <th>0</th>\n",
       "      <td>2012-09-14 20:30:00.000028800</td>\n",
       "      <td>735126.854167</td>\n",
       "      <td>37.768217</td>\n",
       "      <td>27.886503</td>\n",
       "      <td>3.171527</td>\n",
       "      <td>-70.402566</td>\n",
       "      <td>0.0</td>\n",
       "      <td>0.0</td>\n",
       "      <td>0.0</td>\n",
       "      <td>2012</td>\n",
       "      <td>9</td>\n",
       "      <td>14</td>\n",
       "      <td>Night</td>\n",
       "      <td>0.000000</td>\n",
       "      <td>0.000000</td>\n",
       "      <td>Fall</td>\n",
       "      <td>-0.866025</td>\n",
       "      <td>-0.5</td>\n",
       "      <td>-0.000926</td>\n",
       "    </tr>\n",
       "    <tr>\n",
       "      <th>1</th>\n",
       "      <td>2012-09-14 21:29:59.999971200</td>\n",
       "      <td>735126.895833</td>\n",
       "      <td>37.767291</td>\n",
       "      <td>27.794171</td>\n",
       "      <td>3.511590</td>\n",
       "      <td>-78.652231</td>\n",
       "      <td>0.0</td>\n",
       "      <td>0.0</td>\n",
       "      <td>0.0</td>\n",
       "      <td>2012</td>\n",
       "      <td>9</td>\n",
       "      <td>14</td>\n",
       "      <td>Night</td>\n",
       "      <td>-0.000926</td>\n",
       "      <td>0.340064</td>\n",
       "      <td>Fall</td>\n",
       "      <td>-0.866025</td>\n",
       "      <td>-0.5</td>\n",
       "      <td>-0.000153</td>\n",
       "    </tr>\n",
       "    <tr>\n",
       "      <th>2</th>\n",
       "      <td>2012-09-14 22:30:00.000000000</td>\n",
       "      <td>735126.937500</td>\n",
       "      <td>37.767912</td>\n",
       "      <td>27.717789</td>\n",
       "      <td>4.870495</td>\n",
       "      <td>-86.660419</td>\n",
       "      <td>0.0</td>\n",
       "      <td>0.0</td>\n",
       "      <td>0.0</td>\n",
       "      <td>2012</td>\n",
       "      <td>9</td>\n",
       "      <td>14</td>\n",
       "      <td>Night</td>\n",
       "      <td>0.000621</td>\n",
       "      <td>1.358904</td>\n",
       "      <td>Fall</td>\n",
       "      <td>-0.866025</td>\n",
       "      <td>-0.5</td>\n",
       "      <td>0.000631</td>\n",
       "    </tr>\n",
       "    <tr>\n",
       "      <th>3</th>\n",
       "      <td>2012-09-14 23:30:00.000028800</td>\n",
       "      <td>735126.979167</td>\n",
       "      <td>37.768554</td>\n",
       "      <td>27.650786</td>\n",
       "      <td>4.511677</td>\n",
       "      <td>-89.874044</td>\n",
       "      <td>0.0</td>\n",
       "      <td>0.0</td>\n",
       "      <td>0.0</td>\n",
       "      <td>2012</td>\n",
       "      <td>9</td>\n",
       "      <td>14</td>\n",
       "      <td>Night</td>\n",
       "      <td>0.000642</td>\n",
       "      <td>-0.358818</td>\n",
       "      <td>Fall</td>\n",
       "      <td>-0.866025</td>\n",
       "      <td>-0.5</td>\n",
       "      <td>0.001104</td>\n",
       "    </tr>\n",
       "    <tr>\n",
       "      <th>4</th>\n",
       "      <td>2012-09-15 00:29:59.999971200</td>\n",
       "      <td>735127.020833</td>\n",
       "      <td>37.770119</td>\n",
       "      <td>27.593085</td>\n",
       "      <td>4.318494</td>\n",
       "      <td>-94.403915</td>\n",
       "      <td>0.0</td>\n",
       "      <td>0.0</td>\n",
       "      <td>0.0</td>\n",
       "      <td>2012</td>\n",
       "      <td>9</td>\n",
       "      <td>15</td>\n",
       "      <td>Night</td>\n",
       "      <td>0.001566</td>\n",
       "      <td>-0.193182</td>\n",
       "      <td>Fall</td>\n",
       "      <td>-0.866025</td>\n",
       "      <td>-0.5</td>\n",
       "      <td>0.001236</td>\n",
       "    </tr>\n",
       "  </tbody>\n",
       "</table>\n",
       "</div>"
      ],
      "text/plain": [
       "                        new_time           time        sss        sst  \\\n",
       "0  2012-09-14 20:30:00.000028800  735126.854167  37.768217  27.886503   \n",
       "1  2012-09-14 21:29:59.999971200  735126.895833  37.767291  27.794171   \n",
       "2  2012-09-14 22:30:00.000000000  735126.937500  37.767912  27.717789   \n",
       "3  2012-09-14 23:30:00.000028800  735126.979167  37.768554  27.650786   \n",
       "4  2012-09-15 00:29:59.999971200  735127.020833  37.770119  27.593085   \n",
       "\n",
       "   wind_spd   wind_dir  precip  cum_precip3  cum_precip6  year  month  day  \\\n",
       "0  3.171527 -70.402566     0.0          0.0          0.0  2012      9   14   \n",
       "1  3.511590 -78.652231     0.0          0.0          0.0  2012      9   14   \n",
       "2  4.870495 -86.660419     0.0          0.0          0.0  2012      9   14   \n",
       "3  4.511677 -89.874044     0.0          0.0          0.0  2012      9   14   \n",
       "4  4.318494 -94.403915     0.0          0.0          0.0  2012      9   15   \n",
       "\n",
       "    hour  sss_change  wind_change season  mnth_sin  mnth_cos  differential  \n",
       "0  Night    0.000000     0.000000   Fall -0.866025      -0.5     -0.000926  \n",
       "1  Night   -0.000926     0.340064   Fall -0.866025      -0.5     -0.000153  \n",
       "2  Night    0.000621     1.358904   Fall -0.866025      -0.5      0.000631  \n",
       "3  Night    0.000642    -0.358818   Fall -0.866025      -0.5      0.001104  \n",
       "4  Night    0.001566    -0.193182   Fall -0.866025      -0.5      0.001236  "
      ]
     },
     "execution_count": 18,
     "metadata": {},
     "output_type": "execute_result"
    }
   ],
   "source": [
    "new_data.head()"
   ]
  },
  {
   "cell_type": "code",
   "execution_count": 19,
   "metadata": {
    "ExecuteTime": {
     "end_time": "2019-11-25T15:08:04.415423Z",
     "start_time": "2019-11-25T15:08:02.278201Z"
    }
   },
   "outputs": [
    {
     "data": {
      "text/plain": [
       "<matplotlib.axes._subplots.AxesSubplot at 0x1e456559ef0>"
      ]
     },
     "execution_count": 19,
     "metadata": {},
     "output_type": "execute_result"
    },
    {
     "data": {
      "image/png": "[encoded data removed]",
      "text/plain": [
       "<Figure size 432x288 with 1 Axes>"
      ]
     },
     "metadata": {},
     "output_type": "display_data"
    }
   ],
   "source": [
    "sns.set()\n",
    "sns.scatterplot(x='wind_change', y='precip',data=new_data, hue='season')"
   ]
  },
  {
   "cell_type": "code",
   "execution_count": 21,
   "metadata": {
    "ExecuteTime": {
     "end_time": "2019-11-25T15:09:38.409460Z",
     "start_time": "2019-11-25T15:09:37.724959Z"
    }
   },
   "outputs": [
    {
     "data": {
      "text/plain": [
       "<matplotlib.axes._subplots.AxesSubplot at 0x1e4577ed1d0>"
      ]
     },
     "execution_count": 21,
     "metadata": {},
     "output_type": "execute_result"
    },
    {
     "data": {
      "image/png": "[encoded data removed]",
      "text/plain": [
       "<Figure size 432x288 with 1 Axes>"
      ]
     },
     "metadata": {},
     "output_type": "display_data"
    }
   ],
   "source": [
    "sns.scatterplot(x='mnth_sin', y='precip', data=new_data)\n",
    "sns.scatterplot(x='mnth_cos', y='precip', data=new_data)"
   ]
  },
  {
   "cell_type": "code",
   "execution_count": 21,
   "metadata": {
    "ExecuteTime": {
     "end_time": "2019-10-16T20:18:54.479140Z",
     "start_time": "2019-10-16T20:18:53.770228Z"
    }
   },
   "outputs": [
    {
     "data": {
      "text/plain": [
       "<matplotlib.axes._subplots.AxesSubplot at 0x21348e81358>"
      ]
     },
     "execution_count": 21,
     "metadata": {},
     "output_type": "execute_result"
    },
    {
     "data": {
      "image/png": "[encoded data removed]",
      "text/plain": [
       "<Figure size 432x288 with 1 Axes>"
      ]
     },
     "metadata": {},
     "output_type": "display_data"
    }
   ],
   "source": [
    "sns.scatterplot(x='wind_change', y='precip',data=new_data, hue='hour')"
   ]
  },
  {
   "cell_type": "code",
   "execution_count": 31,
   "metadata": {
    "ExecuteTime": {
     "end_time": "2019-10-16T20:29:30.623042Z",
     "start_time": "2019-10-16T20:29:29.540139Z"
    }
   },
   "outputs": [
    {
     "data": {
      "text/plain": [
       "<matplotlib.axes._subplots.AxesSubplot at 0x2135f075ac8>"
      ]
     },
     "execution_count": 31,
     "metadata": {},
     "output_type": "execute_result"
    },
    {
     "data": {
      "image/png": "[encoded data removed]",
      "text/plain": [
       "<Figure size 576x576 with 1 Axes>"
      ]
     },
     "metadata": {},
     "output_type": "display_data"
    }
   ],
   "source": [
    "plt.figure(figsize=(8,8))\n",
    "sns.lineplot(x='time',y='sss_change',data=new_data, hue='season')"
   ]
  },
  {
   "cell_type": "code",
   "execution_count": 30,
   "metadata": {
    "ExecuteTime": {
     "end_time": "2019-10-16T20:29:19.882831Z",
     "start_time": "2019-10-16T20:29:18.778848Z"
    }
   },
   "outputs": [
    {
     "data": {
      "text/plain": [
       "<matplotlib.axes._subplots.AxesSubplot at 0x2135f4eff60>"
      ]
     },
     "execution_count": 30,
     "metadata": {},
     "output_type": "execute_result"
    },
    {
     "data": {
      "image/png": "[encoded data removed]",
      "text/plain": [
       "<Figure size 576x576 with 1 Axes>"
      ]
     },
     "metadata": {},
     "output_type": "display_data"
    }
   ],
   "source": [
    "plt.figure(figsize=(8,8))\n",
    "sns.lineplot(x='time',y='differential',data=new_data, hue='season')"
   ]
  },
  {
   "cell_type": "code",
   "execution_count": 46,
   "metadata": {
    "ExecuteTime": {
     "end_time": "2019-10-16T20:32:52.167315Z",
     "start_time": "2019-10-16T20:32:51.077380Z"
    }
   },
   "outputs": [
    {
     "data": {
      "text/plain": [
       "<matplotlib.axes._subplots.AxesSubplot at 0x2135f71fe10>"
      ]
     },
     "execution_count": 46,
     "metadata": {},
     "output_type": "execute_result"
    },
    {
     "data": {
      "image/png": "[encoded data removed]",
      "text/plain": [
       "<Figure size 576x576 with 1 Axes>"
      ]
     },
     "metadata": {},
     "output_type": "display_data"
    }
   ],
   "source": [
    "plt.figure(figsize=(8,8))\n",
    "sns.lineplot(x='time',y='precip',data=new_data, hue='season')"
   ]
  },
  {
   "cell_type": "code",
   "execution_count": 18,
   "metadata": {
    "ExecuteTime": {
     "end_time": "2019-10-21T14:02:23.088957Z",
     "start_time": "2019-10-21T14:02:23.054867Z"
    }
   },
   "outputs": [
    {
     "data": {
      "text/html": [
       "<div>\n",
       "<style scoped>\n",
       "    .dataframe tbody tr th:only-of-type {\n",
       "        vertical-align: middle;\n",
       "    }\n",
       "\n",
       "    .dataframe tbody tr th {\n",
       "        vertical-align: top;\n",
       "    }\n",
       "\n",
       "    .dataframe thead tr th {\n",
       "        text-align: left;\n",
       "    }\n",
       "\n",
       "    .dataframe thead tr:last-of-type th {\n",
       "        text-align: right;\n",
       "    }\n",
       "</style>\n",
       "<table border=\"1\" class=\"dataframe\">\n",
       "  <thead>\n",
       "    <tr>\n",
       "      <th></th>\n",
       "      <th colspan=\"3\" halign=\"left\">precip</th>\n",
       "      <th colspan=\"3\" halign=\"left\">sss_change</th>\n",
       "      <th colspan=\"3\" halign=\"left\">sst</th>\n",
       "      <th colspan=\"3\" halign=\"left\">wind_change</th>\n",
       "      <th colspan=\"3\" halign=\"left\">differential</th>\n",
       "    </tr>\n",
       "    <tr>\n",
       "      <th></th>\n",
       "      <th>mean</th>\n",
       "      <th>max</th>\n",
       "      <th>std</th>\n",
       "      <th>mean</th>\n",
       "      <th>max</th>\n",
       "      <th>std</th>\n",
       "      <th>mean</th>\n",
       "      <th>max</th>\n",
       "      <th>std</th>\n",
       "      <th>mean</th>\n",
       "      <th>max</th>\n",
       "      <th>std</th>\n",
       "      <th>mean</th>\n",
       "      <th>max</th>\n",
       "      <th>std</th>\n",
       "    </tr>\n",
       "    <tr>\n",
       "      <th>hour</th>\n",
       "      <th></th>\n",
       "      <th></th>\n",
       "      <th></th>\n",
       "      <th></th>\n",
       "      <th></th>\n",
       "      <th></th>\n",
       "      <th></th>\n",
       "      <th></th>\n",
       "      <th></th>\n",
       "      <th></th>\n",
       "      <th></th>\n",
       "      <th></th>\n",
       "      <th></th>\n",
       "      <th></th>\n",
       "      <th></th>\n",
       "    </tr>\n",
       "  </thead>\n",
       "  <tbody>\n",
       "    <tr>\n",
       "      <th>Day</th>\n",
       "      <td>0.068201</td>\n",
       "      <td>35.4</td>\n",
       "      <td>0.847724</td>\n",
       "      <td>-0.000077</td>\n",
       "      <td>0.426465</td>\n",
       "      <td>0.021734</td>\n",
       "      <td>24.777489</td>\n",
       "      <td>29.314786</td>\n",
       "      <td>1.442669</td>\n",
       "      <td>0.001055</td>\n",
       "      <td>6.229702</td>\n",
       "      <td>0.685571</td>\n",
       "      <td>-0.000068</td>\n",
       "      <td>0.328839</td>\n",
       "      <td>0.017249</td>\n",
       "    </tr>\n",
       "    <tr>\n",
       "      <th>Night</th>\n",
       "      <td>0.087505</td>\n",
       "      <td>31.5</td>\n",
       "      <td>0.928305</td>\n",
       "      <td>0.000026</td>\n",
       "      <td>0.739762</td>\n",
       "      <td>0.033585</td>\n",
       "      <td>24.793833</td>\n",
       "      <td>30.004906</td>\n",
       "      <td>1.448029</td>\n",
       "      <td>-0.001039</td>\n",
       "      <td>4.766340</td>\n",
       "      <td>0.617668</td>\n",
       "      <td>0.000017</td>\n",
       "      <td>0.432195</td>\n",
       "      <td>0.023580</td>\n",
       "    </tr>\n",
       "  </tbody>\n",
       "</table>\n",
       "</div>"
      ],
      "text/plain": [
       "         precip                 sss_change                            sst  \\\n",
       "           mean   max       std       mean       max       std       mean   \n",
       "hour                                                                        \n",
       "Day    0.068201  35.4  0.847724  -0.000077  0.426465  0.021734  24.777489   \n",
       "Night  0.087505  31.5  0.928305   0.000026  0.739762  0.033585  24.793833   \n",
       "\n",
       "                           wind_change                     differential  \\\n",
       "             max       std        mean       max       std         mean   \n",
       "hour                                                                      \n",
       "Day    29.314786  1.442669    0.001055  6.229702  0.685571    -0.000068   \n",
       "Night  30.004906  1.448029   -0.001039  4.766340  0.617668     0.000017   \n",
       "\n",
       "                           \n",
       "            max       std  \n",
       "hour                       \n",
       "Day    0.328839  0.017249  \n",
       "Night  0.432195  0.023580  "
      ]
     },
     "execution_count": 18,
     "metadata": {},
     "output_type": "execute_result"
    }
   ],
   "source": [
    "new_data.groupby('hour')[['precip','sss_change','sst','wind_change','differential']].agg(['mean','max','std'])"
   ]
  },
  {
   "cell_type": "code",
   "execution_count": 32,
   "metadata": {
    "ExecuteTime": {
     "end_time": "2019-10-16T20:29:53.446400Z",
     "start_time": "2019-10-16T20:29:52.769423Z"
    }
   },
   "outputs": [
    {
     "data": {
      "text/plain": [
       "<matplotlib.axes._subplots.AxesSubplot at 0x2135f043dd8>"
      ]
     },
     "execution_count": 32,
     "metadata": {},
     "output_type": "execute_result"
    },
    {
     "data": {
      "image/png": "[encoded data removed]",
      "text/plain": [
       "<Figure size 432x288 with 1 Axes>"
      ]
     },
     "metadata": {},
     "output_type": "display_data"
    }
   ],
   "source": [
    "sns.distplot(new_data['sst'])"
   ]
  },
  {
   "cell_type": "code",
   "execution_count": 33,
   "metadata": {
    "ExecuteTime": {
     "end_time": "2019-10-16T20:29:54.555034Z",
     "start_time": "2019-10-16T20:29:54.206071Z"
    }
   },
   "outputs": [
    {
     "data": {
      "text/plain": [
       "<matplotlib.axes._subplots.AxesSubplot at 0x2135f2c8eb8>"
      ]
     },
     "execution_count": 33,
     "metadata": {},
     "output_type": "execute_result"
    },
    {
     "data": {
      "image/png": "[encoded data removed]",
      "text/plain": [
       "<Figure size 432x288 with 1 Axes>"
      ]
     },
     "metadata": {},
     "output_type": "display_data"
    }
   ],
   "source": [
    "sns.distplot(new_data['sss'])"
   ]
  },
  {
   "cell_type": "code",
   "execution_count": 34,
   "metadata": {
    "ExecuteTime": {
     "end_time": "2019-10-16T20:29:55.941570Z",
     "start_time": "2019-10-16T20:29:55.509422Z"
    }
   },
   "outputs": [
    {
     "data": {
      "text/plain": [
       "<matplotlib.axes._subplots.AxesSubplot at 0x2135f30add8>"
      ]
     },
     "execution_count": 34,
     "metadata": {},
     "output_type": "execute_result"
    },
    {
     "data": {
      "image/png": "[encoded data removed]",
      "text/plain": [
       "<Figure size 432x288 with 1 Axes>"
      ]
     },
     "metadata": {},
     "output_type": "display_data"
    }
   ],
   "source": [
    "sns.distplot(new_data['differential'])"
   ]
  },
  {
   "cell_type": "code",
   "execution_count": 23,
   "metadata": {
    "ExecuteTime": {
     "end_time": "2019-11-25T15:10:09.456260Z",
     "start_time": "2019-11-25T15:10:09.426277Z"
    }
   },
   "outputs": [
    {
     "data": {
      "text/html": [
       "<div>\n",
       "<style scoped>\n",
       "    .dataframe tbody tr th:only-of-type {\n",
       "        vertical-align: middle;\n",
       "    }\n",
       "\n",
       "    .dataframe tbody tr th {\n",
       "        vertical-align: top;\n",
       "    }\n",
       "\n",
       "    .dataframe thead th {\n",
       "        text-align: right;\n",
       "    }\n",
       "</style>\n",
       "<table border=\"1\" class=\"dataframe\">\n",
       "  <thead>\n",
       "    <tr style=\"text-align: right;\">\n",
       "      <th></th>\n",
       "      <th>new_time</th>\n",
       "      <th>time</th>\n",
       "      <th>sss</th>\n",
       "      <th>sst</th>\n",
       "      <th>wind_spd</th>\n",
       "      <th>wind_dir</th>\n",
       "      <th>precip</th>\n",
       "      <th>cum_precip3</th>\n",
       "      <th>cum_precip6</th>\n",
       "      <th>year</th>\n",
       "      <th>...</th>\n",
       "      <th>wind_change</th>\n",
       "      <th>mnth_sin</th>\n",
       "      <th>mnth_cos</th>\n",
       "      <th>differential</th>\n",
       "      <th>season_Fall</th>\n",
       "      <th>season_Spring</th>\n",
       "      <th>season_Summer</th>\n",
       "      <th>season_Winter</th>\n",
       "      <th>hour_Day</th>\n",
       "      <th>hour_Night</th>\n",
       "    </tr>\n",
       "  </thead>\n",
       "  <tbody>\n",
       "    <tr>\n",
       "      <th>0</th>\n",
       "      <td>2012-09-14 20:30:00.000028800</td>\n",
       "      <td>735126.854167</td>\n",
       "      <td>37.768217</td>\n",
       "      <td>27.886503</td>\n",
       "      <td>3.171527</td>\n",
       "      <td>-70.402566</td>\n",
       "      <td>0.0</td>\n",
       "      <td>0.0</td>\n",
       "      <td>0.0</td>\n",
       "      <td>2012</td>\n",
       "      <td>...</td>\n",
       "      <td>0.000000</td>\n",
       "      <td>-0.866025</td>\n",
       "      <td>-0.5</td>\n",
       "      <td>-0.000926</td>\n",
       "      <td>1</td>\n",
       "      <td>0</td>\n",
       "      <td>0</td>\n",
       "      <td>0</td>\n",
       "      <td>0</td>\n",
       "      <td>1</td>\n",
       "    </tr>\n",
       "    <tr>\n",
       "      <th>1</th>\n",
       "      <td>2012-09-14 21:29:59.999971200</td>\n",
       "      <td>735126.895833</td>\n",
       "      <td>37.767291</td>\n",
       "      <td>27.794171</td>\n",
       "      <td>3.511590</td>\n",
       "      <td>-78.652231</td>\n",
       "      <td>0.0</td>\n",
       "      <td>0.0</td>\n",
       "      <td>0.0</td>\n",
       "      <td>2012</td>\n",
       "      <td>...</td>\n",
       "      <td>0.340064</td>\n",
       "      <td>-0.866025</td>\n",
       "      <td>-0.5</td>\n",
       "      <td>-0.000153</td>\n",
       "      <td>1</td>\n",
       "      <td>0</td>\n",
       "      <td>0</td>\n",
       "      <td>0</td>\n",
       "      <td>0</td>\n",
       "      <td>1</td>\n",
       "    </tr>\n",
       "    <tr>\n",
       "      <th>2</th>\n",
       "      <td>2012-09-14 22:30:00.000000000</td>\n",
       "      <td>735126.937500</td>\n",
       "      <td>37.767912</td>\n",
       "      <td>27.717789</td>\n",
       "      <td>4.870495</td>\n",
       "      <td>-86.660419</td>\n",
       "      <td>0.0</td>\n",
       "      <td>0.0</td>\n",
       "      <td>0.0</td>\n",
       "      <td>2012</td>\n",
       "      <td>...</td>\n",
       "      <td>1.358904</td>\n",
       "      <td>-0.866025</td>\n",
       "      <td>-0.5</td>\n",
       "      <td>0.000631</td>\n",
       "      <td>1</td>\n",
       "      <td>0</td>\n",
       "      <td>0</td>\n",
       "      <td>0</td>\n",
       "      <td>0</td>\n",
       "      <td>1</td>\n",
       "    </tr>\n",
       "    <tr>\n",
       "      <th>3</th>\n",
       "      <td>2012-09-14 23:30:00.000028800</td>\n",
       "      <td>735126.979167</td>\n",
       "      <td>37.768554</td>\n",
       "      <td>27.650786</td>\n",
       "      <td>4.511677</td>\n",
       "      <td>-89.874044</td>\n",
       "      <td>0.0</td>\n",
       "      <td>0.0</td>\n",
       "      <td>0.0</td>\n",
       "      <td>2012</td>\n",
       "      <td>...</td>\n",
       "      <td>-0.358818</td>\n",
       "      <td>-0.866025</td>\n",
       "      <td>-0.5</td>\n",
       "      <td>0.001104</td>\n",
       "      <td>1</td>\n",
       "      <td>0</td>\n",
       "      <td>0</td>\n",
       "      <td>0</td>\n",
       "      <td>0</td>\n",
       "      <td>1</td>\n",
       "    </tr>\n",
       "    <tr>\n",
       "      <th>4</th>\n",
       "      <td>2012-09-15 00:29:59.999971200</td>\n",
       "      <td>735127.020833</td>\n",
       "      <td>37.770119</td>\n",
       "      <td>27.593085</td>\n",
       "      <td>4.318494</td>\n",
       "      <td>-94.403915</td>\n",
       "      <td>0.0</td>\n",
       "      <td>0.0</td>\n",
       "      <td>0.0</td>\n",
       "      <td>2012</td>\n",
       "      <td>...</td>\n",
       "      <td>-0.193182</td>\n",
       "      <td>-0.866025</td>\n",
       "      <td>-0.5</td>\n",
       "      <td>0.001236</td>\n",
       "      <td>1</td>\n",
       "      <td>0</td>\n",
       "      <td>0</td>\n",
       "      <td>0</td>\n",
       "      <td>0</td>\n",
       "      <td>1</td>\n",
       "    </tr>\n",
       "  </tbody>\n",
       "</table>\n",
       "<p>5 rows × 23 columns</p>\n",
       "</div>"
      ],
      "text/plain": [
       "                        new_time           time        sss        sst  \\\n",
       "0  2012-09-14 20:30:00.000028800  735126.854167  37.768217  27.886503   \n",
       "1  2012-09-14 21:29:59.999971200  735126.895833  37.767291  27.794171   \n",
       "2  2012-09-14 22:30:00.000000000  735126.937500  37.767912  27.717789   \n",
       "3  2012-09-14 23:30:00.000028800  735126.979167  37.768554  27.650786   \n",
       "4  2012-09-15 00:29:59.999971200  735127.020833  37.770119  27.593085   \n",
       "\n",
       "   wind_spd   wind_dir  precip  cum_precip3  cum_precip6  year  ...  \\\n",
       "0  3.171527 -70.402566     0.0          0.0          0.0  2012  ...   \n",
       "1  3.511590 -78.652231     0.0          0.0          0.0  2012  ...   \n",
       "2  4.870495 -86.660419     0.0          0.0          0.0  2012  ...   \n",
       "3  4.511677 -89.874044     0.0          0.0          0.0  2012  ...   \n",
       "4  4.318494 -94.403915     0.0          0.0          0.0  2012  ...   \n",
       "\n",
       "   wind_change  mnth_sin  mnth_cos  differential  season_Fall  season_Spring  \\\n",
       "0     0.000000 -0.866025      -0.5     -0.000926            1              0   \n",
       "1     0.340064 -0.866025      -0.5     -0.000153            1              0   \n",
       "2     1.358904 -0.866025      -0.5      0.000631            1              0   \n",
       "3    -0.358818 -0.866025      -0.5      0.001104            1              0   \n",
       "4    -0.193182 -0.866025      -0.5      0.001236            1              0   \n",
       "\n",
       "   season_Summer  season_Winter  hour_Day  hour_Night  \n",
       "0              0              0         0           1  \n",
       "1              0              0         0           1  \n",
       "2              0              0         0           1  \n",
       "3              0              0         0           1  \n",
       "4              0              0         0           1  \n",
       "\n",
       "[5 rows x 23 columns]"
      ]
     },
     "execution_count": 23,
     "metadata": {},
     "output_type": "execute_result"
    }
   ],
   "source": [
    "columns = ['season','hour']\n",
    "new_enc = pd.get_dummies(new_data, columns=columns, drop_first=False)\n",
    "new_enc.head()"
   ]
  },
  {
   "cell_type": "markdown",
   "metadata": {},
   "source": [
    "# Thresholds"
   ]
  },
  {
   "cell_type": "code",
   "execution_count": 67,
   "metadata": {
    "ExecuteTime": {
     "end_time": "2019-11-25T15:56:35.122606Z",
     "start_time": "2019-11-25T15:56:35.115613Z"
    }
   },
   "outputs": [
    {
     "name": "stdout",
     "output_type": "stream",
     "text": [
      "0.5\n"
     ]
    },
    {
     "data": {
      "text/plain": [
       "1.8327319587628867"
      ]
     },
     "execution_count": 67,
     "metadata": {},
     "output_type": "execute_result"
    }
   ],
   "source": [
    "rain = new_enc[new_enc['precip'] >0]['precip']\n",
    "print(rain.median())\n",
    "rain.mean()"
   ]
  },
  {
   "cell_type": "code",
   "execution_count": 68,
   "metadata": {
    "ExecuteTime": {
     "end_time": "2019-11-25T15:56:35.632016Z",
     "start_time": "2019-11-25T15:56:35.621991Z"
    }
   },
   "outputs": [
    {
     "data": {
      "text/plain": [
       "7     0.007732\n",
       "4     0.025773\n",
       "6     0.030928\n",
       "8     0.041237\n",
       "3     0.046392\n",
       "5     0.056701\n",
       "10    0.085052\n",
       "2     0.103093\n",
       "9     0.123711\n",
       "12    0.126289\n",
       "11    0.149485\n",
       "1     0.203608\n",
       "Name: month, dtype: float64"
      ]
     },
     "execution_count": 68,
     "metadata": {},
     "output_type": "execute_result"
    }
   ],
   "source": [
    "new_enc[new_enc['precip']>0]['month'].value_counts('all').sort_values()"
   ]
  },
  {
   "cell_type": "code",
   "execution_count": 69,
   "metadata": {
    "ExecuteTime": {
     "end_time": "2019-11-25T15:56:36.076681Z",
     "start_time": "2019-11-25T15:56:36.068629Z"
    }
   },
   "outputs": [
    {
     "data": {
      "text/plain": [
       "0    0.453608\n",
       "1    0.546392\n",
       "Name: hour_Night, dtype: float64"
      ]
     },
     "execution_count": 69,
     "metadata": {},
     "output_type": "execute_result"
    }
   ],
   "source": [
    "new_enc[new_enc['precip']>0]['hour_Night'].value_counts('all').sort_values()"
   ]
  },
  {
   "cell_type": "code",
   "execution_count": 70,
   "metadata": {
    "ExecuteTime": {
     "end_time": "2019-11-25T15:56:36.552064Z",
     "start_time": "2019-11-25T15:56:36.543040Z"
    }
   },
   "outputs": [
    {
     "data": {
      "text/plain": [
       "year  month\n",
       "2012  10       744\n",
       "      12       744\n",
       "      11       720\n",
       "      9        388\n",
       "2013  1        744\n",
       "      3        744\n",
       "      5        744\n",
       "      7        744\n",
       "      8        744\n",
       "      4        720\n",
       "      6        720\n",
       "      9        705\n",
       "      2        672\n",
       "Name: month, dtype: int64"
      ]
     },
     "execution_count": 70,
     "metadata": {},
     "output_type": "execute_result"
    }
   ],
   "source": [
    "new_enc.groupby('year')['month'].value_counts()"
   ]
  },
  {
   "cell_type": "code",
   "execution_count": 28,
   "metadata": {
    "ExecuteTime": {
     "end_time": "2019-11-25T15:10:37.620563Z",
     "start_time": "2019-11-25T15:10:37.604018Z"
    }
   },
   "outputs": [
    {
     "name": "stdout",
     "output_type": "stream",
     "text": [
      "season_Winter 0    0.56701\n",
      "1    0.43299\n",
      "Name: season_Winter, dtype: float64\n",
      "season_Spring 0    0.871134\n",
      "1    0.128866\n",
      "Name: season_Spring, dtype: float64\n",
      "season_Summer 0    0.920103\n",
      "1    0.079897\n",
      "Name: season_Summer, dtype: float64\n",
      "season_Fall 0    0.641753\n",
      "1    0.358247\n",
      "Name: season_Fall, dtype: float64\n"
     ]
    }
   ],
   "source": [
    "seasons = ['season_Winter','season_Spring','season_Summer','season_Fall']\n",
    "for i in seasons:\n",
    "    print(i, new_enc[new_enc['precip']>0][i].value_counts('all'))"
   ]
  },
  {
   "cell_type": "code",
   "execution_count": 29,
   "metadata": {
    "ExecuteTime": {
     "end_time": "2019-11-25T15:10:39.835398Z",
     "start_time": "2019-11-25T15:10:39.826823Z"
    }
   },
   "outputs": [
    {
     "data": {
      "text/plain": [
       "1    0.43299\n",
       "0    0.56701\n",
       "Name: season_Winter, dtype: float64"
      ]
     },
     "execution_count": 29,
     "metadata": {},
     "output_type": "execute_result"
    }
   ],
   "source": [
    "new_enc[new_enc['precip']>0]['season_Winter'].value_counts('all').sort_values()"
   ]
  },
  {
   "cell_type": "markdown",
   "metadata": {},
   "source": [
    "So from the start, pretty weird that for rain values > 0, only 8% of values are in the summer but 43.34% are in the winter? "
   ]
  },
  {
   "cell_type": "code",
   "execution_count": 26,
   "metadata": {
    "ExecuteTime": {
     "end_time": "2019-10-21T14:02:44.786437Z",
     "start_time": "2019-10-21T14:02:44.773402Z"
    }
   },
   "outputs": [
    {
     "data": {
      "text/html": [
       "<div>\n",
       "<style scoped>\n",
       "    .dataframe tbody tr th:only-of-type {\n",
       "        vertical-align: middle;\n",
       "    }\n",
       "\n",
       "    .dataframe tbody tr th {\n",
       "        vertical-align: top;\n",
       "    }\n",
       "\n",
       "    .dataframe thead th {\n",
       "        text-align: right;\n",
       "    }\n",
       "</style>\n",
       "<table border=\"1\" class=\"dataframe\">\n",
       "  <thead>\n",
       "    <tr style=\"text-align: right;\">\n",
       "      <th></th>\n",
       "      <th></th>\n",
       "      <th>mean</th>\n",
       "      <th>max</th>\n",
       "    </tr>\n",
       "    <tr>\n",
       "      <th>month</th>\n",
       "      <th>year</th>\n",
       "      <th></th>\n",
       "      <th></th>\n",
       "    </tr>\n",
       "  </thead>\n",
       "  <tbody>\n",
       "    <tr>\n",
       "      <th>9</th>\n",
       "      <th>2012</th>\n",
       "      <td>0.285567</td>\n",
       "      <td>31.5</td>\n",
       "    </tr>\n",
       "    <tr>\n",
       "      <th>1</th>\n",
       "      <th>2013</th>\n",
       "      <td>0.252554</td>\n",
       "      <td>35.4</td>\n",
       "    </tr>\n",
       "    <tr>\n",
       "      <th>11</th>\n",
       "      <th>2012</th>\n",
       "      <td>0.120000</td>\n",
       "      <td>13.3</td>\n",
       "    </tr>\n",
       "    <tr>\n",
       "      <th>12</th>\n",
       "      <th>2012</th>\n",
       "      <td>0.102419</td>\n",
       "      <td>18.5</td>\n",
       "    </tr>\n",
       "    <tr>\n",
       "      <th>2</th>\n",
       "      <th>2013</th>\n",
       "      <td>0.095536</td>\n",
       "      <td>11.6</td>\n",
       "    </tr>\n",
       "    <tr>\n",
       "      <th>9</th>\n",
       "      <th>2013</th>\n",
       "      <td>0.069362</td>\n",
       "      <td>14.1</td>\n",
       "    </tr>\n",
       "    <tr>\n",
       "      <th>10</th>\n",
       "      <th>2012</th>\n",
       "      <td>0.065591</td>\n",
       "      <td>18.2</td>\n",
       "    </tr>\n",
       "    <tr>\n",
       "      <th>3</th>\n",
       "      <th>2013</th>\n",
       "      <td>0.041263</td>\n",
       "      <td>13.9</td>\n",
       "    </tr>\n",
       "    <tr>\n",
       "      <th>5</th>\n",
       "      <th>2013</th>\n",
       "      <td>0.039516</td>\n",
       "      <td>8.8</td>\n",
       "    </tr>\n",
       "    <tr>\n",
       "      <th>4</th>\n",
       "      <th>2013</th>\n",
       "      <td>0.021389</td>\n",
       "      <td>4.7</td>\n",
       "    </tr>\n",
       "    <tr>\n",
       "      <th>6</th>\n",
       "      <th>2013</th>\n",
       "      <td>0.006944</td>\n",
       "      <td>2.2</td>\n",
       "    </tr>\n",
       "    <tr>\n",
       "      <th>8</th>\n",
       "      <th>2013</th>\n",
       "      <td>0.006452</td>\n",
       "      <td>1.2</td>\n",
       "    </tr>\n",
       "    <tr>\n",
       "      <th>7</th>\n",
       "      <th>2013</th>\n",
       "      <td>0.003495</td>\n",
       "      <td>1.7</td>\n",
       "    </tr>\n",
       "  </tbody>\n",
       "</table>\n",
       "</div>"
      ],
      "text/plain": [
       "                mean   max\n",
       "month year                \n",
       "9     2012  0.285567  31.5\n",
       "1     2013  0.252554  35.4\n",
       "11    2012  0.120000  13.3\n",
       "12    2012  0.102419  18.5\n",
       "2     2013  0.095536  11.6\n",
       "9     2013  0.069362  14.1\n",
       "10    2012  0.065591  18.2\n",
       "3     2013  0.041263  13.9\n",
       "5     2013  0.039516   8.8\n",
       "4     2013  0.021389   4.7\n",
       "6     2013  0.006944   2.2\n",
       "8     2013  0.006452   1.2\n",
       "7     2013  0.003495   1.7"
      ]
     },
     "execution_count": 26,
     "metadata": {},
     "output_type": "execute_result"
    }
   ],
   "source": [
    "data.groupby(['month','year'])['precip'].agg(['mean','max']).sort_values(by='mean', ascending=False)"
   ]
  },
  {
   "cell_type": "code",
   "execution_count": 71,
   "metadata": {
    "ExecuteTime": {
     "end_time": "2019-11-25T15:56:43.666903Z",
     "start_time": "2019-11-25T15:56:43.657880Z"
    }
   },
   "outputs": [
    {
     "name": "stdout",
     "output_type": "stream",
     "text": [
      "388\n",
      "26\n",
      "70\n",
      "3328    2.4\n",
      "Name: precip, dtype: float64\n"
     ]
    },
    {
     "data": {
      "text/plain": [
       "3335    6.2\n",
       "Name: precip, dtype: float64"
      ]
     },
     "execution_count": 71,
     "metadata": {},
     "output_type": "execute_result"
    }
   ],
   "source": [
    "ordered_rain = rain.sort_values(ascending=True)\n",
    "new_sum = np.array(ordered_rain).cumsum()\n",
    "scaled_sum = new_sum/new_sum.max()\n",
    "first = len(scaled_sum[scaled_sum >= 0.5])\n",
    "second = len(scaled_sum[scaled_sum >= 0.25])\n",
    "#new_sum[-11:]\n",
    "print(len(ordered_rain))\n",
    "print(first)\n",
    "print(second)\n",
    "print(ordered_rain[-second:(-second +1)])\n",
    "\n",
    "ordered_rain[-first:(-first +1)]\n"
   ]
  },
  {
   "cell_type": "code",
   "execution_count": 77,
   "metadata": {
    "ExecuteTime": {
     "end_time": "2019-11-25T15:58:40.636170Z",
     "start_time": "2019-11-25T15:58:40.599066Z"
    }
   },
   "outputs": [
    {
     "name": "stdout",
     "output_type": "stream",
     "text": [
      "        sss_change        sss        sst  wind_spd\n",
      "mean      0.000653  37.453298  24.787120  5.669648\n",
      "median    0.000167  37.443424  24.409049  5.821573\n",
      "        sss_change        sss        sst  wind_spd\n",
      "mean     -0.118638  37.290929  24.532075  5.562377\n",
      "median   -0.047402  37.356062  23.937423  5.816297\n"
     ]
    }
   ],
   "source": [
    "low_thres = new_enc[new_enc['precip'] < 3.766850]\n",
    "thres = new_enc[new_enc['precip'] >= 3.766850]\n",
    "threshold = [2 if i >= 6.2 else 1 if i >=2.3 else 0 for i in new_enc['precip']]\n",
    "new_enc['thres'] = threshold\n",
    "new_data['thres'] = threshold\n",
    "print(low_thres[['sss_change','sss','sst','wind_spd']].agg(['mean','median']))\n",
    "print(thres[['sss_change','sss','sst','wind_spd']].agg(['mean','median']))"
   ]
  },
  {
   "cell_type": "code",
   "execution_count": 29,
   "metadata": {
    "ExecuteTime": {
     "end_time": "2019-10-21T14:02:51.527592Z",
     "start_time": "2019-10-21T14:02:51.514557Z"
    }
   },
   "outputs": [
    {
     "data": {
      "text/html": [
       "<div>\n",
       "<style scoped>\n",
       "    .dataframe tbody tr th:only-of-type {\n",
       "        vertical-align: middle;\n",
       "    }\n",
       "\n",
       "    .dataframe tbody tr th {\n",
       "        vertical-align: top;\n",
       "    }\n",
       "\n",
       "    .dataframe thead th {\n",
       "        text-align: right;\n",
       "    }\n",
       "</style>\n",
       "<table border=\"1\" class=\"dataframe\">\n",
       "  <thead>\n",
       "    <tr style=\"text-align: right;\">\n",
       "      <th></th>\n",
       "      <th>sum</th>\n",
       "      <th>mean</th>\n",
       "      <th>median</th>\n",
       "      <th>std</th>\n",
       "    </tr>\n",
       "    <tr>\n",
       "      <th>thres</th>\n",
       "      <th></th>\n",
       "      <th></th>\n",
       "      <th></th>\n",
       "      <th></th>\n",
       "    </tr>\n",
       "  </thead>\n",
       "  <tbody>\n",
       "    <tr>\n",
       "      <th>0</th>\n",
       "      <td>168.5</td>\n",
       "      <td>0.018598</td>\n",
       "      <td>0.0</td>\n",
       "      <td>0.143219</td>\n",
       "    </tr>\n",
       "    <tr>\n",
       "      <th>1</th>\n",
       "      <td>186.1</td>\n",
       "      <td>3.959574</td>\n",
       "      <td>4.0</td>\n",
       "      <td>1.160708</td>\n",
       "    </tr>\n",
       "    <tr>\n",
       "      <th>2</th>\n",
       "      <td>356.5</td>\n",
       "      <td>13.711538</td>\n",
       "      <td>11.8</td>\n",
       "      <td>7.472634</td>\n",
       "    </tr>\n",
       "  </tbody>\n",
       "</table>\n",
       "</div>"
      ],
      "text/plain": [
       "         sum       mean  median       std\n",
       "thres                                    \n",
       "0      168.5   0.018598     0.0  0.143219\n",
       "1      186.1   3.959574     4.0  1.160708\n",
       "2      356.5  13.711538    11.8  7.472634"
      ]
     },
     "execution_count": 29,
     "metadata": {},
     "output_type": "execute_result"
    }
   ],
   "source": [
    "new_enc.groupby('thres')['precip'].agg(['sum','mean','median','std'])"
   ]
  },
  {
   "cell_type": "code",
   "execution_count": 30,
   "metadata": {
    "ExecuteTime": {
     "end_time": "2019-10-21T14:02:53.748787Z",
     "start_time": "2019-10-21T14:02:53.744777Z"
    }
   },
   "outputs": [
    {
     "data": {
      "text/plain": [
       "array([0, 1, 2], dtype=int64)"
      ]
     },
     "execution_count": 30,
     "metadata": {},
     "output_type": "execute_result"
    }
   ],
   "source": [
    "new_enc['thres'].unique()"
   ]
  },
  {
   "cell_type": "code",
   "execution_count": 73,
   "metadata": {
    "ExecuteTime": {
     "end_time": "2019-11-25T15:56:48.405482Z",
     "start_time": "2019-11-25T15:56:48.399452Z"
    }
   },
   "outputs": [
    {
     "data": {
      "text/plain": [
       "0"
      ]
     },
     "execution_count": 73,
     "metadata": {},
     "output_type": "execute_result"
    }
   ],
   "source": [
    "new_enc['temp_change'] = new_enc['sst'].diff().fillna(0)\n",
    "new_enc['temp_change'].isna().sum()"
   ]
  },
  {
   "cell_type": "code",
   "execution_count": 32,
   "metadata": {
    "ExecuteTime": {
     "end_time": "2019-10-21T14:02:55.205999Z",
     "start_time": "2019-10-21T14:02:55.200989Z"
    }
   },
   "outputs": [
    {
     "data": {
      "text/plain": [
       "Index(['new_time', 'time', 'sss', 'sst', 'wind_spd', 'wind_dir', 'precip',\n",
       "       'cum_precip3', 'cum_precip6', 'year', 'month', 'day', 'sss_change',\n",
       "       'wind_change', 'differential', 'season_Fall', 'season_Spring',\n",
       "       'season_Summer', 'season_Winter', 'hour_Day', 'hour_Night', 'thres',\n",
       "       'temp_change'],\n",
       "      dtype='object')"
      ]
     },
     "execution_count": 32,
     "metadata": {},
     "output_type": "execute_result"
    }
   ],
   "source": [
    "new_enc.columns"
   ]
  },
  {
   "cell_type": "code",
   "execution_count": 33,
   "metadata": {
    "ExecuteTime": {
     "end_time": "2019-10-21T14:02:57.609552Z",
     "start_time": "2019-10-21T14:02:57.601531Z"
    }
   },
   "outputs": [],
   "source": [
    "new_enc2 = new_enc.copy()\n",
    "new_enc2['sss_change'] = new_enc2['sss_change'].shift(-1).fillna(0)\n",
    "new_enc2['wind_change'] = new_enc2['wind_change'].shift(-1).fillna(0)\n",
    "new_enc2['temp_change'] = new_enc2['temp_change'].shift(-1).fillna(0)"
   ]
  },
  {
   "cell_type": "code",
   "execution_count": 59,
   "metadata": {
    "ExecuteTime": {
     "end_time": "2019-10-16T20:40:38.650886Z",
     "start_time": "2019-10-16T20:40:37.459455Z"
    }
   },
   "outputs": [
    {
     "data": {
      "text/plain": [
       "<matplotlib.axes._subplots.AxesSubplot at 0x213614225f8>"
      ]
     },
     "execution_count": 59,
     "metadata": {},
     "output_type": "execute_result"
    },
    {
     "data": {
      "image/png": "[encoded data removed]",
      "text/plain": [
       "<Figure size 576x576 with 1 Axes>"
      ]
     },
     "metadata": {},
     "output_type": "display_data"
    }
   ],
   "source": [
    "plt.figure(figsize=(8,8))\n",
    "sns.lineplot(x='time',y='thres',data=new_enc, hue='month')"
   ]
  },
  {
   "cell_type": "code",
   "execution_count": 75,
   "metadata": {
    "ExecuteTime": {
     "end_time": "2019-11-25T15:57:31.181673Z",
     "start_time": "2019-11-25T15:57:31.175658Z"
    }
   },
   "outputs": [
    {
     "data": {
      "text/plain": [
       "Index(['new_time', 'time', 'sss', 'sst', 'wind_spd', 'wind_dir', 'precip',\n",
       "       'cum_precip3', 'cum_precip6', 'year', 'month', 'day', 'hour',\n",
       "       'sss_change', 'wind_change', 'season', 'mnth_sin', 'mnth_cos', 'hr_sin',\n",
       "       'hr_cos', 'differential'],\n",
       "      dtype='object')"
      ]
     },
     "execution_count": 75,
     "metadata": {},
     "output_type": "execute_result"
    }
   ],
   "source": [
    "new_data.columns"
   ]
  },
  {
   "cell_type": "code",
   "execution_count": 80,
   "metadata": {
    "ExecuteTime": {
     "end_time": "2019-11-25T15:59:14.424175Z",
     "start_time": "2019-11-25T15:59:14.413147Z"
    }
   },
   "outputs": [],
   "source": [
    "from sklearn.model_selection import train_test_split, GridSearchCV\n",
    "from sklearn.metrics import confusion_matrix, classification_report\n",
    "from sklearn.pipeline import Pipeline\n",
    "from sklearn.linear_model import LogisticRegression\n",
    "from sklearn.ensemble import RandomForestClassifier\n",
    "from sklearn.preprocessing import StandardScaler, RobustScaler\n",
    "X = new_data.drop(['cum_precip3','cum_precip6','thres','time','new_time', 'month',\n",
    "                 'wind_dir','precip','hour','season'],axis=1)\n",
    "y=new_data['thres']\n",
    "\n",
    "X_train, X_test, y_train, y_test = train_test_split(X, y, test_size=0.3, random_state=42)"
   ]
  },
  {
   "cell_type": "code",
   "execution_count": 81,
   "metadata": {
    "ExecuteTime": {
     "end_time": "2019-11-25T16:01:14.762420Z",
     "start_time": "2019-11-25T15:59:15.186581Z"
    }
   },
   "outputs": [
    {
     "name": "stdout",
     "output_type": "stream",
     "text": [
      "score = 0.9931\n",
      "{'log__C': 1, 'log__max_iter': 200, 'log__multi_class': 'multinomial', 'log__solver': 'sag'}\n",
      "[[2719    0    1]\n",
      " [  13    0    0]\n",
      " [   5    0    2]]\n"
     ]
    }
   ],
   "source": [
    "import warnings \n",
    "warnings.filterwarnings('ignore')\n",
    "log = LogisticRegression()\n",
    "rb = RobustScaler()\n",
    "steps = [('scaler',rb), ('log', log)]\n",
    "pipe = Pipeline(steps)\n",
    "parameters = {'log__C': [1, 10, 50, 100], 'log__multi_class': ['multinomial','auto'],\n",
    "               'log__solver': ['lbfgs','sag','saga'], 'log__max_iter': [200,500],}\n",
    "\n",
    "grid = GridSearchCV(pipe, param_grid=parameters, cv=5)\n",
    "\n",
    "grid.fit(X_train, y_train)\n",
    "print(\"score = %3.4f\" %(grid.score(X_test,y_test)))\n",
    "print(grid.best_params_)\n",
    "\n",
    "from sklearn.metrics import confusion_matrix\n",
    "pred = grid.best_estimator_.predict(X_test)\n",
    "print(confusion_matrix(y_test, pred))"
   ]
  },
  {
   "cell_type": "code",
   "execution_count": 82,
   "metadata": {
    "ExecuteTime": {
     "end_time": "2019-11-25T16:54:43.839063Z",
     "start_time": "2019-11-25T16:01:56.807747Z"
    }
   },
   "outputs": [
    {
     "ename": "KeyboardInterrupt",
     "evalue": "",
     "output_type": "error",
     "traceback": [
      "\u001b[1;31m---------------------------------------------------------------------------\u001b[0m",
      "\u001b[1;31mKeyboardInterrupt\u001b[0m                         Traceback (most recent call last)",
      "\u001b[1;32m<ipython-input-82-7b320843f1d2>\u001b[0m in \u001b[0;36m<module>\u001b[1;34m\u001b[0m\n\u001b[0;32m     12\u001b[0m \u001b[0mgrid1\u001b[0m \u001b[1;33m=\u001b[0m \u001b[0mGridSearchCV\u001b[0m\u001b[1;33m(\u001b[0m\u001b[0mpipeline1\u001b[0m\u001b[1;33m,\u001b[0m \u001b[0mparam_grid\u001b[0m\u001b[1;33m=\u001b[0m\u001b[0mparameters1\u001b[0m\u001b[1;33m,\u001b[0m \u001b[0mcv\u001b[0m\u001b[1;33m=\u001b[0m\u001b[1;36m5\u001b[0m\u001b[1;33m)\u001b[0m\u001b[1;33m\u001b[0m\u001b[1;33m\u001b[0m\u001b[0m\n\u001b[0;32m     13\u001b[0m \u001b[1;33m\u001b[0m\u001b[0m\n\u001b[1;32m---> 14\u001b[1;33m \u001b[0mgrid1\u001b[0m\u001b[1;33m.\u001b[0m\u001b[0mfit\u001b[0m\u001b[1;33m(\u001b[0m\u001b[0mX_train\u001b[0m\u001b[1;33m,\u001b[0m \u001b[0my_train\u001b[0m\u001b[1;33m)\u001b[0m\u001b[1;33m\u001b[0m\u001b[1;33m\u001b[0m\u001b[0m\n\u001b[0m\u001b[0;32m     15\u001b[0m \u001b[0mprint\u001b[0m\u001b[1;33m(\u001b[0m\u001b[1;34m\"score = %3.4f\"\u001b[0m \u001b[1;33m%\u001b[0m\u001b[1;33m(\u001b[0m\u001b[0mgrid1\u001b[0m\u001b[1;33m.\u001b[0m\u001b[0mscore\u001b[0m\u001b[1;33m(\u001b[0m\u001b[0mX_test\u001b[0m\u001b[1;33m,\u001b[0m\u001b[0my_test\u001b[0m\u001b[1;33m)\u001b[0m\u001b[1;33m)\u001b[0m\u001b[1;33m)\u001b[0m\u001b[1;33m\u001b[0m\u001b[1;33m\u001b[0m\u001b[0m\n\u001b[0;32m     16\u001b[0m \u001b[0mprint\u001b[0m\u001b[1;33m(\u001b[0m\u001b[0mgrid1\u001b[0m\u001b[1;33m.\u001b[0m\u001b[0mbest_params_\u001b[0m\u001b[1;33m)\u001b[0m\u001b[1;33m\u001b[0m\u001b[1;33m\u001b[0m\u001b[0m\n",
      "\u001b[1;32m~\\AppData\\Local\\Continuum\\anaconda3\\envs\\deep\\lib\\site-packages\\sklearn\\model_selection\\_search.py\u001b[0m in \u001b[0;36mfit\u001b[1;34m(self, X, y, groups, **fit_params)\u001b[0m\n\u001b[0;32m    686\u001b[0m                 \u001b[1;32mreturn\u001b[0m \u001b[0mresults\u001b[0m\u001b[1;33m\u001b[0m\u001b[1;33m\u001b[0m\u001b[0m\n\u001b[0;32m    687\u001b[0m \u001b[1;33m\u001b[0m\u001b[0m\n\u001b[1;32m--> 688\u001b[1;33m             \u001b[0mself\u001b[0m\u001b[1;33m.\u001b[0m\u001b[0m_run_search\u001b[0m\u001b[1;33m(\u001b[0m\u001b[0mevaluate_candidates\u001b[0m\u001b[1;33m)\u001b[0m\u001b[1;33m\u001b[0m\u001b[1;33m\u001b[0m\u001b[0m\n\u001b[0m\u001b[0;32m    689\u001b[0m \u001b[1;33m\u001b[0m\u001b[0m\n\u001b[0;32m    690\u001b[0m         \u001b[1;31m# For multi-metric evaluation, store the best_index_, best_params_ and\u001b[0m\u001b[1;33m\u001b[0m\u001b[1;33m\u001b[0m\u001b[1;33m\u001b[0m\u001b[0m\n",
      "\u001b[1;32m~\\AppData\\Local\\Continuum\\anaconda3\\envs\\deep\\lib\\site-packages\\sklearn\\model_selection\\_search.py\u001b[0m in \u001b[0;36m_run_search\u001b[1;34m(self, evaluate_candidates)\u001b[0m\n\u001b[0;32m   1147\u001b[0m     \u001b[1;32mdef\u001b[0m \u001b[0m_run_search\u001b[0m\u001b[1;33m(\u001b[0m\u001b[0mself\u001b[0m\u001b[1;33m,\u001b[0m \u001b[0mevaluate_candidates\u001b[0m\u001b[1;33m)\u001b[0m\u001b[1;33m:\u001b[0m\u001b[1;33m\u001b[0m\u001b[1;33m\u001b[0m\u001b[0m\n\u001b[0;32m   1148\u001b[0m         \u001b[1;34m\"\"\"Search all candidates in param_grid\"\"\"\u001b[0m\u001b[1;33m\u001b[0m\u001b[1;33m\u001b[0m\u001b[0m\n\u001b[1;32m-> 1149\u001b[1;33m         \u001b[0mevaluate_candidates\u001b[0m\u001b[1;33m(\u001b[0m\u001b[0mParameterGrid\u001b[0m\u001b[1;33m(\u001b[0m\u001b[0mself\u001b[0m\u001b[1;33m.\u001b[0m\u001b[0mparam_grid\u001b[0m\u001b[1;33m)\u001b[0m\u001b[1;33m)\u001b[0m\u001b[1;33m\u001b[0m\u001b[1;33m\u001b[0m\u001b[0m\n\u001b[0m\u001b[0;32m   1150\u001b[0m \u001b[1;33m\u001b[0m\u001b[0m\n\u001b[0;32m   1151\u001b[0m \u001b[1;33m\u001b[0m\u001b[0m\n",
      "\u001b[1;32m~\\AppData\\Local\\Continuum\\anaconda3\\envs\\deep\\lib\\site-packages\\sklearn\\model_selection\\_search.py\u001b[0m in \u001b[0;36mevaluate_candidates\u001b[1;34m(candidate_params)\u001b[0m\n\u001b[0;32m    665\u001b[0m                                \u001b[1;32mfor\u001b[0m \u001b[0mparameters\u001b[0m\u001b[1;33m,\u001b[0m \u001b[1;33m(\u001b[0m\u001b[0mtrain\u001b[0m\u001b[1;33m,\u001b[0m \u001b[0mtest\u001b[0m\u001b[1;33m)\u001b[0m\u001b[1;33m\u001b[0m\u001b[1;33m\u001b[0m\u001b[0m\n\u001b[0;32m    666\u001b[0m                                in product(candidate_params,\n\u001b[1;32m--> 667\u001b[1;33m                                           cv.split(X, y, groups)))\n\u001b[0m\u001b[0;32m    668\u001b[0m \u001b[1;33m\u001b[0m\u001b[0m\n\u001b[0;32m    669\u001b[0m                 \u001b[1;32mif\u001b[0m \u001b[0mlen\u001b[0m\u001b[1;33m(\u001b[0m\u001b[0mout\u001b[0m\u001b[1;33m)\u001b[0m \u001b[1;33m<\u001b[0m \u001b[1;36m1\u001b[0m\u001b[1;33m:\u001b[0m\u001b[1;33m\u001b[0m\u001b[1;33m\u001b[0m\u001b[0m\n",
      "\u001b[1;32m~\\AppData\\Local\\Continuum\\anaconda3\\envs\\deep\\lib\\site-packages\\joblib\\parallel.py\u001b[0m in \u001b[0;36m__call__\u001b[1;34m(self, iterable)\u001b[0m\n\u001b[0;32m    922\u001b[0m                 \u001b[0mself\u001b[0m\u001b[1;33m.\u001b[0m\u001b[0m_iterating\u001b[0m \u001b[1;33m=\u001b[0m \u001b[0mself\u001b[0m\u001b[1;33m.\u001b[0m\u001b[0m_original_iterator\u001b[0m \u001b[1;32mis\u001b[0m \u001b[1;32mnot\u001b[0m \u001b[1;32mNone\u001b[0m\u001b[1;33m\u001b[0m\u001b[1;33m\u001b[0m\u001b[0m\n\u001b[0;32m    923\u001b[0m \u001b[1;33m\u001b[0m\u001b[0m\n\u001b[1;32m--> 924\u001b[1;33m             \u001b[1;32mwhile\u001b[0m \u001b[0mself\u001b[0m\u001b[1;33m.\u001b[0m\u001b[0mdispatch_one_batch\u001b[0m\u001b[1;33m(\u001b[0m\u001b[0miterator\u001b[0m\u001b[1;33m)\u001b[0m\u001b[1;33m:\u001b[0m\u001b[1;33m\u001b[0m\u001b[1;33m\u001b[0m\u001b[0m\n\u001b[0m\u001b[0;32m    925\u001b[0m                 \u001b[1;32mpass\u001b[0m\u001b[1;33m\u001b[0m\u001b[1;33m\u001b[0m\u001b[0m\n\u001b[0;32m    926\u001b[0m \u001b[1;33m\u001b[0m\u001b[0m\n",
      "\u001b[1;32m~\\AppData\\Local\\Continuum\\anaconda3\\envs\\deep\\lib\\site-packages\\joblib\\parallel.py\u001b[0m in \u001b[0;36mdispatch_one_batch\u001b[1;34m(self, iterator)\u001b[0m\n\u001b[0;32m    757\u001b[0m                 \u001b[1;32mreturn\u001b[0m \u001b[1;32mFalse\u001b[0m\u001b[1;33m\u001b[0m\u001b[1;33m\u001b[0m\u001b[0m\n\u001b[0;32m    758\u001b[0m             \u001b[1;32melse\u001b[0m\u001b[1;33m:\u001b[0m\u001b[1;33m\u001b[0m\u001b[1;33m\u001b[0m\u001b[0m\n\u001b[1;32m--> 759\u001b[1;33m                 \u001b[0mself\u001b[0m\u001b[1;33m.\u001b[0m\u001b[0m_dispatch\u001b[0m\u001b[1;33m(\u001b[0m\u001b[0mtasks\u001b[0m\u001b[1;33m)\u001b[0m\u001b[1;33m\u001b[0m\u001b[1;33m\u001b[0m\u001b[0m\n\u001b[0m\u001b[0;32m    760\u001b[0m                 \u001b[1;32mreturn\u001b[0m \u001b[1;32mTrue\u001b[0m\u001b[1;33m\u001b[0m\u001b[1;33m\u001b[0m\u001b[0m\n\u001b[0;32m    761\u001b[0m \u001b[1;33m\u001b[0m\u001b[0m\n",
      "\u001b[1;32m~\\AppData\\Local\\Continuum\\anaconda3\\envs\\deep\\lib\\site-packages\\joblib\\parallel.py\u001b[0m in \u001b[0;36m_dispatch\u001b[1;34m(self, batch)\u001b[0m\n\u001b[0;32m    714\u001b[0m         \u001b[1;32mwith\u001b[0m \u001b[0mself\u001b[0m\u001b[1;33m.\u001b[0m\u001b[0m_lock\u001b[0m\u001b[1;33m:\u001b[0m\u001b[1;33m\u001b[0m\u001b[1;33m\u001b[0m\u001b[0m\n\u001b[0;32m    715\u001b[0m             \u001b[0mjob_idx\u001b[0m \u001b[1;33m=\u001b[0m \u001b[0mlen\u001b[0m\u001b[1;33m(\u001b[0m\u001b[0mself\u001b[0m\u001b[1;33m.\u001b[0m\u001b[0m_jobs\u001b[0m\u001b[1;33m)\u001b[0m\u001b[1;33m\u001b[0m\u001b[1;33m\u001b[0m\u001b[0m\n\u001b[1;32m--> 716\u001b[1;33m             \u001b[0mjob\u001b[0m \u001b[1;33m=\u001b[0m \u001b[0mself\u001b[0m\u001b[1;33m.\u001b[0m\u001b[0m_backend\u001b[0m\u001b[1;33m.\u001b[0m\u001b[0mapply_async\u001b[0m\u001b[1;33m(\u001b[0m\u001b[0mbatch\u001b[0m\u001b[1;33m,\u001b[0m \u001b[0mcallback\u001b[0m\u001b[1;33m=\u001b[0m\u001b[0mcb\u001b[0m\u001b[1;33m)\u001b[0m\u001b[1;33m\u001b[0m\u001b[1;33m\u001b[0m\u001b[0m\n\u001b[0m\u001b[0;32m    717\u001b[0m             \u001b[1;31m# A job can complete so quickly than its callback is\u001b[0m\u001b[1;33m\u001b[0m\u001b[1;33m\u001b[0m\u001b[1;33m\u001b[0m\u001b[0m\n\u001b[0;32m    718\u001b[0m             \u001b[1;31m# called before we get here, causing self._jobs to\u001b[0m\u001b[1;33m\u001b[0m\u001b[1;33m\u001b[0m\u001b[1;33m\u001b[0m\u001b[0m\n",
      "\u001b[1;32m~\\AppData\\Local\\Continuum\\anaconda3\\envs\\deep\\lib\\site-packages\\joblib\\_parallel_backends.py\u001b[0m in \u001b[0;36mapply_async\u001b[1;34m(self, func, callback)\u001b[0m\n\u001b[0;32m    180\u001b[0m     \u001b[1;32mdef\u001b[0m \u001b[0mapply_async\u001b[0m\u001b[1;33m(\u001b[0m\u001b[0mself\u001b[0m\u001b[1;33m,\u001b[0m \u001b[0mfunc\u001b[0m\u001b[1;33m,\u001b[0m \u001b[0mcallback\u001b[0m\u001b[1;33m=\u001b[0m\u001b[1;32mNone\u001b[0m\u001b[1;33m)\u001b[0m\u001b[1;33m:\u001b[0m\u001b[1;33m\u001b[0m\u001b[1;33m\u001b[0m\u001b[0m\n\u001b[0;32m    181\u001b[0m         \u001b[1;34m\"\"\"Schedule a func to be run\"\"\"\u001b[0m\u001b[1;33m\u001b[0m\u001b[1;33m\u001b[0m\u001b[0m\n\u001b[1;32m--> 182\u001b[1;33m         \u001b[0mresult\u001b[0m \u001b[1;33m=\u001b[0m \u001b[0mImmediateResult\u001b[0m\u001b[1;33m(\u001b[0m\u001b[0mfunc\u001b[0m\u001b[1;33m)\u001b[0m\u001b[1;33m\u001b[0m\u001b[1;33m\u001b[0m\u001b[0m\n\u001b[0m\u001b[0;32m    183\u001b[0m         \u001b[1;32mif\u001b[0m \u001b[0mcallback\u001b[0m\u001b[1;33m:\u001b[0m\u001b[1;33m\u001b[0m\u001b[1;33m\u001b[0m\u001b[0m\n\u001b[0;32m    184\u001b[0m             \u001b[0mcallback\u001b[0m\u001b[1;33m(\u001b[0m\u001b[0mresult\u001b[0m\u001b[1;33m)\u001b[0m\u001b[1;33m\u001b[0m\u001b[1;33m\u001b[0m\u001b[0m\n",
      "\u001b[1;32m~\\AppData\\Local\\Continuum\\anaconda3\\envs\\deep\\lib\\site-packages\\joblib\\_parallel_backends.py\u001b[0m in \u001b[0;36m__init__\u001b[1;34m(self, batch)\u001b[0m\n\u001b[0;32m    547\u001b[0m         \u001b[1;31m# Don't delay the application, to avoid keeping the input\u001b[0m\u001b[1;33m\u001b[0m\u001b[1;33m\u001b[0m\u001b[1;33m\u001b[0m\u001b[0m\n\u001b[0;32m    548\u001b[0m         \u001b[1;31m# arguments in memory\u001b[0m\u001b[1;33m\u001b[0m\u001b[1;33m\u001b[0m\u001b[1;33m\u001b[0m\u001b[0m\n\u001b[1;32m--> 549\u001b[1;33m         \u001b[0mself\u001b[0m\u001b[1;33m.\u001b[0m\u001b[0mresults\u001b[0m \u001b[1;33m=\u001b[0m \u001b[0mbatch\u001b[0m\u001b[1;33m(\u001b[0m\u001b[1;33m)\u001b[0m\u001b[1;33m\u001b[0m\u001b[1;33m\u001b[0m\u001b[0m\n\u001b[0m\u001b[0;32m    550\u001b[0m \u001b[1;33m\u001b[0m\u001b[0m\n\u001b[0;32m    551\u001b[0m     \u001b[1;32mdef\u001b[0m \u001b[0mget\u001b[0m\u001b[1;33m(\u001b[0m\u001b[0mself\u001b[0m\u001b[1;33m)\u001b[0m\u001b[1;33m:\u001b[0m\u001b[1;33m\u001b[0m\u001b[1;33m\u001b[0m\u001b[0m\n",
      "\u001b[1;32m~\\AppData\\Local\\Continuum\\anaconda3\\envs\\deep\\lib\\site-packages\\joblib\\parallel.py\u001b[0m in \u001b[0;36m__call__\u001b[1;34m(self)\u001b[0m\n\u001b[0;32m    223\u001b[0m         \u001b[1;32mwith\u001b[0m \u001b[0mparallel_backend\u001b[0m\u001b[1;33m(\u001b[0m\u001b[0mself\u001b[0m\u001b[1;33m.\u001b[0m\u001b[0m_backend\u001b[0m\u001b[1;33m,\u001b[0m \u001b[0mn_jobs\u001b[0m\u001b[1;33m=\u001b[0m\u001b[0mself\u001b[0m\u001b[1;33m.\u001b[0m\u001b[0m_n_jobs\u001b[0m\u001b[1;33m)\u001b[0m\u001b[1;33m:\u001b[0m\u001b[1;33m\u001b[0m\u001b[1;33m\u001b[0m\u001b[0m\n\u001b[0;32m    224\u001b[0m             return [func(*args, **kwargs)\n\u001b[1;32m--> 225\u001b[1;33m                     for func, args, kwargs in self.items]\n\u001b[0m\u001b[0;32m    226\u001b[0m \u001b[1;33m\u001b[0m\u001b[0m\n\u001b[0;32m    227\u001b[0m     \u001b[1;32mdef\u001b[0m \u001b[0m__len__\u001b[0m\u001b[1;33m(\u001b[0m\u001b[0mself\u001b[0m\u001b[1;33m)\u001b[0m\u001b[1;33m:\u001b[0m\u001b[1;33m\u001b[0m\u001b[1;33m\u001b[0m\u001b[0m\n",
      "\u001b[1;32m~\\AppData\\Local\\Continuum\\anaconda3\\envs\\deep\\lib\\site-packages\\joblib\\parallel.py\u001b[0m in \u001b[0;36m<listcomp>\u001b[1;34m(.0)\u001b[0m\n\u001b[0;32m    223\u001b[0m         \u001b[1;32mwith\u001b[0m \u001b[0mparallel_backend\u001b[0m\u001b[1;33m(\u001b[0m\u001b[0mself\u001b[0m\u001b[1;33m.\u001b[0m\u001b[0m_backend\u001b[0m\u001b[1;33m,\u001b[0m \u001b[0mn_jobs\u001b[0m\u001b[1;33m=\u001b[0m\u001b[0mself\u001b[0m\u001b[1;33m.\u001b[0m\u001b[0m_n_jobs\u001b[0m\u001b[1;33m)\u001b[0m\u001b[1;33m:\u001b[0m\u001b[1;33m\u001b[0m\u001b[1;33m\u001b[0m\u001b[0m\n\u001b[0;32m    224\u001b[0m             return [func(*args, **kwargs)\n\u001b[1;32m--> 225\u001b[1;33m                     for func, args, kwargs in self.items]\n\u001b[0m\u001b[0;32m    226\u001b[0m \u001b[1;33m\u001b[0m\u001b[0m\n\u001b[0;32m    227\u001b[0m     \u001b[1;32mdef\u001b[0m \u001b[0m__len__\u001b[0m\u001b[1;33m(\u001b[0m\u001b[0mself\u001b[0m\u001b[1;33m)\u001b[0m\u001b[1;33m:\u001b[0m\u001b[1;33m\u001b[0m\u001b[1;33m\u001b[0m\u001b[0m\n",
      "\u001b[1;32m~\\AppData\\Local\\Continuum\\anaconda3\\envs\\deep\\lib\\site-packages\\sklearn\\model_selection\\_validation.py\u001b[0m in \u001b[0;36m_fit_and_score\u001b[1;34m(estimator, X, y, scorer, train, test, verbose, parameters, fit_params, return_train_score, return_parameters, return_n_test_samples, return_times, return_estimator, error_score)\u001b[0m\n\u001b[0;32m    514\u001b[0m             \u001b[0mestimator\u001b[0m\u001b[1;33m.\u001b[0m\u001b[0mfit\u001b[0m\u001b[1;33m(\u001b[0m\u001b[0mX_train\u001b[0m\u001b[1;33m,\u001b[0m \u001b[1;33m**\u001b[0m\u001b[0mfit_params\u001b[0m\u001b[1;33m)\u001b[0m\u001b[1;33m\u001b[0m\u001b[1;33m\u001b[0m\u001b[0m\n\u001b[0;32m    515\u001b[0m         \u001b[1;32melse\u001b[0m\u001b[1;33m:\u001b[0m\u001b[1;33m\u001b[0m\u001b[1;33m\u001b[0m\u001b[0m\n\u001b[1;32m--> 516\u001b[1;33m             \u001b[0mestimator\u001b[0m\u001b[1;33m.\u001b[0m\u001b[0mfit\u001b[0m\u001b[1;33m(\u001b[0m\u001b[0mX_train\u001b[0m\u001b[1;33m,\u001b[0m \u001b[0my_train\u001b[0m\u001b[1;33m,\u001b[0m \u001b[1;33m**\u001b[0m\u001b[0mfit_params\u001b[0m\u001b[1;33m)\u001b[0m\u001b[1;33m\u001b[0m\u001b[1;33m\u001b[0m\u001b[0m\n\u001b[0m\u001b[0;32m    517\u001b[0m \u001b[1;33m\u001b[0m\u001b[0m\n\u001b[0;32m    518\u001b[0m     \u001b[1;32mexcept\u001b[0m \u001b[0mException\u001b[0m \u001b[1;32mas\u001b[0m \u001b[0me\u001b[0m\u001b[1;33m:\u001b[0m\u001b[1;33m\u001b[0m\u001b[1;33m\u001b[0m\u001b[0m\n",
      "\u001b[1;32m~\\AppData\\Local\\Continuum\\anaconda3\\envs\\deep\\lib\\site-packages\\sklearn\\pipeline.py\u001b[0m in \u001b[0;36mfit\u001b[1;34m(self, X, y, **fit_params)\u001b[0m\n\u001b[0;32m    354\u001b[0m                                  self._log_message(len(self.steps) - 1)):\n\u001b[0;32m    355\u001b[0m             \u001b[1;32mif\u001b[0m \u001b[0mself\u001b[0m\u001b[1;33m.\u001b[0m\u001b[0m_final_estimator\u001b[0m \u001b[1;33m!=\u001b[0m \u001b[1;34m'passthrough'\u001b[0m\u001b[1;33m:\u001b[0m\u001b[1;33m\u001b[0m\u001b[1;33m\u001b[0m\u001b[0m\n\u001b[1;32m--> 356\u001b[1;33m                 \u001b[0mself\u001b[0m\u001b[1;33m.\u001b[0m\u001b[0m_final_estimator\u001b[0m\u001b[1;33m.\u001b[0m\u001b[0mfit\u001b[0m\u001b[1;33m(\u001b[0m\u001b[0mXt\u001b[0m\u001b[1;33m,\u001b[0m \u001b[0my\u001b[0m\u001b[1;33m,\u001b[0m \u001b[1;33m**\u001b[0m\u001b[0mfit_params\u001b[0m\u001b[1;33m)\u001b[0m\u001b[1;33m\u001b[0m\u001b[1;33m\u001b[0m\u001b[0m\n\u001b[0m\u001b[0;32m    357\u001b[0m         \u001b[1;32mreturn\u001b[0m \u001b[0mself\u001b[0m\u001b[1;33m\u001b[0m\u001b[1;33m\u001b[0m\u001b[0m\n\u001b[0;32m    358\u001b[0m \u001b[1;33m\u001b[0m\u001b[0m\n",
      "\u001b[1;32m~\\AppData\\Local\\Continuum\\anaconda3\\envs\\deep\\lib\\site-packages\\xgboost\\sklearn.py\u001b[0m in \u001b[0;36mfit\u001b[1;34m(self, X, y, sample_weight, eval_set, eval_metric, early_stopping_rounds, verbose, xgb_model, sample_weight_eval_set, callbacks)\u001b[0m\n\u001b[0;32m    730\u001b[0m                               \u001b[0mevals_result\u001b[0m\u001b[1;33m=\u001b[0m\u001b[0mevals_result\u001b[0m\u001b[1;33m,\u001b[0m \u001b[0mobj\u001b[0m\u001b[1;33m=\u001b[0m\u001b[0mobj\u001b[0m\u001b[1;33m,\u001b[0m \u001b[0mfeval\u001b[0m\u001b[1;33m=\u001b[0m\u001b[0mfeval\u001b[0m\u001b[1;33m,\u001b[0m\u001b[1;33m\u001b[0m\u001b[1;33m\u001b[0m\u001b[0m\n\u001b[0;32m    731\u001b[0m                               \u001b[0mverbose_eval\u001b[0m\u001b[1;33m=\u001b[0m\u001b[0mverbose\u001b[0m\u001b[1;33m,\u001b[0m \u001b[0mxgb_model\u001b[0m\u001b[1;33m=\u001b[0m\u001b[0mxgb_model\u001b[0m\u001b[1;33m,\u001b[0m\u001b[1;33m\u001b[0m\u001b[1;33m\u001b[0m\u001b[0m\n\u001b[1;32m--> 732\u001b[1;33m                               callbacks=callbacks)\n\u001b[0m\u001b[0;32m    733\u001b[0m \u001b[1;33m\u001b[0m\u001b[0m\n\u001b[0;32m    734\u001b[0m         \u001b[0mself\u001b[0m\u001b[1;33m.\u001b[0m\u001b[0mobjective\u001b[0m \u001b[1;33m=\u001b[0m \u001b[0mxgb_options\u001b[0m\u001b[1;33m[\u001b[0m\u001b[1;34m\"objective\"\u001b[0m\u001b[1;33m]\u001b[0m\u001b[1;33m\u001b[0m\u001b[1;33m\u001b[0m\u001b[0m\n",
      "\u001b[1;32m~\\AppData\\Local\\Continuum\\anaconda3\\envs\\deep\\lib\\site-packages\\xgboost\\training.py\u001b[0m in \u001b[0;36mtrain\u001b[1;34m(params, dtrain, num_boost_round, evals, obj, feval, maximize, early_stopping_rounds, evals_result, verbose_eval, xgb_model, callbacks, learning_rates)\u001b[0m\n\u001b[0;32m    214\u001b[0m                            \u001b[0mevals\u001b[0m\u001b[1;33m=\u001b[0m\u001b[0mevals\u001b[0m\u001b[1;33m,\u001b[0m\u001b[1;33m\u001b[0m\u001b[1;33m\u001b[0m\u001b[0m\n\u001b[0;32m    215\u001b[0m                            \u001b[0mobj\u001b[0m\u001b[1;33m=\u001b[0m\u001b[0mobj\u001b[0m\u001b[1;33m,\u001b[0m \u001b[0mfeval\u001b[0m\u001b[1;33m=\u001b[0m\u001b[0mfeval\u001b[0m\u001b[1;33m,\u001b[0m\u001b[1;33m\u001b[0m\u001b[1;33m\u001b[0m\u001b[0m\n\u001b[1;32m--> 216\u001b[1;33m                            xgb_model=xgb_model, callbacks=callbacks)\n\u001b[0m\u001b[0;32m    217\u001b[0m \u001b[1;33m\u001b[0m\u001b[0m\n\u001b[0;32m    218\u001b[0m \u001b[1;33m\u001b[0m\u001b[0m\n",
      "\u001b[1;32m~\\AppData\\Local\\Continuum\\anaconda3\\envs\\deep\\lib\\site-packages\\xgboost\\training.py\u001b[0m in \u001b[0;36m_train_internal\u001b[1;34m(params, dtrain, num_boost_round, evals, obj, feval, xgb_model, callbacks)\u001b[0m\n\u001b[0;32m     72\u001b[0m         \u001b[1;31m# Skip the first update if it is a recovery step.\u001b[0m\u001b[1;33m\u001b[0m\u001b[1;33m\u001b[0m\u001b[1;33m\u001b[0m\u001b[0m\n\u001b[0;32m     73\u001b[0m         \u001b[1;32mif\u001b[0m \u001b[0mversion\u001b[0m \u001b[1;33m%\u001b[0m \u001b[1;36m2\u001b[0m \u001b[1;33m==\u001b[0m \u001b[1;36m0\u001b[0m\u001b[1;33m:\u001b[0m\u001b[1;33m\u001b[0m\u001b[1;33m\u001b[0m\u001b[0m\n\u001b[1;32m---> 74\u001b[1;33m             \u001b[0mbst\u001b[0m\u001b[1;33m.\u001b[0m\u001b[0mupdate\u001b[0m\u001b[1;33m(\u001b[0m\u001b[0mdtrain\u001b[0m\u001b[1;33m,\u001b[0m \u001b[0mi\u001b[0m\u001b[1;33m,\u001b[0m \u001b[0mobj\u001b[0m\u001b[1;33m)\u001b[0m\u001b[1;33m\u001b[0m\u001b[1;33m\u001b[0m\u001b[0m\n\u001b[0m\u001b[0;32m     75\u001b[0m             \u001b[0mbst\u001b[0m\u001b[1;33m.\u001b[0m\u001b[0msave_rabit_checkpoint\u001b[0m\u001b[1;33m(\u001b[0m\u001b[1;33m)\u001b[0m\u001b[1;33m\u001b[0m\u001b[1;33m\u001b[0m\u001b[0m\n\u001b[0;32m     76\u001b[0m             \u001b[0mversion\u001b[0m \u001b[1;33m+=\u001b[0m \u001b[1;36m1\u001b[0m\u001b[1;33m\u001b[0m\u001b[1;33m\u001b[0m\u001b[0m\n",
      "\u001b[1;32m~\\AppData\\Local\\Continuum\\anaconda3\\envs\\deep\\lib\\site-packages\\xgboost\\core.py\u001b[0m in \u001b[0;36mupdate\u001b[1;34m(self, dtrain, iteration, fobj)\u001b[0m\n\u001b[0;32m   1107\u001b[0m         \u001b[1;32mif\u001b[0m \u001b[0mfobj\u001b[0m \u001b[1;32mis\u001b[0m \u001b[1;32mNone\u001b[0m\u001b[1;33m:\u001b[0m\u001b[1;33m\u001b[0m\u001b[1;33m\u001b[0m\u001b[0m\n\u001b[0;32m   1108\u001b[0m             _check_call(_LIB.XGBoosterUpdateOneIter(self.handle, ctypes.c_int(iteration),\n\u001b[1;32m-> 1109\u001b[1;33m                                                     dtrain.handle))\n\u001b[0m\u001b[0;32m   1110\u001b[0m         \u001b[1;32melse\u001b[0m\u001b[1;33m:\u001b[0m\u001b[1;33m\u001b[0m\u001b[1;33m\u001b[0m\u001b[0m\n\u001b[0;32m   1111\u001b[0m             \u001b[0mpred\u001b[0m \u001b[1;33m=\u001b[0m \u001b[0mself\u001b[0m\u001b[1;33m.\u001b[0m\u001b[0mpredict\u001b[0m\u001b[1;33m(\u001b[0m\u001b[0mdtrain\u001b[0m\u001b[1;33m)\u001b[0m\u001b[1;33m\u001b[0m\u001b[1;33m\u001b[0m\u001b[0m\n",
      "\u001b[1;31mKeyboardInterrupt\u001b[0m: "
     ]
    }
   ],
   "source": [
    "from xgboost import XGBClassifier\n",
    "xgb = XGBClassifier()\n",
    "\n",
    "steps1 = [('forest',  XGBClassifier(random_state=42, tree_method='hist',))] \n",
    "\n",
    "pipeline1 = Pipeline(steps1)\n",
    "\n",
    "parameters1 = {'forest__n_estimators':[200,500], 'forest__min_samples_split':[2,3,4],\n",
    "               'forest__booster':['gbtree','dart'],'forest__grow_policy':['lossguide','depthwise'],\n",
    "              'forest__max_bin':[128,256]} \n",
    "    \n",
    "grid1 = GridSearchCV(pipeline1, param_grid=parameters1, cv=5)\n",
    "\n",
    "grid1.fit(X_train, y_train)\n",
    "print(\"score = %3.4f\" %(grid1.score(X_test,y_test)))\n",
    "print(grid1.best_params_)\n",
    "pred1 = grid1.best_estimator_.predict(X_test)\n",
    "print(confusion_matrix(y_test, pred1))"
   ]
  },
  {
   "cell_type": "code",
   "execution_count": 34,
   "metadata": {
    "ExecuteTime": {
     "end_time": "2019-11-25T15:12:00.417974Z",
     "start_time": "2019-11-25T15:11:56.377537Z"
    }
   },
   "outputs": [
    {
     "name": "stdout",
     "output_type": "stream",
     "text": [
      "[[2719    1    0]\n",
      " [  12    1    0]\n",
      " [   2    2    3]]\n"
     ]
    }
   ],
   "source": [
    "from xgboost import XGBClassifier\n",
    "xgb = XGBClassifier(booster='gbtree',grow_policy='lossguide',max_bin=128,\n",
    "                    min_samples_split=2, n_estimators=200)\n",
    "\n",
    "xgb.fit(X_train, y_train)\n",
    "preddy = xgb.predict(X_test)\n",
    "print(confusion_matrix(y_test, preddy))"
   ]
  },
  {
   "cell_type": "code",
   "execution_count": 35,
   "metadata": {
    "ExecuteTime": {
     "end_time": "2019-11-25T15:12:12.963350Z",
     "start_time": "2019-11-25T15:12:12.463685Z"
    }
   },
   "outputs": [
    {
     "data": {
      "text/plain": [
       "<matplotlib.axes._subplots.AxesSubplot at 0x1e4597b84e0>"
      ]
     },
     "execution_count": 35,
     "metadata": {},
     "output_type": "execute_result"
    },
    {
     "data": {
      "image/png": "[encoded data removed]",
      "text/plain": [
       "<Figure size 432x288 with 1 Axes>"
      ]
     },
     "metadata": {},
     "output_type": "display_data"
    }
   ],
   "source": [
    "import xgboost\n",
    "xgboost.plot_importance(xgb, importance_type='gain')"
   ]
  },
  {
   "cell_type": "code",
   "execution_count": 41,
   "metadata": {
    "ExecuteTime": {
     "end_time": "2019-10-21T14:21:22.423787Z",
     "start_time": "2019-10-21T14:21:22.275361Z"
    }
   },
   "outputs": [
    {
     "name": "stdout",
     "output_type": "stream",
     "text": [
      "Multiple Comparison of Means - Tukey HSD, FWER=0.05 \n",
      "====================================================\n",
      "group1 group2 meandiff p-adj   lower   upper  reject\n",
      "----------------------------------------------------\n",
      "     0      1  -0.0546 0.0021 -0.0923 -0.0168   True\n",
      "     0      2  -0.2383  0.001 -0.2891 -0.1876   True\n",
      "     1      2  -0.1838  0.001 -0.2469 -0.1206   True\n",
      "----------------------------------------------------\n",
      "For Salinity [0 1 2] \n",
      "\n",
      "\n",
      "Multiple Comparison of Means - Tukey HSD, FWER=0.05\n",
      "===================================================\n",
      "group1 group2 meandiff p-adj  lower   upper  reject\n",
      "---------------------------------------------------\n",
      "     0      1  -0.0147 0.001 -0.0235 -0.0059   True\n",
      "     0      2  -0.2209 0.001 -0.2327  -0.209   True\n",
      "     1      2  -0.2061 0.001 -0.2209 -0.1914   True\n",
      "---------------------------------------------------\n",
      "For Salinity Change [0 1 2] \n",
      "\n",
      "\n",
      "Multiple Comparison of Means - Tukey HSD, FWER=0.05\n",
      "==================================================\n",
      "group1 group2 meandiff p-adj  lower  upper  reject\n",
      "--------------------------------------------------\n",
      "     0      1   0.0755   0.9 -0.6887 0.8396  False\n",
      "     0      2   0.1367   0.9 -0.8895 1.1628  False\n",
      "     1      2   0.0612   0.9 -1.2159 1.3383  False\n",
      "--------------------------------------------------\n",
      "For Wind Speed [0 1 2] \n",
      "\n",
      "\n",
      "Multiple Comparison of Means - Tukey HSD, FWER=0.05 \n",
      "====================================================\n",
      "group1 group2 meandiff p-adj   lower   upper  reject\n",
      "----------------------------------------------------\n",
      "     0      1   -0.038    0.9 -0.2615  0.1856  False\n",
      "     0      2  -0.4674  0.001 -0.7676 -0.1672   True\n",
      "     1      2  -0.4294 0.0193  -0.803 -0.0558   True\n",
      "----------------------------------------------------\n",
      "For Wind Change [0 1 2] \n",
      "\n",
      "\n",
      "Multiple Comparison of Means - Tukey HSD, FWER=0.05 \n",
      "====================================================\n",
      "group1 group2 meandiff p-adj   lower   upper  reject\n",
      "----------------------------------------------------\n",
      "     0      1  -0.5408 0.0283 -1.0361 -0.0454   True\n",
      "     0      2  -0.0087    0.9 -0.6739  0.6565  False\n",
      "     1      2   0.5321 0.2883 -0.2958  1.3599  False\n",
      "----------------------------------------------------\n",
      "For Temperature [0 1 2] \n",
      "\n",
      "\n",
      "  Multiple Comparison of Means - Tukey HSD, FWER=0.05  \n",
      "=======================================================\n",
      "group1 group2 meandiff p-adj    lower    upper   reject\n",
      "-------------------------------------------------------\n",
      "     0      1  85.8892  0.001   40.2218 131.5566   True\n",
      "     0      2  51.1622 0.1237   -10.167 112.4914  False\n",
      "     1      2  -34.727 0.5334 -111.0504  41.5964  False\n",
      "-------------------------------------------------------\n",
      "For Wind Direction [0 1 2] \n",
      "\n",
      "\n",
      "Multiple Comparison of Means - Tukey HSD, FWER=0.05 \n",
      "====================================================\n",
      "group1 group2 meandiff p-adj   lower   upper  reject\n",
      "----------------------------------------------------\n",
      "     0      1  -0.0264 0.0098 -0.0477 -0.0052   True\n",
      "     0      2  -0.0685  0.001  -0.097   -0.04   True\n",
      "     1      2  -0.0421 0.0151 -0.0776 -0.0066   True\n",
      "----------------------------------------------------\n",
      "For Time Differential [0 1 2] \n",
      "\n",
      "\n"
     ]
    }
   ],
   "source": [
    "## So group 0 is below the threshold, group 1 is at or above\n",
    "from statsmodels.stats.multicomp import pairwise_tukeyhsd\n",
    "from statsmodels.stats.multicomp import MultiComparison\n",
    "#Would need to merge things \n",
    "mc = MultiComparison(new_enc['sss'], new_enc['thres'])\n",
    "result = mc.tukeyhsd()\n",
    "\n",
    "mc1 = MultiComparison(new_enc['sss_change'], new_enc['thres'])\n",
    "result1 = mc1.tukeyhsd()\n",
    "\n",
    "mc2 = MultiComparison(new_enc['wind_spd'], new_enc['thres'])\n",
    "result2 = mc2.tukeyhsd()\n",
    "\n",
    "mc3 = MultiComparison(new_enc['wind_change'], new_enc['thres'])\n",
    "result3 = mc3.tukeyhsd()\n",
    "\n",
    "mc4 = MultiComparison(new_enc['sst'], new_enc['thres'])\n",
    "result4 = mc4.tukeyhsd()\n",
    "\n",
    "mc5 = MultiComparison(new_enc['wind_dir'], new_enc['thres'])\n",
    "result5 = mc5.tukeyhsd()\n",
    "\n",
    "mc6 = MultiComparison(new_enc['temp_change'], new_enc['thres'])\n",
    "result6 = mc6.tukeyhsd()\n",
    "\n",
    "mc7 = MultiComparison(new_enc['differential'], new_enc['thres'])\n",
    "result7 = mc7.tukeyhsd()\n",
    " \n",
    "print(result)\n",
    "print('For Salinity', mc.groupsunique,'\\n\\n')\n",
    "\n",
    "print(result1)\n",
    "print('For Salinity Change', mc1.groupsunique,'\\n\\n')\n",
    "\n",
    "print(result2)\n",
    "print('For Wind Speed', mc2.groupsunique,'\\n\\n')\n",
    "\n",
    "print(result3)\n",
    "print('For Wind Change',mc3.groupsunique,'\\n\\n')\n",
    "\n",
    "print(result4)\n",
    "print('For Temperature',mc4.groupsunique,'\\n\\n')\n",
    "\n",
    "print(result5)\n",
    "print('For Wind Direction',mc5.groupsunique,'\\n\\n')\n",
    "\n",
    "print(result6)\n",
    "print('For Time Differential',mc6.groupsunique,'\\n\\n')"
   ]
  },
  {
   "cell_type": "code",
   "execution_count": 91,
   "metadata": {
    "ExecuteTime": {
     "end_time": "2019-10-24T20:00:28.707206Z",
     "start_time": "2019-10-24T20:00:28.680256Z"
    }
   },
   "outputs": [],
   "source": [
    "def label_ses(row):\n",
    "    if row['season_Winter'] == 1:\n",
    "        return 'Winter'\n",
    "    if row['season_Spring'] == 1 :\n",
    "        return 'Spring'\n",
    "    if row['season_Summer'] == 1 :\n",
    "        return 'Summer'\n",
    "    if row['season_Fall'] == 1:\n",
    "        return 'Fall'"
   ]
  },
  {
   "cell_type": "code",
   "execution_count": 92,
   "metadata": {
    "ExecuteTime": {
     "end_time": "2019-10-24T20:00:32.327061Z",
     "start_time": "2019-10-24T20:00:31.986333Z"
    }
   },
   "outputs": [],
   "source": [
    "new_enc['Seasons'] = new_enc.apply(lambda row: label_ses(row), axis=1)"
   ]
  },
  {
   "cell_type": "code",
   "execution_count": 93,
   "metadata": {
    "ExecuteTime": {
     "end_time": "2019-10-24T20:00:37.545836Z",
     "start_time": "2019-10-24T20:00:37.458260Z"
    }
   },
   "outputs": [
    {
     "name": "stdout",
     "output_type": "stream",
     "text": [
      "Multiple Comparison of Means - Tukey HSD, FWER=0.05\n",
      "===================================================\n",
      "group1 group2 meandiff p-adj  lower   upper  reject\n",
      "---------------------------------------------------\n",
      "  Fall Spring  -0.1468 0.001 -0.1533 -0.1403   True\n",
      "  Fall Summer   -0.175 0.001 -0.1815 -0.1685   True\n",
      "  Fall Winter   -0.103 0.001 -0.1095 -0.0964   True\n",
      "Spring Summer  -0.0282 0.001  -0.035 -0.0214   True\n",
      "Spring Winter   0.0438 0.001   0.037  0.0506   True\n",
      "Summer Winter    0.072 0.001  0.0652  0.0788   True\n",
      "---------------------------------------------------\n",
      "For Salinity ['Fall' 'Spring' 'Summer' 'Winter'] \n",
      "\n",
      "\n",
      "Multiple Comparison of Means - Tukey HSD, FWER=0.05\n",
      "==================================================\n",
      "group1 group2 meandiff p-adj  lower  upper  reject\n",
      "--------------------------------------------------\n",
      "  Fall Spring  -0.0001   0.9 -0.0022  0.002  False\n",
      "  Fall Summer  -0.0001   0.9 -0.0022 0.0021  False\n",
      "  Fall Winter  -0.0001   0.9 -0.0022  0.002  False\n",
      "Spring Summer      0.0   0.9 -0.0022 0.0022  False\n",
      "Spring Winter     -0.0   0.9 -0.0022 0.0022  False\n",
      "Summer Winter     -0.0   0.9 -0.0022 0.0022  False\n",
      "--------------------------------------------------\n",
      "For Salinity Change ['Fall' 'Spring' 'Summer' 'Winter'] \n",
      "\n",
      "\n",
      "Multiple Comparison of Means - Tukey HSD, FWER=0.05\n",
      "===================================================\n",
      "group1 group2 meandiff p-adj  lower   upper  reject\n",
      "---------------------------------------------------\n",
      "  Fall Spring  -1.0031 0.001 -1.1664 -0.8397   True\n",
      "  Fall Summer  -0.0002   0.9 -0.1635  0.1631  False\n",
      "  Fall Winter  -0.0214   0.9 -0.1857  0.1429  False\n",
      "Spring Summer   1.0028 0.001  0.8336   1.172   True\n",
      "Spring Winter   0.9817 0.001  0.8115  1.1518   True\n",
      "Summer Winter  -0.0212   0.9 -0.1913  0.1489  False\n",
      "---------------------------------------------------\n",
      "For Wind Speed ['Fall' 'Spring' 'Summer' 'Winter'] \n",
      "\n",
      "\n",
      "Multiple Comparison of Means - Tukey HSD, FWER=0.05\n",
      "==================================================\n",
      "group1 group2 meandiff p-adj  lower  upper  reject\n",
      "--------------------------------------------------\n",
      "  Fall Spring   0.0007   0.9  -0.048 0.0494  False\n",
      "  Fall Summer  -0.0014   0.9 -0.0502 0.0473  False\n",
      "  Fall Winter  -0.0028   0.9 -0.0518 0.0462  False\n",
      "Spring Summer  -0.0022   0.9 -0.0526 0.0483  False\n",
      "Spring Winter  -0.0035   0.9 -0.0543 0.0472  False\n",
      "Summer Winter  -0.0013   0.9 -0.0521 0.0494  False\n",
      "--------------------------------------------------\n",
      "For Wind Speed Change ['Fall' 'Spring' 'Summer' 'Winter'] \n",
      "\n",
      "\n",
      "Multiple Comparison of Means - Tukey HSD, FWER=0.05\n",
      "===================================================\n",
      "group1 group2 meandiff p-adj  lower   upper  reject\n",
      "---------------------------------------------------\n",
      "  Fall Spring  -2.9837 0.001 -3.0388 -2.9286   True\n",
      "  Fall Summer  -1.2114 0.001 -1.2665 -1.1563   True\n",
      "  Fall Winter  -2.7876 0.001  -2.843 -2.7322   True\n",
      "Spring Summer   1.7724 0.001  1.7153  1.8294   True\n",
      "Spring Winter   0.1961 0.001  0.1387  0.2535   True\n",
      "Summer Winter  -1.5763 0.001 -1.6336 -1.5189   True\n",
      "---------------------------------------------------\n",
      "For Temperature ['Fall' 'Spring' 'Summer' 'Winter'] \n",
      "\n",
      "\n",
      "Multiple Comparison of Means - Tukey HSD, FWER=0.05\n",
      "==================================================\n",
      "group1 group2 meandiff p-adj  lower  upper  reject\n",
      "--------------------------------------------------\n",
      "  Fall Spring  -0.0001   0.9 -0.0016 0.0015  False\n",
      "  Fall Summer  -0.0001   0.9 -0.0016 0.0015  False\n",
      "  Fall Winter  -0.0001   0.9 -0.0016 0.0015  False\n",
      "Spring Summer      0.0   0.9 -0.0016 0.0016  False\n",
      "Spring Winter     -0.0   0.9 -0.0016 0.0016  False\n",
      "Summer Winter     -0.0   0.9 -0.0016 0.0016  False\n",
      "--------------------------------------------------\n",
      "For Time Differential ['Fall' 'Spring' 'Summer' 'Winter'] \n",
      "\n",
      "\n"
     ]
    }
   ],
   "source": [
    "mc = MultiComparison(new_enc['sss'], new_enc['Seasons'])\n",
    "result = mc.tukeyhsd()\n",
    "\n",
    "mc1 = MultiComparison(new_enc['sss_change'], new_enc['Seasons'])\n",
    "result1 = mc1.tukeyhsd()\n",
    "\n",
    "mc2 = MultiComparison(new_enc['wind_spd'], new_enc['Seasons'])\n",
    "result2 = mc2.tukeyhsd()\n",
    "\n",
    "mc3 = MultiComparison(new_enc['wind_change'], new_enc['Seasons'])\n",
    "result3 = mc3.tukeyhsd()\n",
    "\n",
    "mc4 = MultiComparison(new_enc['sst'], new_enc['Seasons'])\n",
    "result4 = mc4.tukeyhsd()\n",
    "\n",
    "mc5 = MultiComparison(new_enc['differential'], new_enc['Seasons'])\n",
    "result5 = mc5.tukeyhsd()\n",
    " \n",
    "print(result)\n",
    "print('For Salinity', mc.groupsunique,'\\n\\n')\n",
    "\n",
    "print(result1)\n",
    "print('For Salinity Change', mc1.groupsunique,'\\n\\n')\n",
    "\n",
    "print(result2)\n",
    "print('For Wind Speed', mc2.groupsunique,'\\n\\n')\n",
    "\n",
    "print(result3)\n",
    "print('For Wind Speed Change',mc3.groupsunique,'\\n\\n')\n",
    "\n",
    "print(result4)\n",
    "print('For Temperature',mc4.groupsunique,'\\n\\n')\n",
    "\n",
    "print(result5)\n",
    "print('For Time Differential',mc5.groupsunique,'\\n\\n')"
   ]
  },
  {
   "cell_type": "code",
   "execution_count": 94,
   "metadata": {
    "ExecuteTime": {
     "end_time": "2019-10-24T20:01:54.454882Z",
     "start_time": "2019-10-24T20:01:54.446580Z"
    }
   },
   "outputs": [
    {
     "data": {
      "text/plain": [
       "Index(['new_time', 'time', 'sss', 'sst', 'wind_spd', 'wind_dir', 'precip',\n",
       "       'cum_precip3', 'cum_precip6', 'year', 'month', 'day', 'sss_change',\n",
       "       'wind_change', 'differential', 'season_Fall', 'season_Spring',\n",
       "       'season_Summer', 'season_Winter', 'hour_Day', 'hour_Night', 'thres',\n",
       "       'temp_change', 'Seasons'],\n",
       "      dtype='object')"
      ]
     },
     "execution_count": 94,
     "metadata": {},
     "output_type": "execute_result"
    }
   ],
   "source": [
    "new_enc.columns"
   ]
  },
  {
   "cell_type": "code",
   "execution_count": 47,
   "metadata": {
    "ExecuteTime": {
     "end_time": "2019-10-21T14:22:41.903433Z",
     "start_time": "2019-10-21T14:22:41.628664Z"
    }
   },
   "outputs": [],
   "source": [
    "new_enc.to_csv('new_enc.csv')"
   ]
  },
  {
   "cell_type": "code",
   "execution_count": 48,
   "metadata": {
    "ExecuteTime": {
     "end_time": "2019-10-21T14:22:42.644366Z",
     "start_time": "2019-10-21T14:22:42.636373Z"
    }
   },
   "outputs": [
    {
     "data": {
      "text/plain": [
       "array([3, 4, 5], dtype=int64)"
      ]
     },
     "execution_count": 48,
     "metadata": {},
     "output_type": "execute_result"
    }
   ],
   "source": [
    "new_enc[new_enc['season_Spring'] ==1]['month'].unique()"
   ]
  },
  {
   "cell_type": "code",
   "execution_count": 49,
   "metadata": {
    "ExecuteTime": {
     "end_time": "2019-10-21T14:22:43.443330Z",
     "start_time": "2019-10-21T14:22:43.434272Z"
    }
   },
   "outputs": [
    {
     "data": {
      "text/plain": [
       "year  thres  Seasons\n",
       "2012  0      Fall       1832\n",
       "             Winter      734\n",
       "      1      Fall         11\n",
       "             Winter        7\n",
       "      2      Fall          9\n",
       "             Winter        3\n",
       "2013  0      Summer     2208\n",
       "             Spring     2196\n",
       "             Winter     1390\n",
       "             Fall        700\n",
       "      1      Winter       17\n",
       "             Spring       10\n",
       "             Fall          2\n",
       "      2      Winter        9\n",
       "             Fall          3\n",
       "             Spring        2\n",
       "Name: Seasons, dtype: int64"
      ]
     },
     "execution_count": 49,
     "metadata": {},
     "output_type": "execute_result"
    }
   ],
   "source": [
    "new_enc.groupby(['year','thres'])['Seasons'].value_counts()"
   ]
  },
  {
   "cell_type": "code",
   "execution_count": 50,
   "metadata": {
    "ExecuteTime": {
     "end_time": "2019-10-21T14:22:45.913846Z",
     "start_time": "2019-10-21T14:22:45.906835Z"
    }
   },
   "outputs": [
    {
     "data": {
      "text/plain": [
       "array([ 9, 10, 11], dtype=int64)"
      ]
     },
     "execution_count": 50,
     "metadata": {},
     "output_type": "execute_result"
    }
   ],
   "source": [
    "new_enc[new_enc['Seasons']=='Fall']['month'].unique()"
   ]
  },
  {
   "cell_type": "code",
   "execution_count": 51,
   "metadata": {
    "ExecuteTime": {
     "end_time": "2019-10-21T14:22:46.303647Z",
     "start_time": "2019-10-21T14:22:46.280552Z"
    }
   },
   "outputs": [
    {
     "name": "stdout",
     "output_type": "stream",
     "text": [
      "season_Winter  thres\n",
      "1              0        2124\n",
      "               1          24\n",
      "               2          12\n",
      "Name: thres, dtype: int64\n",
      "season_Spring  thres\n",
      "1              0        2196\n",
      "               1          10\n",
      "               2           2\n",
      "Name: thres, dtype: int64\n",
      "season_Summer  thres\n",
      "1              0        2208\n",
      "Name: thres, dtype: int64\n"
     ]
    },
    {
     "data": {
      "text/plain": [
       "season_Fall  thres\n",
       "1            0        2532\n",
       "             1          13\n",
       "             2          12\n",
       "Name: thres, dtype: int64"
      ]
     },
     "execution_count": 51,
     "metadata": {},
     "output_type": "execute_result"
    }
   ],
   "source": [
    "print(new_enc[new_enc['season_Winter'] ==1].groupby('season_Winter')['thres'].value_counts())\n",
    "print(new_enc[new_enc['season_Spring'] ==1].groupby('season_Spring')['thres'].value_counts())\n",
    "print(new_enc[new_enc['season_Summer'] ==1].groupby('season_Summer')['thres'].value_counts())\n",
    "new_enc[new_enc['season_Fall'] ==1].groupby('season_Fall')['thres'].value_counts()"
   ]
  },
  {
   "cell_type": "markdown",
   "metadata": {},
   "source": [
    "So using multiple groups (group 0 as everything below a 33% rainfall value threshold, group 1 as the 33%-50%, and group 2 as the 50% and above values) we can see that there are significant differences in mean values for several fields and several thresholds"
   ]
  },
  {
   "cell_type": "code",
   "execution_count": 52,
   "metadata": {
    "ExecuteTime": {
     "end_time": "2019-10-21T14:22:49.479552Z",
     "start_time": "2019-10-21T14:22:49.467521Z"
    }
   },
   "outputs": [
    {
     "name": "stdout",
     "output_type": "stream",
     "text": [
      "hour_Day  thres\n",
      "1         0        4530\n",
      "          1          24\n",
      "          2           9\n",
      "Name: thres, dtype: int64\n",
      "hour_Night  thres\n",
      "1           0        4530\n",
      "            1          23\n",
      "            2          17\n",
      "Name: thres, dtype: int64\n"
     ]
    }
   ],
   "source": [
    "print(new_enc[new_enc['hour_Day'] ==1].groupby('hour_Day')['thres'].value_counts())\n",
    "print(new_enc[new_enc['hour_Night'] ==1].groupby('hour_Night')['thres'].value_counts())"
   ]
  },
  {
   "cell_type": "code",
   "execution_count": 53,
   "metadata": {
    "ExecuteTime": {
     "end_time": "2019-10-21T14:22:50.045415Z",
     "start_time": "2019-10-21T14:22:50.036357Z"
    }
   },
   "outputs": [
    {
     "data": {
      "text/plain": [
       "sss             37.443455\n",
       "sst             24.411147\n",
       "wind_change     -0.015505\n",
       "sss_change       0.000169\n",
       "differential     0.000144\n",
       "dtype: float64"
      ]
     },
     "execution_count": 53,
     "metadata": {},
     "output_type": "execute_result"
    }
   ],
   "source": [
    "new_enc[new_enc['thres'] == 0][['sss','sst','wind_change','sss_change','differential']].median()"
   ]
  },
  {
   "cell_type": "code",
   "execution_count": 54,
   "metadata": {
    "ExecuteTime": {
     "end_time": "2019-10-21T14:22:52.128444Z",
     "start_time": "2019-10-21T14:22:52.121391Z"
    }
   },
   "outputs": [
    {
     "data": {
      "text/plain": [
       "sss             37.413277\n",
       "sst             23.989583\n",
       "wind_change      0.127998\n",
       "sss_change      -0.016222\n",
       "differential    -0.014341\n",
       "dtype: float64"
      ]
     },
     "execution_count": 54,
     "metadata": {},
     "output_type": "execute_result"
    }
   ],
   "source": [
    "new_enc[new_enc['thres'] == 1][['sss','sst','wind_change','sss_change','differential']].median()"
   ]
  },
  {
   "cell_type": "code",
   "execution_count": 55,
   "metadata": {
    "ExecuteTime": {
     "end_time": "2019-10-21T14:22:52.320132Z",
     "start_time": "2019-10-21T14:22:52.311090Z"
    }
   },
   "outputs": [
    {
     "data": {
      "text/plain": [
       "sss             37.327668\n",
       "sst             24.384788\n",
       "wind_change     -0.339796\n",
       "sss_change      -0.104618\n",
       "differential    -0.065849\n",
       "dtype: float64"
      ]
     },
     "execution_count": 55,
     "metadata": {},
     "output_type": "execute_result"
    }
   ],
   "source": [
    "new_enc[new_enc['thres'] == 2][['sss','sst','wind_change','sss_change','differential']].median()"
   ]
  },
  {
   "cell_type": "code",
   "execution_count": 56,
   "metadata": {
    "ExecuteTime": {
     "end_time": "2019-10-21T14:22:52.514045Z",
     "start_time": "2019-10-21T14:22:52.502015Z"
    }
   },
   "outputs": [
    {
     "data": {
      "text/plain": [
       "sss             37.442440\n",
       "sst             24.400775\n",
       "wind_change     -0.016955\n",
       "sss_change       0.000232\n",
       "differential     0.000229\n",
       "dtype: float64"
      ]
     },
     "execution_count": 56,
     "metadata": {},
     "output_type": "execute_result"
    }
   ],
   "source": [
    "new_enc[new_enc['hour_Day'] == 1][['sss','sst','wind_change','sss_change','differential']].median()"
   ]
  },
  {
   "cell_type": "code",
   "execution_count": 57,
   "metadata": {
    "ExecuteTime": {
     "end_time": "2019-10-21T14:22:52.708588Z",
     "start_time": "2019-10-21T14:22:52.698562Z"
    }
   },
   "outputs": [
    {
     "data": {
      "text/plain": [
       "sss             37.443875\n",
       "sst             24.410080\n",
       "wind_change     -0.012461\n",
       "sss_change       0.000078\n",
       "differential     0.000037\n",
       "dtype: float64"
      ]
     },
     "execution_count": 57,
     "metadata": {},
     "output_type": "execute_result"
    }
   ],
   "source": [
    "new_enc[new_enc['hour_Day'] == 0][['sss','sst','wind_change','sss_change','differential']].median()"
   ]
  },
  {
   "cell_type": "markdown",
   "metadata": {},
   "source": [
    "# Models"
   ]
  },
  {
   "cell_type": "code",
   "execution_count": 58,
   "metadata": {
    "ExecuteTime": {
     "end_time": "2019-10-21T14:22:56.595331Z",
     "start_time": "2019-10-21T14:22:56.591326Z"
    }
   },
   "outputs": [
    {
     "data": {
      "text/plain": [
       "Index(['new_time', 'time', 'sss', 'sst', 'wind_spd', 'wind_dir', 'precip',\n",
       "       'cum_precip3', 'cum_precip6', 'year', 'month', 'day', 'sss_change',\n",
       "       'wind_change', 'differential', 'season_Fall', 'season_Spring',\n",
       "       'season_Summer', 'season_Winter', 'hour_Day', 'hour_Night', 'thres',\n",
       "       'temp_change', 'Seasons'],\n",
       "      dtype='object')"
      ]
     },
     "execution_count": 58,
     "metadata": {},
     "output_type": "execute_result"
    }
   ],
   "source": [
    "new_enc.columns"
   ]
  },
  {
   "cell_type": "code",
   "execution_count": 59,
   "metadata": {
    "ExecuteTime": {
     "end_time": "2019-10-21T14:22:59.732623Z",
     "start_time": "2019-10-21T14:22:59.723598Z"
    }
   },
   "outputs": [],
   "source": [
    "from sklearn.model_selection import train_test_split, GridSearchCV\n",
    "from sklearn.metrics import confusion_matrix, classification_report\n",
    "from sklearn.pipeline import Pipeline\n",
    "from sklearn.linear_model import LogisticRegression\n",
    "from sklearn.ensemble import RandomForestClassifier\n",
    "from sklearn.preprocessing import StandardScaler, RobustScaler\n",
    "X = new_enc2.drop(['cum_precip3','cum_precip6','thres','time','new_time',\n",
    "                 'wind_dir','precip'],axis=1)\n",
    "y=new_enc2['thres']\n",
    "\n",
    "X_train, X_test, y_train, y_test = train_test_split(X, y, test_size=0.3, random_state=42)"
   ]
  },
  {
   "cell_type": "code",
   "execution_count": 60,
   "metadata": {
    "ExecuteTime": {
     "end_time": "2019-10-21T14:23:01.573576Z",
     "start_time": "2019-10-21T14:23:01.569533Z"
    }
   },
   "outputs": [
    {
     "data": {
      "text/plain": [
       "Index(['sss', 'sst', 'wind_spd', 'year', 'month', 'day', 'sss_change',\n",
       "       'wind_change', 'differential', 'season_Fall', 'season_Spring',\n",
       "       'season_Summer', 'season_Winter', 'hour_Day', 'hour_Night',\n",
       "       'temp_change'],\n",
       "      dtype='object')"
      ]
     },
     "execution_count": 60,
     "metadata": {},
     "output_type": "execute_result"
    }
   ],
   "source": [
    "X.columns"
   ]
  },
  {
   "cell_type": "code",
   "execution_count": 78,
   "metadata": {
    "ExecuteTime": {
     "end_time": "2019-10-17T20:29:11.081746Z",
     "start_time": "2019-10-17T20:23:13.617153Z"
    }
   },
   "outputs": [
    {
     "name": "stdout",
     "output_type": "stream",
     "text": [
      "score = 0.9927\n",
      "{'log__C': 1, 'log__max_iter': 100, 'log__multi_class': 'multinomial', 'log__solver': 'sag'}\n",
      "[[2719    0    1]\n",
      " [  13    0    0]\n",
      " [   6    0    1]]\n"
     ]
    }
   ],
   "source": [
    "import warnings \n",
    "warnings.filterwarnings('ignore')\n",
    "log = LogisticRegression()\n",
    "rb = RobustScaler()\n",
    "steps = [('scaler',rb), ('log', log)]\n",
    "pipe = Pipeline(steps)\n",
    "parameters = {'log__C': [1, 10, 50, 100], 'log__multi_class': ['multinomial','auto'],\n",
    "               'log__solver': ['lbfgs','sag','saga','newton-cg'], 'log__max_iter': [100, 200,500],}\n",
    "\n",
    "grid = GridSearchCV(pipe, param_grid=parameters, cv=5)\n",
    "\n",
    "grid.fit(X_train, y_train)\n",
    "print(\"score = %3.4f\" %(grid.score(X_test,y_test)))\n",
    "print(grid.best_params_)\n",
    "\n",
    "from sklearn.metrics import confusion_matrix\n",
    "pred = grid.best_estimator_.predict(X_test)\n",
    "print(confusion_matrix(y_test, pred))"
   ]
  },
  {
   "cell_type": "code",
   "execution_count": null,
   "metadata": {},
   "outputs": [],
   "source": [
    "log = LogisticRegression(C=1, max_iter=100, multi_class='multinomial',solver='sag')\n",
    "rb = RobustScaler()\n",
    "steps = [('scaler',rb), ('log', log)]\n",
    "pipe = Pipeline(steps)"
   ]
  },
  {
   "cell_type": "code",
   "execution_count": 79,
   "metadata": {
    "ExecuteTime": {
     "end_time": "2019-10-17T20:52:14.693615Z",
     "start_time": "2019-10-17T20:29:11.455465Z"
    }
   },
   "outputs": [
    {
     "name": "stdout",
     "output_type": "stream",
     "text": [
      "score = 0.9927\n",
      "{'forest__criterion': 'gini', 'forest__max_depth': None, 'forest__min_samples_split': 2, 'forest__n_estimators': 200}\n",
      "[[2720    0    0]\n",
      " [  13    0    0]\n",
      " [   6    1    0]]\n"
     ]
    }
   ],
   "source": [
    "steps1 = [('scaler', RobustScaler()), ('forest',  RandomForestClassifier(random_state=42))] \n",
    "\n",
    "pipeline1 = Pipeline(steps1)\n",
    "\n",
    "parameters1 = {'forest__n_estimators':[200,500,1000], 'forest__min_samples_split':[2,3,4],\n",
    "               'forest__criterion':['gini','entropy'],'forest__max_depth':[2,3,4,None]} \n",
    "    \n",
    "grid1 = GridSearchCV(pipeline1, param_grid=parameters1, cv=5, scoring='accuracy')\n",
    "\n",
    "grid1.fit(X_train, y_train)\n",
    "print(\"score = %3.4f\" %(grid1.score(X_test,y_test)))\n",
    "print(grid1.best_params_)\n",
    "pred1 = grid1.best_estimator_.predict(X_test)\n",
    "print(confusion_matrix(y_test, pred1))"
   ]
  },
  {
   "cell_type": "code",
   "execution_count": 80,
   "metadata": {
    "ExecuteTime": {
     "end_time": "2019-10-17T20:53:49.613909Z",
     "start_time": "2019-10-17T20:53:49.474661Z"
    }
   },
   "outputs": [
    {
     "name": "stdout",
     "output_type": "stream",
     "text": [
      "[[6340    0    0]\n",
      " [   0   34    0]\n",
      " [   0    0   19]]\n"
     ]
    }
   ],
   "source": [
    "pred2 = grid1.best_estimator_.predict(X_train)\n",
    "print(confusion_matrix(y_train, pred2))"
   ]
  },
  {
   "cell_type": "code",
   "execution_count": 81,
   "metadata": {
    "ExecuteTime": {
     "end_time": "2019-10-17T20:53:51.003911Z",
     "start_time": "2019-10-17T20:53:50.994147Z"
    }
   },
   "outputs": [
    {
     "data": {
      "text/plain": [
       "0    9060\n",
       "1      47\n",
       "2      26\n",
       "Name: thres, dtype: int64"
      ]
     },
     "execution_count": 81,
     "metadata": {},
     "output_type": "execute_result"
    }
   ],
   "source": [
    "new_enc['thres'].value_counts()"
   ]
  },
  {
   "cell_type": "code",
   "execution_count": 86,
   "metadata": {
    "ExecuteTime": {
     "end_time": "2019-10-17T22:46:26.033983Z",
     "start_time": "2019-10-17T22:45:24.336855Z"
    },
    "scrolled": true
   },
   "outputs": [
    {
     "ename": "KeyboardInterrupt",
     "evalue": "",
     "output_type": "error",
     "traceback": [
      "\u001b[1;31m---------------------------------------------------------------------------\u001b[0m",
      "\u001b[1;31mKeyboardInterrupt\u001b[0m                         Traceback (most recent call last)",
      "\u001b[1;32m<ipython-input-86-9c85774d7ab0>\u001b[0m in \u001b[0;36m<module>\u001b[1;34m\u001b[0m\n\u001b[0;32m     12\u001b[0m \u001b[0mgrid1\u001b[0m \u001b[1;33m=\u001b[0m \u001b[0mGridSearchCV\u001b[0m\u001b[1;33m(\u001b[0m\u001b[0mpipeline1\u001b[0m\u001b[1;33m,\u001b[0m \u001b[0mparam_grid\u001b[0m\u001b[1;33m=\u001b[0m\u001b[0mparameters1\u001b[0m\u001b[1;33m,\u001b[0m \u001b[0mcv\u001b[0m\u001b[1;33m=\u001b[0m\u001b[1;36m5\u001b[0m\u001b[1;33m)\u001b[0m\u001b[1;33m\u001b[0m\u001b[1;33m\u001b[0m\u001b[0m\n\u001b[0;32m     13\u001b[0m \u001b[1;33m\u001b[0m\u001b[0m\n\u001b[1;32m---> 14\u001b[1;33m \u001b[0mgrid1\u001b[0m\u001b[1;33m.\u001b[0m\u001b[0mfit\u001b[0m\u001b[1;33m(\u001b[0m\u001b[0mX_train\u001b[0m\u001b[1;33m,\u001b[0m \u001b[0my_train\u001b[0m\u001b[1;33m)\u001b[0m\u001b[1;33m\u001b[0m\u001b[1;33m\u001b[0m\u001b[0m\n\u001b[0m\u001b[0;32m     15\u001b[0m \u001b[0mprint\u001b[0m\u001b[1;33m(\u001b[0m\u001b[1;34m\"score = %3.4f\"\u001b[0m \u001b[1;33m%\u001b[0m\u001b[1;33m(\u001b[0m\u001b[0mgrid1\u001b[0m\u001b[1;33m.\u001b[0m\u001b[0mscore\u001b[0m\u001b[1;33m(\u001b[0m\u001b[0mX_test\u001b[0m\u001b[1;33m,\u001b[0m\u001b[0my_test\u001b[0m\u001b[1;33m)\u001b[0m\u001b[1;33m)\u001b[0m\u001b[1;33m)\u001b[0m\u001b[1;33m\u001b[0m\u001b[1;33m\u001b[0m\u001b[0m\n\u001b[0;32m     16\u001b[0m \u001b[0mprint\u001b[0m\u001b[1;33m(\u001b[0m\u001b[0mgrid1\u001b[0m\u001b[1;33m.\u001b[0m\u001b[0mbest_params_\u001b[0m\u001b[1;33m)\u001b[0m\u001b[1;33m\u001b[0m\u001b[1;33m\u001b[0m\u001b[0m\n",
      "\u001b[1;32m~\\AppData\\Local\\Continuum\\anaconda3\\envs\\deep\\lib\\site-packages\\sklearn\\model_selection\\_search.py\u001b[0m in \u001b[0;36mfit\u001b[1;34m(self, X, y, groups, **fit_params)\u001b[0m\n\u001b[0;32m    686\u001b[0m                 \u001b[1;32mreturn\u001b[0m \u001b[0mresults\u001b[0m\u001b[1;33m\u001b[0m\u001b[1;33m\u001b[0m\u001b[0m\n\u001b[0;32m    687\u001b[0m \u001b[1;33m\u001b[0m\u001b[0m\n\u001b[1;32m--> 688\u001b[1;33m             \u001b[0mself\u001b[0m\u001b[1;33m.\u001b[0m\u001b[0m_run_search\u001b[0m\u001b[1;33m(\u001b[0m\u001b[0mevaluate_candidates\u001b[0m\u001b[1;33m)\u001b[0m\u001b[1;33m\u001b[0m\u001b[1;33m\u001b[0m\u001b[0m\n\u001b[0m\u001b[0;32m    689\u001b[0m \u001b[1;33m\u001b[0m\u001b[0m\n\u001b[0;32m    690\u001b[0m         \u001b[1;31m# For multi-metric evaluation, store the best_index_, best_params_ and\u001b[0m\u001b[1;33m\u001b[0m\u001b[1;33m\u001b[0m\u001b[1;33m\u001b[0m\u001b[0m\n",
      "\u001b[1;32m~\\AppData\\Local\\Continuum\\anaconda3\\envs\\deep\\lib\\site-packages\\sklearn\\model_selection\\_search.py\u001b[0m in \u001b[0;36m_run_search\u001b[1;34m(self, evaluate_candidates)\u001b[0m\n\u001b[0;32m   1147\u001b[0m     \u001b[1;32mdef\u001b[0m \u001b[0m_run_search\u001b[0m\u001b[1;33m(\u001b[0m\u001b[0mself\u001b[0m\u001b[1;33m,\u001b[0m \u001b[0mevaluate_candidates\u001b[0m\u001b[1;33m)\u001b[0m\u001b[1;33m:\u001b[0m\u001b[1;33m\u001b[0m\u001b[1;33m\u001b[0m\u001b[0m\n\u001b[0;32m   1148\u001b[0m         \u001b[1;34m\"\"\"Search all candidates in param_grid\"\"\"\u001b[0m\u001b[1;33m\u001b[0m\u001b[1;33m\u001b[0m\u001b[0m\n\u001b[1;32m-> 1149\u001b[1;33m         \u001b[0mevaluate_candidates\u001b[0m\u001b[1;33m(\u001b[0m\u001b[0mParameterGrid\u001b[0m\u001b[1;33m(\u001b[0m\u001b[0mself\u001b[0m\u001b[1;33m.\u001b[0m\u001b[0mparam_grid\u001b[0m\u001b[1;33m)\u001b[0m\u001b[1;33m)\u001b[0m\u001b[1;33m\u001b[0m\u001b[1;33m\u001b[0m\u001b[0m\n\u001b[0m\u001b[0;32m   1150\u001b[0m \u001b[1;33m\u001b[0m\u001b[0m\n\u001b[0;32m   1151\u001b[0m \u001b[1;33m\u001b[0m\u001b[0m\n",
      "\u001b[1;32m~\\AppData\\Local\\Continuum\\anaconda3\\envs\\deep\\lib\\site-packages\\sklearn\\model_selection\\_search.py\u001b[0m in \u001b[0;36mevaluate_candidates\u001b[1;34m(candidate_params)\u001b[0m\n\u001b[0;32m    665\u001b[0m                                \u001b[1;32mfor\u001b[0m \u001b[0mparameters\u001b[0m\u001b[1;33m,\u001b[0m \u001b[1;33m(\u001b[0m\u001b[0mtrain\u001b[0m\u001b[1;33m,\u001b[0m \u001b[0mtest\u001b[0m\u001b[1;33m)\u001b[0m\u001b[1;33m\u001b[0m\u001b[1;33m\u001b[0m\u001b[0m\n\u001b[0;32m    666\u001b[0m                                in product(candidate_params,\n\u001b[1;32m--> 667\u001b[1;33m                                           cv.split(X, y, groups)))\n\u001b[0m\u001b[0;32m    668\u001b[0m \u001b[1;33m\u001b[0m\u001b[0m\n\u001b[0;32m    669\u001b[0m                 \u001b[1;32mif\u001b[0m \u001b[0mlen\u001b[0m\u001b[1;33m(\u001b[0m\u001b[0mout\u001b[0m\u001b[1;33m)\u001b[0m \u001b[1;33m<\u001b[0m \u001b[1;36m1\u001b[0m\u001b[1;33m:\u001b[0m\u001b[1;33m\u001b[0m\u001b[1;33m\u001b[0m\u001b[0m\n",
      "\u001b[1;32m~\\AppData\\Local\\Continuum\\anaconda3\\envs\\deep\\lib\\site-packages\\joblib\\parallel.py\u001b[0m in \u001b[0;36m__call__\u001b[1;34m(self, iterable)\u001b[0m\n\u001b[0;32m    922\u001b[0m                 \u001b[0mself\u001b[0m\u001b[1;33m.\u001b[0m\u001b[0m_iterating\u001b[0m \u001b[1;33m=\u001b[0m \u001b[0mself\u001b[0m\u001b[1;33m.\u001b[0m\u001b[0m_original_iterator\u001b[0m \u001b[1;32mis\u001b[0m \u001b[1;32mnot\u001b[0m \u001b[1;32mNone\u001b[0m\u001b[1;33m\u001b[0m\u001b[1;33m\u001b[0m\u001b[0m\n\u001b[0;32m    923\u001b[0m \u001b[1;33m\u001b[0m\u001b[0m\n\u001b[1;32m--> 924\u001b[1;33m             \u001b[1;32mwhile\u001b[0m \u001b[0mself\u001b[0m\u001b[1;33m.\u001b[0m\u001b[0mdispatch_one_batch\u001b[0m\u001b[1;33m(\u001b[0m\u001b[0miterator\u001b[0m\u001b[1;33m)\u001b[0m\u001b[1;33m:\u001b[0m\u001b[1;33m\u001b[0m\u001b[1;33m\u001b[0m\u001b[0m\n\u001b[0m\u001b[0;32m    925\u001b[0m                 \u001b[1;32mpass\u001b[0m\u001b[1;33m\u001b[0m\u001b[1;33m\u001b[0m\u001b[0m\n\u001b[0;32m    926\u001b[0m \u001b[1;33m\u001b[0m\u001b[0m\n",
      "\u001b[1;32m~\\AppData\\Local\\Continuum\\anaconda3\\envs\\deep\\lib\\site-packages\\joblib\\parallel.py\u001b[0m in \u001b[0;36mdispatch_one_batch\u001b[1;34m(self, iterator)\u001b[0m\n\u001b[0;32m    757\u001b[0m                 \u001b[1;32mreturn\u001b[0m \u001b[1;32mFalse\u001b[0m\u001b[1;33m\u001b[0m\u001b[1;33m\u001b[0m\u001b[0m\n\u001b[0;32m    758\u001b[0m             \u001b[1;32melse\u001b[0m\u001b[1;33m:\u001b[0m\u001b[1;33m\u001b[0m\u001b[1;33m\u001b[0m\u001b[0m\n\u001b[1;32m--> 759\u001b[1;33m                 \u001b[0mself\u001b[0m\u001b[1;33m.\u001b[0m\u001b[0m_dispatch\u001b[0m\u001b[1;33m(\u001b[0m\u001b[0mtasks\u001b[0m\u001b[1;33m)\u001b[0m\u001b[1;33m\u001b[0m\u001b[1;33m\u001b[0m\u001b[0m\n\u001b[0m\u001b[0;32m    760\u001b[0m                 \u001b[1;32mreturn\u001b[0m \u001b[1;32mTrue\u001b[0m\u001b[1;33m\u001b[0m\u001b[1;33m\u001b[0m\u001b[0m\n\u001b[0;32m    761\u001b[0m \u001b[1;33m\u001b[0m\u001b[0m\n",
      "\u001b[1;32m~\\AppData\\Local\\Continuum\\anaconda3\\envs\\deep\\lib\\site-packages\\joblib\\parallel.py\u001b[0m in \u001b[0;36m_dispatch\u001b[1;34m(self, batch)\u001b[0m\n\u001b[0;32m    714\u001b[0m         \u001b[1;32mwith\u001b[0m \u001b[0mself\u001b[0m\u001b[1;33m.\u001b[0m\u001b[0m_lock\u001b[0m\u001b[1;33m:\u001b[0m\u001b[1;33m\u001b[0m\u001b[1;33m\u001b[0m\u001b[0m\n\u001b[0;32m    715\u001b[0m             \u001b[0mjob_idx\u001b[0m \u001b[1;33m=\u001b[0m \u001b[0mlen\u001b[0m\u001b[1;33m(\u001b[0m\u001b[0mself\u001b[0m\u001b[1;33m.\u001b[0m\u001b[0m_jobs\u001b[0m\u001b[1;33m)\u001b[0m\u001b[1;33m\u001b[0m\u001b[1;33m\u001b[0m\u001b[0m\n\u001b[1;32m--> 716\u001b[1;33m             \u001b[0mjob\u001b[0m \u001b[1;33m=\u001b[0m \u001b[0mself\u001b[0m\u001b[1;33m.\u001b[0m\u001b[0m_backend\u001b[0m\u001b[1;33m.\u001b[0m\u001b[0mapply_async\u001b[0m\u001b[1;33m(\u001b[0m\u001b[0mbatch\u001b[0m\u001b[1;33m,\u001b[0m \u001b[0mcallback\u001b[0m\u001b[1;33m=\u001b[0m\u001b[0mcb\u001b[0m\u001b[1;33m)\u001b[0m\u001b[1;33m\u001b[0m\u001b[1;33m\u001b[0m\u001b[0m\n\u001b[0m\u001b[0;32m    717\u001b[0m             \u001b[1;31m# A job can complete so quickly than its callback is\u001b[0m\u001b[1;33m\u001b[0m\u001b[1;33m\u001b[0m\u001b[1;33m\u001b[0m\u001b[0m\n\u001b[0;32m    718\u001b[0m             \u001b[1;31m# called before we get here, causing self._jobs to\u001b[0m\u001b[1;33m\u001b[0m\u001b[1;33m\u001b[0m\u001b[1;33m\u001b[0m\u001b[0m\n",
      "\u001b[1;32m~\\AppData\\Local\\Continuum\\anaconda3\\envs\\deep\\lib\\site-packages\\joblib\\_parallel_backends.py\u001b[0m in \u001b[0;36mapply_async\u001b[1;34m(self, func, callback)\u001b[0m\n\u001b[0;32m    180\u001b[0m     \u001b[1;32mdef\u001b[0m \u001b[0mapply_async\u001b[0m\u001b[1;33m(\u001b[0m\u001b[0mself\u001b[0m\u001b[1;33m,\u001b[0m \u001b[0mfunc\u001b[0m\u001b[1;33m,\u001b[0m \u001b[0mcallback\u001b[0m\u001b[1;33m=\u001b[0m\u001b[1;32mNone\u001b[0m\u001b[1;33m)\u001b[0m\u001b[1;33m:\u001b[0m\u001b[1;33m\u001b[0m\u001b[1;33m\u001b[0m\u001b[0m\n\u001b[0;32m    181\u001b[0m         \u001b[1;34m\"\"\"Schedule a func to be run\"\"\"\u001b[0m\u001b[1;33m\u001b[0m\u001b[1;33m\u001b[0m\u001b[0m\n\u001b[1;32m--> 182\u001b[1;33m         \u001b[0mresult\u001b[0m \u001b[1;33m=\u001b[0m \u001b[0mImmediateResult\u001b[0m\u001b[1;33m(\u001b[0m\u001b[0mfunc\u001b[0m\u001b[1;33m)\u001b[0m\u001b[1;33m\u001b[0m\u001b[1;33m\u001b[0m\u001b[0m\n\u001b[0m\u001b[0;32m    183\u001b[0m         \u001b[1;32mif\u001b[0m \u001b[0mcallback\u001b[0m\u001b[1;33m:\u001b[0m\u001b[1;33m\u001b[0m\u001b[1;33m\u001b[0m\u001b[0m\n\u001b[0;32m    184\u001b[0m             \u001b[0mcallback\u001b[0m\u001b[1;33m(\u001b[0m\u001b[0mresult\u001b[0m\u001b[1;33m)\u001b[0m\u001b[1;33m\u001b[0m\u001b[1;33m\u001b[0m\u001b[0m\n",
      "\u001b[1;32m~\\AppData\\Local\\Continuum\\anaconda3\\envs\\deep\\lib\\site-packages\\joblib\\_parallel_backends.py\u001b[0m in \u001b[0;36m__init__\u001b[1;34m(self, batch)\u001b[0m\n\u001b[0;32m    547\u001b[0m         \u001b[1;31m# Don't delay the application, to avoid keeping the input\u001b[0m\u001b[1;33m\u001b[0m\u001b[1;33m\u001b[0m\u001b[1;33m\u001b[0m\u001b[0m\n\u001b[0;32m    548\u001b[0m         \u001b[1;31m# arguments in memory\u001b[0m\u001b[1;33m\u001b[0m\u001b[1;33m\u001b[0m\u001b[1;33m\u001b[0m\u001b[0m\n\u001b[1;32m--> 549\u001b[1;33m         \u001b[0mself\u001b[0m\u001b[1;33m.\u001b[0m\u001b[0mresults\u001b[0m \u001b[1;33m=\u001b[0m \u001b[0mbatch\u001b[0m\u001b[1;33m(\u001b[0m\u001b[1;33m)\u001b[0m\u001b[1;33m\u001b[0m\u001b[1;33m\u001b[0m\u001b[0m\n\u001b[0m\u001b[0;32m    550\u001b[0m \u001b[1;33m\u001b[0m\u001b[0m\n\u001b[0;32m    551\u001b[0m     \u001b[1;32mdef\u001b[0m \u001b[0mget\u001b[0m\u001b[1;33m(\u001b[0m\u001b[0mself\u001b[0m\u001b[1;33m)\u001b[0m\u001b[1;33m:\u001b[0m\u001b[1;33m\u001b[0m\u001b[1;33m\u001b[0m\u001b[0m\n",
      "\u001b[1;32m~\\AppData\\Local\\Continuum\\anaconda3\\envs\\deep\\lib\\site-packages\\joblib\\parallel.py\u001b[0m in \u001b[0;36m__call__\u001b[1;34m(self)\u001b[0m\n\u001b[0;32m    223\u001b[0m         \u001b[1;32mwith\u001b[0m \u001b[0mparallel_backend\u001b[0m\u001b[1;33m(\u001b[0m\u001b[0mself\u001b[0m\u001b[1;33m.\u001b[0m\u001b[0m_backend\u001b[0m\u001b[1;33m,\u001b[0m \u001b[0mn_jobs\u001b[0m\u001b[1;33m=\u001b[0m\u001b[0mself\u001b[0m\u001b[1;33m.\u001b[0m\u001b[0m_n_jobs\u001b[0m\u001b[1;33m)\u001b[0m\u001b[1;33m:\u001b[0m\u001b[1;33m\u001b[0m\u001b[1;33m\u001b[0m\u001b[0m\n\u001b[0;32m    224\u001b[0m             return [func(*args, **kwargs)\n\u001b[1;32m--> 225\u001b[1;33m                     for func, args, kwargs in self.items]\n\u001b[0m\u001b[0;32m    226\u001b[0m \u001b[1;33m\u001b[0m\u001b[0m\n\u001b[0;32m    227\u001b[0m     \u001b[1;32mdef\u001b[0m \u001b[0m__len__\u001b[0m\u001b[1;33m(\u001b[0m\u001b[0mself\u001b[0m\u001b[1;33m)\u001b[0m\u001b[1;33m:\u001b[0m\u001b[1;33m\u001b[0m\u001b[1;33m\u001b[0m\u001b[0m\n",
      "\u001b[1;32m~\\AppData\\Local\\Continuum\\anaconda3\\envs\\deep\\lib\\site-packages\\joblib\\parallel.py\u001b[0m in \u001b[0;36m<listcomp>\u001b[1;34m(.0)\u001b[0m\n\u001b[0;32m    223\u001b[0m         \u001b[1;32mwith\u001b[0m \u001b[0mparallel_backend\u001b[0m\u001b[1;33m(\u001b[0m\u001b[0mself\u001b[0m\u001b[1;33m.\u001b[0m\u001b[0m_backend\u001b[0m\u001b[1;33m,\u001b[0m \u001b[0mn_jobs\u001b[0m\u001b[1;33m=\u001b[0m\u001b[0mself\u001b[0m\u001b[1;33m.\u001b[0m\u001b[0m_n_jobs\u001b[0m\u001b[1;33m)\u001b[0m\u001b[1;33m:\u001b[0m\u001b[1;33m\u001b[0m\u001b[1;33m\u001b[0m\u001b[0m\n\u001b[0;32m    224\u001b[0m             return [func(*args, **kwargs)\n\u001b[1;32m--> 225\u001b[1;33m                     for func, args, kwargs in self.items]\n\u001b[0m\u001b[0;32m    226\u001b[0m \u001b[1;33m\u001b[0m\u001b[0m\n\u001b[0;32m    227\u001b[0m     \u001b[1;32mdef\u001b[0m \u001b[0m__len__\u001b[0m\u001b[1;33m(\u001b[0m\u001b[0mself\u001b[0m\u001b[1;33m)\u001b[0m\u001b[1;33m:\u001b[0m\u001b[1;33m\u001b[0m\u001b[1;33m\u001b[0m\u001b[0m\n",
      "\u001b[1;32m~\\AppData\\Local\\Continuum\\anaconda3\\envs\\deep\\lib\\site-packages\\sklearn\\model_selection\\_validation.py\u001b[0m in \u001b[0;36m_fit_and_score\u001b[1;34m(estimator, X, y, scorer, train, test, verbose, parameters, fit_params, return_train_score, return_parameters, return_n_test_samples, return_times, return_estimator, error_score)\u001b[0m\n\u001b[0;32m    514\u001b[0m             \u001b[0mestimator\u001b[0m\u001b[1;33m.\u001b[0m\u001b[0mfit\u001b[0m\u001b[1;33m(\u001b[0m\u001b[0mX_train\u001b[0m\u001b[1;33m,\u001b[0m \u001b[1;33m**\u001b[0m\u001b[0mfit_params\u001b[0m\u001b[1;33m)\u001b[0m\u001b[1;33m\u001b[0m\u001b[1;33m\u001b[0m\u001b[0m\n\u001b[0;32m    515\u001b[0m         \u001b[1;32melse\u001b[0m\u001b[1;33m:\u001b[0m\u001b[1;33m\u001b[0m\u001b[1;33m\u001b[0m\u001b[0m\n\u001b[1;32m--> 516\u001b[1;33m             \u001b[0mestimator\u001b[0m\u001b[1;33m.\u001b[0m\u001b[0mfit\u001b[0m\u001b[1;33m(\u001b[0m\u001b[0mX_train\u001b[0m\u001b[1;33m,\u001b[0m \u001b[0my_train\u001b[0m\u001b[1;33m,\u001b[0m \u001b[1;33m**\u001b[0m\u001b[0mfit_params\u001b[0m\u001b[1;33m)\u001b[0m\u001b[1;33m\u001b[0m\u001b[1;33m\u001b[0m\u001b[0m\n\u001b[0m\u001b[0;32m    517\u001b[0m \u001b[1;33m\u001b[0m\u001b[0m\n\u001b[0;32m    518\u001b[0m     \u001b[1;32mexcept\u001b[0m \u001b[0mException\u001b[0m \u001b[1;32mas\u001b[0m \u001b[0me\u001b[0m\u001b[1;33m:\u001b[0m\u001b[1;33m\u001b[0m\u001b[1;33m\u001b[0m\u001b[0m\n",
      "\u001b[1;32m~\\AppData\\Local\\Continuum\\anaconda3\\envs\\deep\\lib\\site-packages\\sklearn\\pipeline.py\u001b[0m in \u001b[0;36mfit\u001b[1;34m(self, X, y, **fit_params)\u001b[0m\n\u001b[0;32m    354\u001b[0m                                  self._log_message(len(self.steps) - 1)):\n\u001b[0;32m    355\u001b[0m             \u001b[1;32mif\u001b[0m \u001b[0mself\u001b[0m\u001b[1;33m.\u001b[0m\u001b[0m_final_estimator\u001b[0m \u001b[1;33m!=\u001b[0m \u001b[1;34m'passthrough'\u001b[0m\u001b[1;33m:\u001b[0m\u001b[1;33m\u001b[0m\u001b[1;33m\u001b[0m\u001b[0m\n\u001b[1;32m--> 356\u001b[1;33m                 \u001b[0mself\u001b[0m\u001b[1;33m.\u001b[0m\u001b[0m_final_estimator\u001b[0m\u001b[1;33m.\u001b[0m\u001b[0mfit\u001b[0m\u001b[1;33m(\u001b[0m\u001b[0mXt\u001b[0m\u001b[1;33m,\u001b[0m \u001b[0my\u001b[0m\u001b[1;33m,\u001b[0m \u001b[1;33m**\u001b[0m\u001b[0mfit_params\u001b[0m\u001b[1;33m)\u001b[0m\u001b[1;33m\u001b[0m\u001b[1;33m\u001b[0m\u001b[0m\n\u001b[0m\u001b[0;32m    357\u001b[0m         \u001b[1;32mreturn\u001b[0m \u001b[0mself\u001b[0m\u001b[1;33m\u001b[0m\u001b[1;33m\u001b[0m\u001b[0m\n\u001b[0;32m    358\u001b[0m \u001b[1;33m\u001b[0m\u001b[0m\n",
      "\u001b[1;32m~\\AppData\\Local\\Continuum\\anaconda3\\envs\\deep\\lib\\site-packages\\xgboost\\sklearn.py\u001b[0m in \u001b[0;36mfit\u001b[1;34m(self, X, y, sample_weight, eval_set, eval_metric, early_stopping_rounds, verbose, xgb_model, sample_weight_eval_set, callbacks)\u001b[0m\n\u001b[0;32m    730\u001b[0m                               \u001b[0mevals_result\u001b[0m\u001b[1;33m=\u001b[0m\u001b[0mevals_result\u001b[0m\u001b[1;33m,\u001b[0m \u001b[0mobj\u001b[0m\u001b[1;33m=\u001b[0m\u001b[0mobj\u001b[0m\u001b[1;33m,\u001b[0m \u001b[0mfeval\u001b[0m\u001b[1;33m=\u001b[0m\u001b[0mfeval\u001b[0m\u001b[1;33m,\u001b[0m\u001b[1;33m\u001b[0m\u001b[1;33m\u001b[0m\u001b[0m\n\u001b[0;32m    731\u001b[0m                               \u001b[0mverbose_eval\u001b[0m\u001b[1;33m=\u001b[0m\u001b[0mverbose\u001b[0m\u001b[1;33m,\u001b[0m \u001b[0mxgb_model\u001b[0m\u001b[1;33m=\u001b[0m\u001b[0mxgb_model\u001b[0m\u001b[1;33m,\u001b[0m\u001b[1;33m\u001b[0m\u001b[1;33m\u001b[0m\u001b[0m\n\u001b[1;32m--> 732\u001b[1;33m                               callbacks=callbacks)\n\u001b[0m\u001b[0;32m    733\u001b[0m \u001b[1;33m\u001b[0m\u001b[0m\n\u001b[0;32m    734\u001b[0m         \u001b[0mself\u001b[0m\u001b[1;33m.\u001b[0m\u001b[0mobjective\u001b[0m \u001b[1;33m=\u001b[0m \u001b[0mxgb_options\u001b[0m\u001b[1;33m[\u001b[0m\u001b[1;34m\"objective\"\u001b[0m\u001b[1;33m]\u001b[0m\u001b[1;33m\u001b[0m\u001b[1;33m\u001b[0m\u001b[0m\n",
      "\u001b[1;32m~\\AppData\\Local\\Continuum\\anaconda3\\envs\\deep\\lib\\site-packages\\xgboost\\training.py\u001b[0m in \u001b[0;36mtrain\u001b[1;34m(params, dtrain, num_boost_round, evals, obj, feval, maximize, early_stopping_rounds, evals_result, verbose_eval, xgb_model, callbacks, learning_rates)\u001b[0m\n\u001b[0;32m    214\u001b[0m                            \u001b[0mevals\u001b[0m\u001b[1;33m=\u001b[0m\u001b[0mevals\u001b[0m\u001b[1;33m,\u001b[0m\u001b[1;33m\u001b[0m\u001b[1;33m\u001b[0m\u001b[0m\n\u001b[0;32m    215\u001b[0m                            \u001b[0mobj\u001b[0m\u001b[1;33m=\u001b[0m\u001b[0mobj\u001b[0m\u001b[1;33m,\u001b[0m \u001b[0mfeval\u001b[0m\u001b[1;33m=\u001b[0m\u001b[0mfeval\u001b[0m\u001b[1;33m,\u001b[0m\u001b[1;33m\u001b[0m\u001b[1;33m\u001b[0m\u001b[0m\n\u001b[1;32m--> 216\u001b[1;33m                            xgb_model=xgb_model, callbacks=callbacks)\n\u001b[0m\u001b[0;32m    217\u001b[0m \u001b[1;33m\u001b[0m\u001b[0m\n\u001b[0;32m    218\u001b[0m \u001b[1;33m\u001b[0m\u001b[0m\n",
      "\u001b[1;32m~\\AppData\\Local\\Continuum\\anaconda3\\envs\\deep\\lib\\site-packages\\xgboost\\training.py\u001b[0m in \u001b[0;36m_train_internal\u001b[1;34m(params, dtrain, num_boost_round, evals, obj, feval, xgb_model, callbacks)\u001b[0m\n\u001b[0;32m     72\u001b[0m         \u001b[1;31m# Skip the first update if it is a recovery step.\u001b[0m\u001b[1;33m\u001b[0m\u001b[1;33m\u001b[0m\u001b[1;33m\u001b[0m\u001b[0m\n\u001b[0;32m     73\u001b[0m         \u001b[1;32mif\u001b[0m \u001b[0mversion\u001b[0m \u001b[1;33m%\u001b[0m \u001b[1;36m2\u001b[0m \u001b[1;33m==\u001b[0m \u001b[1;36m0\u001b[0m\u001b[1;33m:\u001b[0m\u001b[1;33m\u001b[0m\u001b[1;33m\u001b[0m\u001b[0m\n\u001b[1;32m---> 74\u001b[1;33m             \u001b[0mbst\u001b[0m\u001b[1;33m.\u001b[0m\u001b[0mupdate\u001b[0m\u001b[1;33m(\u001b[0m\u001b[0mdtrain\u001b[0m\u001b[1;33m,\u001b[0m \u001b[0mi\u001b[0m\u001b[1;33m,\u001b[0m \u001b[0mobj\u001b[0m\u001b[1;33m)\u001b[0m\u001b[1;33m\u001b[0m\u001b[1;33m\u001b[0m\u001b[0m\n\u001b[0m\u001b[0;32m     75\u001b[0m             \u001b[0mbst\u001b[0m\u001b[1;33m.\u001b[0m\u001b[0msave_rabit_checkpoint\u001b[0m\u001b[1;33m(\u001b[0m\u001b[1;33m)\u001b[0m\u001b[1;33m\u001b[0m\u001b[1;33m\u001b[0m\u001b[0m\n\u001b[0;32m     76\u001b[0m             \u001b[0mversion\u001b[0m \u001b[1;33m+=\u001b[0m \u001b[1;36m1\u001b[0m\u001b[1;33m\u001b[0m\u001b[1;33m\u001b[0m\u001b[0m\n",
      "\u001b[1;32m~\\AppData\\Local\\Continuum\\anaconda3\\envs\\deep\\lib\\site-packages\\xgboost\\core.py\u001b[0m in \u001b[0;36mupdate\u001b[1;34m(self, dtrain, iteration, fobj)\u001b[0m\n\u001b[0;32m   1107\u001b[0m         \u001b[1;32mif\u001b[0m \u001b[0mfobj\u001b[0m \u001b[1;32mis\u001b[0m \u001b[1;32mNone\u001b[0m\u001b[1;33m:\u001b[0m\u001b[1;33m\u001b[0m\u001b[1;33m\u001b[0m\u001b[0m\n\u001b[0;32m   1108\u001b[0m             _check_call(_LIB.XGBoosterUpdateOneIter(self.handle, ctypes.c_int(iteration),\n\u001b[1;32m-> 1109\u001b[1;33m                                                     dtrain.handle))\n\u001b[0m\u001b[0;32m   1110\u001b[0m         \u001b[1;32melse\u001b[0m\u001b[1;33m:\u001b[0m\u001b[1;33m\u001b[0m\u001b[1;33m\u001b[0m\u001b[0m\n\u001b[0;32m   1111\u001b[0m             \u001b[0mpred\u001b[0m \u001b[1;33m=\u001b[0m \u001b[0mself\u001b[0m\u001b[1;33m.\u001b[0m\u001b[0mpredict\u001b[0m\u001b[1;33m(\u001b[0m\u001b[0mdtrain\u001b[0m\u001b[1;33m)\u001b[0m\u001b[1;33m\u001b[0m\u001b[1;33m\u001b[0m\u001b[0m\n",
      "\u001b[1;31mKeyboardInterrupt\u001b[0m: "
     ]
    }
   ],
   "source": [
    "from xgboost import XGBClassifier\n",
    "xgb = XGBClassifier()\n",
    "\n",
    "steps1 = [('scaler', RobustScaler()), ('forest',  XGBClassifier(random_state=42, tree_method='hist',verbosity=1))] \n",
    "\n",
    "pipeline1 = Pipeline(steps1)\n",
    "\n",
    "parameters1 = {'forest__n_estimators':[200,500,1000], 'forest__min_samples_split':[2,3,4],\n",
    "               'forest__booster':['gbtree','dart'],'forest__grow_policy':['lossguide','depthwise'],\n",
    "              'forest__max_bin':[128,256]} \n",
    "    \n",
    "grid1 = GridSearchCV(pipeline1, param_grid=parameters1, cv=5)\n",
    "\n",
    "grid1.fit(X_train, y_train)\n",
    "print(\"score = %3.4f\" %(grid1.score(X_test,y_test)))\n",
    "print(grid1.best_params_)\n",
    "pred1 = grid1.best_estimator_.predict(X_test)\n",
    "print(confusion_matrix(y_test, pred1))"
   ]
  },
  {
   "cell_type": "code",
   "execution_count": 36,
   "metadata": {
    "ExecuteTime": {
     "end_time": "2019-11-25T15:13:24.948637Z",
     "start_time": "2019-11-25T15:13:23.054373Z"
    },
    "scrolled": true
   },
   "outputs": [
    {
     "name": "stdout",
     "output_type": "stream",
     "text": [
      "score = 0.99380\n",
      "[[2718    2    0]\n",
      " [  11    2    0]\n",
      " [   2    2    3]]\n",
      "              precision    recall  f1-score   support\n",
      "\n",
      "           0       1.00      1.00      1.00      2720\n",
      "           1       0.33      0.15      0.21        13\n",
      "           2       1.00      0.43      0.60         7\n",
      "\n",
      "    accuracy                           0.99      2740\n",
      "   macro avg       0.78      0.53      0.60      2740\n",
      "weighted avg       0.99      0.99      0.99      2740\n",
      "\n"
     ]
    }
   ],
   "source": [
    "from xgboost import XGBClassifier\n",
    "xgb = XGBClassifier(tree_method='hist',booster='gbtree',n_estimators=200, grow_policy='lossguide',\n",
    "                    max_bin=128, min_samples_split=2, subsample=0.5)\n",
    "\n",
    "# steps1 = [('scaler', RobustScaler()), ('forest',  XGBClassifier(random_state=42, tree_method='hist',))] \n",
    "\n",
    "# pipeline1 = Pipeline(steps1)\n",
    "\n",
    "# parameters1 = {'forest__n_estimators':[200,500,1000], 'forest__min_samples_split':[2,3,4],\n",
    "#                'forest__criterion':['gini','entropy'],'forest__max_depth':[2,3,4]} \n",
    "    \n",
    "#grid1 = GridSearchCV(pipeline1, param_grid=parameters1, cv=5)\n",
    "\n",
    "xgb.fit(X_train, y_train)\n",
    "print(\"score = %3.5f\" %(xgb.score(X_test,y_test)))\n",
    "pred1 = xgb.predict(X_test)\n",
    "print(confusion_matrix(y_test, pred1))\n",
    "print(classification_report(y_test, pred1))"
   ]
  },
  {
   "cell_type": "code",
   "execution_count": 37,
   "metadata": {
    "ExecuteTime": {
     "end_time": "2019-11-25T15:13:32.160778Z",
     "start_time": "2019-11-25T15:13:31.608731Z"
    }
   },
   "outputs": [
    {
     "data": {
      "text/plain": [
       "<matplotlib.axes._subplots.AxesSubplot at 0x1e459e476d8>"
      ]
     },
     "execution_count": 37,
     "metadata": {},
     "output_type": "execute_result"
    },
    {
     "data": {
      "image/png": "[encoded data removed]",
      "text/plain": [
       "<Figure size 432x288 with 1 Axes>"
      ]
     },
     "metadata": {},
     "output_type": "display_data"
    }
   ],
   "source": [
    "import xgboost\n",
    "xgboost.plot_importance(xgb, importance_type='gain', height=0.4)"
   ]
  },
  {
   "cell_type": "code",
   "execution_count": 38,
   "metadata": {
    "ExecuteTime": {
     "end_time": "2019-11-25T15:13:39.871840Z",
     "start_time": "2019-11-25T15:13:39.314937Z"
    }
   },
   "outputs": [
    {
     "data": {
      "text/plain": [
       "3"
      ]
     },
     "execution_count": 38,
     "metadata": {},
     "output_type": "execute_result"
    }
   ],
   "source": [
    "from sklearn.decomposition import PCA\n",
    "pca = PCA(.97)\n",
    "pca.fit(X)\n",
    "csum=np.cumsum(pca.explained_variance_ratio_)\n",
    "d=np.argmax(csum>=.97)+1\n",
    "d"
   ]
  },
  {
   "cell_type": "code",
   "execution_count": 93,
   "metadata": {
    "ExecuteTime": {
     "end_time": "2019-10-17T22:47:17.503611Z",
     "start_time": "2019-10-17T22:47:17.450221Z"
    }
   },
   "outputs": [],
   "source": [
    "first_set = X.sample(frac=.5, random_state=42)\n",
    "second_set = X.sample(frac=.5, random_state=0)\n",
    "third_set = X.sample(frac=.5, random_state=13)\n",
    "first_y = y.sample(frac=.5, random_state=42)\n",
    "second_y = y.sample(frac=.5, random_state=0)\n",
    "third_y = y.sample(frac=.5, random_state=13)"
   ]
  },
  {
   "cell_type": "code",
   "execution_count": 97,
   "metadata": {
    "ExecuteTime": {
     "end_time": "2019-10-17T22:49:03.411674Z",
     "start_time": "2019-10-17T22:49:03.407678Z"
    }
   },
   "outputs": [
    {
     "data": {
      "text/plain": [
       "[0, 0, 0, 0, 0, 0, 0, 0, 0, 0, 0, 0, 0, 0, 0, 0]"
      ]
     },
     "execution_count": 97,
     "metadata": {},
     "output_type": "execute_result"
    }
   ],
   "source": [
    "r = [0]*16\n",
    "r"
   ]
  },
  {
   "cell_type": "code",
   "execution_count": 110,
   "metadata": {
    "ExecuteTime": {
     "end_time": "2019-10-17T22:57:25.898503Z",
     "start_time": "2019-10-17T22:57:11.782930Z"
    }
   },
   "outputs": [
    {
     "name": "stdout",
     "output_type": "stream",
     "text": [
      "[ 1.03  1.1   1.13  7.53  2.2   2.13  1.03  1.03  1.03  7.73  8.03 10.07\n",
      "  5.1   6.1   5.97  1.8 ]\n",
      "Index(['sss', 'sst', 'wind_spd', 'year', 'month', 'day', 'sss_change',\n",
      "       'wind_change', 'differential', 'season_Fall', 'season_Spring',\n",
      "       'season_Summer', 'season_Winter', 'hour_Day', 'hour_Night',\n",
      "       'temp_change'],\n",
      "      dtype='object')\n"
     ]
    }
   ],
   "source": [
    "from sklearn.feature_selection import RFE\n",
    "\n",
    "model = RandomForestClassifier()\n",
    "\n",
    "import warnings\n",
    "warnings.filterwarnings('ignore')\n",
    "r = [0]*16\n",
    "for n in range(0,62,2):\n",
    "    X_set = X.sample(frac=0.5, random_state=n)\n",
    "    y_set = y.sample(frac=0.5, random_state=n)\n",
    "    \n",
    "    rfe = RFE(model, 7)\n",
    "    rfe = rfe.fit(X_set, y_set)\n",
    "\n",
    "    #print(rfe.support_)\n",
    "    #print(rfe.ranking_)\n",
    "    r += rfe.ranking_\n",
    "print(np.round(r/30, 2))\n",
    "print(X.columns)"
   ]
  },
  {
   "cell_type": "markdown",
   "metadata": {},
   "source": [
    "So sss, sst, wind_spd, sss_change, wind_change, differential... and seems like temp change? Following rules of CLT this should be sufficient, but can do more if needed for further validation"
   ]
  },
  {
   "cell_type": "markdown",
   "metadata": {
    "ExecuteTime": {
     "end_time": "2019-10-18T02:11:26.460927Z",
     "start_time": "2019-10-18T02:11:26.456949Z"
    }
   },
   "source": [
    "Order of removal: season_Summer, season_Spring, season_Fall, year, hour_Day, hour_Night, season_Winter, month, day\n",
    "\n",
    "-- how to automate this?"
   ]
  },
  {
   "cell_type": "code",
   "execution_count": 65,
   "metadata": {
    "ExecuteTime": {
     "end_time": "2019-10-21T14:34:23.344209Z",
     "start_time": "2019-10-21T14:34:23.096549Z"
    }
   },
   "outputs": [
    {
     "name": "stderr",
     "output_type": "stream",
     "text": [
      "C:\\Users\\msc7850\\AppData\\Local\\Continuum\\anaconda3\\envs\\hmm\\lib\\site-packages\\sklearn\\linear_model\\sag.py:337: ConvergenceWarning: The max_iter was reached which means the coef_ did not converge\n",
      "  \"the coef_ did not converge\", ConvergenceWarning)\n"
     ]
    },
    {
     "data": {
      "text/plain": [
       "(3, 16)"
      ]
     },
     "execution_count": 65,
     "metadata": {},
     "output_type": "execute_result"
    }
   ],
   "source": [
    "log = LogisticRegression(C=1, max_iter=100, multi_class='multinomial',solver='sag')\n",
    "rb = RobustScaler()\n",
    "steps = [('scaler',rb), ('log', log)]\n",
    "pipe = Pipeline(steps)\n",
    "pipe.fit(X_train, y_train)\n",
    "pred = pipe.predict(X_test)\n",
    "coef = pipe.named_steps['log'].coef_\n",
    "coef.shape"
   ]
  },
  {
   "cell_type": "code",
   "execution_count": 83,
   "metadata": {
    "ExecuteTime": {
     "end_time": "2019-10-21T15:12:01.649118Z",
     "start_time": "2019-10-21T15:12:01.641144Z"
    }
   },
   "outputs": [
    {
     "name": "stdout",
     "output_type": "stream",
     "text": [
      "[ 4.0281574  -1.78729816 -2.24085924]\n"
     ]
    },
    {
     "data": {
      "text/plain": [
       "array([ 0.04096666,  0.20777786, -0.06990577, -0.41226101, -0.19575854,\n",
       "       -0.03765184, -0.02574422,  0.01617994,  0.05890806,  0.42403688,\n",
       "        0.47583506,  0.50211228,  0.39984086,  0.54937756, -0.54937756,\n",
       "       -0.02657272])"
      ]
     },
     "execution_count": 83,
     "metadata": {},
     "output_type": "execute_result"
    }
   ],
   "source": []
  },
  {
   "cell_type": "code",
   "execution_count": 117,
   "metadata": {
    "ExecuteTime": {
     "end_time": "2019-10-18T02:25:20.945747Z",
     "start_time": "2019-10-18T02:25:20.941735Z"
    }
   },
   "outputs": [],
   "source": [
    "mylist = [1, 4, 0, 3, 2]\n",
    "mylist.remove(max(mylist))\n",
    "mylist.remove(min(mylist))"
   ]
  },
  {
   "cell_type": "code",
   "execution_count": 119,
   "metadata": {
    "ExecuteTime": {
     "end_time": "2019-10-18T02:37:22.512493Z",
     "start_time": "2019-10-18T02:37:22.508484Z"
    }
   },
   "outputs": [
    {
     "data": {
      "text/plain": [
       "[1, 3, 2]"
      ]
     },
     "execution_count": 119,
     "metadata": {},
     "output_type": "execute_result"
    }
   ],
   "source": [
    "mylist"
   ]
  },
  {
   "cell_type": "code",
   "execution_count": 69,
   "metadata": {
    "ExecuteTime": {
     "end_time": "2019-10-21T14:39:07.035660Z",
     "start_time": "2019-10-21T14:38:28.360760Z"
    }
   },
   "outputs": [
    {
     "name": "stdout",
     "output_type": "stream",
     "text": [
      "[3.3  1.37 1.4  1.03 1.03 1.03 9.67 2.77 7.23 5.47 5.4  1.13 1.27 5.23\n",
      " 6.17 9.53]\n",
      "Index(['sss', 'sst', 'wind_spd', 'year', 'month', 'day', 'sss_change',\n",
      "       'wind_change', 'differential', 'season_Fall', 'season_Spring',\n",
      "       'season_Summer', 'season_Winter', 'hour_Day', 'hour_Night',\n",
      "       'temp_change'],\n",
      "      dtype='object')\n"
     ]
    }
   ],
   "source": [
    "from sklearn.feature_selection import RFE\n",
    "\n",
    "model = LogisticRegression(C=1, max_iter=100, multi_class='multinomial',solver='sag')\n",
    "\n",
    "import warnings\n",
    "warnings.filterwarnings('ignore')\n",
    "r = [0]*16\n",
    "for n in range(0,62,2):\n",
    "    X_set = X.sample(frac=0.5, random_state=n)\n",
    "    y_set = y.sample(frac=0.5, random_state=n)\n",
    "    \n",
    "    rfe = RFE(model, 7)\n",
    "    rfe = rfe.fit(X_set, y_set)\n",
    "\n",
    "    #print(rfe.support_)\n",
    "    #print(rfe.ranking_)\n",
    "    r += rfe.ranking_\n",
    "chosen = np.round(r/30, 2)\n",
    "print(np.round(r/30, 2))\n",
    "print(X.columns)"
   ]
  },
  {
   "cell_type": "code",
   "execution_count": 70,
   "metadata": {
    "ExecuteTime": {
     "end_time": "2019-10-21T14:39:38.256318Z",
     "start_time": "2019-10-21T14:39:38.252296Z"
    }
   },
   "outputs": [
    {
     "data": {
      "text/plain": [
       "Index(['sss', 'sst', 'wind_spd', 'year', 'month', 'day', 'sss_change',\n",
       "       'wind_change', 'differential', 'season_Fall', 'season_Spring',\n",
       "       'season_Summer', 'season_Winter', 'hour_Day', 'hour_Night',\n",
       "       'temp_change'],\n",
       "      dtype='object')"
      ]
     },
     "execution_count": 70,
     "metadata": {},
     "output_type": "execute_result"
    }
   ],
   "source": [
    "X.columns"
   ]
  },
  {
   "cell_type": "code",
   "execution_count": 71,
   "metadata": {
    "ExecuteTime": {
     "end_time": "2019-10-21T14:41:27.733194Z",
     "start_time": "2019-10-21T14:41:27.718123Z"
    }
   },
   "outputs": [
    {
     "data": {
      "text/html": [
       "<div>\n",
       "<style scoped>\n",
       "    .dataframe tbody tr th:only-of-type {\n",
       "        vertical-align: middle;\n",
       "    }\n",
       "\n",
       "    .dataframe tbody tr th {\n",
       "        vertical-align: top;\n",
       "    }\n",
       "\n",
       "    .dataframe thead th {\n",
       "        text-align: right;\n",
       "    }\n",
       "</style>\n",
       "<table border=\"1\" class=\"dataframe\">\n",
       "  <thead>\n",
       "    <tr style=\"text-align: right;\">\n",
       "      <th></th>\n",
       "      <th>sst</th>\n",
       "      <th>wind_spd</th>\n",
       "      <th>year</th>\n",
       "      <th>month</th>\n",
       "      <th>day</th>\n",
       "      <th>season_Winter</th>\n",
       "      <th>season_Summer</th>\n",
       "    </tr>\n",
       "  </thead>\n",
       "  <tbody>\n",
       "    <tr>\n",
       "      <th>0</th>\n",
       "      <td>27.886503</td>\n",
       "      <td>3.171527</td>\n",
       "      <td>2012</td>\n",
       "      <td>9</td>\n",
       "      <td>14</td>\n",
       "      <td>0</td>\n",
       "      <td>0</td>\n",
       "    </tr>\n",
       "    <tr>\n",
       "      <th>1</th>\n",
       "      <td>27.794171</td>\n",
       "      <td>3.511590</td>\n",
       "      <td>2012</td>\n",
       "      <td>9</td>\n",
       "      <td>14</td>\n",
       "      <td>0</td>\n",
       "      <td>0</td>\n",
       "    </tr>\n",
       "    <tr>\n",
       "      <th>2</th>\n",
       "      <td>27.717789</td>\n",
       "      <td>4.870495</td>\n",
       "      <td>2012</td>\n",
       "      <td>9</td>\n",
       "      <td>14</td>\n",
       "      <td>0</td>\n",
       "      <td>0</td>\n",
       "    </tr>\n",
       "    <tr>\n",
       "      <th>3</th>\n",
       "      <td>27.650786</td>\n",
       "      <td>4.511677</td>\n",
       "      <td>2012</td>\n",
       "      <td>9</td>\n",
       "      <td>14</td>\n",
       "      <td>0</td>\n",
       "      <td>0</td>\n",
       "    </tr>\n",
       "    <tr>\n",
       "      <th>4</th>\n",
       "      <td>27.593085</td>\n",
       "      <td>4.318494</td>\n",
       "      <td>2012</td>\n",
       "      <td>9</td>\n",
       "      <td>15</td>\n",
       "      <td>0</td>\n",
       "      <td>0</td>\n",
       "    </tr>\n",
       "  </tbody>\n",
       "</table>\n",
       "</div>"
      ],
      "text/plain": [
       "         sst  wind_spd  year  month  day  season_Winter  season_Summer\n",
       "0  27.886503  3.171527  2012      9   14              0              0\n",
       "1  27.794171  3.511590  2012      9   14              0              0\n",
       "2  27.717789  4.870495  2012      9   14              0              0\n",
       "3  27.650786  4.511677  2012      9   14              0              0\n",
       "4  27.593085  4.318494  2012      9   15              0              0"
      ]
     },
     "execution_count": 71,
     "metadata": {},
     "output_type": "execute_result"
    }
   ],
   "source": [
    "X2 = X[['sst','wind_spd','year','month','day','season_Winter','season_Summer']]\n",
    "X2.head()"
   ]
  },
  {
   "cell_type": "code",
   "execution_count": 76,
   "metadata": {
    "ExecuteTime": {
     "end_time": "2019-10-21T14:45:05.389409Z",
     "start_time": "2019-10-21T14:45:05.376375Z"
    }
   },
   "outputs": [
    {
     "data": {
      "text/html": [
       "<div>\n",
       "<style scoped>\n",
       "    .dataframe tbody tr th:only-of-type {\n",
       "        vertical-align: middle;\n",
       "    }\n",
       "\n",
       "    .dataframe tbody tr th {\n",
       "        vertical-align: top;\n",
       "    }\n",
       "\n",
       "    .dataframe thead th {\n",
       "        text-align: right;\n",
       "    }\n",
       "</style>\n",
       "<table border=\"1\" class=\"dataframe\">\n",
       "  <thead>\n",
       "    <tr style=\"text-align: right;\">\n",
       "      <th></th>\n",
       "      <th>sss</th>\n",
       "      <th>sst</th>\n",
       "      <th>wind_spd</th>\n",
       "      <th>month</th>\n",
       "      <th>sss_change</th>\n",
       "      <th>wind_change</th>\n",
       "      <th>differential</th>\n",
       "      <th>temp_change</th>\n",
       "    </tr>\n",
       "  </thead>\n",
       "  <tbody>\n",
       "    <tr>\n",
       "      <th>0</th>\n",
       "      <td>37.768217</td>\n",
       "      <td>27.886503</td>\n",
       "      <td>3.171527</td>\n",
       "      <td>9</td>\n",
       "      <td>-0.000926</td>\n",
       "      <td>0.340064</td>\n",
       "      <td>-0.000926</td>\n",
       "      <td>-0.092332</td>\n",
       "    </tr>\n",
       "    <tr>\n",
       "      <th>1</th>\n",
       "      <td>37.767291</td>\n",
       "      <td>27.794171</td>\n",
       "      <td>3.511590</td>\n",
       "      <td>9</td>\n",
       "      <td>0.000621</td>\n",
       "      <td>1.358904</td>\n",
       "      <td>-0.000153</td>\n",
       "      <td>-0.076381</td>\n",
       "    </tr>\n",
       "    <tr>\n",
       "      <th>2</th>\n",
       "      <td>37.767912</td>\n",
       "      <td>27.717789</td>\n",
       "      <td>4.870495</td>\n",
       "      <td>9</td>\n",
       "      <td>0.000642</td>\n",
       "      <td>-0.358818</td>\n",
       "      <td>0.000631</td>\n",
       "      <td>-0.067003</td>\n",
       "    </tr>\n",
       "    <tr>\n",
       "      <th>3</th>\n",
       "      <td>37.768554</td>\n",
       "      <td>27.650786</td>\n",
       "      <td>4.511677</td>\n",
       "      <td>9</td>\n",
       "      <td>0.001566</td>\n",
       "      <td>-0.193182</td>\n",
       "      <td>0.001104</td>\n",
       "      <td>-0.057701</td>\n",
       "    </tr>\n",
       "    <tr>\n",
       "      <th>4</th>\n",
       "      <td>37.770119</td>\n",
       "      <td>27.593085</td>\n",
       "      <td>4.318494</td>\n",
       "      <td>9</td>\n",
       "      <td>0.000906</td>\n",
       "      <td>-0.102758</td>\n",
       "      <td>0.001236</td>\n",
       "      <td>-0.043129</td>\n",
       "    </tr>\n",
       "  </tbody>\n",
       "</table>\n",
       "</div>"
      ],
      "text/plain": [
       "         sss        sst  wind_spd  month  sss_change  wind_change  \\\n",
       "0  37.768217  27.886503  3.171527      9   -0.000926     0.340064   \n",
       "1  37.767291  27.794171  3.511590      9    0.000621     1.358904   \n",
       "2  37.767912  27.717789  4.870495      9    0.000642    -0.358818   \n",
       "3  37.768554  27.650786  4.511677      9    0.001566    -0.193182   \n",
       "4  37.770119  27.593085  4.318494      9    0.000906    -0.102758   \n",
       "\n",
       "   differential  temp_change  \n",
       "0     -0.000926    -0.092332  \n",
       "1     -0.000153    -0.076381  \n",
       "2      0.000631    -0.067003  \n",
       "3      0.001104    -0.057701  \n",
       "4      0.001236    -0.043129  "
      ]
     },
     "execution_count": 76,
     "metadata": {},
     "output_type": "execute_result"
    }
   ],
   "source": [
    "X1 = X.drop(['year','day','season_Fall','season_Spring','season_Summer','season_Winter',\n",
    "           'hour_Day','hour_Night'],axis=1)\n",
    "X1.head()"
   ]
  },
  {
   "cell_type": "code",
   "execution_count": 82,
   "metadata": {
    "ExecuteTime": {
     "end_time": "2019-10-21T15:03:44.664476Z",
     "start_time": "2019-10-21T15:03:44.613377Z"
    }
   },
   "outputs": [
    {
     "name": "stdout",
     "output_type": "stream",
     "text": [
      "[[2720   13    7]\n",
      " [   0    0    0]\n",
      " [   0    0    0]]\n"
     ]
    }
   ],
   "source": [
    "## Logistic regression simply does not capture the data\n",
    "X_train2, X_test2, y_train2, y_test2 = train_test_split(X2, y, test_size=0.3, random_state=42)\n",
    "\n",
    "log = LogisticRegression(C=1, max_iter=100, multi_class='multinomial',solver='sag')\n",
    "rb = RobustScaler()\n",
    "steps = [('scaler',rb), ('log', log)]\n",
    "pipe = Pipeline(steps)\n",
    "pipe.fit(X_train2, y_train2)\n",
    "pred = pipe.predict(X_test2)\n",
    "print(confusion_matrix(pred, y_test2))"
   ]
  },
  {
   "cell_type": "code",
   "execution_count": 86,
   "metadata": {
    "ExecuteTime": {
     "end_time": "2019-10-21T15:19:24.511442Z",
     "start_time": "2019-10-21T15:19:24.458334Z"
    }
   },
   "outputs": [
    {
     "name": "stdout",
     "output_type": "stream",
     "text": [
      "[[2719   13    5]\n",
      " [   1    0    0]\n",
      " [   0    0    2]]\n"
     ]
    }
   ],
   "source": [
    "X_train1, X_test1, y_train1, y_test1 = train_test_split(X1, y, test_size=0.3, random_state=42)\n",
    "\n",
    "log = LogisticRegression()\n",
    "rb = RobustScaler()\n",
    "steps = [('scaler',rb), ('log', log)]\n",
    "pipe = Pipeline(steps)\n",
    "pipe.fit(X_train1, y_train1)\n",
    "pred = pipe.predict(X_test1)\n",
    "print(confusion_matrix(pred, y_test1))"
   ]
  },
  {
   "cell_type": "code",
   "execution_count": 88,
   "metadata": {
    "ExecuteTime": {
     "end_time": "2019-10-21T15:20:34.966477Z",
     "start_time": "2019-10-21T15:20:34.961463Z"
    }
   },
   "outputs": [
    {
     "name": "stdout",
     "output_type": "stream",
     "text": [
      "4.989151308443842\n"
     ]
    },
    {
     "data": {
      "text/plain": [
       "array([ 0.31750321,  0.85132088, -0.54317491, -0.01586127, -0.07157358,\n",
       "        0.05017609,  0.15008093,  0.12059553])"
      ]
     },
     "execution_count": 88,
     "metadata": {},
     "output_type": "execute_result"
    }
   ],
   "source": [
    "# For threshold = 0\n",
    "# coef = pipe.named_steps['log'].coef_\n",
    "# coef.shape\n",
    "print(pipe.named_steps['log'].intercept_[0])\n",
    "\n",
    "coef[0, :]"
   ]
  },
  {
   "cell_type": "code",
   "execution_count": 89,
   "metadata": {
    "ExecuteTime": {
     "end_time": "2019-10-21T15:20:58.194996Z",
     "start_time": "2019-10-21T15:20:58.190015Z"
    }
   },
   "outputs": [
    {
     "name": "stdout",
     "output_type": "stream",
     "text": [
      "-5.141003335561591\n"
     ]
    },
    {
     "data": {
      "text/plain": [
       "array([-0.52183035, -0.79420926,  0.29542337,  0.17133966, -0.01138016,\n",
       "        0.04614775,  0.00175208, -0.11219353])"
      ]
     },
     "execution_count": 89,
     "metadata": {},
     "output_type": "execute_result"
    }
   ],
   "source": [
    "# For threshold = 1\n",
    "print(pipe.named_steps['log'].intercept_[1])\n",
    "\n",
    "coef[1, :]"
   ]
  },
  {
   "cell_type": "code",
   "execution_count": 90,
   "metadata": {
    "ExecuteTime": {
     "end_time": "2019-10-21T15:21:33.360571Z",
     "start_time": "2019-10-21T15:21:33.354581Z"
    }
   },
   "outputs": [
    {
     "name": "stdout",
     "output_type": "stream",
     "text": [
      "-6.210230363116877\n"
     ]
    },
    {
     "data": {
      "text/plain": [
       "array([ 0.55405491, -0.95891708,  0.62918433, -0.23126408,  0.1128641 ,\n",
       "       -0.16352549, -0.21678152, -0.07589844])"
      ]
     },
     "execution_count": 90,
     "metadata": {},
     "output_type": "execute_result"
    }
   ],
   "source": [
    "# For threshold = 2\n",
    "print(pipe.named_steps['log'].intercept_[2])\n",
    "\n",
    "coef[2, :]"
   ]
  },
  {
   "cell_type": "code",
   "execution_count": 112,
   "metadata": {
    "ExecuteTime": {
     "end_time": "2019-10-18T02:08:38.578469Z",
     "start_time": "2019-10-18T02:08:11.161201Z"
    }
   },
   "outputs": [
    {
     "data": {
      "text/html": [
       "\n",
       "    <style>\n",
       "    table.eli5-weights tr:hover {\n",
       "        filter: brightness(85%);\n",
       "    }\n",
       "</style>\n",
       "\n",
       "\n",
       "\n",
       "    \n",
       "\n",
       "    \n",
       "\n",
       "    \n",
       "\n",
       "    \n",
       "\n",
       "    \n",
       "\n",
       "    \n",
       "\n",
       "\n",
       "    \n",
       "\n",
       "    \n",
       "\n",
       "    \n",
       "\n",
       "    \n",
       "\n",
       "    \n",
       "\n",
       "    \n",
       "\n",
       "\n",
       "    \n",
       "\n",
       "    \n",
       "\n",
       "    \n",
       "\n",
       "    \n",
       "\n",
       "    \n",
       "        <table class=\"eli5-weights eli5-feature-importances\" style=\"border-collapse: collapse; border: none; margin-top: 0em; table-layout: auto;\">\n",
       "    <thead>\n",
       "    <tr style=\"border: none;\">\n",
       "        <th style=\"padding: 0 1em 0 0.5em; text-align: right; border: none;\">Weight</th>\n",
       "        <th style=\"padding: 0 0.5em 0 0.5em; text-align: left; border: none;\">Feature</th>\n",
       "    </tr>\n",
       "    </thead>\n",
       "    <tbody>\n",
       "    \n",
       "        <tr style=\"background-color: hsl(120, 100.00%, 92.42%); border: none;\">\n",
       "            <td style=\"padding: 0 1em 0 0.5em; text-align: right; border: none;\">\n",
       "                0.0001\n",
       "                \n",
       "                    &plusmn; 0.0003\n",
       "                \n",
       "            </td>\n",
       "            <td style=\"padding: 0 0.5em 0 0.5em; text-align: left; border: none;\">\n",
       "                day\n",
       "            </td>\n",
       "        </tr>\n",
       "    \n",
       "        <tr style=\"background-color: hsl(0, 100.00%, 100.00%); border: none;\">\n",
       "            <td style=\"padding: 0 1em 0 0.5em; text-align: right; border: none;\">\n",
       "                0\n",
       "                \n",
       "                    &plusmn; 0.0000\n",
       "                \n",
       "            </td>\n",
       "            <td style=\"padding: 0 0.5em 0 0.5em; text-align: left; border: none;\">\n",
       "                season_Winter\n",
       "            </td>\n",
       "        </tr>\n",
       "    \n",
       "        <tr style=\"background-color: hsl(0, 100.00%, 100.00%); border: none;\">\n",
       "            <td style=\"padding: 0 1em 0 0.5em; text-align: right; border: none;\">\n",
       "                0\n",
       "                \n",
       "                    &plusmn; 0.0000\n",
       "                \n",
       "            </td>\n",
       "            <td style=\"padding: 0 0.5em 0 0.5em; text-align: left; border: none;\">\n",
       "                season_Summer\n",
       "            </td>\n",
       "        </tr>\n",
       "    \n",
       "        <tr style=\"background-color: hsl(0, 100.00%, 100.00%); border: none;\">\n",
       "            <td style=\"padding: 0 1em 0 0.5em; text-align: right; border: none;\">\n",
       "                0\n",
       "                \n",
       "                    &plusmn; 0.0000\n",
       "                \n",
       "            </td>\n",
       "            <td style=\"padding: 0 0.5em 0 0.5em; text-align: left; border: none;\">\n",
       "                season_Spring\n",
       "            </td>\n",
       "        </tr>\n",
       "    \n",
       "        <tr style=\"background-color: hsl(0, 100.00%, 100.00%); border: none;\">\n",
       "            <td style=\"padding: 0 1em 0 0.5em; text-align: right; border: none;\">\n",
       "                0\n",
       "                \n",
       "                    &plusmn; 0.0000\n",
       "                \n",
       "            </td>\n",
       "            <td style=\"padding: 0 0.5em 0 0.5em; text-align: left; border: none;\">\n",
       "                season_Fall\n",
       "            </td>\n",
       "        </tr>\n",
       "    \n",
       "        <tr style=\"background-color: hsl(0, 100.00%, 100.00%); border: none;\">\n",
       "            <td style=\"padding: 0 1em 0 0.5em; text-align: right; border: none;\">\n",
       "                0\n",
       "                \n",
       "                    &plusmn; 0.0000\n",
       "                \n",
       "            </td>\n",
       "            <td style=\"padding: 0 0.5em 0 0.5em; text-align: left; border: none;\">\n",
       "                differential\n",
       "            </td>\n",
       "        </tr>\n",
       "    \n",
       "        <tr style=\"background-color: hsl(0, 100.00%, 100.00%); border: none;\">\n",
       "            <td style=\"padding: 0 1em 0 0.5em; text-align: right; border: none;\">\n",
       "                0\n",
       "                \n",
       "                    &plusmn; 0.0000\n",
       "                \n",
       "            </td>\n",
       "            <td style=\"padding: 0 0.5em 0 0.5em; text-align: left; border: none;\">\n",
       "                wind_change\n",
       "            </td>\n",
       "        </tr>\n",
       "    \n",
       "        <tr style=\"background-color: hsl(0, 100.00%, 100.00%); border: none;\">\n",
       "            <td style=\"padding: 0 1em 0 0.5em; text-align: right; border: none;\">\n",
       "                0\n",
       "                \n",
       "                    &plusmn; 0.0000\n",
       "                \n",
       "            </td>\n",
       "            <td style=\"padding: 0 0.5em 0 0.5em; text-align: left; border: none;\">\n",
       "                sss_change\n",
       "            </td>\n",
       "        </tr>\n",
       "    \n",
       "        <tr style=\"background-color: hsl(0, 100.00%, 100.00%); border: none;\">\n",
       "            <td style=\"padding: 0 1em 0 0.5em; text-align: right; border: none;\">\n",
       "                0\n",
       "                \n",
       "                    &plusmn; 0.0000\n",
       "                \n",
       "            </td>\n",
       "            <td style=\"padding: 0 0.5em 0 0.5em; text-align: left; border: none;\">\n",
       "                month\n",
       "            </td>\n",
       "        </tr>\n",
       "    \n",
       "        <tr style=\"background-color: hsl(0, 100.00%, 100.00%); border: none;\">\n",
       "            <td style=\"padding: 0 1em 0 0.5em; text-align: right; border: none;\">\n",
       "                0\n",
       "                \n",
       "                    &plusmn; 0.0000\n",
       "                \n",
       "            </td>\n",
       "            <td style=\"padding: 0 0.5em 0 0.5em; text-align: left; border: none;\">\n",
       "                year\n",
       "            </td>\n",
       "        </tr>\n",
       "    \n",
       "        <tr style=\"background-color: hsl(0, 100.00%, 100.00%); border: none;\">\n",
       "            <td style=\"padding: 0 1em 0 0.5em; text-align: right; border: none;\">\n",
       "                0\n",
       "                \n",
       "                    &plusmn; 0.0000\n",
       "                \n",
       "            </td>\n",
       "            <td style=\"padding: 0 0.5em 0 0.5em; text-align: left; border: none;\">\n",
       "                sss\n",
       "            </td>\n",
       "        </tr>\n",
       "    \n",
       "        <tr style=\"background-color: hsl(0, 100.00%, 92.42%); border: none;\">\n",
       "            <td style=\"padding: 0 1em 0 0.5em; text-align: right; border: none;\">\n",
       "                -0.0001\n",
       "                \n",
       "                    &plusmn; 0.0003\n",
       "                \n",
       "            </td>\n",
       "            <td style=\"padding: 0 0.5em 0 0.5em; text-align: left; border: none;\">\n",
       "                temp_change\n",
       "            </td>\n",
       "        </tr>\n",
       "    \n",
       "        <tr style=\"background-color: hsl(0, 100.00%, 92.42%); border: none;\">\n",
       "            <td style=\"padding: 0 1em 0 0.5em; text-align: right; border: none;\">\n",
       "                -0.0001\n",
       "                \n",
       "                    &plusmn; 0.0003\n",
       "                \n",
       "            </td>\n",
       "            <td style=\"padding: 0 0.5em 0 0.5em; text-align: left; border: none;\">\n",
       "                hour_Day\n",
       "            </td>\n",
       "        </tr>\n",
       "    \n",
       "        <tr style=\"background-color: hsl(0, 100.00%, 92.42%); border: none;\">\n",
       "            <td style=\"padding: 0 1em 0 0.5em; text-align: right; border: none;\">\n",
       "                -0.0001\n",
       "                \n",
       "                    &plusmn; 0.0003\n",
       "                \n",
       "            </td>\n",
       "            <td style=\"padding: 0 0.5em 0 0.5em; text-align: left; border: none;\">\n",
       "                wind_spd\n",
       "            </td>\n",
       "        </tr>\n",
       "    \n",
       "        <tr style=\"background-color: hsl(0, 100.00%, 92.42%); border: none;\">\n",
       "            <td style=\"padding: 0 1em 0 0.5em; text-align: right; border: none;\">\n",
       "                -0.0001\n",
       "                \n",
       "                    &plusmn; 0.0003\n",
       "                \n",
       "            </td>\n",
       "            <td style=\"padding: 0 0.5em 0 0.5em; text-align: left; border: none;\">\n",
       "                sst\n",
       "            </td>\n",
       "        </tr>\n",
       "    \n",
       "        <tr style=\"background-color: hsl(0, 100.00%, 80.00%); border: none;\">\n",
       "            <td style=\"padding: 0 1em 0 0.5em; text-align: right; border: none;\">\n",
       "                -0.0003\n",
       "                \n",
       "                    &plusmn; 0.0003\n",
       "                \n",
       "            </td>\n",
       "            <td style=\"padding: 0 0.5em 0 0.5em; text-align: left; border: none;\">\n",
       "                hour_Night\n",
       "            </td>\n",
       "        </tr>\n",
       "    \n",
       "    \n",
       "    </tbody>\n",
       "</table>\n",
       "    \n",
       "\n",
       "    \n",
       "\n",
       "\n",
       "    \n",
       "\n",
       "    \n",
       "\n",
       "    \n",
       "\n",
       "    \n",
       "\n",
       "    \n",
       "\n",
       "    \n",
       "\n",
       "\n",
       "\n"
      ],
      "text/plain": [
       "<IPython.core.display.HTML object>"
      ]
     },
     "execution_count": 112,
     "metadata": {},
     "output_type": "execute_result"
    }
   ],
   "source": [
    "import eli5\n",
    "from eli5.sklearn import PermutationImportance\n",
    "from sklearn.ensemble import RandomForestClassifier\n",
    "rf = RandomForestClassifier(n_estimators=500).fit(X_train, y_train)\n",
    "\n",
    "perm = PermutationImportance(rf, random_state=42).fit(X_test, y_test)\n",
    "eli5.show_weights(perm, feature_names = X_test.columns.tolist())"
   ]
  },
  {
   "cell_type": "code",
   "execution_count": 39,
   "metadata": {
    "ExecuteTime": {
     "end_time": "2019-11-25T15:14:22.098395Z",
     "start_time": "2019-11-25T15:14:21.007766Z"
    },
    "scrolled": true
   },
   "outputs": [
    {
     "name": "stdout",
     "output_type": "stream",
     "text": [
      "Starting training...\n",
      "[1]\tvalid_0's multi_error: 0.00912409\tvalid_0's multi_logloss: 0.0504095\n",
      "Training until validation scores don't improve for 50 rounds.\n",
      "[2]\tvalid_0's multi_error: 0.00839416\tvalid_0's multi_logloss: 0.0812665\n",
      "[3]\tvalid_0's multi_error: 0.0080292\tvalid_0's multi_logloss: 0.0799233\n",
      "[4]\tvalid_0's multi_error: 0.010219\tvalid_0's multi_logloss: 0.201811\n",
      "[5]\tvalid_0's multi_error: 0.010219\tvalid_0's multi_logloss: 0.200692\n",
      "[6]\tvalid_0's multi_error: 0.00875912\tvalid_0's multi_logloss: 0.125716\n",
      "[7]\tvalid_0's multi_error: 0.0105839\tvalid_0's multi_logloss: 0.161123\n",
      "[8]\tvalid_0's multi_error: 0.00948905\tvalid_0's multi_logloss: 0.137705\n",
      "[9]\tvalid_0's multi_error: 0.0120438\tvalid_0's multi_logloss: 0.160157\n",
      "[10]\tvalid_0's multi_error: 0.0109489\tvalid_0's multi_logloss: 0.166716\n",
      "[11]\tvalid_0's multi_error: 0.0135036\tvalid_0's multi_logloss: 0.241196\n",
      "[12]\tvalid_0's multi_error: 0.0135036\tvalid_0's multi_logloss: 0.241347\n",
      "[13]\tvalid_0's multi_error: 0.0131387\tvalid_0's multi_logloss: 0.234181\n",
      "[14]\tvalid_0's multi_error: 0.0135036\tvalid_0's multi_logloss: 0.235527\n",
      "[15]\tvalid_0's multi_error: 0.0131387\tvalid_0's multi_logloss: 0.203919\n",
      "[16]\tvalid_0's multi_error: 0.0142336\tvalid_0's multi_logloss: 0.275884\n",
      "[17]\tvalid_0's multi_error: 0.0149635\tvalid_0's multi_logloss: 0.314773\n",
      "[18]\tvalid_0's multi_error: 0.0142336\tvalid_0's multi_logloss: 0.30686\n",
      "[19]\tvalid_0's multi_error: 0.010219\tvalid_0's multi_logloss: 0.140258\n",
      "[20]\tvalid_0's multi_error: 0.0109489\tvalid_0's multi_logloss: 0.168905\n",
      "[21]\tvalid_0's multi_error: 0.0138686\tvalid_0's multi_logloss: 0.168347\n",
      "[22]\tvalid_0's multi_error: 0.0160584\tvalid_0's multi_logloss: 0.187041\n",
      "[23]\tvalid_0's multi_error: 0.0153285\tvalid_0's multi_logloss: 0.17803\n",
      "[24]\tvalid_0's multi_error: 0.0153285\tvalid_0's multi_logloss: 0.199796\n",
      "[25]\tvalid_0's multi_error: 0.0182482\tvalid_0's multi_logloss: 0.306255\n",
      "[26]\tvalid_0's multi_error: 0.0186131\tvalid_0's multi_logloss: 0.297624\n",
      "[27]\tvalid_0's multi_error: 0.0175182\tvalid_0's multi_logloss: 0.286833\n",
      "[28]\tvalid_0's multi_error: 0.0175182\tvalid_0's multi_logloss: 0.306681\n",
      "[29]\tvalid_0's multi_error: 0.0164234\tvalid_0's multi_logloss: 0.282757\n",
      "[30]\tvalid_0's multi_error: 0.019708\tvalid_0's multi_logloss: 0.329647\n",
      "[31]\tvalid_0's multi_error: 0.0164234\tvalid_0's multi_logloss: 0.269337\n",
      "[32]\tvalid_0's multi_error: 0.0175182\tvalid_0's multi_logloss: 0.286859\n",
      "[33]\tvalid_0's multi_error: 0.0149635\tvalid_0's multi_logloss: 0.211696\n",
      "[34]\tvalid_0's multi_error: 0.0164234\tvalid_0's multi_logloss: 0.201075\n",
      "[35]\tvalid_0's multi_error: 0.0142336\tvalid_0's multi_logloss: 0.186833\n",
      "[36]\tvalid_0's multi_error: 0.0131387\tvalid_0's multi_logloss: 0.17288\n",
      "[37]\tvalid_0's multi_error: 0.0131387\tvalid_0's multi_logloss: 0.174037\n",
      "[38]\tvalid_0's multi_error: 0.0127737\tvalid_0's multi_logloss: 0.16675\n",
      "[39]\tvalid_0's multi_error: 0.0160584\tvalid_0's multi_logloss: 0.30963\n",
      "[40]\tvalid_0's multi_error: 0.0149635\tvalid_0's multi_logloss: 0.275878\n",
      "[41]\tvalid_0's multi_error: 0.0149635\tvalid_0's multi_logloss: 0.280683\n",
      "[42]\tvalid_0's multi_error: 0.0113139\tvalid_0's multi_logloss: 0.197158\n",
      "[43]\tvalid_0's multi_error: 0.0113139\tvalid_0's multi_logloss: 0.199591\n",
      "[44]\tvalid_0's multi_error: 0.0113139\tvalid_0's multi_logloss: 0.200458\n",
      "[45]\tvalid_0's multi_error: 0.0171533\tvalid_0's multi_logloss: 0.394213\n",
      "[46]\tvalid_0's multi_error: 0.0175182\tvalid_0's multi_logloss: 0.374472\n",
      "[47]\tvalid_0's multi_error: 0.0211679\tvalid_0's multi_logloss: 0.533309\n",
      "[48]\tvalid_0's multi_error: 0.0357664\tvalid_0's multi_logloss: 1.054\n",
      "[49]\tvalid_0's multi_error: 0.0149635\tvalid_0's multi_logloss: 0.366116\n",
      "[50]\tvalid_0's multi_error: 0.0175182\tvalid_0's multi_logloss: 0.418571\n",
      "[51]\tvalid_0's multi_error: 0.0233577\tvalid_0's multi_logloss: 0.530055\n",
      "Early stopping, best iteration is:\n",
      "[1]\tvalid_0's multi_error: 0.00912409\tvalid_0's multi_logloss: 0.0504095\n",
      "Starting predicting...\n",
      "[[2710    4    6]\n",
      " [   9    2    2]\n",
      " [   2    2    3]]\n",
      "              precision    recall  f1-score   support\n",
      "\n",
      "           0       1.00      1.00      1.00      2720\n",
      "           1       0.25      0.15      0.19        13\n",
      "           2       0.27      0.43      0.33         7\n",
      "\n",
      "    accuracy                           0.99      2740\n",
      "   macro avg       0.51      0.53      0.51      2740\n",
      "weighted avg       0.99      0.99      0.99      2740\n",
      "\n"
     ]
    }
   ],
   "source": [
    "import lightgbm as lgb\n",
    "import pandas as pd\n",
    "from sklearn.metrics import mean_squared_error\n",
    "\n",
    "# create dataset for lightgbm\n",
    "lgb_train = lgb.Dataset(X_train, y_train)\n",
    "lgb_eval = lgb.Dataset(X_test, y_test, reference=lgb_train)\n",
    "\n",
    "# specify your configurations as a dict\n",
    "params = {\n",
    "    'boosting_type': 'gbdt',\n",
    "    \"num_class\" : 4,\n",
    "    'objective': 'multiclass',\n",
    "    'metric': {'multi_error', 'multi_logloss'},\n",
    "    'num_leaves': 34,\n",
    "    'learning_rate': 0.15,\n",
    "    'feature_fraction': 0.9,\n",
    "    'bagging_fraction': 0.8,\n",
    "    'bagging_freq': 5,\n",
    "    'verbose': 0,\n",
    "    'subsample':0.7\n",
    "}\n",
    "\n",
    "print('Starting training...')\n",
    "# train\n",
    "gbm = lgb.train(params,\n",
    "                lgb_train,\n",
    "                num_boost_round=1000,\n",
    "                valid_sets=lgb_eval,\n",
    "                early_stopping_rounds=50)\n",
    "\n",
    "\n",
    "print('Starting predicting...')\n",
    "# predict\n",
    "y_pred = gbm.predict(X_test, num_iteration=gbm.best_iteration)\n",
    "# eval\n",
    "print(confusion_matrix(y_test, y_pred.argmax(axis=1)))\n",
    "print(classification_report(y_test, y_pred.argmax(axis=1)))"
   ]
  },
  {
   "cell_type": "code",
   "execution_count": 40,
   "metadata": {
    "ExecuteTime": {
     "end_time": "2019-11-25T15:14:33.827733Z",
     "start_time": "2019-11-25T15:14:33.816443Z"
    }
   },
   "outputs": [
    {
     "name": "stdout",
     "output_type": "stream",
     "text": [
      "[[2710    4    6]\n",
      " [   9    2    2]\n",
      " [   2    2    3]]\n",
      "              precision    recall  f1-score   support\n",
      "\n",
      "           0       1.00      1.00      1.00      2720\n",
      "           1       0.25      0.15      0.19        13\n",
      "           2       0.27      0.43      0.33         7\n",
      "\n",
      "    accuracy                           0.99      2740\n",
      "   macro avg       0.51      0.53      0.51      2740\n",
      "weighted avg       0.99      0.99      0.99      2740\n",
      "\n"
     ]
    }
   ],
   "source": [
    "print(confusion_matrix(y_test, y_pred.argmax(axis=1)))\n",
    "print(classification_report(y_test, y_pred.argmax(axis=1)))"
   ]
  },
  {
   "cell_type": "markdown",
   "metadata": {},
   "source": [
    "# Oversampling (again)"
   ]
  },
  {
   "cell_type": "markdown",
   "metadata": {},
   "source": [
    "In order to run oversampling without involving any artificial data within the test set, while still creating ample data for our model to learn on, we can split the data into a train and test set of equal sizes, stratified on y for equal bounds"
   ]
  },
  {
   "cell_type": "code",
   "execution_count": 42,
   "metadata": {
    "ExecuteTime": {
     "end_time": "2019-11-25T15:15:10.239709Z",
     "start_time": "2019-11-25T15:15:10.234696Z"
    }
   },
   "outputs": [
    {
     "data": {
      "text/plain": [
       "Index(['new_time', 'time', 'sss', 'sst', 'wind_spd', 'wind_dir', 'precip',\n",
       "       'cum_precip3', 'cum_precip6', 'year', 'month', 'day', 'sss_change',\n",
       "       'wind_change', 'mnth_sin', 'mnth_cos', 'differential', 'season_Fall',\n",
       "       'season_Spring', 'season_Summer', 'season_Winter', 'hour_Day',\n",
       "       'hour_Night', 'thres'],\n",
       "      dtype='object')"
      ]
     },
     "execution_count": 42,
     "metadata": {},
     "output_type": "execute_result"
    }
   ],
   "source": [
    "new_enc.columns"
   ]
  },
  {
   "cell_type": "code",
   "execution_count": 43,
   "metadata": {
    "ExecuteTime": {
     "end_time": "2019-11-25T15:16:08.259479Z",
     "start_time": "2019-11-25T15:16:08.247410Z"
    }
   },
   "outputs": [],
   "source": [
    "X = new_enc.drop(['cum_precip3','cum_precip6','thres','time','new_time', 'month',\n",
    "                 'wind_dir','precip','season_Fall', 'season_Spring', \n",
    "                 'season_Summer', 'season_Winter'],axis=1)\n",
    "y=new_enc['thres']\n",
    "\n",
    "X_train, X_test, y_train, y_test = train_test_split(X, y, test_size=0.5, random_state=42, stratify=y)"
   ]
  },
  {
   "cell_type": "code",
   "execution_count": 44,
   "metadata": {
    "ExecuteTime": {
     "end_time": "2019-11-25T15:16:36.656317Z",
     "start_time": "2019-11-25T15:16:11.815291Z"
    }
   },
   "outputs": [],
   "source": [
    "from sklearn.preprocessing import RobustScaler\n",
    "rb = RobustScaler()\n",
    "from imblearn.over_sampling import SMOTE\n",
    "sm = SMOTE(ratio='minority', random_state=7, k_neighbors=8)"
   ]
  },
  {
   "cell_type": "code",
   "execution_count": 45,
   "metadata": {
    "ExecuteTime": {
     "end_time": "2019-11-25T15:26:55.701931Z",
     "start_time": "2019-11-25T15:26:55.696949Z"
    }
   },
   "outputs": [
    {
     "data": {
      "text/plain": [
       "Index(['sss', 'sst', 'wind_spd', 'year', 'day', 'sss_change', 'wind_change',\n",
       "       'mnth_sin', 'mnth_cos', 'differential', 'hour_Day', 'hour_Night'],\n",
       "      dtype='object')"
      ]
     },
     "execution_count": 45,
     "metadata": {},
     "output_type": "execute_result"
    }
   ],
   "source": [
    "X.columns"
   ]
  },
  {
   "cell_type": "markdown",
   "metadata": {},
   "source": [
    "Here we will run the fit_sample command twice, as smote just oversamples the smallest minority class each time-- since we have two minority classes, we must run twice."
   ]
  },
  {
   "cell_type": "code",
   "execution_count": 47,
   "metadata": {
    "ExecuteTime": {
     "end_time": "2019-11-25T15:28:00.120653Z",
     "start_time": "2019-11-25T15:28:00.041443Z"
    }
   },
   "outputs": [
    {
     "data": {
      "text/html": [
       "<div>\n",
       "<style scoped>\n",
       "    .dataframe tbody tr th:only-of-type {\n",
       "        vertical-align: middle;\n",
       "    }\n",
       "\n",
       "    .dataframe tbody tr th {\n",
       "        vertical-align: top;\n",
       "    }\n",
       "\n",
       "    .dataframe thead th {\n",
       "        text-align: right;\n",
       "    }\n",
       "</style>\n",
       "<table border=\"1\" class=\"dataframe\">\n",
       "  <thead>\n",
       "    <tr style=\"text-align: right;\">\n",
       "      <th></th>\n",
       "      <th>thres</th>\n",
       "      <th>sss</th>\n",
       "      <th>sst</th>\n",
       "      <th>wind_spd</th>\n",
       "      <th>year</th>\n",
       "      <th>day</th>\n",
       "      <th>sss_change</th>\n",
       "      <th>wind_change</th>\n",
       "      <th>mnth_sin</th>\n",
       "      <th>mnth_cos</th>\n",
       "      <th>differential</th>\n",
       "      <th>hour_Day</th>\n",
       "      <th>hour_Night</th>\n",
       "    </tr>\n",
       "  </thead>\n",
       "  <tbody>\n",
       "    <tr>\n",
       "      <th>0</th>\n",
       "      <td>0</td>\n",
       "      <td>37.587094</td>\n",
       "      <td>26.628685</td>\n",
       "      <td>3.727143</td>\n",
       "      <td>2012.000000</td>\n",
       "      <td>24.000000</td>\n",
       "      <td>0.003688</td>\n",
       "      <td>-0.317137</td>\n",
       "      <td>-1.000000</td>\n",
       "      <td>-1.836970e-16</td>\n",
       "      <td>0.003553</td>\n",
       "      <td>1.000000</td>\n",
       "      <td>0.000000</td>\n",
       "    </tr>\n",
       "    <tr>\n",
       "      <th>1</th>\n",
       "      <td>0</td>\n",
       "      <td>37.404076</td>\n",
       "      <td>23.156903</td>\n",
       "      <td>0.388721</td>\n",
       "      <td>2013.000000</td>\n",
       "      <td>27.000000</td>\n",
       "      <td>0.000491</td>\n",
       "      <td>-0.153846</td>\n",
       "      <td>0.866025</td>\n",
       "      <td>5.000000e-01</td>\n",
       "      <td>-0.000426</td>\n",
       "      <td>1.000000</td>\n",
       "      <td>0.000000</td>\n",
       "    </tr>\n",
       "    <tr>\n",
       "      <th>2</th>\n",
       "      <td>0</td>\n",
       "      <td>37.434742</td>\n",
       "      <td>23.793847</td>\n",
       "      <td>7.215278</td>\n",
       "      <td>2013.000000</td>\n",
       "      <td>5.000000</td>\n",
       "      <td>-0.000451</td>\n",
       "      <td>-0.125339</td>\n",
       "      <td>0.866025</td>\n",
       "      <td>-5.000000e-01</td>\n",
       "      <td>0.000168</td>\n",
       "      <td>0.000000</td>\n",
       "      <td>1.000000</td>\n",
       "    </tr>\n",
       "    <tr>\n",
       "      <th>3</th>\n",
       "      <td>0</td>\n",
       "      <td>37.569974</td>\n",
       "      <td>24.570269</td>\n",
       "      <td>7.712647</td>\n",
       "      <td>2012.000000</td>\n",
       "      <td>4.000000</td>\n",
       "      <td>0.000441</td>\n",
       "      <td>-0.517954</td>\n",
       "      <td>-0.500000</td>\n",
       "      <td>8.660254e-01</td>\n",
       "      <td>0.000622</td>\n",
       "      <td>1.000000</td>\n",
       "      <td>0.000000</td>\n",
       "    </tr>\n",
       "    <tr>\n",
       "      <th>4</th>\n",
       "      <td>0</td>\n",
       "      <td>37.436749</td>\n",
       "      <td>24.101556</td>\n",
       "      <td>6.265326</td>\n",
       "      <td>2013.000000</td>\n",
       "      <td>21.000000</td>\n",
       "      <td>-0.001333</td>\n",
       "      <td>0.052110</td>\n",
       "      <td>0.866025</td>\n",
       "      <td>-5.000000e-01</td>\n",
       "      <td>-0.003554</td>\n",
       "      <td>0.000000</td>\n",
       "      <td>1.000000</td>\n",
       "    </tr>\n",
       "    <tr>\n",
       "      <th>5</th>\n",
       "      <td>0</td>\n",
       "      <td>37.381554</td>\n",
       "      <td>23.000731</td>\n",
       "      <td>6.591605</td>\n",
       "      <td>2013.000000</td>\n",
       "      <td>15.000000</td>\n",
       "      <td>0.005879</td>\n",
       "      <td>-0.350124</td>\n",
       "      <td>0.866025</td>\n",
       "      <td>5.000000e-01</td>\n",
       "      <td>0.003674</td>\n",
       "      <td>1.000000</td>\n",
       "      <td>0.000000</td>\n",
       "    </tr>\n",
       "    <tr>\n",
       "      <th>6</th>\n",
       "      <td>0</td>\n",
       "      <td>37.569626</td>\n",
       "      <td>26.854484</td>\n",
       "      <td>3.993353</td>\n",
       "      <td>2012.000000</td>\n",
       "      <td>25.000000</td>\n",
       "      <td>0.001614</td>\n",
       "      <td>0.299227</td>\n",
       "      <td>-1.000000</td>\n",
       "      <td>-1.836970e-16</td>\n",
       "      <td>0.000773</td>\n",
       "      <td>1.000000</td>\n",
       "      <td>0.000000</td>\n",
       "    </tr>\n",
       "    <tr>\n",
       "      <th>7</th>\n",
       "      <td>0</td>\n",
       "      <td>37.604592</td>\n",
       "      <td>26.065193</td>\n",
       "      <td>6.023921</td>\n",
       "      <td>2013.000000</td>\n",
       "      <td>16.000000</td>\n",
       "      <td>0.007504</td>\n",
       "      <td>-0.835009</td>\n",
       "      <td>-0.866025</td>\n",
       "      <td>-5.000000e-01</td>\n",
       "      <td>0.010928</td>\n",
       "      <td>1.000000</td>\n",
       "      <td>0.000000</td>\n",
       "    </tr>\n",
       "    <tr>\n",
       "      <th>8</th>\n",
       "      <td>0</td>\n",
       "      <td>37.435233</td>\n",
       "      <td>22.698443</td>\n",
       "      <td>2.190865</td>\n",
       "      <td>2013.000000</td>\n",
       "      <td>16.000000</td>\n",
       "      <td>-0.006938</td>\n",
       "      <td>-0.243720</td>\n",
       "      <td>0.500000</td>\n",
       "      <td>8.660254e-01</td>\n",
       "      <td>-0.003150</td>\n",
       "      <td>0.000000</td>\n",
       "      <td>1.000000</td>\n",
       "    </tr>\n",
       "    <tr>\n",
       "      <th>9</th>\n",
       "      <td>0</td>\n",
       "      <td>37.471021</td>\n",
       "      <td>23.822456</td>\n",
       "      <td>3.088194</td>\n",
       "      <td>2013.000000</td>\n",
       "      <td>13.000000</td>\n",
       "      <td>-0.002814</td>\n",
       "      <td>0.495063</td>\n",
       "      <td>1.000000</td>\n",
       "      <td>6.123234e-17</td>\n",
       "      <td>-0.004412</td>\n",
       "      <td>0.000000</td>\n",
       "      <td>1.000000</td>\n",
       "    </tr>\n",
       "    <tr>\n",
       "      <th>10</th>\n",
       "      <td>0</td>\n",
       "      <td>37.452762</td>\n",
       "      <td>23.495746</td>\n",
       "      <td>1.735080</td>\n",
       "      <td>2013.000000</td>\n",
       "      <td>28.000000</td>\n",
       "      <td>0.002221</td>\n",
       "      <td>-0.353696</td>\n",
       "      <td>0.000000</td>\n",
       "      <td>1.000000e+00</td>\n",
       "      <td>0.001916</td>\n",
       "      <td>1.000000</td>\n",
       "      <td>0.000000</td>\n",
       "    </tr>\n",
       "    <tr>\n",
       "      <th>11</th>\n",
       "      <td>0</td>\n",
       "      <td>37.458980</td>\n",
       "      <td>23.228914</td>\n",
       "      <td>3.593055</td>\n",
       "      <td>2013.000000</td>\n",
       "      <td>13.000000</td>\n",
       "      <td>-0.001573</td>\n",
       "      <td>0.076142</td>\n",
       "      <td>1.000000</td>\n",
       "      <td>6.123234e-17</td>\n",
       "      <td>-0.001730</td>\n",
       "      <td>0.000000</td>\n",
       "      <td>1.000000</td>\n",
       "    </tr>\n",
       "    <tr>\n",
       "      <th>12</th>\n",
       "      <td>0</td>\n",
       "      <td>37.233922</td>\n",
       "      <td>26.101634</td>\n",
       "      <td>5.164465</td>\n",
       "      <td>2013.000000</td>\n",
       "      <td>29.000000</td>\n",
       "      <td>-0.002955</td>\n",
       "      <td>0.208958</td>\n",
       "      <td>-0.500000</td>\n",
       "      <td>-8.660254e-01</td>\n",
       "      <td>-0.001902</td>\n",
       "      <td>1.000000</td>\n",
       "      <td>0.000000</td>\n",
       "    </tr>\n",
       "    <tr>\n",
       "      <th>13</th>\n",
       "      <td>0</td>\n",
       "      <td>37.430857</td>\n",
       "      <td>24.084659</td>\n",
       "      <td>5.358868</td>\n",
       "      <td>2013.000000</td>\n",
       "      <td>11.000000</td>\n",
       "      <td>0.002533</td>\n",
       "      <td>0.493118</td>\n",
       "      <td>0.866025</td>\n",
       "      <td>-5.000000e-01</td>\n",
       "      <td>0.003073</td>\n",
       "      <td>1.000000</td>\n",
       "      <td>0.000000</td>\n",
       "    </tr>\n",
       "    <tr>\n",
       "      <th>14</th>\n",
       "      <td>0</td>\n",
       "      <td>37.412764</td>\n",
       "      <td>22.822832</td>\n",
       "      <td>9.222430</td>\n",
       "      <td>2013.000000</td>\n",
       "      <td>14.000000</td>\n",
       "      <td>0.001652</td>\n",
       "      <td>-0.619194</td>\n",
       "      <td>0.866025</td>\n",
       "      <td>5.000000e-01</td>\n",
       "      <td>0.000666</td>\n",
       "      <td>1.000000</td>\n",
       "      <td>0.000000</td>\n",
       "    </tr>\n",
       "    <tr>\n",
       "      <th>15</th>\n",
       "      <td>0</td>\n",
       "      <td>37.583940</td>\n",
       "      <td>27.352543</td>\n",
       "      <td>2.344384</td>\n",
       "      <td>2013.000000</td>\n",
       "      <td>29.000000</td>\n",
       "      <td>0.006879</td>\n",
       "      <td>0.545022</td>\n",
       "      <td>-0.866025</td>\n",
       "      <td>-5.000000e-01</td>\n",
       "      <td>0.007870</td>\n",
       "      <td>1.000000</td>\n",
       "      <td>0.000000</td>\n",
       "    </tr>\n",
       "    <tr>\n",
       "      <th>16</th>\n",
       "      <td>0</td>\n",
       "      <td>37.611022</td>\n",
       "      <td>25.303228</td>\n",
       "      <td>8.229871</td>\n",
       "      <td>2012.000000</td>\n",
       "      <td>12.000000</td>\n",
       "      <td>-0.003417</td>\n",
       "      <td>0.551226</td>\n",
       "      <td>-0.866025</td>\n",
       "      <td>5.000000e-01</td>\n",
       "      <td>-0.001758</td>\n",
       "      <td>1.000000</td>\n",
       "      <td>0.000000</td>\n",
       "    </tr>\n",
       "    <tr>\n",
       "      <th>17</th>\n",
       "      <td>0</td>\n",
       "      <td>37.366265</td>\n",
       "      <td>23.162282</td>\n",
       "      <td>7.114900</td>\n",
       "      <td>2013.000000</td>\n",
       "      <td>7.000000</td>\n",
       "      <td>0.001263</td>\n",
       "      <td>0.135983</td>\n",
       "      <td>1.000000</td>\n",
       "      <td>6.123234e-17</td>\n",
       "      <td>0.002601</td>\n",
       "      <td>0.000000</td>\n",
       "      <td>1.000000</td>\n",
       "    </tr>\n",
       "    <tr>\n",
       "      <th>18</th>\n",
       "      <td>0</td>\n",
       "      <td>37.508606</td>\n",
       "      <td>24.462740</td>\n",
       "      <td>4.137719</td>\n",
       "      <td>2012.000000</td>\n",
       "      <td>7.000000</td>\n",
       "      <td>0.000601</td>\n",
       "      <td>0.048645</td>\n",
       "      <td>-0.500000</td>\n",
       "      <td>8.660254e-01</td>\n",
       "      <td>0.001005</td>\n",
       "      <td>1.000000</td>\n",
       "      <td>0.000000</td>\n",
       "    </tr>\n",
       "    <tr>\n",
       "      <th>19</th>\n",
       "      <td>0</td>\n",
       "      <td>37.577553</td>\n",
       "      <td>27.291788</td>\n",
       "      <td>7.213676</td>\n",
       "      <td>2012.000000</td>\n",
       "      <td>11.000000</td>\n",
       "      <td>0.006025</td>\n",
       "      <td>0.302889</td>\n",
       "      <td>-1.000000</td>\n",
       "      <td>-1.836970e-16</td>\n",
       "      <td>0.007770</td>\n",
       "      <td>0.000000</td>\n",
       "      <td>1.000000</td>\n",
       "    </tr>\n",
       "    <tr>\n",
       "      <th>20</th>\n",
       "      <td>0</td>\n",
       "      <td>37.412843</td>\n",
       "      <td>23.981381</td>\n",
       "      <td>4.123560</td>\n",
       "      <td>2013.000000</td>\n",
       "      <td>3.000000</td>\n",
       "      <td>0.001019</td>\n",
       "      <td>0.959489</td>\n",
       "      <td>0.000000</td>\n",
       "      <td>1.000000e+00</td>\n",
       "      <td>0.000318</td>\n",
       "      <td>0.000000</td>\n",
       "      <td>1.000000</td>\n",
       "    </tr>\n",
       "    <tr>\n",
       "      <th>21</th>\n",
       "      <td>0</td>\n",
       "      <td>37.385821</td>\n",
       "      <td>22.667005</td>\n",
       "      <td>2.680812</td>\n",
       "      <td>2013.000000</td>\n",
       "      <td>21.000000</td>\n",
       "      <td>0.011009</td>\n",
       "      <td>0.242291</td>\n",
       "      <td>0.866025</td>\n",
       "      <td>5.000000e-01</td>\n",
       "      <td>0.008531</td>\n",
       "      <td>1.000000</td>\n",
       "      <td>0.000000</td>\n",
       "    </tr>\n",
       "    <tr>\n",
       "      <th>22</th>\n",
       "      <td>0</td>\n",
       "      <td>37.238721</td>\n",
       "      <td>26.146949</td>\n",
       "      <td>5.011422</td>\n",
       "      <td>2013.000000</td>\n",
       "      <td>28.000000</td>\n",
       "      <td>-0.001076</td>\n",
       "      <td>-0.257499</td>\n",
       "      <td>-0.500000</td>\n",
       "      <td>-8.660254e-01</td>\n",
       "      <td>-0.000408</td>\n",
       "      <td>0.000000</td>\n",
       "      <td>1.000000</td>\n",
       "    </tr>\n",
       "    <tr>\n",
       "      <th>23</th>\n",
       "      <td>0</td>\n",
       "      <td>37.446251</td>\n",
       "      <td>23.977712</td>\n",
       "      <td>2.525783</td>\n",
       "      <td>2013.000000</td>\n",
       "      <td>29.000000</td>\n",
       "      <td>0.004178</td>\n",
       "      <td>0.972828</td>\n",
       "      <td>0.000000</td>\n",
       "      <td>1.000000e+00</td>\n",
       "      <td>0.003054</td>\n",
       "      <td>1.000000</td>\n",
       "      <td>0.000000</td>\n",
       "    </tr>\n",
       "    <tr>\n",
       "      <th>24</th>\n",
       "      <td>0</td>\n",
       "      <td>37.444245</td>\n",
       "      <td>22.929151</td>\n",
       "      <td>0.484729</td>\n",
       "      <td>2013.000000</td>\n",
       "      <td>8.000000</td>\n",
       "      <td>-0.000373</td>\n",
       "      <td>-0.390170</td>\n",
       "      <td>0.866025</td>\n",
       "      <td>5.000000e-01</td>\n",
       "      <td>-0.001049</td>\n",
       "      <td>1.000000</td>\n",
       "      <td>0.000000</td>\n",
       "    </tr>\n",
       "    <tr>\n",
       "      <th>25</th>\n",
       "      <td>0</td>\n",
       "      <td>37.457617</td>\n",
       "      <td>24.181936</td>\n",
       "      <td>7.167850</td>\n",
       "      <td>2012.000000</td>\n",
       "      <td>23.000000</td>\n",
       "      <td>-0.000177</td>\n",
       "      <td>-0.233178</td>\n",
       "      <td>-0.500000</td>\n",
       "      <td>8.660254e-01</td>\n",
       "      <td>0.000546</td>\n",
       "      <td>0.000000</td>\n",
       "      <td>1.000000</td>\n",
       "    </tr>\n",
       "    <tr>\n",
       "      <th>26</th>\n",
       "      <td>0</td>\n",
       "      <td>37.418750</td>\n",
       "      <td>23.482789</td>\n",
       "      <td>11.330720</td>\n",
       "      <td>2013.000000</td>\n",
       "      <td>14.000000</td>\n",
       "      <td>-0.008376</td>\n",
       "      <td>3.764849</td>\n",
       "      <td>0.000000</td>\n",
       "      <td>1.000000e+00</td>\n",
       "      <td>-0.008936</td>\n",
       "      <td>0.000000</td>\n",
       "      <td>1.000000</td>\n",
       "    </tr>\n",
       "    <tr>\n",
       "      <th>27</th>\n",
       "      <td>0</td>\n",
       "      <td>37.414736</td>\n",
       "      <td>23.608063</td>\n",
       "      <td>5.634162</td>\n",
       "      <td>2013.000000</td>\n",
       "      <td>28.000000</td>\n",
       "      <td>-0.001154</td>\n",
       "      <td>0.171982</td>\n",
       "      <td>0.866025</td>\n",
       "      <td>5.000000e-01</td>\n",
       "      <td>-0.000609</td>\n",
       "      <td>0.000000</td>\n",
       "      <td>1.000000</td>\n",
       "    </tr>\n",
       "    <tr>\n",
       "      <th>28</th>\n",
       "      <td>0</td>\n",
       "      <td>37.408345</td>\n",
       "      <td>23.875941</td>\n",
       "      <td>5.219240</td>\n",
       "      <td>2013.000000</td>\n",
       "      <td>8.000000</td>\n",
       "      <td>0.000075</td>\n",
       "      <td>-0.335890</td>\n",
       "      <td>0.866025</td>\n",
       "      <td>-5.000000e-01</td>\n",
       "      <td>-0.000005</td>\n",
       "      <td>1.000000</td>\n",
       "      <td>0.000000</td>\n",
       "    </tr>\n",
       "    <tr>\n",
       "      <th>29</th>\n",
       "      <td>0</td>\n",
       "      <td>37.546650</td>\n",
       "      <td>24.775878</td>\n",
       "      <td>2.698212</td>\n",
       "      <td>2012.000000</td>\n",
       "      <td>23.000000</td>\n",
       "      <td>0.001112</td>\n",
       "      <td>0.030789</td>\n",
       "      <td>-0.866025</td>\n",
       "      <td>5.000000e-01</td>\n",
       "      <td>0.000082</td>\n",
       "      <td>1.000000</td>\n",
       "      <td>0.000000</td>\n",
       "    </tr>\n",
       "    <tr>\n",
       "      <th>...</th>\n",
       "      <td>...</td>\n",
       "      <td>...</td>\n",
       "      <td>...</td>\n",
       "      <td>...</td>\n",
       "      <td>...</td>\n",
       "      <td>...</td>\n",
       "      <td>...</td>\n",
       "      <td>...</td>\n",
       "      <td>...</td>\n",
       "      <td>...</td>\n",
       "      <td>...</td>\n",
       "      <td>...</td>\n",
       "      <td>...</td>\n",
       "    </tr>\n",
       "    <tr>\n",
       "      <th>13560</th>\n",
       "      <td>1</td>\n",
       "      <td>37.318450</td>\n",
       "      <td>23.301947</td>\n",
       "      <td>5.627086</td>\n",
       "      <td>2013.000000</td>\n",
       "      <td>3.564919</td>\n",
       "      <td>-0.031120</td>\n",
       "      <td>0.102555</td>\n",
       "      <td>0.439811</td>\n",
       "      <td>8.821530e-01</td>\n",
       "      <td>-0.001251</td>\n",
       "      <td>0.000000</td>\n",
       "      <td>1.000000</td>\n",
       "    </tr>\n",
       "    <tr>\n",
       "      <th>13561</th>\n",
       "      <td>1</td>\n",
       "      <td>37.363354</td>\n",
       "      <td>23.286921</td>\n",
       "      <td>4.730047</td>\n",
       "      <td>2013.000000</td>\n",
       "      <td>16.432384</td>\n",
       "      <td>-0.031009</td>\n",
       "      <td>-0.306321</td>\n",
       "      <td>0.108096</td>\n",
       "      <td>8.919041e-01</td>\n",
       "      <td>-0.023205</td>\n",
       "      <td>0.108096</td>\n",
       "      <td>0.891904</td>\n",
       "    </tr>\n",
       "    <tr>\n",
       "      <th>13562</th>\n",
       "      <td>1</td>\n",
       "      <td>37.423094</td>\n",
       "      <td>24.030726</td>\n",
       "      <td>5.852115</td>\n",
       "      <td>2012.903332</td>\n",
       "      <td>17.386673</td>\n",
       "      <td>-0.016126</td>\n",
       "      <td>-2.086153</td>\n",
       "      <td>0.733974</td>\n",
       "      <td>-3.679486e-01</td>\n",
       "      <td>-0.009266</td>\n",
       "      <td>0.000000</td>\n",
       "      <td>1.000000</td>\n",
       "    </tr>\n",
       "    <tr>\n",
       "      <th>13563</th>\n",
       "      <td>1</td>\n",
       "      <td>37.451356</td>\n",
       "      <td>23.981822</td>\n",
       "      <td>7.612574</td>\n",
       "      <td>2012.406467</td>\n",
       "      <td>4.374132</td>\n",
       "      <td>-0.015131</td>\n",
       "      <td>-0.868746</td>\n",
       "      <td>-0.093533</td>\n",
       "      <td>8.660254e-01</td>\n",
       "      <td>-0.002119</td>\n",
       "      <td>0.000000</td>\n",
       "      <td>1.000000</td>\n",
       "    </tr>\n",
       "    <tr>\n",
       "      <th>13564</th>\n",
       "      <td>1</td>\n",
       "      <td>37.360523</td>\n",
       "      <td>23.493918</td>\n",
       "      <td>5.514807</td>\n",
       "      <td>2012.814325</td>\n",
       "      <td>2.742700</td>\n",
       "      <td>-0.029118</td>\n",
       "      <td>0.146511</td>\n",
       "      <td>0.314325</td>\n",
       "      <td>8.660254e-01</td>\n",
       "      <td>-0.006403</td>\n",
       "      <td>0.000000</td>\n",
       "      <td>1.000000</td>\n",
       "    </tr>\n",
       "    <tr>\n",
       "      <th>13565</th>\n",
       "      <td>1</td>\n",
       "      <td>37.290134</td>\n",
       "      <td>23.282816</td>\n",
       "      <td>4.277443</td>\n",
       "      <td>2013.000000</td>\n",
       "      <td>16.000000</td>\n",
       "      <td>0.023215</td>\n",
       "      <td>1.835792</td>\n",
       "      <td>0.000000</td>\n",
       "      <td>1.000000e+00</td>\n",
       "      <td>0.021751</td>\n",
       "      <td>1.000000</td>\n",
       "      <td>0.000000</td>\n",
       "    </tr>\n",
       "    <tr>\n",
       "      <th>13566</th>\n",
       "      <td>1</td>\n",
       "      <td>37.564715</td>\n",
       "      <td>25.093208</td>\n",
       "      <td>8.441550</td>\n",
       "      <td>2012.122899</td>\n",
       "      <td>12.368698</td>\n",
       "      <td>-0.006794</td>\n",
       "      <td>-0.212609</td>\n",
       "      <td>-0.759591</td>\n",
       "      <td>5.614497e-01</td>\n",
       "      <td>-0.001459</td>\n",
       "      <td>0.000000</td>\n",
       "      <td>1.000000</td>\n",
       "    </tr>\n",
       "    <tr>\n",
       "      <th>13567</th>\n",
       "      <td>1</td>\n",
       "      <td>37.531572</td>\n",
       "      <td>24.419997</td>\n",
       "      <td>7.934286</td>\n",
       "      <td>2012.000000</td>\n",
       "      <td>6.000000</td>\n",
       "      <td>-0.010664</td>\n",
       "      <td>0.194732</td>\n",
       "      <td>-0.500000</td>\n",
       "      <td>8.660254e-01</td>\n",
       "      <td>-0.010359</td>\n",
       "      <td>0.000000</td>\n",
       "      <td>1.000000</td>\n",
       "    </tr>\n",
       "    <tr>\n",
       "      <th>13568</th>\n",
       "      <td>1</td>\n",
       "      <td>37.320208</td>\n",
       "      <td>23.597816</td>\n",
       "      <td>9.452333</td>\n",
       "      <td>2012.905647</td>\n",
       "      <td>14.716940</td>\n",
       "      <td>-0.018443</td>\n",
       "      <td>0.800669</td>\n",
       "      <td>-0.081712</td>\n",
       "      <td>9.528233e-01</td>\n",
       "      <td>0.020730</td>\n",
       "      <td>0.000000</td>\n",
       "      <td>1.000000</td>\n",
       "    </tr>\n",
       "    <tr>\n",
       "      <th>13569</th>\n",
       "      <td>1</td>\n",
       "      <td>37.346224</td>\n",
       "      <td>23.507089</td>\n",
       "      <td>4.219149</td>\n",
       "      <td>2013.000000</td>\n",
       "      <td>16.277564</td>\n",
       "      <td>-0.021430</td>\n",
       "      <td>-2.197372</td>\n",
       "      <td>0.240377</td>\n",
       "      <td>5.836544e-01</td>\n",
       "      <td>-0.015120</td>\n",
       "      <td>0.722436</td>\n",
       "      <td>0.277564</td>\n",
       "    </tr>\n",
       "    <tr>\n",
       "      <th>13570</th>\n",
       "      <td>1</td>\n",
       "      <td>37.472801</td>\n",
       "      <td>25.926657</td>\n",
       "      <td>5.109369</td>\n",
       "      <td>2012.723511</td>\n",
       "      <td>21.170532</td>\n",
       "      <td>-0.024356</td>\n",
       "      <td>1.319693</td>\n",
       "      <td>-0.866025</td>\n",
       "      <td>-2.235107e-01</td>\n",
       "      <td>-0.093355</td>\n",
       "      <td>1.000000</td>\n",
       "      <td>0.000000</td>\n",
       "    </tr>\n",
       "    <tr>\n",
       "      <th>13571</th>\n",
       "      <td>1</td>\n",
       "      <td>37.439941</td>\n",
       "      <td>25.735482</td>\n",
       "      <td>4.355225</td>\n",
       "      <td>2013.000000</td>\n",
       "      <td>21.580941</td>\n",
       "      <td>-0.023272</td>\n",
       "      <td>2.187456</td>\n",
       "      <td>-0.475038</td>\n",
       "      <td>-3.952354e-01</td>\n",
       "      <td>-0.100100</td>\n",
       "      <td>1.000000</td>\n",
       "      <td>0.000000</td>\n",
       "    </tr>\n",
       "    <tr>\n",
       "      <th>13572</th>\n",
       "      <td>1</td>\n",
       "      <td>37.282903</td>\n",
       "      <td>23.288365</td>\n",
       "      <td>2.702752</td>\n",
       "      <td>2013.000000</td>\n",
       "      <td>16.000000</td>\n",
       "      <td>-0.037840</td>\n",
       "      <td>-1.790563</td>\n",
       "      <td>0.000000</td>\n",
       "      <td>1.000000e+00</td>\n",
       "      <td>-0.013193</td>\n",
       "      <td>1.000000</td>\n",
       "      <td>0.000000</td>\n",
       "    </tr>\n",
       "    <tr>\n",
       "      <th>13573</th>\n",
       "      <td>1</td>\n",
       "      <td>37.418652</td>\n",
       "      <td>24.155306</td>\n",
       "      <td>7.851565</td>\n",
       "      <td>2012.238235</td>\n",
       "      <td>21.000000</td>\n",
       "      <td>-0.013397</td>\n",
       "      <td>0.158057</td>\n",
       "      <td>-0.174565</td>\n",
       "      <td>5.405902e-01</td>\n",
       "      <td>-0.012084</td>\n",
       "      <td>0.238235</td>\n",
       "      <td>0.761765</td>\n",
       "    </tr>\n",
       "    <tr>\n",
       "      <th>13574</th>\n",
       "      <td>1</td>\n",
       "      <td>37.266807</td>\n",
       "      <td>23.384274</td>\n",
       "      <td>10.498696</td>\n",
       "      <td>2013.000000</td>\n",
       "      <td>15.000000</td>\n",
       "      <td>0.064506</td>\n",
       "      <td>2.020812</td>\n",
       "      <td>0.000000</td>\n",
       "      <td>1.000000e+00</td>\n",
       "      <td>0.069181</td>\n",
       "      <td>0.327712</td>\n",
       "      <td>0.672288</td>\n",
       "    </tr>\n",
       "    <tr>\n",
       "      <th>13575</th>\n",
       "      <td>1</td>\n",
       "      <td>37.256622</td>\n",
       "      <td>23.268268</td>\n",
       "      <td>2.028696</td>\n",
       "      <td>2013.000000</td>\n",
       "      <td>16.000000</td>\n",
       "      <td>-0.044875</td>\n",
       "      <td>-1.239039</td>\n",
       "      <td>0.000000</td>\n",
       "      <td>1.000000e+00</td>\n",
       "      <td>-0.007085</td>\n",
       "      <td>1.000000</td>\n",
       "      <td>0.000000</td>\n",
       "    </tr>\n",
       "    <tr>\n",
       "      <th>13576</th>\n",
       "      <td>1</td>\n",
       "      <td>37.375226</td>\n",
       "      <td>23.798765</td>\n",
       "      <td>4.526596</td>\n",
       "      <td>2013.000000</td>\n",
       "      <td>16.713329</td>\n",
       "      <td>-0.025893</td>\n",
       "      <td>-2.085447</td>\n",
       "      <td>0.617761</td>\n",
       "      <td>-6.999295e-02</td>\n",
       "      <td>-0.008831</td>\n",
       "      <td>0.286671</td>\n",
       "      <td>0.713329</td>\n",
       "    </tr>\n",
       "    <tr>\n",
       "      <th>13577</th>\n",
       "      <td>1</td>\n",
       "      <td>37.425212</td>\n",
       "      <td>23.903407</td>\n",
       "      <td>6.340362</td>\n",
       "      <td>2013.000000</td>\n",
       "      <td>20.843795</td>\n",
       "      <td>-0.007505</td>\n",
       "      <td>0.816030</td>\n",
       "      <td>0.886953</td>\n",
       "      <td>-4.218975e-01</td>\n",
       "      <td>-0.006396</td>\n",
       "      <td>1.000000</td>\n",
       "      <td>0.000000</td>\n",
       "    </tr>\n",
       "    <tr>\n",
       "      <th>13578</th>\n",
       "      <td>1</td>\n",
       "      <td>37.273968</td>\n",
       "      <td>23.385169</td>\n",
       "      <td>10.474943</td>\n",
       "      <td>2013.000000</td>\n",
       "      <td>13.620872</td>\n",
       "      <td>0.165921</td>\n",
       "      <td>3.321158</td>\n",
       "      <td>0.000000</td>\n",
       "      <td>1.000000e+00</td>\n",
       "      <td>0.116272</td>\n",
       "      <td>1.000000</td>\n",
       "      <td>0.000000</td>\n",
       "    </tr>\n",
       "    <tr>\n",
       "      <th>13579</th>\n",
       "      <td>1</td>\n",
       "      <td>37.303097</td>\n",
       "      <td>23.283422</td>\n",
       "      <td>3.230483</td>\n",
       "      <td>2013.000000</td>\n",
       "      <td>16.000000</td>\n",
       "      <td>-0.039343</td>\n",
       "      <td>-0.869184</td>\n",
       "      <td>0.000000</td>\n",
       "      <td>1.000000e+00</td>\n",
       "      <td>-0.015279</td>\n",
       "      <td>0.548328</td>\n",
       "      <td>0.451672</td>\n",
       "    </tr>\n",
       "    <tr>\n",
       "      <th>13580</th>\n",
       "      <td>1</td>\n",
       "      <td>37.432511</td>\n",
       "      <td>26.039876</td>\n",
       "      <td>4.027154</td>\n",
       "      <td>2013.000000</td>\n",
       "      <td>21.799942</td>\n",
       "      <td>-0.031586</td>\n",
       "      <td>1.314932</td>\n",
       "      <td>-0.679369</td>\n",
       "      <td>-4.499855e-01</td>\n",
       "      <td>-0.107935</td>\n",
       "      <td>1.000000</td>\n",
       "      <td>0.000000</td>\n",
       "    </tr>\n",
       "    <tr>\n",
       "      <th>13581</th>\n",
       "      <td>1</td>\n",
       "      <td>37.263632</td>\n",
       "      <td>23.478829</td>\n",
       "      <td>11.960067</td>\n",
       "      <td>2012.857441</td>\n",
       "      <td>13.716973</td>\n",
       "      <td>0.203243</td>\n",
       "      <td>3.456406</td>\n",
       "      <td>-0.071279</td>\n",
       "      <td>9.809008e-01</td>\n",
       "      <td>0.139783</td>\n",
       "      <td>0.857441</td>\n",
       "      <td>0.142559</td>\n",
       "    </tr>\n",
       "    <tr>\n",
       "      <th>13582</th>\n",
       "      <td>1</td>\n",
       "      <td>37.294127</td>\n",
       "      <td>23.322451</td>\n",
       "      <td>4.508449</td>\n",
       "      <td>2013.000000</td>\n",
       "      <td>16.309220</td>\n",
       "      <td>0.028657</td>\n",
       "      <td>2.361788</td>\n",
       "      <td>0.053559</td>\n",
       "      <td>9.072339e-01</td>\n",
       "      <td>0.026571</td>\n",
       "      <td>1.000000</td>\n",
       "      <td>0.000000</td>\n",
       "    </tr>\n",
       "    <tr>\n",
       "      <th>13583</th>\n",
       "      <td>1</td>\n",
       "      <td>37.391281</td>\n",
       "      <td>24.032493</td>\n",
       "      <td>9.158521</td>\n",
       "      <td>2012.678119</td>\n",
       "      <td>14.034358</td>\n",
       "      <td>-0.015056</td>\n",
       "      <td>0.506131</td>\n",
       "      <td>-0.278757</td>\n",
       "      <td>8.390596e-01</td>\n",
       "      <td>0.014280</td>\n",
       "      <td>0.000000</td>\n",
       "      <td>1.000000</td>\n",
       "    </tr>\n",
       "    <tr>\n",
       "      <th>13584</th>\n",
       "      <td>1</td>\n",
       "      <td>37.441021</td>\n",
       "      <td>26.332466</td>\n",
       "      <td>4.152217</td>\n",
       "      <td>2012.982296</td>\n",
       "      <td>21.946887</td>\n",
       "      <td>-0.027276</td>\n",
       "      <td>1.647297</td>\n",
       "      <td>-0.866025</td>\n",
       "      <td>-4.822958e-01</td>\n",
       "      <td>-0.115077</td>\n",
       "      <td>1.000000</td>\n",
       "      <td>0.000000</td>\n",
       "    </tr>\n",
       "    <tr>\n",
       "      <th>13585</th>\n",
       "      <td>1</td>\n",
       "      <td>37.267084</td>\n",
       "      <td>23.384659</td>\n",
       "      <td>10.487984</td>\n",
       "      <td>2013.000000</td>\n",
       "      <td>15.000000</td>\n",
       "      <td>0.063529</td>\n",
       "      <td>2.008090</td>\n",
       "      <td>0.000000</td>\n",
       "      <td>1.000000e+00</td>\n",
       "      <td>0.068651</td>\n",
       "      <td>0.323915</td>\n",
       "      <td>0.676085</td>\n",
       "    </tr>\n",
       "    <tr>\n",
       "      <th>13586</th>\n",
       "      <td>1</td>\n",
       "      <td>37.325062</td>\n",
       "      <td>24.645523</td>\n",
       "      <td>5.967435</td>\n",
       "      <td>2013.000000</td>\n",
       "      <td>25.754144</td>\n",
       "      <td>-0.026399</td>\n",
       "      <td>-0.272785</td>\n",
       "      <td>0.434448</td>\n",
       "      <td>-5.000000e-01</td>\n",
       "      <td>-0.044046</td>\n",
       "      <td>0.249171</td>\n",
       "      <td>0.750829</td>\n",
       "    </tr>\n",
       "    <tr>\n",
       "      <th>13587</th>\n",
       "      <td>1</td>\n",
       "      <td>37.544936</td>\n",
       "      <td>24.529130</td>\n",
       "      <td>9.255880</td>\n",
       "      <td>2012.000000</td>\n",
       "      <td>6.488953</td>\n",
       "      <td>-0.003275</td>\n",
       "      <td>-1.368597</td>\n",
       "      <td>-0.529828</td>\n",
       "      <td>8.361972e-01</td>\n",
       "      <td>-0.000772</td>\n",
       "      <td>0.000000</td>\n",
       "      <td>1.000000</td>\n",
       "    </tr>\n",
       "    <tr>\n",
       "      <th>13588</th>\n",
       "      <td>1</td>\n",
       "      <td>37.431036</td>\n",
       "      <td>26.761559</td>\n",
       "      <td>4.181853</td>\n",
       "      <td>2012.694527</td>\n",
       "      <td>22.916419</td>\n",
       "      <td>-0.033059</td>\n",
       "      <td>1.876721</td>\n",
       "      <td>-0.866025</td>\n",
       "      <td>-5.000000e-01</td>\n",
       "      <td>-0.092566</td>\n",
       "      <td>0.694527</td>\n",
       "      <td>0.305473</td>\n",
       "    </tr>\n",
       "    <tr>\n",
       "      <th>13589</th>\n",
       "      <td>1</td>\n",
       "      <td>37.387428</td>\n",
       "      <td>24.019933</td>\n",
       "      <td>6.538514</td>\n",
       "      <td>2013.000000</td>\n",
       "      <td>22.530716</td>\n",
       "      <td>-0.012247</td>\n",
       "      <td>-0.084660</td>\n",
       "      <td>0.866025</td>\n",
       "      <td>-5.000000e-01</td>\n",
       "      <td>-0.005505</td>\n",
       "      <td>0.744881</td>\n",
       "      <td>0.255119</td>\n",
       "    </tr>\n",
       "  </tbody>\n",
       "</table>\n",
       "<p>13590 rows × 13 columns</p>\n",
       "</div>"
      ],
      "text/plain": [
       "       thres        sss        sst   wind_spd         year        day  \\\n",
       "0          0  37.587094  26.628685   3.727143  2012.000000  24.000000   \n",
       "1          0  37.404076  23.156903   0.388721  2013.000000  27.000000   \n",
       "2          0  37.434742  23.793847   7.215278  2013.000000   5.000000   \n",
       "3          0  37.569974  24.570269   7.712647  2012.000000   4.000000   \n",
       "4          0  37.436749  24.101556   6.265326  2013.000000  21.000000   \n",
       "5          0  37.381554  23.000731   6.591605  2013.000000  15.000000   \n",
       "6          0  37.569626  26.854484   3.993353  2012.000000  25.000000   \n",
       "7          0  37.604592  26.065193   6.023921  2013.000000  16.000000   \n",
       "8          0  37.435233  22.698443   2.190865  2013.000000  16.000000   \n",
       "9          0  37.471021  23.822456   3.088194  2013.000000  13.000000   \n",
       "10         0  37.452762  23.495746   1.735080  2013.000000  28.000000   \n",
       "11         0  37.458980  23.228914   3.593055  2013.000000  13.000000   \n",
       "12         0  37.233922  26.101634   5.164465  2013.000000  29.000000   \n",
       "13         0  37.430857  24.084659   5.358868  2013.000000  11.000000   \n",
       "14         0  37.412764  22.822832   9.222430  2013.000000  14.000000   \n",
       "15         0  37.583940  27.352543   2.344384  2013.000000  29.000000   \n",
       "16         0  37.611022  25.303228   8.229871  2012.000000  12.000000   \n",
       "17         0  37.366265  23.162282   7.114900  2013.000000   7.000000   \n",
       "18         0  37.508606  24.462740   4.137719  2012.000000   7.000000   \n",
       "19         0  37.577553  27.291788   7.213676  2012.000000  11.000000   \n",
       "20         0  37.412843  23.981381   4.123560  2013.000000   3.000000   \n",
       "21         0  37.385821  22.667005   2.680812  2013.000000  21.000000   \n",
       "22         0  37.238721  26.146949   5.011422  2013.000000  28.000000   \n",
       "23         0  37.446251  23.977712   2.525783  2013.000000  29.000000   \n",
       "24         0  37.444245  22.929151   0.484729  2013.000000   8.000000   \n",
       "25         0  37.457617  24.181936   7.167850  2012.000000  23.000000   \n",
       "26         0  37.418750  23.482789  11.330720  2013.000000  14.000000   \n",
       "27         0  37.414736  23.608063   5.634162  2013.000000  28.000000   \n",
       "28         0  37.408345  23.875941   5.219240  2013.000000   8.000000   \n",
       "29         0  37.546650  24.775878   2.698212  2012.000000  23.000000   \n",
       "...      ...        ...        ...        ...          ...        ...   \n",
       "13560      1  37.318450  23.301947   5.627086  2013.000000   3.564919   \n",
       "13561      1  37.363354  23.286921   4.730047  2013.000000  16.432384   \n",
       "13562      1  37.423094  24.030726   5.852115  2012.903332  17.386673   \n",
       "13563      1  37.451356  23.981822   7.612574  2012.406467   4.374132   \n",
       "13564      1  37.360523  23.493918   5.514807  2012.814325   2.742700   \n",
       "13565      1  37.290134  23.282816   4.277443  2013.000000  16.000000   \n",
       "13566      1  37.564715  25.093208   8.441550  2012.122899  12.368698   \n",
       "13567      1  37.531572  24.419997   7.934286  2012.000000   6.000000   \n",
       "13568      1  37.320208  23.597816   9.452333  2012.905647  14.716940   \n",
       "13569      1  37.346224  23.507089   4.219149  2013.000000  16.277564   \n",
       "13570      1  37.472801  25.926657   5.109369  2012.723511  21.170532   \n",
       "13571      1  37.439941  25.735482   4.355225  2013.000000  21.580941   \n",
       "13572      1  37.282903  23.288365   2.702752  2013.000000  16.000000   \n",
       "13573      1  37.418652  24.155306   7.851565  2012.238235  21.000000   \n",
       "13574      1  37.266807  23.384274  10.498696  2013.000000  15.000000   \n",
       "13575      1  37.256622  23.268268   2.028696  2013.000000  16.000000   \n",
       "13576      1  37.375226  23.798765   4.526596  2013.000000  16.713329   \n",
       "13577      1  37.425212  23.903407   6.340362  2013.000000  20.843795   \n",
       "13578      1  37.273968  23.385169  10.474943  2013.000000  13.620872   \n",
       "13579      1  37.303097  23.283422   3.230483  2013.000000  16.000000   \n",
       "13580      1  37.432511  26.039876   4.027154  2013.000000  21.799942   \n",
       "13581      1  37.263632  23.478829  11.960067  2012.857441  13.716973   \n",
       "13582      1  37.294127  23.322451   4.508449  2013.000000  16.309220   \n",
       "13583      1  37.391281  24.032493   9.158521  2012.678119  14.034358   \n",
       "13584      1  37.441021  26.332466   4.152217  2012.982296  21.946887   \n",
       "13585      1  37.267084  23.384659  10.487984  2013.000000  15.000000   \n",
       "13586      1  37.325062  24.645523   5.967435  2013.000000  25.754144   \n",
       "13587      1  37.544936  24.529130   9.255880  2012.000000   6.488953   \n",
       "13588      1  37.431036  26.761559   4.181853  2012.694527  22.916419   \n",
       "13589      1  37.387428  24.019933   6.538514  2013.000000  22.530716   \n",
       "\n",
       "       sss_change  wind_change  mnth_sin      mnth_cos  differential  \\\n",
       "0        0.003688    -0.317137 -1.000000 -1.836970e-16      0.003553   \n",
       "1        0.000491    -0.153846  0.866025  5.000000e-01     -0.000426   \n",
       "2       -0.000451    -0.125339  0.866025 -5.000000e-01      0.000168   \n",
       "3        0.000441    -0.517954 -0.500000  8.660254e-01      0.000622   \n",
       "4       -0.001333     0.052110  0.866025 -5.000000e-01     -0.003554   \n",
       "5        0.005879    -0.350124  0.866025  5.000000e-01      0.003674   \n",
       "6        0.001614     0.299227 -1.000000 -1.836970e-16      0.000773   \n",
       "7        0.007504    -0.835009 -0.866025 -5.000000e-01      0.010928   \n",
       "8       -0.006938    -0.243720  0.500000  8.660254e-01     -0.003150   \n",
       "9       -0.002814     0.495063  1.000000  6.123234e-17     -0.004412   \n",
       "10       0.002221    -0.353696  0.000000  1.000000e+00      0.001916   \n",
       "11      -0.001573     0.076142  1.000000  6.123234e-17     -0.001730   \n",
       "12      -0.002955     0.208958 -0.500000 -8.660254e-01     -0.001902   \n",
       "13       0.002533     0.493118  0.866025 -5.000000e-01      0.003073   \n",
       "14       0.001652    -0.619194  0.866025  5.000000e-01      0.000666   \n",
       "15       0.006879     0.545022 -0.866025 -5.000000e-01      0.007870   \n",
       "16      -0.003417     0.551226 -0.866025  5.000000e-01     -0.001758   \n",
       "17       0.001263     0.135983  1.000000  6.123234e-17      0.002601   \n",
       "18       0.000601     0.048645 -0.500000  8.660254e-01      0.001005   \n",
       "19       0.006025     0.302889 -1.000000 -1.836970e-16      0.007770   \n",
       "20       0.001019     0.959489  0.000000  1.000000e+00      0.000318   \n",
       "21       0.011009     0.242291  0.866025  5.000000e-01      0.008531   \n",
       "22      -0.001076    -0.257499 -0.500000 -8.660254e-01     -0.000408   \n",
       "23       0.004178     0.972828  0.000000  1.000000e+00      0.003054   \n",
       "24      -0.000373    -0.390170  0.866025  5.000000e-01     -0.001049   \n",
       "25      -0.000177    -0.233178 -0.500000  8.660254e-01      0.000546   \n",
       "26      -0.008376     3.764849  0.000000  1.000000e+00     -0.008936   \n",
       "27      -0.001154     0.171982  0.866025  5.000000e-01     -0.000609   \n",
       "28       0.000075    -0.335890  0.866025 -5.000000e-01     -0.000005   \n",
       "29       0.001112     0.030789 -0.866025  5.000000e-01      0.000082   \n",
       "...           ...          ...       ...           ...           ...   \n",
       "13560   -0.031120     0.102555  0.439811  8.821530e-01     -0.001251   \n",
       "13561   -0.031009    -0.306321  0.108096  8.919041e-01     -0.023205   \n",
       "13562   -0.016126    -2.086153  0.733974 -3.679486e-01     -0.009266   \n",
       "13563   -0.015131    -0.868746 -0.093533  8.660254e-01     -0.002119   \n",
       "13564   -0.029118     0.146511  0.314325  8.660254e-01     -0.006403   \n",
       "13565    0.023215     1.835792  0.000000  1.000000e+00      0.021751   \n",
       "13566   -0.006794    -0.212609 -0.759591  5.614497e-01     -0.001459   \n",
       "13567   -0.010664     0.194732 -0.500000  8.660254e-01     -0.010359   \n",
       "13568   -0.018443     0.800669 -0.081712  9.528233e-01      0.020730   \n",
       "13569   -0.021430    -2.197372  0.240377  5.836544e-01     -0.015120   \n",
       "13570   -0.024356     1.319693 -0.866025 -2.235107e-01     -0.093355   \n",
       "13571   -0.023272     2.187456 -0.475038 -3.952354e-01     -0.100100   \n",
       "13572   -0.037840    -1.790563  0.000000  1.000000e+00     -0.013193   \n",
       "13573   -0.013397     0.158057 -0.174565  5.405902e-01     -0.012084   \n",
       "13574    0.064506     2.020812  0.000000  1.000000e+00      0.069181   \n",
       "13575   -0.044875    -1.239039  0.000000  1.000000e+00     -0.007085   \n",
       "13576   -0.025893    -2.085447  0.617761 -6.999295e-02     -0.008831   \n",
       "13577   -0.007505     0.816030  0.886953 -4.218975e-01     -0.006396   \n",
       "13578    0.165921     3.321158  0.000000  1.000000e+00      0.116272   \n",
       "13579   -0.039343    -0.869184  0.000000  1.000000e+00     -0.015279   \n",
       "13580   -0.031586     1.314932 -0.679369 -4.499855e-01     -0.107935   \n",
       "13581    0.203243     3.456406 -0.071279  9.809008e-01      0.139783   \n",
       "13582    0.028657     2.361788  0.053559  9.072339e-01      0.026571   \n",
       "13583   -0.015056     0.506131 -0.278757  8.390596e-01      0.014280   \n",
       "13584   -0.027276     1.647297 -0.866025 -4.822958e-01     -0.115077   \n",
       "13585    0.063529     2.008090  0.000000  1.000000e+00      0.068651   \n",
       "13586   -0.026399    -0.272785  0.434448 -5.000000e-01     -0.044046   \n",
       "13587   -0.003275    -1.368597 -0.529828  8.361972e-01     -0.000772   \n",
       "13588   -0.033059     1.876721 -0.866025 -5.000000e-01     -0.092566   \n",
       "13589   -0.012247    -0.084660  0.866025 -5.000000e-01     -0.005505   \n",
       "\n",
       "       hour_Day  hour_Night  \n",
       "0      1.000000    0.000000  \n",
       "1      1.000000    0.000000  \n",
       "2      0.000000    1.000000  \n",
       "3      1.000000    0.000000  \n",
       "4      0.000000    1.000000  \n",
       "5      1.000000    0.000000  \n",
       "6      1.000000    0.000000  \n",
       "7      1.000000    0.000000  \n",
       "8      0.000000    1.000000  \n",
       "9      0.000000    1.000000  \n",
       "10     1.000000    0.000000  \n",
       "11     0.000000    1.000000  \n",
       "12     1.000000    0.000000  \n",
       "13     1.000000    0.000000  \n",
       "14     1.000000    0.000000  \n",
       "15     1.000000    0.000000  \n",
       "16     1.000000    0.000000  \n",
       "17     0.000000    1.000000  \n",
       "18     1.000000    0.000000  \n",
       "19     0.000000    1.000000  \n",
       "20     0.000000    1.000000  \n",
       "21     1.000000    0.000000  \n",
       "22     0.000000    1.000000  \n",
       "23     1.000000    0.000000  \n",
       "24     1.000000    0.000000  \n",
       "25     0.000000    1.000000  \n",
       "26     0.000000    1.000000  \n",
       "27     0.000000    1.000000  \n",
       "28     1.000000    0.000000  \n",
       "29     1.000000    0.000000  \n",
       "...         ...         ...  \n",
       "13560  0.000000    1.000000  \n",
       "13561  0.108096    0.891904  \n",
       "13562  0.000000    1.000000  \n",
       "13563  0.000000    1.000000  \n",
       "13564  0.000000    1.000000  \n",
       "13565  1.000000    0.000000  \n",
       "13566  0.000000    1.000000  \n",
       "13567  0.000000    1.000000  \n",
       "13568  0.000000    1.000000  \n",
       "13569  0.722436    0.277564  \n",
       "13570  1.000000    0.000000  \n",
       "13571  1.000000    0.000000  \n",
       "13572  1.000000    0.000000  \n",
       "13573  0.238235    0.761765  \n",
       "13574  0.327712    0.672288  \n",
       "13575  1.000000    0.000000  \n",
       "13576  0.286671    0.713329  \n",
       "13577  1.000000    0.000000  \n",
       "13578  1.000000    0.000000  \n",
       "13579  0.548328    0.451672  \n",
       "13580  1.000000    0.000000  \n",
       "13581  0.857441    0.142559  \n",
       "13582  1.000000    0.000000  \n",
       "13583  0.000000    1.000000  \n",
       "13584  1.000000    0.000000  \n",
       "13585  0.323915    0.676085  \n",
       "13586  0.249171    0.750829  \n",
       "13587  0.000000    1.000000  \n",
       "13588  0.694527    0.305473  \n",
       "13589  0.744881    0.255119  \n",
       "\n",
       "[13590 rows x 13 columns]"
      ]
     },
     "execution_count": 47,
     "metadata": {},
     "output_type": "execute_result"
    }
   ],
   "source": [
    "oversampled_trainX, oversampled_trainY = sm.fit_sample(X_train, y_train)\n",
    "oversampled_trainX, oversampled_trainY = sm.fit_sample(oversampled_trainX, oversampled_trainY)\n",
    "oversampled_train = pd.concat([pd.DataFrame(oversampled_trainY), pd.DataFrame(oversampled_trainX)], axis=1)\n",
    "#oversampled_train.columns = normalized_df.columns\n",
    "oversampled_train.columns = ['thres','sss', 'sst', 'wind_spd', 'year', 'day', 'sss_change', 'wind_change',\n",
    "       'mnth_sin', 'mnth_cos', 'differential', 'hour_Day', 'hour_Night']\n",
    "oversampled_train"
   ]
  },
  {
   "cell_type": "markdown",
   "metadata": {},
   "source": [
    "Checking for equal distribution..."
   ]
  },
  {
   "cell_type": "code",
   "execution_count": 48,
   "metadata": {
    "ExecuteTime": {
     "end_time": "2019-11-25T15:28:06.482983Z",
     "start_time": "2019-11-25T15:28:06.354609Z"
    }
   },
   "outputs": [
    {
     "data": {
      "text/plain": [
       "<matplotlib.axes._subplots.AxesSubplot at 0x1e460bf6ac8>"
      ]
     },
     "execution_count": 48,
     "metadata": {},
     "output_type": "execute_result"
    },
    {
     "data": {
      "image/png": "[encoded data removed]",
      "text/plain": [
       "<Figure size 432x288 with 1 Axes>"
      ]
     },
     "metadata": {},
     "output_type": "display_data"
    }
   ],
   "source": [
    "sns.countplot(x='thres', data=oversampled_train)"
   ]
  },
  {
   "cell_type": "code",
   "execution_count": 49,
   "metadata": {
    "ExecuteTime": {
     "end_time": "2019-11-25T15:28:08.883546Z",
     "start_time": "2019-11-25T15:28:08.879537Z"
    }
   },
   "outputs": [
    {
     "data": {
      "text/plain": [
       "Index(['sss', 'sst', 'wind_spd', 'year', 'day', 'sss_change', 'wind_change',\n",
       "       'mnth_sin', 'mnth_cos', 'differential', 'hour_Day', 'hour_Night'],\n",
       "      dtype='object')"
      ]
     },
     "execution_count": 49,
     "metadata": {},
     "output_type": "execute_result"
    }
   ],
   "source": [
    "X.columns"
   ]
  },
  {
   "cell_type": "code",
   "execution_count": 84,
   "metadata": {
    "ExecuteTime": {
     "end_time": "2019-10-05T17:43:37.153138Z",
     "start_time": "2019-10-05T17:41:01.128490Z"
    }
   },
   "outputs": [
    {
     "name": "stdout",
     "output_type": "stream",
     "text": [
      "score = 0.8298\n",
      "{'log__C': 100, 'log__max_iter': 100, 'log__multi_class': 'multinomial', 'log__solver': 'newton-cg'}\n",
      "[[ 966  405   15]\n",
      " [ 216 1117    0]\n",
      " [   0   58 1300]]\n"
     ]
    }
   ],
   "source": [
    "import warnings \n",
    "warnings.filterwarnings('ignore')\n",
    "\n",
    "X = new_enc2[['sss','sst','wind_spd','sss_change','wind_change','differential','temp_change']]\n",
    "y= new_enc2['thres']\n",
    "\n",
    "X_train, X_test, y_train, y_test = train_test_split(X, y, test_size=0.5, random_state=42, stratify=y)\n",
    "\n",
    "oversampled_trainX, oversampled_trainY = sm.fit_sample(X_train, y_train)\n",
    "oversampled_trainX, oversampled_trainY = sm.fit_sample(oversampled_trainX, oversampled_trainY)\n",
    "oversampled_train = pd.concat([pd.DataFrame(oversampled_trainY), pd.DataFrame(oversampled_trainX)], axis=1)\n",
    "#oversampled_train.columns = normalized_df.columns\n",
    "oversampled_train.columns = ['thres','sss','sst','wind_spd','sss_change','wind_change','differential','temp_change']\n",
    "\n",
    "new_X = oversampled_train.drop('thres',axis=1)\n",
    "new_y = oversampled_train['thres']\n",
    "new_X_train, new_X_test, new_y_train, new_y_test = train_test_split(new_X, new_y, test_size=0.3, random_state=42)\n",
    "\n",
    "log = LogisticRegression()\n",
    "rb = RobustScaler()\n",
    "steps = [('scaler',rb), ('log', log)]\n",
    "pipe = Pipeline(steps)\n",
    "parameters = {'log__C': [1, 10, 50, 100], 'log__multi_class': ['multinomial','auto'],\n",
    "               'log__solver': ['lbfgs','sag','saga','newton-cg'], 'log__max_iter': [100, 200,500],}\n",
    "\n",
    "grid = GridSearchCV(pipe, param_grid=parameters, cv=5)\n",
    "\n",
    "grid.fit(new_X_train, new_y_train)\n",
    "print(\"score = %3.4f\" %(grid.score(new_X_test,new_y_test)))\n",
    "print(grid.best_params_)\n",
    "\n",
    "from sklearn.metrics import confusion_matrix\n",
    "pred = grid.best_estimator_.predict(new_X_test)\n",
    "print(confusion_matrix(new_y_test, pred))"
   ]
  },
  {
   "cell_type": "code",
   "execution_count": 85,
   "metadata": {
    "ExecuteTime": {
     "end_time": "2019-10-05T17:59:25.504113Z",
     "start_time": "2019-10-05T17:59:25.489100Z"
    }
   },
   "outputs": [
    {
     "name": "stdout",
     "output_type": "stream",
     "text": [
      "score = 0.7005\n",
      "[[3176 1314   40]\n",
      " [   5   14    5]\n",
      " [   1    3    9]]\n"
     ]
    }
   ],
   "source": [
    "print(\"score = %3.4f\" %(grid.score(X_test,y_test)))\n",
    "pred1 = grid.best_estimator_.predict(X_test)\n",
    "print(confusion_matrix(y_test, pred1))"
   ]
  },
  {
   "cell_type": "code",
   "execution_count": 53,
   "metadata": {
    "ExecuteTime": {
     "end_time": "2019-11-25T15:47:26.852266Z",
     "start_time": "2019-11-25T15:30:51.072917Z"
    },
    "scrolled": true
   },
   "outputs": [
    {
     "name": "stdout",
     "output_type": "stream",
     "text": [
      "score = 0.9980\n",
      "{'forest__booster': 'gbtree', 'forest__grow_policy': 'lossguide', 'forest__min_samples_split': 2, 'forest__n_estimators': 500}\n",
      "[[1378    7    1]\n",
      " [   0 1357    0]\n",
      " [   0    0 1334]]\n",
      "score = 0.9891\n",
      "[[4504   24    2]\n",
      " [  13    7    4]\n",
      " [   5    2    6]]\n",
      "              precision    recall  f1-score   support\n",
      "\n",
      "           0       1.00      0.99      1.00      4530\n",
      "           1       0.21      0.29      0.25        24\n",
      "           2       0.50      0.46      0.48        13\n",
      "\n",
      "    accuracy                           0.99      4567\n",
      "   macro avg       0.57      0.58      0.57      4567\n",
      "weighted avg       0.99      0.99      0.99      4567\n",
      "\n"
     ]
    }
   ],
   "source": [
    "from xgboost import XGBClassifier\n",
    "xgb = XGBClassifier()\n",
    "\n",
    "sm = SMOTE(random_state=42)\n",
    "#sm = ADASYN(random_state=12, n_neighbors=9)\n",
    "\n",
    "X = new_enc[['sss', 'sst', 'wind_spd', 'year', 'day', 'sss_change', 'wind_change',\n",
    "       'mnth_sin', 'mnth_cos', 'differential', 'hour_Day', 'hour_Night','temp_change']]\n",
    "y=new_enc['thres']\n",
    "\n",
    "X_train, X_test, y_train, y_test = train_test_split(X, y, test_size=0.5, random_state=42, stratify=y)\n",
    "\n",
    "oversampled_trainX, oversampled_trainY = sm.fit_sample(X_train, y_train)\n",
    "oversampled_trainX, oversampled_trainY = sm.fit_sample(oversampled_trainX, oversampled_trainY)\n",
    "oversampled_train = pd.concat([pd.DataFrame(oversampled_trainY), pd.DataFrame(oversampled_trainX)], axis=1)\n",
    "#oversampled_train.columns = normalized_df.columns\n",
    "oversampled_train.columns = ['thres','sss', 'sst', 'wind_spd', 'year', 'day', 'sss_change', 'wind_change',\n",
    "       'mnth_sin', 'mnth_cos', 'differential', 'hour_Day', 'hour_Night', 'temp_change']\n",
    "\n",
    "\n",
    "new_X = oversampled_train.drop('thres',axis=1)\n",
    "new_y = oversampled_train['thres']\n",
    "new_X_train, new_X_test, new_y_train, new_y_test = train_test_split(new_X, new_y, test_size=0.3, random_state=42)\n",
    "\n",
    "steps1 = [('scaler', RobustScaler()), ('forest',  XGBClassifier(random_state=42, tree_method='hist',))] \n",
    "\n",
    "pipeline1 = Pipeline(steps1)\n",
    "\n",
    "parameters1 = {'forest__n_estimators':[200,500], 'forest__min_samples_split':[2,3],\n",
    "               'forest__booster':['gbtree','dart'],'forest__grow_policy':['lossguide','depthwise'],} \n",
    "    \n",
    "grid1 = GridSearchCV(pipeline1, param_grid=parameters1, cv=3)\n",
    "\n",
    "grid1.fit(new_X_train, new_y_train)\n",
    "print(\"score = %3.4f\" %(grid1.score(new_X_test,new_y_test)))\n",
    "print(grid1.best_params_)\n",
    "pred1 = grid1.best_estimator_.predict(new_X_test)\n",
    "print(confusion_matrix(new_y_test, pred1))\n",
    "\n",
    "print(\"score = %3.4f\" %(grid1.score(X_test,y_test)))\n",
    "\n",
    "pred2 = grid1.best_estimator_.predict(X_test)\n",
    "print(confusion_matrix(y_test, pred2))\n",
    "print(classification_report(y_test, pred2))"
   ]
  },
  {
   "cell_type": "code",
   "execution_count": 54,
   "metadata": {
    "ExecuteTime": {
     "end_time": "2019-11-25T15:52:57.566334Z",
     "start_time": "2019-11-25T15:52:57.179322Z"
    }
   },
   "outputs": [
    {
     "name": "stdout",
     "output_type": "stream",
     "text": [
      "score = 0.9891\n",
      "[[4504   24    2]\n",
      " [  13    7    4]\n",
      " [   5    2    6]]\n",
      "              precision    recall  f1-score   support\n",
      "\n",
      "           0       1.00      0.99      1.00      4530\n",
      "           1       0.21      0.29      0.25        24\n",
      "           2       0.50      0.46      0.48        13\n",
      "\n",
      "    accuracy                           0.99      4567\n",
      "   macro avg       0.57      0.58      0.57      4567\n",
      "weighted avg       0.99      0.99      0.99      4567\n",
      "\n"
     ]
    }
   ],
   "source": [
    "print(\"score = %3.4f\" %(grid1.score(X_test,y_test)))\n",
    "\n",
    "pred2 = grid1.best_estimator_.predict(X_test)\n",
    "print(confusion_matrix(y_test, pred2))\n",
    "print(classification_report(y_test, pred2))"
   ]
  },
  {
   "cell_type": "code",
   "execution_count": 55,
   "metadata": {
    "ExecuteTime": {
     "end_time": "2019-11-25T15:53:26.243653Z",
     "start_time": "2019-11-25T15:53:23.481305Z"
    }
   },
   "outputs": [
    {
     "data": {
      "text/plain": [
       "<matplotlib.axes._subplots.AxesSubplot at 0x1e460f44e10>"
      ]
     },
     "execution_count": 55,
     "metadata": {},
     "output_type": "execute_result"
    },
    {
     "data": {
      "image/png": "[encoded data removed]",
      "text/plain": [
       "<Figure size 432x288 with 1 Axes>"
      ]
     },
     "metadata": {},
     "output_type": "display_data"
    }
   ],
   "source": [
    "xgb1 = XGBClassifier(booster= 'gbtree', grow_policy= 'lossguide', min_samples_split= 2, n_estimators= 500)\n",
    "xgb1.fit(X_train, y_train)\n",
    "xgboost.plot_importance(xgb1, importance_type='gain')"
   ]
  },
  {
   "cell_type": "markdown",
   "metadata": {},
   "source": [
    "XGBoost took forever with the gridsearch-- fast, good results can be drawn from a quick lgbm query"
   ]
  },
  {
   "cell_type": "code",
   "execution_count": 95,
   "metadata": {
    "ExecuteTime": {
     "end_time": "2019-10-05T23:40:06.572392Z",
     "start_time": "2019-10-05T23:39:53.571693Z"
    },
    "scrolled": true
   },
   "outputs": [
    {
     "name": "stdout",
     "output_type": "stream",
     "text": [
      "Starting training...\n",
      "[1]\tvalid_0's multi_logloss: 1.07845\tvalid_0's multi_error: 0.0363675\n",
      "[2]\tvalid_0's multi_logloss: 1.05876\tvalid_0's multi_error: 0.0327938\n",
      "[3]\tvalid_0's multi_logloss: 1.04081\tvalid_0's multi_error: 0.0327938\n",
      "[4]\tvalid_0's multi_logloss: 1.02247\tvalid_0's multi_error: 0.0285894\n",
      "[5]\tvalid_0's multi_logloss: 1.00411\tvalid_0's multi_error: 0.0285894\n",
      "[6]\tvalid_0's multi_logloss: 0.986503\tvalid_0's multi_error: 0.0269077\n",
      "[7]\tvalid_0's multi_logloss: 0.969365\tvalid_0's multi_error: 0.0260668\n",
      "[8]\tvalid_0's multi_logloss: 0.975422\tvalid_0's multi_error: 0.0264873\n",
      "[9]\tvalid_0's multi_logloss: 0.958765\tvalid_0's multi_error: 0.0264873\n",
      "[10]\tvalid_0's multi_logloss: 0.942017\tvalid_0's multi_error: 0.0269077\n",
      "[11]\tvalid_0's multi_logloss: 0.92573\tvalid_0's multi_error: 0.0256464\n",
      "[12]\tvalid_0's multi_logloss: 0.931566\tvalid_0's multi_error: 0.0264873\n",
      "[13]\tvalid_0's multi_logloss: 0.915904\tvalid_0's multi_error: 0.025226\n",
      "[14]\tvalid_0's multi_logloss: 0.90102\tvalid_0's multi_error: 0.0250158\n",
      "[15]\tvalid_0's multi_logloss: 0.886328\tvalid_0's multi_error: 0.0243851\n",
      "[16]\tvalid_0's multi_logloss: 0.871292\tvalid_0's multi_error: 0.0250158\n",
      "[17]\tvalid_0's multi_logloss: 0.856885\tvalid_0's multi_error: 0.0248055\n",
      "[18]\tvalid_0's multi_logloss: 0.843383\tvalid_0's multi_error: 0.0248055\n",
      "[19]\tvalid_0's multi_logloss: 0.829576\tvalid_0's multi_error: 0.0243851\n",
      "[20]\tvalid_0's multi_logloss: 0.816752\tvalid_0's multi_error: 0.0254362\n",
      "[21]\tvalid_0's multi_logloss: 0.819945\tvalid_0's multi_error: 0.0254362\n",
      "[22]\tvalid_0's multi_logloss: 0.807214\tvalid_0's multi_error: 0.0250158\n",
      "[23]\tvalid_0's multi_logloss: 0.794808\tvalid_0's multi_error: 0.0245953\n",
      "[24]\tvalid_0's multi_logloss: 0.782338\tvalid_0's multi_error: 0.0248055\n",
      "[25]\tvalid_0's multi_logloss: 0.770433\tvalid_0's multi_error: 0.0239647\n",
      "[26]\tvalid_0's multi_logloss: 0.758992\tvalid_0's multi_error: 0.0239647\n",
      "[27]\tvalid_0's multi_logloss: 0.747371\tvalid_0's multi_error: 0.0231238\n",
      "[28]\tvalid_0's multi_logloss: 0.751528\tvalid_0's multi_error: 0.0231238\n",
      "[29]\tvalid_0's multi_logloss: 0.739971\tvalid_0's multi_error: 0.0231238\n",
      "[30]\tvalid_0's multi_logloss: 0.728334\tvalid_0's multi_error: 0.0229136\n",
      "[31]\tvalid_0's multi_logloss: 0.729109\tvalid_0's multi_error: 0.0229136\n",
      "[32]\tvalid_0's multi_logloss: 0.717438\tvalid_0's multi_error: 0.0229136\n",
      "[33]\tvalid_0's multi_logloss: 0.706823\tvalid_0's multi_error: 0.0227034\n",
      "[34]\tvalid_0's multi_logloss: 0.696245\tvalid_0's multi_error: 0.0231238\n",
      "[35]\tvalid_0's multi_logloss: 0.701489\tvalid_0's multi_error: 0.0229136\n",
      "[36]\tvalid_0's multi_logloss: 0.709309\tvalid_0's multi_error: 0.0227034\n",
      "[37]\tvalid_0's multi_logloss: 0.698101\tvalid_0's multi_error: 0.0224932\n",
      "[38]\tvalid_0's multi_logloss: 0.687455\tvalid_0's multi_error: 0.0224932\n",
      "[39]\tvalid_0's multi_logloss: 0.67726\tvalid_0's multi_error: 0.0220727\n",
      "[40]\tvalid_0's multi_logloss: 0.67477\tvalid_0's multi_error: 0.0220727\n",
      "[41]\tvalid_0's multi_logloss: 0.68077\tvalid_0's multi_error: 0.022283\n",
      "[42]\tvalid_0's multi_logloss: 0.670623\tvalid_0's multi_error: 0.022283\n",
      "[43]\tvalid_0's multi_logloss: 0.676097\tvalid_0's multi_error: 0.022283\n",
      "[44]\tvalid_0's multi_logloss: 0.665742\tvalid_0's multi_error: 0.022283\n",
      "[45]\tvalid_0's multi_logloss: 0.655679\tvalid_0's multi_error: 0.0220727\n",
      "[46]\tvalid_0's multi_logloss: 0.6639\tvalid_0's multi_error: 0.0220727\n",
      "[47]\tvalid_0's multi_logloss: 0.654223\tvalid_0's multi_error: 0.0220727\n",
      "[48]\tvalid_0's multi_logloss: 0.652818\tvalid_0's multi_error: 0.0220727\n",
      "[49]\tvalid_0's multi_logloss: 0.659041\tvalid_0's multi_error: 0.0212319\n",
      "[50]\tvalid_0's multi_logloss: 0.665605\tvalid_0's multi_error: 0.0214421\n",
      "[51]\tvalid_0's multi_logloss: 0.655161\tvalid_0's multi_error: 0.0212319\n",
      "[52]\tvalid_0's multi_logloss: 0.644986\tvalid_0's multi_error: 0.0210217\n",
      "[53]\tvalid_0's multi_logloss: 0.649624\tvalid_0's multi_error: 0.0210217\n",
      "[54]\tvalid_0's multi_logloss: 0.639524\tvalid_0's multi_error: 0.020391\n",
      "[55]\tvalid_0's multi_logloss: 0.630124\tvalid_0's multi_error: 0.0208114\n",
      "[56]\tvalid_0's multi_logloss: 0.637038\tvalid_0's multi_error: 0.0206012\n",
      "[57]\tvalid_0's multi_logloss: 0.627322\tvalid_0's multi_error: 0.020391\n",
      "[58]\tvalid_0's multi_logloss: 0.633857\tvalid_0's multi_error: 0.020391\n",
      "[59]\tvalid_0's multi_logloss: 0.640063\tvalid_0's multi_error: 0.020391\n",
      "[60]\tvalid_0's multi_logloss: 0.630174\tvalid_0's multi_error: 0.0201808\n",
      "[61]\tvalid_0's multi_logloss: 0.635008\tvalid_0's multi_error: 0.0201808\n",
      "[62]\tvalid_0's multi_logloss: 0.625406\tvalid_0's multi_error: 0.0195501\n",
      "[63]\tvalid_0's multi_logloss: 0.615811\tvalid_0's multi_error: 0.0199706\n",
      "[64]\tvalid_0's multi_logloss: 0.62082\tvalid_0's multi_error: 0.0199706\n",
      "[65]\tvalid_0's multi_logloss: 0.626072\tvalid_0's multi_error: 0.0201808\n",
      "[66]\tvalid_0's multi_logloss: 0.61701\tvalid_0's multi_error: 0.0195501\n",
      "[67]\tvalid_0's multi_logloss: 0.608022\tvalid_0's multi_error: 0.0195501\n",
      "[68]\tvalid_0's multi_logloss: 0.598962\tvalid_0's multi_error: 0.0189195\n",
      "[69]\tvalid_0's multi_logloss: 0.604392\tvalid_0's multi_error: 0.0189195\n",
      "[70]\tvalid_0's multi_logloss: 0.607397\tvalid_0's multi_error: 0.0193399\n",
      "[71]\tvalid_0's multi_logloss: 0.61077\tvalid_0's multi_error: 0.0187093\n",
      "[72]\tvalid_0's multi_logloss: 0.601872\tvalid_0's multi_error: 0.0187093\n",
      "[73]\tvalid_0's multi_logloss: 0.592717\tvalid_0's multi_error: 0.0184991\n",
      "[74]\tvalid_0's multi_logloss: 0.597008\tvalid_0's multi_error: 0.0187093\n",
      "[75]\tvalid_0's multi_logloss: 0.588454\tvalid_0's multi_error: 0.0189195\n",
      "[76]\tvalid_0's multi_logloss: 0.589177\tvalid_0's multi_error: 0.0193399\n",
      "[77]\tvalid_0's multi_logloss: 0.592758\tvalid_0's multi_error: 0.0193399\n",
      "[78]\tvalid_0's multi_logloss: 0.596503\tvalid_0's multi_error: 0.0195501\n",
      "[79]\tvalid_0's multi_logloss: 0.587623\tvalid_0's multi_error: 0.0187093\n",
      "[80]\tvalid_0's multi_logloss: 0.57899\tvalid_0's multi_error: 0.0189195\n",
      "[81]\tvalid_0's multi_logloss: 0.583174\tvalid_0's multi_error: 0.0189195\n",
      "[82]\tvalid_0's multi_logloss: 0.574464\tvalid_0's multi_error: 0.0189195\n",
      "[83]\tvalid_0's multi_logloss: 0.579247\tvalid_0's multi_error: 0.0189195\n",
      "[84]\tvalid_0's multi_logloss: 0.584136\tvalid_0's multi_error: 0.0189195\n",
      "[85]\tvalid_0's multi_logloss: 0.588847\tvalid_0's multi_error: 0.0189195\n",
      "[86]\tvalid_0's multi_logloss: 0.58005\tvalid_0's multi_error: 0.0189195\n",
      "[87]\tvalid_0's multi_logloss: 0.571803\tvalid_0's multi_error: 0.0191297\n",
      "[88]\tvalid_0's multi_logloss: 0.577419\tvalid_0's multi_error: 0.0191297\n",
      "[89]\tvalid_0's multi_logloss: 0.580697\tvalid_0's multi_error: 0.0191297\n",
      "[90]\tvalid_0's multi_logloss: 0.585407\tvalid_0's multi_error: 0.0189195\n",
      "[91]\tvalid_0's multi_logloss: 0.589793\tvalid_0's multi_error: 0.0191297\n",
      "[92]\tvalid_0's multi_logloss: 0.581387\tvalid_0's multi_error: 0.0189195\n",
      "[93]\tvalid_0's multi_logloss: 0.572851\tvalid_0's multi_error: 0.0191297\n",
      "[94]\tvalid_0's multi_logloss: 0.577535\tvalid_0's multi_error: 0.0189195\n",
      "[95]\tvalid_0's multi_logloss: 0.581139\tvalid_0's multi_error: 0.0189195\n",
      "[96]\tvalid_0's multi_logloss: 0.58484\tvalid_0's multi_error: 0.0191297\n",
      "[97]\tvalid_0's multi_logloss: 0.576438\tvalid_0's multi_error: 0.0189195\n",
      "[98]\tvalid_0's multi_logloss: 0.580306\tvalid_0's multi_error: 0.0191297\n",
      "[99]\tvalid_0's multi_logloss: 0.571951\tvalid_0's multi_error: 0.0191297\n",
      "[100]\tvalid_0's multi_logloss: 0.56388\tvalid_0's multi_error: 0.0187093\n",
      "[101]\tvalid_0's multi_logloss: 0.568971\tvalid_0's multi_error: 0.0184991\n",
      "[102]\tvalid_0's multi_logloss: 0.573074\tvalid_0's multi_error: 0.0184991\n",
      "[103]\tvalid_0's multi_logloss: 0.577324\tvalid_0's multi_error: 0.0187093\n",
      "[104]\tvalid_0's multi_logloss: 0.569313\tvalid_0's multi_error: 0.0187093\n",
      "[105]\tvalid_0's multi_logloss: 0.573904\tvalid_0's multi_error: 0.0187093\n",
      "[106]\tvalid_0's multi_logloss: 0.578412\tvalid_0's multi_error: 0.0187093\n",
      "[107]\tvalid_0's multi_logloss: 0.582836\tvalid_0's multi_error: 0.0187093\n",
      "[108]\tvalid_0's multi_logloss: 0.574331\tvalid_0's multi_error: 0.0187093\n",
      "[109]\tvalid_0's multi_logloss: 0.577968\tvalid_0's multi_error: 0.0187093\n",
      "[110]\tvalid_0's multi_logloss: 0.58217\tvalid_0's multi_error: 0.0187093\n",
      "[111]\tvalid_0's multi_logloss: 0.573817\tvalid_0's multi_error: 0.0189195\n",
      "[112]\tvalid_0's multi_logloss: 0.565514\tvalid_0's multi_error: 0.0187093\n",
      "[113]\tvalid_0's multi_logloss: 0.557325\tvalid_0's multi_error: 0.0187093\n",
      "[114]\tvalid_0's multi_logloss: 0.549425\tvalid_0's multi_error: 0.0184991\n",
      "[115]\tvalid_0's multi_logloss: 0.541456\tvalid_0's multi_error: 0.0182888\n",
      "[116]\tvalid_0's multi_logloss: 0.533735\tvalid_0's multi_error: 0.0182888\n",
      "[117]\tvalid_0's multi_logloss: 0.536915\tvalid_0's multi_error: 0.0182888\n",
      "[118]\tvalid_0's multi_logloss: 0.529207\tvalid_0's multi_error: 0.0182888\n",
      "[119]\tvalid_0's multi_logloss: 0.532733\tvalid_0's multi_error: 0.0182888\n",
      "[120]\tvalid_0's multi_logloss: 0.536802\tvalid_0's multi_error: 0.0180786\n",
      "[121]\tvalid_0's multi_logloss: 0.54087\tvalid_0's multi_error: 0.0180786\n",
      "[122]\tvalid_0's multi_logloss: 0.544971\tvalid_0's multi_error: 0.0180786\n",
      "[123]\tvalid_0's multi_logloss: 0.536866\tvalid_0's multi_error: 0.0182888\n",
      "[124]\tvalid_0's multi_logloss: 0.529382\tvalid_0's multi_error: 0.0182888\n",
      "[125]\tvalid_0's multi_logloss: 0.532709\tvalid_0's multi_error: 0.0184991\n"
     ]
    },
    {
     "name": "stdout",
     "output_type": "stream",
     "text": [
      "[126]\tvalid_0's multi_logloss: 0.536549\tvalid_0's multi_error: 0.0184991\n",
      "[127]\tvalid_0's multi_logloss: 0.528822\tvalid_0's multi_error: 0.0182888\n",
      "[128]\tvalid_0's multi_logloss: 0.532214\tvalid_0's multi_error: 0.0182888\n",
      "[129]\tvalid_0's multi_logloss: 0.524608\tvalid_0's multi_error: 0.0182888\n",
      "[130]\tvalid_0's multi_logloss: 0.517711\tvalid_0's multi_error: 0.0182888\n",
      "[131]\tvalid_0's multi_logloss: 0.520997\tvalid_0's multi_error: 0.0182888\n",
      "[132]\tvalid_0's multi_logloss: 0.513472\tvalid_0's multi_error: 0.0180786\n",
      "[133]\tvalid_0's multi_logloss: 0.506167\tvalid_0's multi_error: 0.0180786\n",
      "[134]\tvalid_0's multi_logloss: 0.510037\tvalid_0's multi_error: 0.0180786\n",
      "[135]\tvalid_0's multi_logloss: 0.502817\tvalid_0's multi_error: 0.0180786\n",
      "[136]\tvalid_0's multi_logloss: 0.507104\tvalid_0's multi_error: 0.0180786\n",
      "[137]\tvalid_0's multi_logloss: 0.5106\tvalid_0's multi_error: 0.0178684\n",
      "[138]\tvalid_0's multi_logloss: 0.503289\tvalid_0's multi_error: 0.0178684\n",
      "[139]\tvalid_0's multi_logloss: 0.496168\tvalid_0's multi_error: 0.0176582\n",
      "[140]\tvalid_0's multi_logloss: 0.500472\tvalid_0's multi_error: 0.0176582\n",
      "[141]\tvalid_0's multi_logloss: 0.503921\tvalid_0's multi_error: 0.0176582\n",
      "[142]\tvalid_0's multi_logloss: 0.507487\tvalid_0's multi_error: 0.0176582\n",
      "[143]\tvalid_0's multi_logloss: 0.500498\tvalid_0's multi_error: 0.0176582\n",
      "[144]\tvalid_0's multi_logloss: 0.503652\tvalid_0's multi_error: 0.0176582\n",
      "[145]\tvalid_0's multi_logloss: 0.496422\tvalid_0's multi_error: 0.0178684\n",
      "[146]\tvalid_0's multi_logloss: 0.500634\tvalid_0's multi_error: 0.0178684\n",
      "[147]\tvalid_0's multi_logloss: 0.504594\tvalid_0's multi_error: 0.0178684\n",
      "[148]\tvalid_0's multi_logloss: 0.508417\tvalid_0's multi_error: 0.0178684\n",
      "[149]\tvalid_0's multi_logloss: 0.50113\tvalid_0's multi_error: 0.0182888\n",
      "[150]\tvalid_0's multi_logloss: 0.494045\tvalid_0's multi_error: 0.0180786\n",
      "[151]\tvalid_0's multi_logloss: 0.498172\tvalid_0's multi_error: 0.0180786\n",
      "[152]\tvalid_0's multi_logloss: 0.501961\tvalid_0's multi_error: 0.0180786\n",
      "[153]\tvalid_0's multi_logloss: 0.494969\tvalid_0's multi_error: 0.0184991\n",
      "[154]\tvalid_0's multi_logloss: 0.498015\tvalid_0's multi_error: 0.0184991\n",
      "[155]\tvalid_0's multi_logloss: 0.491028\tvalid_0's multi_error: 0.0184991\n",
      "[156]\tvalid_0's multi_logloss: 0.495048\tvalid_0's multi_error: 0.0184991\n",
      "[157]\tvalid_0's multi_logloss: 0.497165\tvalid_0's multi_error: 0.0184991\n",
      "[158]\tvalid_0's multi_logloss: 0.501177\tvalid_0's multi_error: 0.0184991\n",
      "[159]\tvalid_0's multi_logloss: 0.505115\tvalid_0's multi_error: 0.0184991\n",
      "[160]\tvalid_0's multi_logloss: 0.509036\tvalid_0's multi_error: 0.0187093\n",
      "[161]\tvalid_0's multi_logloss: 0.501725\tvalid_0's multi_error: 0.0184991\n",
      "[162]\tvalid_0's multi_logloss: 0.504391\tvalid_0's multi_error: 0.0184991\n",
      "[163]\tvalid_0's multi_logloss: 0.497411\tvalid_0's multi_error: 0.0184991\n",
      "[164]\tvalid_0's multi_logloss: 0.490758\tvalid_0's multi_error: 0.0184991\n",
      "[165]\tvalid_0's multi_logloss: 0.483896\tvalid_0's multi_error: 0.0182888\n",
      "[166]\tvalid_0's multi_logloss: 0.477009\tvalid_0's multi_error: 0.0184991\n",
      "[167]\tvalid_0's multi_logloss: 0.470311\tvalid_0's multi_error: 0.0182888\n",
      "[168]\tvalid_0's multi_logloss: 0.463752\tvalid_0's multi_error: 0.0180786\n",
      "[169]\tvalid_0's multi_logloss: 0.457397\tvalid_0's multi_error: 0.0180786\n",
      "[170]\tvalid_0's multi_logloss: 0.460913\tvalid_0's multi_error: 0.0180786\n",
      "[171]\tvalid_0's multi_logloss: 0.454656\tvalid_0's multi_error: 0.0180786\n",
      "[172]\tvalid_0's multi_logloss: 0.457975\tvalid_0's multi_error: 0.0180786\n",
      "[173]\tvalid_0's multi_logloss: 0.451595\tvalid_0's multi_error: 0.0178684\n",
      "[174]\tvalid_0's multi_logloss: 0.445665\tvalid_0's multi_error: 0.017448\n",
      "[175]\tvalid_0's multi_logloss: 0.439525\tvalid_0's multi_error: 0.017448\n",
      "[176]\tvalid_0's multi_logloss: 0.442282\tvalid_0's multi_error: 0.017448\n",
      "[177]\tvalid_0's multi_logloss: 0.445583\tvalid_0's multi_error: 0.017448\n",
      "[178]\tvalid_0's multi_logloss: 0.448734\tvalid_0's multi_error: 0.017448\n",
      "[179]\tvalid_0's multi_logloss: 0.442375\tvalid_0's multi_error: 0.0172378\n",
      "[180]\tvalid_0's multi_logloss: 0.445444\tvalid_0's multi_error: 0.0172378\n",
      "[181]\tvalid_0's multi_logloss: 0.43919\tvalid_0's multi_error: 0.0176582\n",
      "[182]\tvalid_0's multi_logloss: 0.433108\tvalid_0's multi_error: 0.0176582\n",
      "[183]\tvalid_0's multi_logloss: 0.42722\tvalid_0's multi_error: 0.0176582\n",
      "[184]\tvalid_0's multi_logloss: 0.421491\tvalid_0's multi_error: 0.0176582\n",
      "[185]\tvalid_0's multi_logloss: 0.425511\tvalid_0's multi_error: 0.0176582\n",
      "[186]\tvalid_0's multi_logloss: 0.419629\tvalid_0's multi_error: 0.0176582\n",
      "[187]\tvalid_0's multi_logloss: 0.414283\tvalid_0's multi_error: 0.017448\n",
      "[188]\tvalid_0's multi_logloss: 0.408761\tvalid_0's multi_error: 0.0172378\n",
      "[189]\tvalid_0's multi_logloss: 0.412243\tvalid_0's multi_error: 0.0172378\n",
      "[190]\tvalid_0's multi_logloss: 0.415497\tvalid_0's multi_error: 0.017448\n",
      "[191]\tvalid_0's multi_logloss: 0.40995\tvalid_0's multi_error: 0.0170275\n",
      "[192]\tvalid_0's multi_logloss: 0.404476\tvalid_0's multi_error: 0.0170275\n",
      "[193]\tvalid_0's multi_logloss: 0.399097\tvalid_0's multi_error: 0.0170275\n",
      "[194]\tvalid_0's multi_logloss: 0.402124\tvalid_0's multi_error: 0.0170275\n",
      "[195]\tvalid_0's multi_logloss: 0.404897\tvalid_0's multi_error: 0.0170275\n",
      "[196]\tvalid_0's multi_logloss: 0.399359\tvalid_0's multi_error: 0.0170275\n",
      "[197]\tvalid_0's multi_logloss: 0.40179\tvalid_0's multi_error: 0.0172378\n",
      "[198]\tvalid_0's multi_logloss: 0.404778\tvalid_0's multi_error: 0.0172378\n",
      "[199]\tvalid_0's multi_logloss: 0.399404\tvalid_0's multi_error: 0.0170275\n",
      "[200]\tvalid_0's multi_logloss: 0.402724\tvalid_0's multi_error: 0.0170275\n",
      "[201]\tvalid_0's multi_logloss: 0.405916\tvalid_0's multi_error: 0.0170275\n",
      "[202]\tvalid_0's multi_logloss: 0.409038\tvalid_0's multi_error: 0.0170275\n",
      "[203]\tvalid_0's multi_logloss: 0.403438\tvalid_0's multi_error: 0.0172378\n",
      "[204]\tvalid_0's multi_logloss: 0.406105\tvalid_0's multi_error: 0.0172378\n",
      "[205]\tvalid_0's multi_logloss: 0.409089\tvalid_0's multi_error: 0.0172378\n",
      "[206]\tvalid_0's multi_logloss: 0.403399\tvalid_0's multi_error: 0.0172378\n",
      "[207]\tvalid_0's multi_logloss: 0.406313\tvalid_0's multi_error: 0.0172378\n",
      "[208]\tvalid_0's multi_logloss: 0.400906\tvalid_0's multi_error: 0.0168173\n",
      "[209]\tvalid_0's multi_logloss: 0.404198\tvalid_0's multi_error: 0.0168173\n",
      "[210]\tvalid_0's multi_logloss: 0.407023\tvalid_0's multi_error: 0.0168173\n",
      "[211]\tvalid_0's multi_logloss: 0.409865\tvalid_0's multi_error: 0.0168173\n",
      "[212]\tvalid_0's multi_logloss: 0.404227\tvalid_0's multi_error: 0.0170275\n",
      "[213]\tvalid_0's multi_logloss: 0.39882\tvalid_0's multi_error: 0.0170275\n",
      "[214]\tvalid_0's multi_logloss: 0.393373\tvalid_0's multi_error: 0.0170275\n",
      "[215]\tvalid_0's multi_logloss: 0.388077\tvalid_0's multi_error: 0.0170275\n",
      "[216]\tvalid_0's multi_logloss: 0.391213\tvalid_0's multi_error: 0.0170275\n",
      "[217]\tvalid_0's multi_logloss: 0.385898\tvalid_0's multi_error: 0.0170275\n",
      "[218]\tvalid_0's multi_logloss: 0.380869\tvalid_0's multi_error: 0.0170275\n",
      "[219]\tvalid_0's multi_logloss: 0.383561\tvalid_0's multi_error: 0.0170275\n",
      "[220]\tvalid_0's multi_logloss: 0.378503\tvalid_0's multi_error: 0.0170275\n",
      "[221]\tvalid_0's multi_logloss: 0.381452\tvalid_0's multi_error: 0.0170275\n",
      "[222]\tvalid_0's multi_logloss: 0.376479\tvalid_0's multi_error: 0.0170275\n",
      "[223]\tvalid_0's multi_logloss: 0.371465\tvalid_0's multi_error: 0.0170275\n",
      "[224]\tvalid_0's multi_logloss: 0.374531\tvalid_0's multi_error: 0.0170275\n",
      "[225]\tvalid_0's multi_logloss: 0.377893\tvalid_0's multi_error: 0.0170275\n",
      "[226]\tvalid_0's multi_logloss: 0.380601\tvalid_0's multi_error: 0.0170275\n",
      "[227]\tvalid_0's multi_logloss: 0.382696\tvalid_0's multi_error: 0.0170275\n",
      "[228]\tvalid_0's multi_logloss: 0.377747\tvalid_0's multi_error: 0.0172378\n",
      "[229]\tvalid_0's multi_logloss: 0.380425\tvalid_0's multi_error: 0.0172378\n",
      "[230]\tvalid_0's multi_logloss: 0.375486\tvalid_0's multi_error: 0.017448\n",
      "[231]\tvalid_0's multi_logloss: 0.370469\tvalid_0's multi_error: 0.0172378\n",
      "[232]\tvalid_0's multi_logloss: 0.365591\tvalid_0's multi_error: 0.0172378\n",
      "[233]\tvalid_0's multi_logloss: 0.36819\tvalid_0's multi_error: 0.0172378\n",
      "[234]\tvalid_0's multi_logloss: 0.363221\tvalid_0's multi_error: 0.0172378\n",
      "[235]\tvalid_0's multi_logloss: 0.365807\tvalid_0's multi_error: 0.0172378\n",
      "[236]\tvalid_0's multi_logloss: 0.360881\tvalid_0's multi_error: 0.0172378\n",
      "[237]\tvalid_0's multi_logloss: 0.356123\tvalid_0's multi_error: 0.0172378\n",
      "[238]\tvalid_0's multi_logloss: 0.351531\tvalid_0's multi_error: 0.0172378\n",
      "[239]\tvalid_0's multi_logloss: 0.346831\tvalid_0's multi_error: 0.017448\n",
      "[240]\tvalid_0's multi_logloss: 0.34235\tvalid_0's multi_error: 0.0172378\n",
      "[241]\tvalid_0's multi_logloss: 0.345276\tvalid_0's multi_error: 0.0172378\n",
      "[242]\tvalid_0's multi_logloss: 0.340813\tvalid_0's multi_error: 0.0172378\n",
      "[243]\tvalid_0's multi_logloss: 0.343741\tvalid_0's multi_error: 0.0172378\n",
      "[244]\tvalid_0's multi_logloss: 0.346332\tvalid_0's multi_error: 0.0172378\n",
      "[245]\tvalid_0's multi_logloss: 0.341718\tvalid_0's multi_error: 0.0172378\n",
      "[246]\tvalid_0's multi_logloss: 0.337192\tvalid_0's multi_error: 0.0172378\n"
     ]
    },
    {
     "name": "stdout",
     "output_type": "stream",
     "text": [
      "[247]\tvalid_0's multi_logloss: 0.332714\tvalid_0's multi_error: 0.0170275\n",
      "[248]\tvalid_0's multi_logloss: 0.33559\tvalid_0's multi_error: 0.0172378\n",
      "[249]\tvalid_0's multi_logloss: 0.33799\tvalid_0's multi_error: 0.0172378\n",
      "[250]\tvalid_0's multi_logloss: 0.333582\tvalid_0's multi_error: 0.0168173\n",
      "[251]\tvalid_0's multi_logloss: 0.336227\tvalid_0's multi_error: 0.0168173\n",
      "[252]\tvalid_0's multi_logloss: 0.338715\tvalid_0's multi_error: 0.0168173\n",
      "[253]\tvalid_0's multi_logloss: 0.33436\tvalid_0's multi_error: 0.0166071\n",
      "[254]\tvalid_0's multi_logloss: 0.33021\tvalid_0's multi_error: 0.0166071\n",
      "[255]\tvalid_0's multi_logloss: 0.326138\tvalid_0's multi_error: 0.0168173\n",
      "[256]\tvalid_0's multi_logloss: 0.322031\tvalid_0's multi_error: 0.0166071\n",
      "[257]\tvalid_0's multi_logloss: 0.317829\tvalid_0's multi_error: 0.0166071\n",
      "[258]\tvalid_0's multi_logloss: 0.313662\tvalid_0's multi_error: 0.0166071\n",
      "[259]\tvalid_0's multi_logloss: 0.316138\tvalid_0's multi_error: 0.0166071\n",
      "[260]\tvalid_0's multi_logloss: 0.318885\tvalid_0's multi_error: 0.0166071\n",
      "[261]\tvalid_0's multi_logloss: 0.321374\tvalid_0's multi_error: 0.0166071\n",
      "[262]\tvalid_0's multi_logloss: 0.317201\tvalid_0's multi_error: 0.0166071\n",
      "[263]\tvalid_0's multi_logloss: 0.31315\tvalid_0's multi_error: 0.0168173\n",
      "[264]\tvalid_0's multi_logloss: 0.30932\tvalid_0's multi_error: 0.0168173\n",
      "[265]\tvalid_0's multi_logloss: 0.305407\tvalid_0's multi_error: 0.0168173\n",
      "[266]\tvalid_0's multi_logloss: 0.301465\tvalid_0's multi_error: 0.0168173\n",
      "[267]\tvalid_0's multi_logloss: 0.303848\tvalid_0's multi_error: 0.0168173\n",
      "[268]\tvalid_0's multi_logloss: 0.299994\tvalid_0's multi_error: 0.0168173\n",
      "[269]\tvalid_0's multi_logloss: 0.302453\tvalid_0's multi_error: 0.0168173\n",
      "[270]\tvalid_0's multi_logloss: 0.29864\tvalid_0's multi_error: 0.0168173\n",
      "[271]\tvalid_0's multi_logloss: 0.301039\tvalid_0's multi_error: 0.0168173\n",
      "[272]\tvalid_0's multi_logloss: 0.297192\tvalid_0's multi_error: 0.0166071\n",
      "[273]\tvalid_0's multi_logloss: 0.293443\tvalid_0's multi_error: 0.0163969\n",
      "[274]\tvalid_0's multi_logloss: 0.295638\tvalid_0's multi_error: 0.0163969\n",
      "[275]\tvalid_0's multi_logloss: 0.291868\tvalid_0's multi_error: 0.0166071\n",
      "[276]\tvalid_0's multi_logloss: 0.294424\tvalid_0's multi_error: 0.0166071\n",
      "[277]\tvalid_0's multi_logloss: 0.290875\tvalid_0's multi_error: 0.0166071\n",
      "[278]\tvalid_0's multi_logloss: 0.293011\tvalid_0's multi_error: 0.0166071\n",
      "[279]\tvalid_0's multi_logloss: 0.289431\tvalid_0's multi_error: 0.0166071\n",
      "[280]\tvalid_0's multi_logloss: 0.291741\tvalid_0's multi_error: 0.0166071\n",
      "[281]\tvalid_0's multi_logloss: 0.293821\tvalid_0's multi_error: 0.0166071\n",
      "[282]\tvalid_0's multi_logloss: 0.29007\tvalid_0's multi_error: 0.0170275\n",
      "[283]\tvalid_0's multi_logloss: 0.292405\tvalid_0's multi_error: 0.0170275\n",
      "[284]\tvalid_0's multi_logloss: 0.288745\tvalid_0's multi_error: 0.0166071\n",
      "[285]\tvalid_0's multi_logloss: 0.285198\tvalid_0's multi_error: 0.0166071\n",
      "[286]\tvalid_0's multi_logloss: 0.281569\tvalid_0's multi_error: 0.0166071\n",
      "[287]\tvalid_0's multi_logloss: 0.277965\tvalid_0's multi_error: 0.0168173\n",
      "[288]\tvalid_0's multi_logloss: 0.280154\tvalid_0's multi_error: 0.0168173\n",
      "[289]\tvalid_0's multi_logloss: 0.276574\tvalid_0's multi_error: 0.0170275\n",
      "[290]\tvalid_0's multi_logloss: 0.273381\tvalid_0's multi_error: 0.0166071\n",
      "[291]\tvalid_0's multi_logloss: 0.269942\tvalid_0's multi_error: 0.0166071\n",
      "[292]\tvalid_0's multi_logloss: 0.272289\tvalid_0's multi_error: 0.0166071\n",
      "[293]\tvalid_0's multi_logloss: 0.274551\tvalid_0's multi_error: 0.0163969\n",
      "[294]\tvalid_0's multi_logloss: 0.27127\tvalid_0's multi_error: 0.0166071\n",
      "[295]\tvalid_0's multi_logloss: 0.273606\tvalid_0's multi_error: 0.0166071\n",
      "[296]\tvalid_0's multi_logloss: 0.275809\tvalid_0's multi_error: 0.0166071\n",
      "[297]\tvalid_0's multi_logloss: 0.272384\tvalid_0's multi_error: 0.0166071\n",
      "[298]\tvalid_0's multi_logloss: 0.274425\tvalid_0's multi_error: 0.0166071\n",
      "[299]\tvalid_0's multi_logloss: 0.271071\tvalid_0's multi_error: 0.0166071\n",
      "[300]\tvalid_0's multi_logloss: 0.272986\tvalid_0's multi_error: 0.0166071\n",
      "[301]\tvalid_0's multi_logloss: 0.275211\tvalid_0's multi_error: 0.0163969\n",
      "[302]\tvalid_0's multi_logloss: 0.271748\tvalid_0's multi_error: 0.0161867\n",
      "[303]\tvalid_0's multi_logloss: 0.273858\tvalid_0's multi_error: 0.0161867\n",
      "[304]\tvalid_0's multi_logloss: 0.275994\tvalid_0's multi_error: 0.0161867\n",
      "[305]\tvalid_0's multi_logloss: 0.278284\tvalid_0's multi_error: 0.0161867\n",
      "[306]\tvalid_0's multi_logloss: 0.280293\tvalid_0's multi_error: 0.0161867\n",
      "[307]\tvalid_0's multi_logloss: 0.282094\tvalid_0's multi_error: 0.0161867\n",
      "[308]\tvalid_0's multi_logloss: 0.278548\tvalid_0's multi_error: 0.0161867\n",
      "[309]\tvalid_0's multi_logloss: 0.280519\tvalid_0's multi_error: 0.0161867\n",
      "[310]\tvalid_0's multi_logloss: 0.277168\tvalid_0's multi_error: 0.0166071\n",
      "[311]\tvalid_0's multi_logloss: 0.273695\tvalid_0's multi_error: 0.0166071\n",
      "[312]\tvalid_0's multi_logloss: 0.270319\tvalid_0's multi_error: 0.0163969\n",
      "[313]\tvalid_0's multi_logloss: 0.267008\tvalid_0's multi_error: 0.0163969\n",
      "[314]\tvalid_0's multi_logloss: 0.268801\tvalid_0's multi_error: 0.0163969\n",
      "[315]\tvalid_0's multi_logloss: 0.270907\tvalid_0's multi_error: 0.0163969\n",
      "[316]\tvalid_0's multi_logloss: 0.267561\tvalid_0's multi_error: 0.0163969\n",
      "[317]\tvalid_0's multi_logloss: 0.264281\tvalid_0's multi_error: 0.0168173\n",
      "[318]\tvalid_0's multi_logloss: 0.261195\tvalid_0's multi_error: 0.0168173\n",
      "[319]\tvalid_0's multi_logloss: 0.263064\tvalid_0's multi_error: 0.0168173\n",
      "[320]\tvalid_0's multi_logloss: 0.259823\tvalid_0's multi_error: 0.0168173\n",
      "[321]\tvalid_0's multi_logloss: 0.261497\tvalid_0's multi_error: 0.0168173\n",
      "[322]\tvalid_0's multi_logloss: 0.258334\tvalid_0's multi_error: 0.0166071\n",
      "[323]\tvalid_0's multi_logloss: 0.255129\tvalid_0's multi_error: 0.0163969\n",
      "[324]\tvalid_0's multi_logloss: 0.257166\tvalid_0's multi_error: 0.0163969\n",
      "[325]\tvalid_0's multi_logloss: 0.254199\tvalid_0's multi_error: 0.0166071\n",
      "[326]\tvalid_0's multi_logloss: 0.256238\tvalid_0's multi_error: 0.0166071\n",
      "[327]\tvalid_0's multi_logloss: 0.25321\tvalid_0's multi_error: 0.0163969\n",
      "[328]\tvalid_0's multi_logloss: 0.255006\tvalid_0's multi_error: 0.0163969\n",
      "[329]\tvalid_0's multi_logloss: 0.252063\tvalid_0's multi_error: 0.0163969\n",
      "[330]\tvalid_0's multi_logloss: 0.253987\tvalid_0's multi_error: 0.0163969\n",
      "[331]\tvalid_0's multi_logloss: 0.255904\tvalid_0's multi_error: 0.0163969\n",
      "[332]\tvalid_0's multi_logloss: 0.257714\tvalid_0's multi_error: 0.0166071\n",
      "[333]\tvalid_0's multi_logloss: 0.259687\tvalid_0's multi_error: 0.0166071\n",
      "[334]\tvalid_0's multi_logloss: 0.261717\tvalid_0's multi_error: 0.0166071\n",
      "[335]\tvalid_0's multi_logloss: 0.258555\tvalid_0's multi_error: 0.0168173\n",
      "[336]\tvalid_0's multi_logloss: 0.260498\tvalid_0's multi_error: 0.0168173\n",
      "[337]\tvalid_0's multi_logloss: 0.257412\tvalid_0's multi_error: 0.0168173\n",
      "[338]\tvalid_0's multi_logloss: 0.254322\tvalid_0's multi_error: 0.0166071\n",
      "[339]\tvalid_0's multi_logloss: 0.256026\tvalid_0's multi_error: 0.0168173\n",
      "[340]\tvalid_0's multi_logloss: 0.257948\tvalid_0's multi_error: 0.0168173\n",
      "[341]\tvalid_0's multi_logloss: 0.254787\tvalid_0's multi_error: 0.0168173\n",
      "[342]\tvalid_0's multi_logloss: 0.251856\tvalid_0's multi_error: 0.0168173\n",
      "[343]\tvalid_0's multi_logloss: 0.248852\tvalid_0's multi_error: 0.0168173\n",
      "[344]\tvalid_0's multi_logloss: 0.250608\tvalid_0's multi_error: 0.0166071\n",
      "[345]\tvalid_0's multi_logloss: 0.24759\tvalid_0's multi_error: 0.0166071\n",
      "[346]\tvalid_0's multi_logloss: 0.24465\tvalid_0's multi_error: 0.0170275\n",
      "[347]\tvalid_0's multi_logloss: 0.246381\tvalid_0's multi_error: 0.0170275\n",
      "[348]\tvalid_0's multi_logloss: 0.2434\tvalid_0's multi_error: 0.0170275\n",
      "[349]\tvalid_0's multi_logloss: 0.240546\tvalid_0's multi_error: 0.0170275\n",
      "[350]\tvalid_0's multi_logloss: 0.242482\tvalid_0's multi_error: 0.0170275\n",
      "[351]\tvalid_0's multi_logloss: 0.239716\tvalid_0's multi_error: 0.0168173\n",
      "[352]\tvalid_0's multi_logloss: 0.236958\tvalid_0's multi_error: 0.0170275\n",
      "[353]\tvalid_0's multi_logloss: 0.234226\tvalid_0's multi_error: 0.0168173\n",
      "[354]\tvalid_0's multi_logloss: 0.235784\tvalid_0's multi_error: 0.0168173\n",
      "[355]\tvalid_0's multi_logloss: 0.237568\tvalid_0's multi_error: 0.0168173\n",
      "[356]\tvalid_0's multi_logloss: 0.234838\tvalid_0's multi_error: 0.0170275\n",
      "[357]\tvalid_0's multi_logloss: 0.23642\tvalid_0's multi_error: 0.0170275\n",
      "[358]\tvalid_0's multi_logloss: 0.233582\tvalid_0's multi_error: 0.0172378\n",
      "[359]\tvalid_0's multi_logloss: 0.235315\tvalid_0's multi_error: 0.0172378\n",
      "[360]\tvalid_0's multi_logloss: 0.232486\tvalid_0's multi_error: 0.0172378\n",
      "[361]\tvalid_0's multi_logloss: 0.229907\tvalid_0's multi_error: 0.0172378\n",
      "[362]\tvalid_0's multi_logloss: 0.227287\tvalid_0's multi_error: 0.0170275\n"
     ]
    },
    {
     "name": "stdout",
     "output_type": "stream",
     "text": [
      "[363]\tvalid_0's multi_logloss: 0.228982\tvalid_0's multi_error: 0.0170275\n",
      "[364]\tvalid_0's multi_logloss: 0.230557\tvalid_0's multi_error: 0.0170275\n",
      "[365]\tvalid_0's multi_logloss: 0.227947\tvalid_0's multi_error: 0.0172378\n",
      "[366]\tvalid_0's multi_logloss: 0.229574\tvalid_0's multi_error: 0.0172378\n",
      "[367]\tvalid_0's multi_logloss: 0.231384\tvalid_0's multi_error: 0.0172378\n",
      "[368]\tvalid_0's multi_logloss: 0.22867\tvalid_0's multi_error: 0.0172378\n",
      "[369]\tvalid_0's multi_logloss: 0.230116\tvalid_0's multi_error: 0.0172378\n",
      "[370]\tvalid_0's multi_logloss: 0.22745\tvalid_0's multi_error: 0.0172378\n",
      "[371]\tvalid_0's multi_logloss: 0.229095\tvalid_0's multi_error: 0.0172378\n",
      "[372]\tvalid_0's multi_logloss: 0.226388\tvalid_0's multi_error: 0.017448\n",
      "[373]\tvalid_0's multi_logloss: 0.223878\tvalid_0's multi_error: 0.017448\n",
      "[374]\tvalid_0's multi_logloss: 0.221387\tvalid_0's multi_error: 0.017448\n",
      "[375]\tvalid_0's multi_logloss: 0.218837\tvalid_0's multi_error: 0.017448\n",
      "[376]\tvalid_0's multi_logloss: 0.22032\tvalid_0's multi_error: 0.017448\n",
      "[377]\tvalid_0's multi_logloss: 0.217796\tvalid_0's multi_error: 0.017448\n",
      "[378]\tvalid_0's multi_logloss: 0.219475\tvalid_0's multi_error: 0.017448\n",
      "[379]\tvalid_0's multi_logloss: 0.221061\tvalid_0's multi_error: 0.017448\n",
      "[380]\tvalid_0's multi_logloss: 0.218491\tvalid_0's multi_error: 0.0170275\n",
      "[381]\tvalid_0's multi_logloss: 0.22011\tvalid_0's multi_error: 0.0168173\n",
      "[382]\tvalid_0's multi_logloss: 0.221765\tvalid_0's multi_error: 0.0170275\n",
      "[383]\tvalid_0's multi_logloss: 0.219164\tvalid_0's multi_error: 0.0168173\n",
      "[384]\tvalid_0's multi_logloss: 0.216662\tvalid_0's multi_error: 0.0170275\n",
      "[385]\tvalid_0's multi_logloss: 0.218343\tvalid_0's multi_error: 0.0172378\n",
      "[386]\tvalid_0's multi_logloss: 0.215833\tvalid_0's multi_error: 0.0172378\n",
      "[387]\tvalid_0's multi_logloss: 0.213373\tvalid_0's multi_error: 0.0172378\n",
      "[388]\tvalid_0's multi_logloss: 0.211019\tvalid_0's multi_error: 0.0172378\n",
      "[389]\tvalid_0's multi_logloss: 0.208502\tvalid_0's multi_error: 0.0170275\n",
      "[390]\tvalid_0's multi_logloss: 0.206071\tvalid_0's multi_error: 0.0170275\n",
      "[391]\tvalid_0's multi_logloss: 0.207611\tvalid_0's multi_error: 0.0170275\n",
      "[392]\tvalid_0's multi_logloss: 0.20524\tvalid_0's multi_error: 0.0170275\n",
      "[393]\tvalid_0's multi_logloss: 0.202917\tvalid_0's multi_error: 0.0170275\n",
      "[394]\tvalid_0's multi_logloss: 0.20057\tvalid_0's multi_error: 0.0168173\n",
      "[395]\tvalid_0's multi_logloss: 0.198268\tvalid_0's multi_error: 0.0168173\n",
      "[396]\tvalid_0's multi_logloss: 0.199675\tvalid_0's multi_error: 0.0168173\n",
      "[397]\tvalid_0's multi_logloss: 0.197478\tvalid_0's multi_error: 0.0168173\n",
      "[398]\tvalid_0's multi_logloss: 0.195228\tvalid_0's multi_error: 0.0168173\n",
      "[399]\tvalid_0's multi_logloss: 0.192995\tvalid_0's multi_error: 0.0166071\n",
      "[400]\tvalid_0's multi_logloss: 0.190827\tvalid_0's multi_error: 0.0163969\n",
      "[401]\tvalid_0's multi_logloss: 0.192094\tvalid_0's multi_error: 0.0163969\n",
      "[402]\tvalid_0's multi_logloss: 0.189892\tvalid_0's multi_error: 0.0163969\n",
      "[403]\tvalid_0's multi_logloss: 0.191154\tvalid_0's multi_error: 0.0163969\n",
      "[404]\tvalid_0's multi_logloss: 0.188953\tvalid_0's multi_error: 0.0163969\n",
      "[405]\tvalid_0's multi_logloss: 0.186868\tvalid_0's multi_error: 0.0166071\n",
      "[406]\tvalid_0's multi_logloss: 0.188167\tvalid_0's multi_error: 0.0166071\n",
      "[407]\tvalid_0's multi_logloss: 0.186049\tvalid_0's multi_error: 0.0166071\n",
      "[408]\tvalid_0's multi_logloss: 0.187474\tvalid_0's multi_error: 0.0166071\n",
      "[409]\tvalid_0's multi_logloss: 0.185385\tvalid_0's multi_error: 0.0163969\n",
      "[410]\tvalid_0's multi_logloss: 0.183321\tvalid_0's multi_error: 0.0163969\n",
      "[411]\tvalid_0's multi_logloss: 0.181298\tvalid_0's multi_error: 0.0163969\n",
      "[412]\tvalid_0's multi_logloss: 0.182586\tvalid_0's multi_error: 0.0163969\n",
      "[413]\tvalid_0's multi_logloss: 0.183946\tvalid_0's multi_error: 0.0163969\n",
      "[414]\tvalid_0's multi_logloss: 0.181897\tvalid_0's multi_error: 0.0161867\n",
      "[415]\tvalid_0's multi_logloss: 0.17987\tvalid_0's multi_error: 0.0159765\n",
      "[416]\tvalid_0's multi_logloss: 0.177849\tvalid_0's multi_error: 0.0161867\n",
      "[417]\tvalid_0's multi_logloss: 0.179249\tvalid_0's multi_error: 0.0161867\n",
      "[418]\tvalid_0's multi_logloss: 0.180608\tvalid_0's multi_error: 0.0161867\n",
      "[419]\tvalid_0's multi_logloss: 0.178565\tvalid_0's multi_error: 0.0159765\n",
      "[420]\tvalid_0's multi_logloss: 0.179876\tvalid_0's multi_error: 0.0159765\n",
      "[421]\tvalid_0's multi_logloss: 0.177973\tvalid_0's multi_error: 0.0159765\n",
      "[422]\tvalid_0's multi_logloss: 0.176049\tvalid_0's multi_error: 0.0159765\n",
      "[423]\tvalid_0's multi_logloss: 0.174116\tvalid_0's multi_error: 0.0161867\n",
      "[424]\tvalid_0's multi_logloss: 0.172207\tvalid_0's multi_error: 0.0159765\n",
      "[425]\tvalid_0's multi_logloss: 0.173513\tvalid_0's multi_error: 0.0159765\n",
      "[426]\tvalid_0's multi_logloss: 0.171623\tvalid_0's multi_error: 0.0157662\n",
      "[427]\tvalid_0's multi_logloss: 0.169711\tvalid_0's multi_error: 0.0157662\n",
      "[428]\tvalid_0's multi_logloss: 0.171024\tvalid_0's multi_error: 0.0157662\n",
      "[429]\tvalid_0's multi_logloss: 0.169165\tvalid_0's multi_error: 0.015556\n",
      "[430]\tvalid_0's multi_logloss: 0.1703\tvalid_0's multi_error: 0.015556\n",
      "[431]\tvalid_0's multi_logloss: 0.168442\tvalid_0's multi_error: 0.0157662\n",
      "[432]\tvalid_0's multi_logloss: 0.166603\tvalid_0's multi_error: 0.0157662\n",
      "[433]\tvalid_0's multi_logloss: 0.164778\tvalid_0's multi_error: 0.0157662\n",
      "[434]\tvalid_0's multi_logloss: 0.165974\tvalid_0's multi_error: 0.0157662\n",
      "[435]\tvalid_0's multi_logloss: 0.167119\tvalid_0's multi_error: 0.0157662\n",
      "[436]\tvalid_0's multi_logloss: 0.165254\tvalid_0's multi_error: 0.0157662\n",
      "[437]\tvalid_0's multi_logloss: 0.163432\tvalid_0's multi_error: 0.0157662\n",
      "[438]\tvalid_0's multi_logloss: 0.164504\tvalid_0's multi_error: 0.0157662\n",
      "[439]\tvalid_0's multi_logloss: 0.165618\tvalid_0's multi_error: 0.0157662\n",
      "[440]\tvalid_0's multi_logloss: 0.16384\tvalid_0's multi_error: 0.015556\n",
      "[441]\tvalid_0's multi_logloss: 0.162035\tvalid_0's multi_error: 0.015556\n",
      "[442]\tvalid_0's multi_logloss: 0.160223\tvalid_0's multi_error: 0.015556\n",
      "[443]\tvalid_0's multi_logloss: 0.161314\tvalid_0's multi_error: 0.015556\n",
      "[444]\tvalid_0's multi_logloss: 0.159609\tvalid_0's multi_error: 0.015556\n",
      "[445]\tvalid_0's multi_logloss: 0.157914\tvalid_0's multi_error: 0.015556\n",
      "[446]\tvalid_0's multi_logloss: 0.159005\tvalid_0's multi_error: 0.015556\n",
      "[447]\tvalid_0's multi_logloss: 0.157331\tvalid_0's multi_error: 0.0153458\n",
      "[448]\tvalid_0's multi_logloss: 0.155588\tvalid_0's multi_error: 0.0153458\n",
      "[449]\tvalid_0's multi_logloss: 0.153891\tvalid_0's multi_error: 0.0151356\n",
      "[450]\tvalid_0's multi_logloss: 0.152266\tvalid_0's multi_error: 0.0151356\n",
      "[451]\tvalid_0's multi_logloss: 0.150652\tvalid_0's multi_error: 0.0151356\n",
      "[452]\tvalid_0's multi_logloss: 0.151698\tvalid_0's multi_error: 0.0153458\n",
      "[453]\tvalid_0's multi_logloss: 0.152768\tvalid_0's multi_error: 0.0153458\n",
      "[454]\tvalid_0's multi_logloss: 0.153809\tvalid_0's multi_error: 0.0153458\n",
      "[455]\tvalid_0's multi_logloss: 0.152205\tvalid_0's multi_error: 0.0151356\n",
      "[456]\tvalid_0's multi_logloss: 0.153297\tvalid_0's multi_error: 0.0151356\n",
      "[457]\tvalid_0's multi_logloss: 0.154451\tvalid_0's multi_error: 0.0151356\n",
      "[458]\tvalid_0's multi_logloss: 0.152882\tvalid_0's multi_error: 0.0149254\n",
      "[459]\tvalid_0's multi_logloss: 0.151306\tvalid_0's multi_error: 0.0151356\n",
      "[460]\tvalid_0's multi_logloss: 0.15229\tvalid_0's multi_error: 0.0151356\n",
      "[461]\tvalid_0's multi_logloss: 0.150714\tvalid_0's multi_error: 0.0149254\n",
      "[462]\tvalid_0's multi_logloss: 0.151788\tvalid_0's multi_error: 0.0149254\n",
      "[463]\tvalid_0's multi_logloss: 0.152865\tvalid_0's multi_error: 0.0149254\n",
      "[464]\tvalid_0's multi_logloss: 0.151211\tvalid_0's multi_error: 0.0149254\n",
      "[465]\tvalid_0's multi_logloss: 0.149607\tvalid_0's multi_error: 0.0149254\n",
      "[466]\tvalid_0's multi_logloss: 0.15066\tvalid_0's multi_error: 0.0149254\n",
      "[467]\tvalid_0's multi_logloss: 0.149046\tvalid_0's multi_error: 0.0149254\n",
      "[468]\tvalid_0's multi_logloss: 0.15\tvalid_0's multi_error: 0.0149254\n",
      "[469]\tvalid_0's multi_logloss: 0.148365\tvalid_0's multi_error: 0.0149254\n",
      "[470]\tvalid_0's multi_logloss: 0.149402\tvalid_0's multi_error: 0.0149254\n",
      "[471]\tvalid_0's multi_logloss: 0.147818\tvalid_0's multi_error: 0.0149254\n",
      "[472]\tvalid_0's multi_logloss: 0.148776\tvalid_0's multi_error: 0.0149254\n",
      "[473]\tvalid_0's multi_logloss: 0.147211\tvalid_0's multi_error: 0.0149254\n",
      "[474]\tvalid_0's multi_logloss: 0.145625\tvalid_0's multi_error: 0.0149254\n",
      "[475]\tvalid_0's multi_logloss: 0.144112\tvalid_0's multi_error: 0.0149254\n",
      "[476]\tvalid_0's multi_logloss: 0.144993\tvalid_0's multi_error: 0.0149254\n",
      "[477]\tvalid_0's multi_logloss: 0.143407\tvalid_0's multi_error: 0.0149254\n"
     ]
    },
    {
     "name": "stdout",
     "output_type": "stream",
     "text": [
      "[478]\tvalid_0's multi_logloss: 0.144443\tvalid_0's multi_error: 0.0149254\n",
      "[479]\tvalid_0's multi_logloss: 0.145452\tvalid_0's multi_error: 0.0149254\n",
      "[480]\tvalid_0's multi_logloss: 0.144002\tvalid_0's multi_error: 0.0149254\n",
      "[481]\tvalid_0's multi_logloss: 0.142478\tvalid_0's multi_error: 0.0149254\n",
      "[482]\tvalid_0's multi_logloss: 0.140942\tvalid_0's multi_error: 0.0145049\n",
      "[483]\tvalid_0's multi_logloss: 0.139443\tvalid_0's multi_error: 0.0142947\n",
      "[484]\tvalid_0's multi_logloss: 0.137997\tvalid_0's multi_error: 0.0145049\n",
      "[485]\tvalid_0's multi_logloss: 0.138872\tvalid_0's multi_error: 0.0142947\n",
      "[486]\tvalid_0's multi_logloss: 0.137403\tvalid_0's multi_error: 0.0145049\n",
      "[487]\tvalid_0's multi_logloss: 0.136071\tvalid_0's multi_error: 0.0142947\n",
      "[488]\tvalid_0's multi_logloss: 0.134694\tvalid_0's multi_error: 0.0142947\n",
      "[489]\tvalid_0's multi_logloss: 0.133323\tvalid_0's multi_error: 0.0142947\n",
      "[490]\tvalid_0's multi_logloss: 0.134221\tvalid_0's multi_error: 0.0142947\n",
      "[491]\tvalid_0's multi_logloss: 0.135101\tvalid_0's multi_error: 0.0142947\n",
      "[492]\tvalid_0's multi_logloss: 0.135957\tvalid_0's multi_error: 0.0142947\n",
      "[493]\tvalid_0's multi_logloss: 0.136849\tvalid_0's multi_error: 0.0142947\n",
      "[494]\tvalid_0's multi_logloss: 0.135449\tvalid_0's multi_error: 0.0142947\n",
      "[495]\tvalid_0's multi_logloss: 0.134108\tvalid_0's multi_error: 0.0140845\n",
      "[496]\tvalid_0's multi_logloss: 0.132715\tvalid_0's multi_error: 0.0140845\n",
      "[497]\tvalid_0's multi_logloss: 0.131315\tvalid_0's multi_error: 0.0140845\n",
      "[498]\tvalid_0's multi_logloss: 0.129958\tvalid_0's multi_error: 0.0140845\n",
      "[499]\tvalid_0's multi_logloss: 0.130754\tvalid_0's multi_error: 0.0140845\n",
      "[500]\tvalid_0's multi_logloss: 0.129364\tvalid_0's multi_error: 0.0140845\n",
      "Starting predicting...\n",
      "[[1540   40    5]\n",
      " [  21 1565    0]\n",
      " [   0    1 1585]]\n",
      "              precision    recall  f1-score   support\n",
      "\n",
      "           0       0.99      0.97      0.98      1585\n",
      "           1       0.97      0.99      0.98      1586\n",
      "           2       1.00      1.00      1.00      1586\n",
      "\n",
      "    accuracy                           0.99      4757\n",
      "   macro avg       0.99      0.99      0.99      4757\n",
      "weighted avg       0.99      0.99      0.99      4757\n",
      "\n",
      "\n",
      " Testing on the original set...\n",
      "\n",
      "[[4403  111   16]\n",
      " [  11    9    4]\n",
      " [   1    5    7]]\n",
      "              precision    recall  f1-score   support\n",
      "\n",
      "           0       1.00      0.97      0.98      4530\n",
      "           1       0.07      0.38      0.12        24\n",
      "           2       0.26      0.54      0.35        13\n",
      "\n",
      "    accuracy                           0.97      4567\n",
      "   macro avg       0.44      0.63      0.49      4567\n",
      "weighted avg       0.99      0.97      0.98      4567\n",
      "\n",
      "Accuracy of SPURS1: 0.967593606306109\n"
     ]
    }
   ],
   "source": [
    "import lightgbm as lgb\n",
    "import pandas as pd\n",
    "from sklearn.metrics import mean_squared_error, accuracy_score\n",
    "from imblearn.over_sampling import ADASYN\n",
    "\n",
    "\n",
    "sm = SMOTE(random_state=42)\n",
    "#sm = ADASYN(random_state=12, n_neighbors=9)\n",
    "\n",
    "X = new_enc2[['sss','sst','wind_spd','sss_change','wind_change','differential','temp_change']]\n",
    "y=new_enc2['thres']\n",
    "\n",
    "X_train, X_test, y_train, y_test = train_test_split(X, y, test_size=0.5, random_state=42, stratify=y)\n",
    "\n",
    "oversampled_trainX, oversampled_trainY = sm.fit_sample(X_train, y_train)\n",
    "#oversampled_trainX, oversampled_trainY = sm.fit_sample(oversampled_trainX, oversampled_trainY)\n",
    "oversampled_train = pd.concat([pd.DataFrame(oversampled_trainY), pd.DataFrame(oversampled_trainX)], axis=1)\n",
    "#oversampled_train.columns = normalized_df.columns\n",
    "oversampled_train.columns = ['thres','sss','sst','wind_spd','sss_change','wind_change','differential','temp_change']\n",
    "\n",
    "new_X = oversampled_train.drop('thres',axis=1)\n",
    "new_y = oversampled_train['thres']\n",
    "new_X_train, new_X_test, new_y_train, new_y_test = train_test_split(new_X, new_y, test_size=0.35, random_state=42, stratify=new_y)\n",
    "\n",
    "# create dataset for lightgbm\n",
    "lgb_train = lgb.Dataset(new_X_train, new_y_train)\n",
    "lgb_eval = lgb.Dataset(new_X_test, new_y_test, reference=lgb_train)\n",
    "\n",
    "# specify your configurations as a dict\n",
    "params = {\n",
    "    'boosting_type': 'dart',\n",
    "    \"num_class\" : 3,\n",
    "    'objective': 'multiclass',\n",
    "    'metric': {'multi_error', 'multi_logloss'},\n",
    "    'num_leaves': 32,\n",
    "    'learning_rate': 0.015,\n",
    "    'feature_fraction': 0.9,\n",
    "    'bagging_fraction': 0.8,\n",
    "    'bagging_freq': 5,\n",
    "    'bagging_seed': 1500,\n",
    "    'verbose': 0,\n",
    "    'predict_contrib':True\n",
    "}\n",
    "\n",
    "print('Starting training...')\n",
    "# train\n",
    "gbm = lgb.train(params,\n",
    "                lgb_train,\n",
    "                num_boost_round=500,\n",
    "                valid_sets=lgb_eval,\n",
    "                early_stopping_rounds=100)\n",
    "\n",
    "\n",
    "print('Starting predicting...')\n",
    "# predict\n",
    "y_pred = np.argmax(gbm.predict(new_X_test, num_iteration=gbm.best_iteration),axis=1)\n",
    "# eval\n",
    "print(confusion_matrix(new_y_test, y_pred))\n",
    "print(classification_report(new_y_test,y_pred))\n",
    "\n",
    "print('\\n Testing on the original set...\\n')\n",
    "test_y_pred = np.argmax(gbm.predict(X_test, num_iteration=gbm.best_iteration),axis=1)\n",
    "print(confusion_matrix(y_test, test_y_pred))\n",
    "print(classification_report(y_test,test_y_pred))\n",
    "\n",
    "acc1 = accuracy_score(y_test, test_y_pred)\n",
    "print('Accuracy of SPURS1:', acc1)"
   ]
  },
  {
   "cell_type": "code",
   "execution_count": 330,
   "metadata": {
    "ExecuteTime": {
     "end_time": "2019-07-08T16:54:38.163705Z",
     "start_time": "2019-07-08T16:54:38.148079Z"
    }
   },
   "outputs": [],
   "source": [
    "pred_df = pd.DataFrame(test_y_pred)\n",
    "y_test_l = pd.DataFrame(y_test)\n",
    "y_test_l.reset_index(inplace=True)\n",
    "exam = pd.concat([y_test_l,pred_df], axis=1, join='outer', ignore_index=True)\n",
    "exam.columns = ['index','true','predicted']\n",
    "exam['compare'] = exam['predicted'] - exam['true']\n",
    "two = exam[(exam['compare'] == 2)]"
   ]
  },
  {
   "cell_type": "code",
   "execution_count": 347,
   "metadata": {
    "ExecuteTime": {
     "end_time": "2019-07-08T17:00:42.339386Z",
     "start_time": "2019-07-08T17:00:42.308134Z"
    }
   },
   "outputs": [
    {
     "name": "stdout",
     "output_type": "stream",
     "text": [
      "(18, 4)\n"
     ]
    },
    {
     "data": {
      "text/html": [
       "<div>\n",
       "<style scoped>\n",
       "    .dataframe tbody tr th:only-of-type {\n",
       "        vertical-align: middle;\n",
       "    }\n",
       "\n",
       "    .dataframe tbody tr th {\n",
       "        vertical-align: top;\n",
       "    }\n",
       "\n",
       "    .dataframe thead th {\n",
       "        text-align: right;\n",
       "    }\n",
       "</style>\n",
       "<table border=\"1\" class=\"dataframe\">\n",
       "  <thead>\n",
       "    <tr style=\"text-align: right;\">\n",
       "      <th></th>\n",
       "      <th>index</th>\n",
       "      <th>true</th>\n",
       "      <th>predicted</th>\n",
       "      <th>compare</th>\n",
       "    </tr>\n",
       "  </thead>\n",
       "  <tbody>\n",
       "    <tr>\n",
       "      <th>23</th>\n",
       "      <td>8517</td>\n",
       "      <td>0</td>\n",
       "      <td>2</td>\n",
       "      <td>2</td>\n",
       "    </tr>\n",
       "    <tr>\n",
       "      <th>501</th>\n",
       "      <td>8953</td>\n",
       "      <td>0</td>\n",
       "      <td>2</td>\n",
       "      <td>2</td>\n",
       "    </tr>\n",
       "    <tr>\n",
       "      <th>583</th>\n",
       "      <td>4309</td>\n",
       "      <td>0</td>\n",
       "      <td>2</td>\n",
       "      <td>2</td>\n",
       "    </tr>\n",
       "    <tr>\n",
       "      <th>786</th>\n",
       "      <td>8518</td>\n",
       "      <td>0</td>\n",
       "      <td>2</td>\n",
       "      <td>2</td>\n",
       "    </tr>\n",
       "    <tr>\n",
       "      <th>926</th>\n",
       "      <td>5602</td>\n",
       "      <td>0</td>\n",
       "      <td>2</td>\n",
       "      <td>2</td>\n",
       "    </tr>\n",
       "    <tr>\n",
       "      <th>967</th>\n",
       "      <td>1658</td>\n",
       "      <td>0</td>\n",
       "      <td>2</td>\n",
       "      <td>2</td>\n",
       "    </tr>\n",
       "    <tr>\n",
       "      <th>1073</th>\n",
       "      <td>8604</td>\n",
       "      <td>0</td>\n",
       "      <td>2</td>\n",
       "      <td>2</td>\n",
       "    </tr>\n",
       "    <tr>\n",
       "      <th>1263</th>\n",
       "      <td>1663</td>\n",
       "      <td>0</td>\n",
       "      <td>2</td>\n",
       "      <td>2</td>\n",
       "    </tr>\n",
       "    <tr>\n",
       "      <th>2212</th>\n",
       "      <td>3398</td>\n",
       "      <td>0</td>\n",
       "      <td>2</td>\n",
       "      <td>2</td>\n",
       "    </tr>\n",
       "    <tr>\n",
       "      <th>2514</th>\n",
       "      <td>4328</td>\n",
       "      <td>0</td>\n",
       "      <td>2</td>\n",
       "      <td>2</td>\n",
       "    </tr>\n",
       "    <tr>\n",
       "      <th>3647</th>\n",
       "      <td>285</td>\n",
       "      <td>0</td>\n",
       "      <td>2</td>\n",
       "      <td>2</td>\n",
       "    </tr>\n",
       "    <tr>\n",
       "      <th>3751</th>\n",
       "      <td>8830</td>\n",
       "      <td>0</td>\n",
       "      <td>2</td>\n",
       "      <td>2</td>\n",
       "    </tr>\n",
       "    <tr>\n",
       "      <th>3904</th>\n",
       "      <td>6067</td>\n",
       "      <td>0</td>\n",
       "      <td>2</td>\n",
       "      <td>2</td>\n",
       "    </tr>\n",
       "    <tr>\n",
       "      <th>4133</th>\n",
       "      <td>3381</td>\n",
       "      <td>0</td>\n",
       "      <td>2</td>\n",
       "      <td>2</td>\n",
       "    </tr>\n",
       "    <tr>\n",
       "      <th>4153</th>\n",
       "      <td>6106</td>\n",
       "      <td>0</td>\n",
       "      <td>2</td>\n",
       "      <td>2</td>\n",
       "    </tr>\n",
       "    <tr>\n",
       "      <th>4234</th>\n",
       "      <td>8733</td>\n",
       "      <td>0</td>\n",
       "      <td>2</td>\n",
       "      <td>2</td>\n",
       "    </tr>\n",
       "    <tr>\n",
       "      <th>4395</th>\n",
       "      <td>275</td>\n",
       "      <td>0</td>\n",
       "      <td>2</td>\n",
       "      <td>2</td>\n",
       "    </tr>\n",
       "    <tr>\n",
       "      <th>4451</th>\n",
       "      <td>8960</td>\n",
       "      <td>0</td>\n",
       "      <td>2</td>\n",
       "      <td>2</td>\n",
       "    </tr>\n",
       "  </tbody>\n",
       "</table>\n",
       "</div>"
      ],
      "text/plain": [
       "      index  true  predicted  compare\n",
       "23     8517     0          2        2\n",
       "501    8953     0          2        2\n",
       "583    4309     0          2        2\n",
       "786    8518     0          2        2\n",
       "926    5602     0          2        2\n",
       "967    1658     0          2        2\n",
       "1073   8604     0          2        2\n",
       "1263   1663     0          2        2\n",
       "2212   3398     0          2        2\n",
       "2514   4328     0          2        2\n",
       "3647    285     0          2        2\n",
       "3751   8830     0          2        2\n",
       "3904   6067     0          2        2\n",
       "4133   3381     0          2        2\n",
       "4153   6106     0          2        2\n",
       "4234   8733     0          2        2\n",
       "4395    275     0          2        2\n",
       "4451   8960     0          2        2"
      ]
     },
     "execution_count": 347,
     "metadata": {},
     "output_type": "execute_result"
    }
   ],
   "source": [
    "print(two.shape)\n",
    "two"
   ]
  },
  {
   "cell_type": "code",
   "execution_count": 357,
   "metadata": {
    "ExecuteTime": {
     "end_time": "2019-07-08T17:28:04.353195Z",
     "start_time": "2019-07-08T17:28:04.306280Z"
    }
   },
   "outputs": [
    {
     "data": {
      "text/html": [
       "<div>\n",
       "<style scoped>\n",
       "    .dataframe tbody tr th:only-of-type {\n",
       "        vertical-align: middle;\n",
       "    }\n",
       "\n",
       "    .dataframe tbody tr th {\n",
       "        vertical-align: top;\n",
       "    }\n",
       "\n",
       "    .dataframe thead th {\n",
       "        text-align: right;\n",
       "    }\n",
       "</style>\n",
       "<table border=\"1\" class=\"dataframe\">\n",
       "  <thead>\n",
       "    <tr style=\"text-align: right;\">\n",
       "      <th></th>\n",
       "      <th>sss</th>\n",
       "      <th>sst</th>\n",
       "      <th>wind_spd</th>\n",
       "      <th>wind_dir</th>\n",
       "      <th>precip</th>\n",
       "      <th>year</th>\n",
       "      <th>day</th>\n",
       "      <th>sss_change</th>\n",
       "      <th>wind_change</th>\n",
       "      <th>season_Fall</th>\n",
       "      <th>season_Spring</th>\n",
       "      <th>season_Summer</th>\n",
       "      <th>season_Winter</th>\n",
       "      <th>hour_Day</th>\n",
       "      <th>hour_Night</th>\n",
       "      <th>thres</th>\n",
       "      <th>temp_change</th>\n",
       "      <th>Seasons</th>\n",
       "    </tr>\n",
       "  </thead>\n",
       "  <tbody>\n",
       "    <tr>\n",
       "      <th>8517</th>\n",
       "      <td>37.386309</td>\n",
       "      <td>26.316097</td>\n",
       "      <td>6.968589</td>\n",
       "      <td>-152.761864</td>\n",
       "      <td>0.0</td>\n",
       "      <td>2013</td>\n",
       "      <td>4</td>\n",
       "      <td>-0.035241</td>\n",
       "      <td>0.398378</td>\n",
       "      <td>1</td>\n",
       "      <td>0</td>\n",
       "      <td>0</td>\n",
       "      <td>0</td>\n",
       "      <td>1</td>\n",
       "      <td>0</td>\n",
       "      <td>0</td>\n",
       "      <td>-0.025739</td>\n",
       "      <td>Fall</td>\n",
       "    </tr>\n",
       "    <tr>\n",
       "      <th>8953</th>\n",
       "      <td>36.949342</td>\n",
       "      <td>27.017892</td>\n",
       "      <td>2.173421</td>\n",
       "      <td>-134.191256</td>\n",
       "      <td>0.0</td>\n",
       "      <td>2013</td>\n",
       "      <td>22</td>\n",
       "      <td>-0.086644</td>\n",
       "      <td>0.762169</td>\n",
       "      <td>1</td>\n",
       "      <td>0</td>\n",
       "      <td>0</td>\n",
       "      <td>0</td>\n",
       "      <td>0</td>\n",
       "      <td>1</td>\n",
       "      <td>0</td>\n",
       "      <td>-0.098414</td>\n",
       "      <td>Fall</td>\n",
       "    </tr>\n",
       "    <tr>\n",
       "      <th>4309</th>\n",
       "      <td>37.342629</td>\n",
       "      <td>22.846768</td>\n",
       "      <td>9.935800</td>\n",
       "      <td>75.844093</td>\n",
       "      <td>0.0</td>\n",
       "      <td>2013</td>\n",
       "      <td>13</td>\n",
       "      <td>-0.009327</td>\n",
       "      <td>1.471885</td>\n",
       "      <td>0</td>\n",
       "      <td>1</td>\n",
       "      <td>0</td>\n",
       "      <td>0</td>\n",
       "      <td>1</td>\n",
       "      <td>0</td>\n",
       "      <td>0</td>\n",
       "      <td>-0.016113</td>\n",
       "      <td>Spring</td>\n",
       "    </tr>\n",
       "    <tr>\n",
       "      <th>8518</th>\n",
       "      <td>37.345725</td>\n",
       "      <td>26.267317</td>\n",
       "      <td>7.029282</td>\n",
       "      <td>-153.342167</td>\n",
       "      <td>0.0</td>\n",
       "      <td>2013</td>\n",
       "      <td>4</td>\n",
       "      <td>-0.040585</td>\n",
       "      <td>0.060693</td>\n",
       "      <td>1</td>\n",
       "      <td>0</td>\n",
       "      <td>0</td>\n",
       "      <td>0</td>\n",
       "      <td>0</td>\n",
       "      <td>1</td>\n",
       "      <td>0</td>\n",
       "      <td>-0.048780</td>\n",
       "      <td>Fall</td>\n",
       "    </tr>\n",
       "    <tr>\n",
       "      <th>5602</th>\n",
       "      <td>37.385337</td>\n",
       "      <td>23.901741</td>\n",
       "      <td>9.211611</td>\n",
       "      <td>41.325167</td>\n",
       "      <td>0.0</td>\n",
       "      <td>2013</td>\n",
       "      <td>6</td>\n",
       "      <td>-0.042103</td>\n",
       "      <td>1.729966</td>\n",
       "      <td>0</td>\n",
       "      <td>1</td>\n",
       "      <td>0</td>\n",
       "      <td>0</td>\n",
       "      <td>1</td>\n",
       "      <td>0</td>\n",
       "      <td>0</td>\n",
       "      <td>0.024572</td>\n",
       "      <td>Spring</td>\n",
       "    </tr>\n",
       "    <tr>\n",
       "      <th>1658</th>\n",
       "      <td>37.061084</td>\n",
       "      <td>24.714721</td>\n",
       "      <td>0.882536</td>\n",
       "      <td>131.666064</td>\n",
       "      <td>0.6</td>\n",
       "      <td>2012</td>\n",
       "      <td>22</td>\n",
       "      <td>-0.239498</td>\n",
       "      <td>-2.623343</td>\n",
       "      <td>1</td>\n",
       "      <td>0</td>\n",
       "      <td>0</td>\n",
       "      <td>0</td>\n",
       "      <td>0</td>\n",
       "      <td>1</td>\n",
       "      <td>0</td>\n",
       "      <td>-0.099778</td>\n",
       "      <td>Fall</td>\n",
       "    </tr>\n",
       "    <tr>\n",
       "      <th>8604</th>\n",
       "      <td>37.450549</td>\n",
       "      <td>26.074975</td>\n",
       "      <td>7.936044</td>\n",
       "      <td>-175.061867</td>\n",
       "      <td>0.0</td>\n",
       "      <td>2013</td>\n",
       "      <td>8</td>\n",
       "      <td>-0.039626</td>\n",
       "      <td>-0.180100</td>\n",
       "      <td>1</td>\n",
       "      <td>0</td>\n",
       "      <td>0</td>\n",
       "      <td>0</td>\n",
       "      <td>1</td>\n",
       "      <td>0</td>\n",
       "      <td>0</td>\n",
       "      <td>-0.018281</td>\n",
       "      <td>Fall</td>\n",
       "    </tr>\n",
       "    <tr>\n",
       "      <th>1663</th>\n",
       "      <td>37.357876</td>\n",
       "      <td>24.637357</td>\n",
       "      <td>3.097390</td>\n",
       "      <td>56.814136</td>\n",
       "      <td>0.0</td>\n",
       "      <td>2012</td>\n",
       "      <td>23</td>\n",
       "      <td>-0.094773</td>\n",
       "      <td>0.395912</td>\n",
       "      <td>1</td>\n",
       "      <td>0</td>\n",
       "      <td>0</td>\n",
       "      <td>0</td>\n",
       "      <td>0</td>\n",
       "      <td>1</td>\n",
       "      <td>0</td>\n",
       "      <td>-0.056671</td>\n",
       "      <td>Fall</td>\n",
       "    </tr>\n",
       "    <tr>\n",
       "      <th>3398</th>\n",
       "      <td>37.402649</td>\n",
       "      <td>23.384749</td>\n",
       "      <td>8.924957</td>\n",
       "      <td>125.361869</td>\n",
       "      <td>0.0</td>\n",
       "      <td>2013</td>\n",
       "      <td>3</td>\n",
       "      <td>-0.006183</td>\n",
       "      <td>0.260398</td>\n",
       "      <td>0</td>\n",
       "      <td>0</td>\n",
       "      <td>0</td>\n",
       "      <td>1</td>\n",
       "      <td>1</td>\n",
       "      <td>0</td>\n",
       "      <td>0</td>\n",
       "      <td>-0.010668</td>\n",
       "      <td>Winter</td>\n",
       "    </tr>\n",
       "    <tr>\n",
       "      <th>4328</th>\n",
       "      <td>37.395511</td>\n",
       "      <td>22.827816</td>\n",
       "      <td>11.861507</td>\n",
       "      <td>-2.651278</td>\n",
       "      <td>0.0</td>\n",
       "      <td>2013</td>\n",
       "      <td>14</td>\n",
       "      <td>-0.006468</td>\n",
       "      <td>3.953028</td>\n",
       "      <td>0</td>\n",
       "      <td>1</td>\n",
       "      <td>0</td>\n",
       "      <td>0</td>\n",
       "      <td>0</td>\n",
       "      <td>1</td>\n",
       "      <td>0</td>\n",
       "      <td>-0.018058</td>\n",
       "      <td>Spring</td>\n",
       "    </tr>\n",
       "    <tr>\n",
       "      <th>285</th>\n",
       "      <td>37.252947</td>\n",
       "      <td>27.317918</td>\n",
       "      <td>2.735280</td>\n",
       "      <td>-175.297194</td>\n",
       "      <td>0.0</td>\n",
       "      <td>2012</td>\n",
       "      <td>26</td>\n",
       "      <td>-0.090273</td>\n",
       "      <td>0.289783</td>\n",
       "      <td>1</td>\n",
       "      <td>0</td>\n",
       "      <td>0</td>\n",
       "      <td>0</td>\n",
       "      <td>1</td>\n",
       "      <td>0</td>\n",
       "      <td>0</td>\n",
       "      <td>0.008617</td>\n",
       "      <td>Fall</td>\n",
       "    </tr>\n",
       "    <tr>\n",
       "      <th>8830</th>\n",
       "      <td>37.586049</td>\n",
       "      <td>26.267587</td>\n",
       "      <td>5.026657</td>\n",
       "      <td>127.966673</td>\n",
       "      <td>0.0</td>\n",
       "      <td>2013</td>\n",
       "      <td>17</td>\n",
       "      <td>-0.041613</td>\n",
       "      <td>-0.081399</td>\n",
       "      <td>1</td>\n",
       "      <td>0</td>\n",
       "      <td>0</td>\n",
       "      <td>0</td>\n",
       "      <td>0</td>\n",
       "      <td>1</td>\n",
       "      <td>0</td>\n",
       "      <td>-0.006019</td>\n",
       "      <td>Fall</td>\n",
       "    </tr>\n",
       "    <tr>\n",
       "      <th>6067</th>\n",
       "      <td>37.019882</td>\n",
       "      <td>24.281948</td>\n",
       "      <td>3.372260</td>\n",
       "      <td>-85.892769</td>\n",
       "      <td>0.0</td>\n",
       "      <td>2013</td>\n",
       "      <td>25</td>\n",
       "      <td>-0.106266</td>\n",
       "      <td>-0.967816</td>\n",
       "      <td>0</td>\n",
       "      <td>1</td>\n",
       "      <td>0</td>\n",
       "      <td>0</td>\n",
       "      <td>1</td>\n",
       "      <td>0</td>\n",
       "      <td>0</td>\n",
       "      <td>-0.209401</td>\n",
       "      <td>Spring</td>\n",
       "    </tr>\n",
       "    <tr>\n",
       "      <th>3381</th>\n",
       "      <td>37.316882</td>\n",
       "      <td>23.306176</td>\n",
       "      <td>7.305599</td>\n",
       "      <td>120.984055</td>\n",
       "      <td>0.5</td>\n",
       "      <td>2013</td>\n",
       "      <td>2</td>\n",
       "      <td>-0.040338</td>\n",
       "      <td>0.144965</td>\n",
       "      <td>0</td>\n",
       "      <td>0</td>\n",
       "      <td>0</td>\n",
       "      <td>1</td>\n",
       "      <td>1</td>\n",
       "      <td>0</td>\n",
       "      <td>0</td>\n",
       "      <td>-0.032650</td>\n",
       "      <td>Winter</td>\n",
       "    </tr>\n",
       "    <tr>\n",
       "      <th>6106</th>\n",
       "      <td>37.171447</td>\n",
       "      <td>23.719698</td>\n",
       "      <td>8.184477</td>\n",
       "      <td>-171.335912</td>\n",
       "      <td>0.1</td>\n",
       "      <td>2013</td>\n",
       "      <td>27</td>\n",
       "      <td>-0.031036</td>\n",
       "      <td>0.043197</td>\n",
       "      <td>0</td>\n",
       "      <td>1</td>\n",
       "      <td>0</td>\n",
       "      <td>0</td>\n",
       "      <td>1</td>\n",
       "      <td>0</td>\n",
       "      <td>0</td>\n",
       "      <td>-0.093634</td>\n",
       "      <td>Spring</td>\n",
       "    </tr>\n",
       "    <tr>\n",
       "      <th>8733</th>\n",
       "      <td>37.416313</td>\n",
       "      <td>26.166919</td>\n",
       "      <td>6.293843</td>\n",
       "      <td>-152.865087</td>\n",
       "      <td>0.0</td>\n",
       "      <td>2013</td>\n",
       "      <td>13</td>\n",
       "      <td>-0.034421</td>\n",
       "      <td>0.755054</td>\n",
       "      <td>1</td>\n",
       "      <td>0</td>\n",
       "      <td>0</td>\n",
       "      <td>0</td>\n",
       "      <td>1</td>\n",
       "      <td>0</td>\n",
       "      <td>0</td>\n",
       "      <td>0.013037</td>\n",
       "      <td>Fall</td>\n",
       "    </tr>\n",
       "    <tr>\n",
       "      <th>275</th>\n",
       "      <td>37.253655</td>\n",
       "      <td>27.153605</td>\n",
       "      <td>1.291647</td>\n",
       "      <td>81.435379</td>\n",
       "      <td>0.0</td>\n",
       "      <td>2012</td>\n",
       "      <td>26</td>\n",
       "      <td>-0.107880</td>\n",
       "      <td>-3.426538</td>\n",
       "      <td>1</td>\n",
       "      <td>0</td>\n",
       "      <td>0</td>\n",
       "      <td>0</td>\n",
       "      <td>1</td>\n",
       "      <td>0</td>\n",
       "      <td>0</td>\n",
       "      <td>-0.049453</td>\n",
       "      <td>Fall</td>\n",
       "    </tr>\n",
       "    <tr>\n",
       "      <th>8960</th>\n",
       "      <td>37.244972</td>\n",
       "      <td>26.671325</td>\n",
       "      <td>2.340218</td>\n",
       "      <td>104.435518</td>\n",
       "      <td>0.0</td>\n",
       "      <td>2013</td>\n",
       "      <td>23</td>\n",
       "      <td>-0.081527</td>\n",
       "      <td>-0.235668</td>\n",
       "      <td>1</td>\n",
       "      <td>0</td>\n",
       "      <td>0</td>\n",
       "      <td>0</td>\n",
       "      <td>0</td>\n",
       "      <td>1</td>\n",
       "      <td>0</td>\n",
       "      <td>-0.102999</td>\n",
       "      <td>Fall</td>\n",
       "    </tr>\n",
       "  </tbody>\n",
       "</table>\n",
       "</div>"
      ],
      "text/plain": [
       "            sss        sst   wind_spd    wind_dir  precip  year  day  \\\n",
       "8517  37.386309  26.316097   6.968589 -152.761864     0.0  2013    4   \n",
       "8953  36.949342  27.017892   2.173421 -134.191256     0.0  2013   22   \n",
       "4309  37.342629  22.846768   9.935800   75.844093     0.0  2013   13   \n",
       "8518  37.345725  26.267317   7.029282 -153.342167     0.0  2013    4   \n",
       "5602  37.385337  23.901741   9.211611   41.325167     0.0  2013    6   \n",
       "1658  37.061084  24.714721   0.882536  131.666064     0.6  2012   22   \n",
       "8604  37.450549  26.074975   7.936044 -175.061867     0.0  2013    8   \n",
       "1663  37.357876  24.637357   3.097390   56.814136     0.0  2012   23   \n",
       "3398  37.402649  23.384749   8.924957  125.361869     0.0  2013    3   \n",
       "4328  37.395511  22.827816  11.861507   -2.651278     0.0  2013   14   \n",
       "285   37.252947  27.317918   2.735280 -175.297194     0.0  2012   26   \n",
       "8830  37.586049  26.267587   5.026657  127.966673     0.0  2013   17   \n",
       "6067  37.019882  24.281948   3.372260  -85.892769     0.0  2013   25   \n",
       "3381  37.316882  23.306176   7.305599  120.984055     0.5  2013    2   \n",
       "6106  37.171447  23.719698   8.184477 -171.335912     0.1  2013   27   \n",
       "8733  37.416313  26.166919   6.293843 -152.865087     0.0  2013   13   \n",
       "275   37.253655  27.153605   1.291647   81.435379     0.0  2012   26   \n",
       "8960  37.244972  26.671325   2.340218  104.435518     0.0  2013   23   \n",
       "\n",
       "      sss_change  wind_change  season_Fall  season_Spring  season_Summer  \\\n",
       "8517   -0.035241     0.398378            1              0              0   \n",
       "8953   -0.086644     0.762169            1              0              0   \n",
       "4309   -0.009327     1.471885            0              1              0   \n",
       "8518   -0.040585     0.060693            1              0              0   \n",
       "5602   -0.042103     1.729966            0              1              0   \n",
       "1658   -0.239498    -2.623343            1              0              0   \n",
       "8604   -0.039626    -0.180100            1              0              0   \n",
       "1663   -0.094773     0.395912            1              0              0   \n",
       "3398   -0.006183     0.260398            0              0              0   \n",
       "4328   -0.006468     3.953028            0              1              0   \n",
       "285    -0.090273     0.289783            1              0              0   \n",
       "8830   -0.041613    -0.081399            1              0              0   \n",
       "6067   -0.106266    -0.967816            0              1              0   \n",
       "3381   -0.040338     0.144965            0              0              0   \n",
       "6106   -0.031036     0.043197            0              1              0   \n",
       "8733   -0.034421     0.755054            1              0              0   \n",
       "275    -0.107880    -3.426538            1              0              0   \n",
       "8960   -0.081527    -0.235668            1              0              0   \n",
       "\n",
       "      season_Winter  hour_Day  hour_Night  thres  temp_change Seasons  \n",
       "8517              0         1           0      0    -0.025739    Fall  \n",
       "8953              0         0           1      0    -0.098414    Fall  \n",
       "4309              0         1           0      0    -0.016113  Spring  \n",
       "8518              0         0           1      0    -0.048780    Fall  \n",
       "5602              0         1           0      0     0.024572  Spring  \n",
       "1658              0         0           1      0    -0.099778    Fall  \n",
       "8604              0         1           0      0    -0.018281    Fall  \n",
       "1663              0         0           1      0    -0.056671    Fall  \n",
       "3398              1         1           0      0    -0.010668  Winter  \n",
       "4328              0         0           1      0    -0.018058  Spring  \n",
       "285               0         1           0      0     0.008617    Fall  \n",
       "8830              0         0           1      0    -0.006019    Fall  \n",
       "6067              0         1           0      0    -0.209401  Spring  \n",
       "3381              1         1           0      0    -0.032650  Winter  \n",
       "6106              0         1           0      0    -0.093634  Spring  \n",
       "8733              0         1           0      0     0.013037    Fall  \n",
       "275               0         1           0      0    -0.049453    Fall  \n",
       "8960              0         0           1      0    -0.102999    Fall  "
      ]
     },
     "execution_count": 357,
     "metadata": {},
     "output_type": "execute_result"
    }
   ],
   "source": [
    "new_enc.drop(['cum_precip3','cum_precip6','time','new_time','month'], axis=1).iloc[wrong]"
   ]
  },
  {
   "cell_type": "markdown",
   "metadata": {},
   "source": [
    "__And finally, testing the fitted model on our original test set__"
   ]
  },
  {
   "cell_type": "code",
   "execution_count": 223,
   "metadata": {
    "ExecuteTime": {
     "end_time": "2019-07-05T21:18:20.402831Z",
     "start_time": "2019-07-05T21:18:20.383737Z"
    }
   },
   "outputs": [
    {
     "name": "stdout",
     "output_type": "stream",
     "text": [
      "Accuracy of SPURS1: 0.9706204379562043\n",
      "[[5294  124   18]\n",
      " [  10   14    4]\n",
      " [   0    5   11]]\n",
      "              precision    recall  f1-score   support\n",
      "\n",
      "           0       1.00      0.97      0.99      5436\n",
      "           1       0.10      0.50      0.16        28\n",
      "           2       0.33      0.69      0.45        16\n",
      "\n",
      "   micro avg       0.97      0.97      0.97      5480\n",
      "   macro avg       0.48      0.72      0.53      5480\n",
      "weighted avg       0.99      0.97      0.98      5480\n",
      "\n"
     ]
    }
   ],
   "source": [
    "from sklearn.metrics import accuracy_score\n",
    "acc = accuracy_score(y_test, test_y_pred)\n",
    "print('Accuracy of SPURS1:', acc)\n",
    "print(confusion_matrix(y_test, test_y_pred))\n",
    "print(classification_report(y_test, test_y_pred))"
   ]
  },
  {
   "cell_type": "code",
   "execution_count": 213,
   "metadata": {
    "ExecuteTime": {
     "end_time": "2019-07-03T16:41:37.650912Z",
     "start_time": "2019-07-03T16:41:37.535572Z"
    }
   },
   "outputs": [
    {
     "data": {
      "text/plain": [
       "<matplotlib.axes._subplots.AxesSubplot at 0x217bd3bc588>"
      ]
     },
     "execution_count": 213,
     "metadata": {},
     "output_type": "execute_result"
    },
    {
     "data": {
      "image/png": "[encoded data removed]",
      "text/plain": [
       "<Figure size 432x288 with 1 Axes>"
      ]
     },
     "metadata": {},
     "output_type": "display_data"
    }
   ],
   "source": [
    "sns.countplot(data=oversampled_train, x='thres')"
   ]
  },
  {
   "cell_type": "code",
   "execution_count": 233,
   "metadata": {
    "ExecuteTime": {
     "end_time": "2019-07-05T21:58:05.824441Z",
     "start_time": "2019-07-05T21:58:05.816962Z"
    }
   },
   "outputs": [
    {
     "data": {
      "text/plain": [
       "2    4530\n",
       "1    4530\n",
       "0    4530\n",
       "Name: thres, dtype: int64"
      ]
     },
     "execution_count": 233,
     "metadata": {},
     "output_type": "execute_result"
    }
   ],
   "source": [
    "oversampled_train['thres'].value_counts()"
   ]
  },
  {
   "cell_type": "code",
   "execution_count": 234,
   "metadata": {
    "ExecuteTime": {
     "end_time": "2019-07-05T21:58:27.842099Z",
     "start_time": "2019-07-05T21:58:27.688240Z"
    }
   },
   "outputs": [
    {
     "name": "stdout",
     "output_type": "stream",
     "text": [
      "0    4530\n",
      "1      24\n",
      "2      13\n",
      "Name: thres, dtype: int64\n"
     ]
    },
    {
     "data": {
      "text/plain": [
       "<matplotlib.axes._subplots.AxesSubplot at 0x217bd84d048>"
      ]
     },
     "execution_count": 234,
     "metadata": {},
     "output_type": "execute_result"
    },
    {
     "data": {
      "image/png": "[encoded data removed]",
      "text/plain": [
       "<Figure size 432x288 with 1 Axes>"
      ]
     },
     "metadata": {},
     "output_type": "display_data"
    }
   ],
   "source": [
    "print(y_test.value_counts())\n",
    "sns.countplot(x=y_test)"
   ]
  },
  {
   "cell_type": "markdown",
   "metadata": {},
   "source": [
    "... all of that imbalance and we still get relatively great results with oversampling"
   ]
  },
  {
   "cell_type": "code",
   "execution_count": null,
   "metadata": {},
   "outputs": [],
   "source": []
  }
 ],
 "metadata": {
  "kernelspec": {
   "display_name": "Python 3",
   "language": "python",
   "name": "python3"
  },
  "language_info": {
   "codemirror_mode": {
    "name": "ipython",
    "version": 3
   },
   "file_extension": ".py",
   "mimetype": "text/x-python",
   "name": "python",
   "nbconvert_exporter": "python",
   "pygments_lexer": "ipython3",
   "version": "3.7.3"
  },
  "toc": {
   "base_numbering": 1,
   "nav_menu": {},
   "number_sections": true,
   "sideBar": true,
   "skip_h1_title": false,
   "title_cell": "Table of Contents",
   "title_sidebar": "Contents",
   "toc_cell": false,
   "toc_position": {
    "height": "calc(100% - 180px)",
    "left": "10px",
    "top": "150px",
    "width": "186.2px"
   },
   "toc_section_display": true,
   "toc_window_display": true
  },
  "varInspector": {
   "cols": {
    "lenName": 16,
    "lenType": 16,
    "lenVar": 40
   },
   "kernels_config": {
    "python": {
     "delete_cmd_postfix": "",
     "delete_cmd_prefix": "del ",
     "library": "var_list.py",
     "varRefreshCmd": "print(var_dic_list())"
    },
    "r": {
     "delete_cmd_postfix": ") ",
     "delete_cmd_prefix": "rm(",
     "library": "var_list.r",
     "varRefreshCmd": "cat(var_dic_list()) "
    }
   },
   "types_to_exclude": [
    "module",
    "function",
    "builtin_function_or_method",
    "instance",
    "_Feature"
   ],
   "window_display": false
  }
 },
 "nbformat": 4,
 "nbformat_minor": 2
}
